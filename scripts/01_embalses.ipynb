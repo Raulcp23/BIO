{
 "cells": [
  {
   "cell_type": "code",
   "execution_count": 1,
   "metadata": {},
   "outputs": [],
   "source": [
    "import pandas as pd"
   ]
  },
  {
   "cell_type": "code",
   "execution_count": 12,
   "metadata": {},
   "outputs": [
    {
     "name": "stderr",
     "output_type": "stream",
     "text": [
      "/Users/raul/miniconda3/lib/python3.12/site-packages/openpyxl/styles/stylesheet.py:237: UserWarning: Workbook contains no default style, apply openpyxl's default\n",
      "  warn(\"Workbook contains no default style, apply openpyxl's default\")\n"
     ]
    },
    {
     "data": {
      "text/html": [
       "<style type=\"text/css\">\n",
       "</style>\n",
       "<table id=\"T_a0512\">\n",
       "  <thead>\n",
       "    <tr>\n",
       "      <th class=\"blank level0\" >&nbsp;</th>\n",
       "      <th id=\"T_a0512_level0_col0\" class=\"col_heading level0 col0\" >2024</th>\n",
       "      <th id=\"T_a0512_level0_col1\" class=\"col_heading level0 col1\" >2023</th>\n",
       "      <th id=\"T_a0512_level0_col2\" class=\"col_heading level0 col2\" >2022</th>\n",
       "      <th id=\"T_a0512_level0_col3\" class=\"col_heading level0 col3\" >2021</th>\n",
       "      <th id=\"T_a0512_level0_col4\" class=\"col_heading level0 col4\" >2024.1</th>\n",
       "      <th id=\"T_a0512_level0_col5\" class=\"col_heading level0 col5\" >2023.1</th>\n",
       "      <th id=\"T_a0512_level0_col6\" class=\"col_heading level0 col6\" >2022.1</th>\n",
       "      <th id=\"T_a0512_level0_col7\" class=\"col_heading level0 col7\" >2021.1</th>\n",
       "      <th id=\"T_a0512_level0_col8\" class=\"col_heading level0 col8\" >2024.2</th>\n",
       "      <th id=\"T_a0512_level0_col9\" class=\"col_heading level0 col9\" >2023.2</th>\n",
       "      <th id=\"T_a0512_level0_col10\" class=\"col_heading level0 col10\" >2022.2</th>\n",
       "      <th id=\"T_a0512_level0_col11\" class=\"col_heading level0 col11\" >2021.2</th>\n",
       "    </tr>\n",
       "    <tr>\n",
       "      <th class=\"index_name level0\" > </th>\n",
       "      <th class=\"blank col0\" >&nbsp;</th>\n",
       "      <th class=\"blank col1\" >&nbsp;</th>\n",
       "      <th class=\"blank col2\" >&nbsp;</th>\n",
       "      <th class=\"blank col3\" >&nbsp;</th>\n",
       "      <th class=\"blank col4\" >&nbsp;</th>\n",
       "      <th class=\"blank col5\" >&nbsp;</th>\n",
       "      <th class=\"blank col6\" >&nbsp;</th>\n",
       "      <th class=\"blank col7\" >&nbsp;</th>\n",
       "      <th class=\"blank col8\" >&nbsp;</th>\n",
       "      <th class=\"blank col9\" >&nbsp;</th>\n",
       "      <th class=\"blank col10\" >&nbsp;</th>\n",
       "      <th class=\"blank col11\" >&nbsp;</th>\n",
       "    </tr>\n",
       "  </thead>\n",
       "  <tbody>\n",
       "    <tr>\n",
       "      <th id=\"T_a0512_level0_row0\" class=\"row_heading level0 row0\" >Total Nacional</th>\n",
       "      <td id=\"T_a0512_row0_col0\" class=\"data row0 col0\" >48619695.000000</td>\n",
       "      <td id=\"T_a0512_row0_col1\" class=\"data row0 col1\" >48085361.000000</td>\n",
       "      <td id=\"T_a0512_row0_col2\" class=\"data row0 col2\" >47486727.000000</td>\n",
       "      <td id=\"T_a0512_row0_col3\" class=\"data row0 col3\" >47400798.000000</td>\n",
       "      <td id=\"T_a0512_row0_col4\" class=\"data row0 col4\" >23826871.000000</td>\n",
       "      <td id=\"T_a0512_row0_col5\" class=\"data row0 col5\" >23565593.000000</td>\n",
       "      <td id=\"T_a0512_row0_col6\" class=\"data row0 col6\" >23288747.000000</td>\n",
       "      <td id=\"T_a0512_row0_col7\" class=\"data row0 col7\" >23248611.000000</td>\n",
       "      <td id=\"T_a0512_row0_col8\" class=\"data row0 col8\" >24792824.000000</td>\n",
       "      <td id=\"T_a0512_row0_col9\" class=\"data row0 col9\" >24519768.000000</td>\n",
       "      <td id=\"T_a0512_row0_col10\" class=\"data row0 col10\" >24197980.000000</td>\n",
       "      <td id=\"T_a0512_row0_col11\" class=\"data row0 col11\" >24152187.000000</td>\n",
       "    </tr>\n",
       "    <tr>\n",
       "      <th id=\"T_a0512_level0_row1\" class=\"row_heading level0 row1\" >01 Andalucía</th>\n",
       "      <td id=\"T_a0512_row1_col0\" class=\"data row1 col0\" >8631862.000000</td>\n",
       "      <td id=\"T_a0512_row1_col1\" class=\"data row1 col1\" >8584147.000000</td>\n",
       "      <td id=\"T_a0512_row1_col2\" class=\"data row1 col2\" >8511167.000000</td>\n",
       "      <td id=\"T_a0512_row1_col3\" class=\"data row1 col3\" >8484804.000000</td>\n",
       "      <td id=\"T_a0512_row1_col4\" class=\"data row1 col4\" >4249355.000000</td>\n",
       "      <td id=\"T_a0512_row1_col5\" class=\"data row1 col5\" >4229831.000000</td>\n",
       "      <td id=\"T_a0512_row1_col6\" class=\"data row1 col6\" >4196620.000000</td>\n",
       "      <td id=\"T_a0512_row1_col7\" class=\"data row1 col7\" >4182620.000000</td>\n",
       "      <td id=\"T_a0512_row1_col8\" class=\"data row1 col8\" >4382507.000000</td>\n",
       "      <td id=\"T_a0512_row1_col9\" class=\"data row1 col9\" >4354316.000000</td>\n",
       "      <td id=\"T_a0512_row1_col10\" class=\"data row1 col10\" >4314547.000000</td>\n",
       "      <td id=\"T_a0512_row1_col11\" class=\"data row1 col11\" >4302184.000000</td>\n",
       "    </tr>\n",
       "    <tr>\n",
       "      <th id=\"T_a0512_level0_row2\" class=\"row_heading level0 row2\" >04 Almería</th>\n",
       "      <td id=\"T_a0512_row2_col0\" class=\"data row2 col0\" >760964.000000</td>\n",
       "      <td id=\"T_a0512_row2_col1\" class=\"data row2 col1\" >753364.000000</td>\n",
       "      <td id=\"T_a0512_row2_col2\" class=\"data row2 col2\" >739541.000000</td>\n",
       "      <td id=\"T_a0512_row2_col3\" class=\"data row2 col3\" >730430.000000</td>\n",
       "      <td id=\"T_a0512_row2_col4\" class=\"data row2 col4\" >389103.000000</td>\n",
       "      <td id=\"T_a0512_row2_col5\" class=\"data row2 col5\" >385696.000000</td>\n",
       "      <td id=\"T_a0512_row2_col6\" class=\"data row2 col6\" >378325.000000</td>\n",
       "      <td id=\"T_a0512_row2_col7\" class=\"data row2 col7\" >372823.000000</td>\n",
       "      <td id=\"T_a0512_row2_col8\" class=\"data row2 col8\" >371861.000000</td>\n",
       "      <td id=\"T_a0512_row2_col9\" class=\"data row2 col9\" >367668.000000</td>\n",
       "      <td id=\"T_a0512_row2_col10\" class=\"data row2 col10\" >361216.000000</td>\n",
       "      <td id=\"T_a0512_row2_col11\" class=\"data row2 col11\" >357607.000000</td>\n",
       "    </tr>\n",
       "    <tr>\n",
       "      <th id=\"T_a0512_level0_row3\" class=\"row_heading level0 row3\" >11 Cádiz</th>\n",
       "      <td id=\"T_a0512_row3_col0\" class=\"data row3 col0\" >1258730.000000</td>\n",
       "      <td id=\"T_a0512_row3_col1\" class=\"data row3 col1\" >1254866.000000</td>\n",
       "      <td id=\"T_a0512_row3_col2\" class=\"data row3 col2\" >1250545.000000</td>\n",
       "      <td id=\"T_a0512_row3_col3\" class=\"data row3 col3\" >1249873.000000</td>\n",
       "      <td id=\"T_a0512_row3_col4\" class=\"data row3 col4\" >619543.000000</td>\n",
       "      <td id=\"T_a0512_row3_col5\" class=\"data row3 col5\" >618291.000000</td>\n",
       "      <td id=\"T_a0512_row3_col6\" class=\"data row3 col6\" >616647.000000</td>\n",
       "      <td id=\"T_a0512_row3_col7\" class=\"data row3 col7\" >616595.000000</td>\n",
       "      <td id=\"T_a0512_row3_col8\" class=\"data row3 col8\" >639187.000000</td>\n",
       "      <td id=\"T_a0512_row3_col9\" class=\"data row3 col9\" >636575.000000</td>\n",
       "      <td id=\"T_a0512_row3_col10\" class=\"data row3 col10\" >633898.000000</td>\n",
       "      <td id=\"T_a0512_row3_col11\" class=\"data row3 col11\" >633278.000000</td>\n",
       "    </tr>\n",
       "    <tr>\n",
       "      <th id=\"T_a0512_level0_row4\" class=\"row_heading level0 row4\" >14 Córdoba</th>\n",
       "      <td id=\"T_a0512_row4_col0\" class=\"data row4 col0\" >774313.000000</td>\n",
       "      <td id=\"T_a0512_row4_col1\" class=\"data row4 col1\" >775002.000000</td>\n",
       "      <td id=\"T_a0512_row4_col2\" class=\"data row4 col2\" >775110.000000</td>\n",
       "      <td id=\"T_a0512_row4_col3\" class=\"data row4 col3\" >777622.000000</td>\n",
       "      <td id=\"T_a0512_row4_col4\" class=\"data row4 col4\" >378655.000000</td>\n",
       "      <td id=\"T_a0512_row4_col5\" class=\"data row4 col5\" >379239.000000</td>\n",
       "      <td id=\"T_a0512_row4_col6\" class=\"data row4 col6\" >379567.000000</td>\n",
       "      <td id=\"T_a0512_row4_col7\" class=\"data row4 col7\" >380859.000000</td>\n",
       "      <td id=\"T_a0512_row4_col8\" class=\"data row4 col8\" >395658.000000</td>\n",
       "      <td id=\"T_a0512_row4_col9\" class=\"data row4 col9\" >395763.000000</td>\n",
       "      <td id=\"T_a0512_row4_col10\" class=\"data row4 col10\" >395543.000000</td>\n",
       "      <td id=\"T_a0512_row4_col11\" class=\"data row4 col11\" >396763.000000</td>\n",
       "    </tr>\n",
       "    <tr>\n",
       "      <th id=\"T_a0512_level0_row5\" class=\"row_heading level0 row5\" >18 Granada</th>\n",
       "      <td id=\"T_a0512_row5_col0\" class=\"data row5 col0\" >939741.000000</td>\n",
       "      <td id=\"T_a0512_row5_col1\" class=\"data row5 col1\" >934072.000000</td>\n",
       "      <td id=\"T_a0512_row5_col2\" class=\"data row5 col2\" >926019.000000</td>\n",
       "      <td id=\"T_a0512_row5_col3\" class=\"data row5 col3\" >925046.000000</td>\n",
       "      <td id=\"T_a0512_row5_col4\" class=\"data row5 col4\" >462515.000000</td>\n",
       "      <td id=\"T_a0512_row5_col5\" class=\"data row5 col5\" >460537.000000</td>\n",
       "      <td id=\"T_a0512_row5_col6\" class=\"data row5 col6\" >456834.000000</td>\n",
       "      <td id=\"T_a0512_row5_col7\" class=\"data row5 col7\" >456393.000000</td>\n",
       "      <td id=\"T_a0512_row5_col8\" class=\"data row5 col8\" >477226.000000</td>\n",
       "      <td id=\"T_a0512_row5_col9\" class=\"data row5 col9\" >473535.000000</td>\n",
       "      <td id=\"T_a0512_row5_col10\" class=\"data row5 col10\" >469185.000000</td>\n",
       "      <td id=\"T_a0512_row5_col11\" class=\"data row5 col11\" >468653.000000</td>\n",
       "    </tr>\n",
       "    <tr>\n",
       "      <th id=\"T_a0512_level0_row6\" class=\"row_heading level0 row6\" >21 Huelva</th>\n",
       "      <td id=\"T_a0512_row6_col0\" class=\"data row6 col0\" >535734.000000</td>\n",
       "      <td id=\"T_a0512_row6_col1\" class=\"data row6 col1\" >534084.000000</td>\n",
       "      <td id=\"T_a0512_row6_col2\" class=\"data row6 col2\" >531094.000000</td>\n",
       "      <td id=\"T_a0512_row6_col3\" class=\"data row6 col3\" >527254.000000</td>\n",
       "      <td id=\"T_a0512_row6_col4\" class=\"data row6 col4\" >265662.000000</td>\n",
       "      <td id=\"T_a0512_row6_col5\" class=\"data row6 col5\" >265017.000000</td>\n",
       "      <td id=\"T_a0512_row6_col6\" class=\"data row6 col6\" >263398.000000</td>\n",
       "      <td id=\"T_a0512_row6_col7\" class=\"data row6 col7\" >261186.000000</td>\n",
       "      <td id=\"T_a0512_row6_col8\" class=\"data row6 col8\" >270072.000000</td>\n",
       "      <td id=\"T_a0512_row6_col9\" class=\"data row6 col9\" >269067.000000</td>\n",
       "      <td id=\"T_a0512_row6_col10\" class=\"data row6 col10\" >267696.000000</td>\n",
       "      <td id=\"T_a0512_row6_col11\" class=\"data row6 col11\" >266068.000000</td>\n",
       "    </tr>\n",
       "    <tr>\n",
       "      <th id=\"T_a0512_level0_row7\" class=\"row_heading level0 row7\" >23 Jaén</th>\n",
       "      <td id=\"T_a0512_row7_col0\" class=\"data row7 col0\" >619055.000000</td>\n",
       "      <td id=\"T_a0512_row7_col1\" class=\"data row7 col1\" >620637.000000</td>\n",
       "      <td id=\"T_a0512_row7_col2\" class=\"data row7 col2\" >624191.000000</td>\n",
       "      <td id=\"T_a0512_row7_col3\" class=\"data row7 col3\" >627568.000000</td>\n",
       "      <td id=\"T_a0512_row7_col4\" class=\"data row7 col4\" >306472.000000</td>\n",
       "      <td id=\"T_a0512_row7_col5\" class=\"data row7 col5\" >307398.000000</td>\n",
       "      <td id=\"T_a0512_row7_col6\" class=\"data row7 col6\" >309349.000000</td>\n",
       "      <td id=\"T_a0512_row7_col7\" class=\"data row7 col7\" >310930.000000</td>\n",
       "      <td id=\"T_a0512_row7_col8\" class=\"data row7 col8\" >312583.000000</td>\n",
       "      <td id=\"T_a0512_row7_col9\" class=\"data row7 col9\" >313239.000000</td>\n",
       "      <td id=\"T_a0512_row7_col10\" class=\"data row7 col10\" >314842.000000</td>\n",
       "      <td id=\"T_a0512_row7_col11\" class=\"data row7 col11\" >316638.000000</td>\n",
       "    </tr>\n",
       "    <tr>\n",
       "      <th id=\"T_a0512_level0_row8\" class=\"row_heading level0 row8\" >29 Málaga</th>\n",
       "      <td id=\"T_a0512_row8_col0\" class=\"data row8 col0\" >1774701.000000</td>\n",
       "      <td id=\"T_a0512_row8_col1\" class=\"data row8 col1\" >1752728.000000</td>\n",
       "      <td id=\"T_a0512_row8_col2\" class=\"data row8 col2\" >1715109.000000</td>\n",
       "      <td id=\"T_a0512_row8_col3\" class=\"data row8 col3\" >1696955.000000</td>\n",
       "      <td id=\"T_a0512_row8_col4\" class=\"data row8 col4\" >867140.000000</td>\n",
       "      <td id=\"T_a0512_row8_col5\" class=\"data row8 col5\" >857246.000000</td>\n",
       "      <td id=\"T_a0512_row8_col6\" class=\"data row8 col6\" >840038.000000</td>\n",
       "      <td id=\"T_a0512_row8_col7\" class=\"data row8 col7\" >831211.000000</td>\n",
       "      <td id=\"T_a0512_row8_col8\" class=\"data row8 col8\" >907561.000000</td>\n",
       "      <td id=\"T_a0512_row8_col9\" class=\"data row8 col9\" >895482.000000</td>\n",
       "      <td id=\"T_a0512_row8_col10\" class=\"data row8 col10\" >875071.000000</td>\n",
       "      <td id=\"T_a0512_row8_col11\" class=\"data row8 col11\" >865744.000000</td>\n",
       "    </tr>\n",
       "    <tr>\n",
       "      <th id=\"T_a0512_level0_row9\" class=\"row_heading level0 row9\" >41 Sevilla</th>\n",
       "      <td id=\"T_a0512_row9_col0\" class=\"data row9 col0\" >1968624.000000</td>\n",
       "      <td id=\"T_a0512_row9_col1\" class=\"data row9 col1\" >1959394.000000</td>\n",
       "      <td id=\"T_a0512_row9_col2\" class=\"data row9 col2\" >1949558.000000</td>\n",
       "      <td id=\"T_a0512_row9_col3\" class=\"data row9 col3\" >1950056.000000</td>\n",
       "      <td id=\"T_a0512_row9_col4\" class=\"data row9 col4\" >960265.000000</td>\n",
       "      <td id=\"T_a0512_row9_col5\" class=\"data row9 col5\" >956407.000000</td>\n",
       "      <td id=\"T_a0512_row9_col6\" class=\"data row9 col6\" >952462.000000</td>\n",
       "      <td id=\"T_a0512_row9_col7\" class=\"data row9 col7\" >952623.000000</td>\n",
       "      <td id=\"T_a0512_row9_col8\" class=\"data row9 col8\" >1008359.000000</td>\n",
       "      <td id=\"T_a0512_row9_col9\" class=\"data row9 col9\" >1002987.000000</td>\n",
       "      <td id=\"T_a0512_row9_col10\" class=\"data row9 col10\" >997096.000000</td>\n",
       "      <td id=\"T_a0512_row9_col11\" class=\"data row9 col11\" >997433.000000</td>\n",
       "    </tr>\n",
       "    <tr>\n",
       "      <th id=\"T_a0512_level0_row10\" class=\"row_heading level0 row10\" >02 Aragón</th>\n",
       "      <td id=\"T_a0512_row10_col0\" class=\"data row10 col0\" >1351591.000000</td>\n",
       "      <td id=\"T_a0512_row10_col1\" class=\"data row10 col1\" >1341289.000000</td>\n",
       "      <td id=\"T_a0512_row10_col2\" class=\"data row10 col2\" >1328215.000000</td>\n",
       "      <td id=\"T_a0512_row10_col3\" class=\"data row10 col3\" >1331938.000000</td>\n",
       "      <td id=\"T_a0512_row10_col4\" class=\"data row10 col4\" >668275.000000</td>\n",
       "      <td id=\"T_a0512_row10_col5\" class=\"data row10 col5\" >662674.000000</td>\n",
       "      <td id=\"T_a0512_row10_col6\" class=\"data row10 col6\" >656811.000000</td>\n",
       "      <td id=\"T_a0512_row10_col7\" class=\"data row10 col7\" >658263.000000</td>\n",
       "      <td id=\"T_a0512_row10_col8\" class=\"data row10 col8\" >683316.000000</td>\n",
       "      <td id=\"T_a0512_row10_col9\" class=\"data row10 col9\" >678615.000000</td>\n",
       "      <td id=\"T_a0512_row10_col10\" class=\"data row10 col10\" >671404.000000</td>\n",
       "      <td id=\"T_a0512_row10_col11\" class=\"data row10 col11\" >673675.000000</td>\n",
       "    </tr>\n",
       "    <tr>\n",
       "      <th id=\"T_a0512_level0_row11\" class=\"row_heading level0 row11\" >22 Huesca</th>\n",
       "      <td id=\"T_a0512_row11_col0\" class=\"data row11 col0\" >228519.000000</td>\n",
       "      <td id=\"T_a0512_row11_col1\" class=\"data row11 col1\" >226878.000000</td>\n",
       "      <td id=\"T_a0512_row11_col2\" class=\"data row11 col2\" >225199.000000</td>\n",
       "      <td id=\"T_a0512_row11_col3\" class=\"data row11 col3\" >223995.000000</td>\n",
       "      <td id=\"T_a0512_row11_col4\" class=\"data row11 col4\" >115992.000000</td>\n",
       "      <td id=\"T_a0512_row11_col5\" class=\"data row11 col5\" >114938.000000</td>\n",
       "      <td id=\"T_a0512_row11_col6\" class=\"data row11 col6\" >114288.000000</td>\n",
       "      <td id=\"T_a0512_row11_col7\" class=\"data row11 col7\" >113456.000000</td>\n",
       "      <td id=\"T_a0512_row11_col8\" class=\"data row11 col8\" >112527.000000</td>\n",
       "      <td id=\"T_a0512_row11_col9\" class=\"data row11 col9\" >111940.000000</td>\n",
       "      <td id=\"T_a0512_row11_col10\" class=\"data row11 col10\" >110911.000000</td>\n",
       "      <td id=\"T_a0512_row11_col11\" class=\"data row11 col11\" >110539.000000</td>\n",
       "    </tr>\n",
       "    <tr>\n",
       "      <th id=\"T_a0512_level0_row12\" class=\"row_heading level0 row12\" >44 Teruel</th>\n",
       "      <td id=\"T_a0512_row12_col0\" class=\"data row12 col0\" >135309.000000</td>\n",
       "      <td id=\"T_a0512_row12_col1\" class=\"data row12 col1\" >135046.000000</td>\n",
       "      <td id=\"T_a0512_row12_col2\" class=\"data row12 col2\" >134132.000000</td>\n",
       "      <td id=\"T_a0512_row12_col3\" class=\"data row12 col3\" >134259.000000</td>\n",
       "      <td id=\"T_a0512_row12_col4\" class=\"data row12 col4\" >68621.000000</td>\n",
       "      <td id=\"T_a0512_row12_col5\" class=\"data row12 col5\" >68416.000000</td>\n",
       "      <td id=\"T_a0512_row12_col6\" class=\"data row12 col6\" >68120.000000</td>\n",
       "      <td id=\"T_a0512_row12_col7\" class=\"data row12 col7\" >68143.000000</td>\n",
       "      <td id=\"T_a0512_row12_col8\" class=\"data row12 col8\" >66688.000000</td>\n",
       "      <td id=\"T_a0512_row12_col9\" class=\"data row12 col9\" >66630.000000</td>\n",
       "      <td id=\"T_a0512_row12_col10\" class=\"data row12 col10\" >66012.000000</td>\n",
       "      <td id=\"T_a0512_row12_col11\" class=\"data row12 col11\" >66116.000000</td>\n",
       "    </tr>\n",
       "    <tr>\n",
       "      <th id=\"T_a0512_level0_row13\" class=\"row_heading level0 row13\" >50 Zaragoza</th>\n",
       "      <td id=\"T_a0512_row13_col0\" class=\"data row13 col0\" >987763.000000</td>\n",
       "      <td id=\"T_a0512_row13_col1\" class=\"data row13 col1\" >979365.000000</td>\n",
       "      <td id=\"T_a0512_row13_col2\" class=\"data row13 col2\" >968884.000000</td>\n",
       "      <td id=\"T_a0512_row13_col3\" class=\"data row13 col3\" >973684.000000</td>\n",
       "      <td id=\"T_a0512_row13_col4\" class=\"data row13 col4\" >483662.000000</td>\n",
       "      <td id=\"T_a0512_row13_col5\" class=\"data row13 col5\" >479320.000000</td>\n",
       "      <td id=\"T_a0512_row13_col6\" class=\"data row13 col6\" >474403.000000</td>\n",
       "      <td id=\"T_a0512_row13_col7\" class=\"data row13 col7\" >476664.000000</td>\n",
       "      <td id=\"T_a0512_row13_col8\" class=\"data row13 col8\" >504101.000000</td>\n",
       "      <td id=\"T_a0512_row13_col9\" class=\"data row13 col9\" >500045.000000</td>\n",
       "      <td id=\"T_a0512_row13_col10\" class=\"data row13 col10\" >494481.000000</td>\n",
       "      <td id=\"T_a0512_row13_col11\" class=\"data row13 col11\" >497020.000000</td>\n",
       "    </tr>\n",
       "    <tr>\n",
       "      <th id=\"T_a0512_level0_row14\" class=\"row_heading level0 row14\" >03 Asturias, Principado de</th>\n",
       "      <td id=\"T_a0512_row14_col0\" class=\"data row14 col0\" >1009599.000000</td>\n",
       "      <td id=\"T_a0512_row14_col1\" class=\"data row14 col1\" >1006060.000000</td>\n",
       "      <td id=\"T_a0512_row14_col2\" class=\"data row14 col2\" >1004960.000000</td>\n",
       "      <td id=\"T_a0512_row14_col3\" class=\"data row14 col3\" >1012117.000000</td>\n",
       "      <td id=\"T_a0512_row14_col4\" class=\"data row14 col4\" >481478.000000</td>\n",
       "      <td id=\"T_a0512_row14_col5\" class=\"data row14 col5\" >479739.000000</td>\n",
       "      <td id=\"T_a0512_row14_col6\" class=\"data row14 col6\" >479658.000000</td>\n",
       "      <td id=\"T_a0512_row14_col7\" class=\"data row14 col7\" >483186.000000</td>\n",
       "      <td id=\"T_a0512_row14_col8\" class=\"data row14 col8\" >528121.000000</td>\n",
       "      <td id=\"T_a0512_row14_col9\" class=\"data row14 col9\" >526321.000000</td>\n",
       "      <td id=\"T_a0512_row14_col10\" class=\"data row14 col10\" >525302.000000</td>\n",
       "      <td id=\"T_a0512_row14_col11\" class=\"data row14 col11\" >528931.000000</td>\n",
       "    </tr>\n",
       "    <tr>\n",
       "      <th id=\"T_a0512_level0_row15\" class=\"row_heading level0 row15\" >33 Asturias</th>\n",
       "      <td id=\"T_a0512_row15_col0\" class=\"data row15 col0\" >1009599.000000</td>\n",
       "      <td id=\"T_a0512_row15_col1\" class=\"data row15 col1\" >1006060.000000</td>\n",
       "      <td id=\"T_a0512_row15_col2\" class=\"data row15 col2\" >1004960.000000</td>\n",
       "      <td id=\"T_a0512_row15_col3\" class=\"data row15 col3\" >1012117.000000</td>\n",
       "      <td id=\"T_a0512_row15_col4\" class=\"data row15 col4\" >481478.000000</td>\n",
       "      <td id=\"T_a0512_row15_col5\" class=\"data row15 col5\" >479739.000000</td>\n",
       "      <td id=\"T_a0512_row15_col6\" class=\"data row15 col6\" >479658.000000</td>\n",
       "      <td id=\"T_a0512_row15_col7\" class=\"data row15 col7\" >483186.000000</td>\n",
       "      <td id=\"T_a0512_row15_col8\" class=\"data row15 col8\" >528121.000000</td>\n",
       "      <td id=\"T_a0512_row15_col9\" class=\"data row15 col9\" >526321.000000</td>\n",
       "      <td id=\"T_a0512_row15_col10\" class=\"data row15 col10\" >525302.000000</td>\n",
       "      <td id=\"T_a0512_row15_col11\" class=\"data row15 col11\" >528931.000000</td>\n",
       "    </tr>\n",
       "    <tr>\n",
       "      <th id=\"T_a0512_level0_row16\" class=\"row_heading level0 row16\" >04 Balears, Illes</th>\n",
       "      <td id=\"T_a0512_row16_col0\" class=\"data row16 col0\" >1231768.000000</td>\n",
       "      <td id=\"T_a0512_row16_col1\" class=\"data row16 col1\" >1209906.000000</td>\n",
       "      <td id=\"T_a0512_row16_col2\" class=\"data row16 col2\" >1187043.000000</td>\n",
       "      <td id=\"T_a0512_row16_col3\" class=\"data row16 col3\" >1183415.000000</td>\n",
       "      <td id=\"T_a0512_row16_col4\" class=\"data row16 col4\" >613910.000000</td>\n",
       "      <td id=\"T_a0512_row16_col5\" class=\"data row16 col5\" >602649.000000</td>\n",
       "      <td id=\"T_a0512_row16_col6\" class=\"data row16 col6\" >592100.000000</td>\n",
       "      <td id=\"T_a0512_row16_col7\" class=\"data row16 col7\" >590990.000000</td>\n",
       "      <td id=\"T_a0512_row16_col8\" class=\"data row16 col8\" >617858.000000</td>\n",
       "      <td id=\"T_a0512_row16_col9\" class=\"data row16 col9\" >607257.000000</td>\n",
       "      <td id=\"T_a0512_row16_col10\" class=\"data row16 col10\" >594943.000000</td>\n",
       "      <td id=\"T_a0512_row16_col11\" class=\"data row16 col11\" >592425.000000</td>\n",
       "    </tr>\n",
       "    <tr>\n",
       "      <th id=\"T_a0512_level0_row17\" class=\"row_heading level0 row17\" >07 Balears, Illes</th>\n",
       "      <td id=\"T_a0512_row17_col0\" class=\"data row17 col0\" >1231768.000000</td>\n",
       "      <td id=\"T_a0512_row17_col1\" class=\"data row17 col1\" >1209906.000000</td>\n",
       "      <td id=\"T_a0512_row17_col2\" class=\"data row17 col2\" >1187043.000000</td>\n",
       "      <td id=\"T_a0512_row17_col3\" class=\"data row17 col3\" >1183415.000000</td>\n",
       "      <td id=\"T_a0512_row17_col4\" class=\"data row17 col4\" >613910.000000</td>\n",
       "      <td id=\"T_a0512_row17_col5\" class=\"data row17 col5\" >602649.000000</td>\n",
       "      <td id=\"T_a0512_row17_col6\" class=\"data row17 col6\" >592100.000000</td>\n",
       "      <td id=\"T_a0512_row17_col7\" class=\"data row17 col7\" >590990.000000</td>\n",
       "      <td id=\"T_a0512_row17_col8\" class=\"data row17 col8\" >617858.000000</td>\n",
       "      <td id=\"T_a0512_row17_col9\" class=\"data row17 col9\" >607257.000000</td>\n",
       "      <td id=\"T_a0512_row17_col10\" class=\"data row17 col10\" >594943.000000</td>\n",
       "      <td id=\"T_a0512_row17_col11\" class=\"data row17 col11\" >592425.000000</td>\n",
       "    </tr>\n",
       "    <tr>\n",
       "      <th id=\"T_a0512_level0_row18\" class=\"row_heading level0 row18\" >05 Canarias</th>\n",
       "      <td id=\"T_a0512_row18_col0\" class=\"data row18 col0\" >2238754.000000</td>\n",
       "      <td id=\"T_a0512_row18_col1\" class=\"data row18 col1\" >2213016.000000</td>\n",
       "      <td id=\"T_a0512_row18_col2\" class=\"data row18 col2\" >2185607.000000</td>\n",
       "      <td id=\"T_a0512_row18_col3\" class=\"data row18 col3\" >2178924.000000</td>\n",
       "      <td id=\"T_a0512_row18_col4\" class=\"data row18 col4\" >1105037.000000</td>\n",
       "      <td id=\"T_a0512_row18_col5\" class=\"data row18 col5\" >1092723.000000</td>\n",
       "      <td id=\"T_a0512_row18_col6\" class=\"data row18 col6\" >1080244.000000</td>\n",
       "      <td id=\"T_a0512_row18_col7\" class=\"data row18 col7\" >1077860.000000</td>\n",
       "      <td id=\"T_a0512_row18_col8\" class=\"data row18 col8\" >1133717.000000</td>\n",
       "      <td id=\"T_a0512_row18_col9\" class=\"data row18 col9\" >1120293.000000</td>\n",
       "      <td id=\"T_a0512_row18_col10\" class=\"data row18 col10\" >1105363.000000</td>\n",
       "      <td id=\"T_a0512_row18_col11\" class=\"data row18 col11\" >1101064.000000</td>\n",
       "    </tr>\n",
       "    <tr>\n",
       "      <th id=\"T_a0512_level0_row19\" class=\"row_heading level0 row19\" >35 Palmas, Las</th>\n",
       "      <td id=\"T_a0512_row19_col0\" class=\"data row19 col0\" >1159890.000000</td>\n",
       "      <td id=\"T_a0512_row19_col1\" class=\"data row19 col1\" >1145843.000000</td>\n",
       "      <td id=\"T_a0512_row19_col2\" class=\"data row19 col2\" >1133733.000000</td>\n",
       "      <td id=\"T_a0512_row19_col3\" class=\"data row19 col3\" >1131359.000000</td>\n",
       "      <td id=\"T_a0512_row19_col4\" class=\"data row19 col4\" >576064.000000</td>\n",
       "      <td id=\"T_a0512_row19_col5\" class=\"data row19 col5\" >569470.000000</td>\n",
       "      <td id=\"T_a0512_row19_col6\" class=\"data row19 col6\" >563763.000000</td>\n",
       "      <td id=\"T_a0512_row19_col7\" class=\"data row19 col7\" >563160.000000</td>\n",
       "      <td id=\"T_a0512_row19_col8\" class=\"data row19 col8\" >583826.000000</td>\n",
       "      <td id=\"T_a0512_row19_col9\" class=\"data row19 col9\" >576373.000000</td>\n",
       "      <td id=\"T_a0512_row19_col10\" class=\"data row19 col10\" >569970.000000</td>\n",
       "      <td id=\"T_a0512_row19_col11\" class=\"data row19 col11\" >568199.000000</td>\n",
       "    </tr>\n",
       "    <tr>\n",
       "      <th id=\"T_a0512_level0_row20\" class=\"row_heading level0 row20\" >38 Santa Cruz de Tenerife</th>\n",
       "      <td id=\"T_a0512_row20_col0\" class=\"data row20 col0\" >1078864.000000</td>\n",
       "      <td id=\"T_a0512_row20_col1\" class=\"data row20 col1\" >1067173.000000</td>\n",
       "      <td id=\"T_a0512_row20_col2\" class=\"data row20 col2\" >1051874.000000</td>\n",
       "      <td id=\"T_a0512_row20_col3\" class=\"data row20 col3\" >1047565.000000</td>\n",
       "      <td id=\"T_a0512_row20_col4\" class=\"data row20 col4\" >528973.000000</td>\n",
       "      <td id=\"T_a0512_row20_col5\" class=\"data row20 col5\" >523253.000000</td>\n",
       "      <td id=\"T_a0512_row20_col6\" class=\"data row20 col6\" >516481.000000</td>\n",
       "      <td id=\"T_a0512_row20_col7\" class=\"data row20 col7\" >514700.000000</td>\n",
       "      <td id=\"T_a0512_row20_col8\" class=\"data row20 col8\" >549891.000000</td>\n",
       "      <td id=\"T_a0512_row20_col9\" class=\"data row20 col9\" >543920.000000</td>\n",
       "      <td id=\"T_a0512_row20_col10\" class=\"data row20 col10\" >535393.000000</td>\n",
       "      <td id=\"T_a0512_row20_col11\" class=\"data row20 col11\" >532865.000000</td>\n",
       "    </tr>\n",
       "    <tr>\n",
       "      <th id=\"T_a0512_level0_row21\" class=\"row_heading level0 row21\" >06 Cantabria</th>\n",
       "      <td id=\"T_a0512_row21_col0\" class=\"data row21 col0\" >590851.000000</td>\n",
       "      <td id=\"T_a0512_row21_col1\" class=\"data row21 col1\" >588387.000000</td>\n",
       "      <td id=\"T_a0512_row21_col2\" class=\"data row21 col2\" >585450.000000</td>\n",
       "      <td id=\"T_a0512_row21_col3\" class=\"data row21 col3\" >584708.000000</td>\n",
       "      <td id=\"T_a0512_row21_col4\" class=\"data row21 col4\" >286322.000000</td>\n",
       "      <td id=\"T_a0512_row21_col5\" class=\"data row21 col5\" >285133.000000</td>\n",
       "      <td id=\"T_a0512_row21_col6\" class=\"data row21 col6\" >284061.000000</td>\n",
       "      <td id=\"T_a0512_row21_col7\" class=\"data row21 col7\" >283854.000000</td>\n",
       "      <td id=\"T_a0512_row21_col8\" class=\"data row21 col8\" >304529.000000</td>\n",
       "      <td id=\"T_a0512_row21_col9\" class=\"data row21 col9\" >303254.000000</td>\n",
       "      <td id=\"T_a0512_row21_col10\" class=\"data row21 col10\" >301389.000000</td>\n",
       "      <td id=\"T_a0512_row21_col11\" class=\"data row21 col11\" >300854.000000</td>\n",
       "    </tr>\n",
       "    <tr>\n",
       "      <th id=\"T_a0512_level0_row22\" class=\"row_heading level0 row22\" >39 Cantabria</th>\n",
       "      <td id=\"T_a0512_row22_col0\" class=\"data row22 col0\" >590851.000000</td>\n",
       "      <td id=\"T_a0512_row22_col1\" class=\"data row22 col1\" >588387.000000</td>\n",
       "      <td id=\"T_a0512_row22_col2\" class=\"data row22 col2\" >585450.000000</td>\n",
       "      <td id=\"T_a0512_row22_col3\" class=\"data row22 col3\" >584708.000000</td>\n",
       "      <td id=\"T_a0512_row22_col4\" class=\"data row22 col4\" >286322.000000</td>\n",
       "      <td id=\"T_a0512_row22_col5\" class=\"data row22 col5\" >285133.000000</td>\n",
       "      <td id=\"T_a0512_row22_col6\" class=\"data row22 col6\" >284061.000000</td>\n",
       "      <td id=\"T_a0512_row22_col7\" class=\"data row22 col7\" >283854.000000</td>\n",
       "      <td id=\"T_a0512_row22_col8\" class=\"data row22 col8\" >304529.000000</td>\n",
       "      <td id=\"T_a0512_row22_col9\" class=\"data row22 col9\" >303254.000000</td>\n",
       "      <td id=\"T_a0512_row22_col10\" class=\"data row22 col10\" >301389.000000</td>\n",
       "      <td id=\"T_a0512_row22_col11\" class=\"data row22 col11\" >300854.000000</td>\n",
       "    </tr>\n",
       "    <tr>\n",
       "      <th id=\"T_a0512_level0_row23\" class=\"row_heading level0 row23\" >07 Castilla y León</th>\n",
       "      <td id=\"T_a0512_row23_col0\" class=\"data row23 col0\" >2391682.000000</td>\n",
       "      <td id=\"T_a0512_row23_col1\" class=\"data row23 col1\" >2383703.000000</td>\n",
       "      <td id=\"T_a0512_row23_col2\" class=\"data row23 col2\" >2375583.000000</td>\n",
       "      <td id=\"T_a0512_row23_col3\" class=\"data row23 col3\" >2385223.000000</td>\n",
       "      <td id=\"T_a0512_row23_col4\" class=\"data row23 col4\" >1177504.000000</td>\n",
       "      <td id=\"T_a0512_row23_col5\" class=\"data row23 col5\" >1173585.000000</td>\n",
       "      <td id=\"T_a0512_row23_col6\" class=\"data row23 col6\" >1170227.000000</td>\n",
       "      <td id=\"T_a0512_row23_col7\" class=\"data row23 col7\" >1174957.000000</td>\n",
       "      <td id=\"T_a0512_row23_col8\" class=\"data row23 col8\" >1214178.000000</td>\n",
       "      <td id=\"T_a0512_row23_col9\" class=\"data row23 col9\" >1210118.000000</td>\n",
       "      <td id=\"T_a0512_row23_col10\" class=\"data row23 col10\" >1205356.000000</td>\n",
       "      <td id=\"T_a0512_row23_col11\" class=\"data row23 col11\" >1210266.000000</td>\n",
       "    </tr>\n",
       "    <tr>\n",
       "      <th id=\"T_a0512_level0_row24\" class=\"row_heading level0 row24\" >05 Ávila</th>\n",
       "      <td id=\"T_a0512_row24_col0\" class=\"data row24 col0\" >160463.000000</td>\n",
       "      <td id=\"T_a0512_row24_col1\" class=\"data row24 col1\" >159764.000000</td>\n",
       "      <td id=\"T_a0512_row24_col2\" class=\"data row24 col2\" >159102.000000</td>\n",
       "      <td id=\"T_a0512_row24_col3\" class=\"data row24 col3\" >158898.000000</td>\n",
       "      <td id=\"T_a0512_row24_col4\" class=\"data row24 col4\" >80595.000000</td>\n",
       "      <td id=\"T_a0512_row24_col5\" class=\"data row24 col5\" >80310.000000</td>\n",
       "      <td id=\"T_a0512_row24_col6\" class=\"data row24 col6\" >80060.000000</td>\n",
       "      <td id=\"T_a0512_row24_col7\" class=\"data row24 col7\" >79884.000000</td>\n",
       "      <td id=\"T_a0512_row24_col8\" class=\"data row24 col8\" >79868.000000</td>\n",
       "      <td id=\"T_a0512_row24_col9\" class=\"data row24 col9\" >79454.000000</td>\n",
       "      <td id=\"T_a0512_row24_col10\" class=\"data row24 col10\" >79042.000000</td>\n",
       "      <td id=\"T_a0512_row24_col11\" class=\"data row24 col11\" >79014.000000</td>\n",
       "    </tr>\n",
       "    <tr>\n",
       "      <th id=\"T_a0512_level0_row25\" class=\"row_heading level0 row25\" >09 Burgos</th>\n",
       "      <td id=\"T_a0512_row25_col0\" class=\"data row25 col0\" >359740.000000</td>\n",
       "      <td id=\"T_a0512_row25_col1\" class=\"data row25 col1\" >357370.000000</td>\n",
       "      <td id=\"T_a0512_row25_col2\" class=\"data row25 col2\" >354846.000000</td>\n",
       "      <td id=\"T_a0512_row25_col3\" class=\"data row25 col3\" >356042.000000</td>\n",
       "      <td id=\"T_a0512_row25_col4\" class=\"data row25 col4\" >179824.000000</td>\n",
       "      <td id=\"T_a0512_row25_col5\" class=\"data row25 col5\" >178592.000000</td>\n",
       "      <td id=\"T_a0512_row25_col6\" class=\"data row25 col6\" >177509.000000</td>\n",
       "      <td id=\"T_a0512_row25_col7\" class=\"data row25 col7\" >178040.000000</td>\n",
       "      <td id=\"T_a0512_row25_col8\" class=\"data row25 col8\" >179916.000000</td>\n",
       "      <td id=\"T_a0512_row25_col9\" class=\"data row25 col9\" >178778.000000</td>\n",
       "      <td id=\"T_a0512_row25_col10\" class=\"data row25 col10\" >177337.000000</td>\n",
       "      <td id=\"T_a0512_row25_col11\" class=\"data row25 col11\" >178002.000000</td>\n",
       "    </tr>\n",
       "    <tr>\n",
       "      <th id=\"T_a0512_level0_row26\" class=\"row_heading level0 row26\" >24 León</th>\n",
       "      <td id=\"T_a0512_row26_col0\" class=\"data row26 col0\" >447802.000000</td>\n",
       "      <td id=\"T_a0512_row26_col1\" class=\"data row26 col1\" >448573.000000</td>\n",
       "      <td id=\"T_a0512_row26_col2\" class=\"data row26 col2\" >449270.000000</td>\n",
       "      <td id=\"T_a0512_row26_col3\" class=\"data row26 col3\" >452435.000000</td>\n",
       "      <td id=\"T_a0512_row26_col4\" class=\"data row26 col4\" >217825.000000</td>\n",
       "      <td id=\"T_a0512_row26_col5\" class=\"data row26 col5\" >218038.000000</td>\n",
       "      <td id=\"T_a0512_row26_col6\" class=\"data row26 col6\" >218430.000000</td>\n",
       "      <td id=\"T_a0512_row26_col7\" class=\"data row26 col7\" >220034.000000</td>\n",
       "      <td id=\"T_a0512_row26_col8\" class=\"data row26 col8\" >229977.000000</td>\n",
       "      <td id=\"T_a0512_row26_col9\" class=\"data row26 col9\" >230535.000000</td>\n",
       "      <td id=\"T_a0512_row26_col10\" class=\"data row26 col10\" >230840.000000</td>\n",
       "      <td id=\"T_a0512_row26_col11\" class=\"data row26 col11\" >232401.000000</td>\n",
       "    </tr>\n",
       "    <tr>\n",
       "      <th id=\"T_a0512_level0_row27\" class=\"row_heading level0 row27\" >34 Palencia</th>\n",
       "      <td id=\"T_a0512_row27_col0\" class=\"data row27 col0\" >158063.000000</td>\n",
       "      <td id=\"T_a0512_row27_col1\" class=\"data row27 col1\" >157787.000000</td>\n",
       "      <td id=\"T_a0512_row27_col2\" class=\"data row27 col2\" >157993.000000</td>\n",
       "      <td id=\"T_a0512_row27_col3\" class=\"data row27 col3\" >159146.000000</td>\n",
       "      <td id=\"T_a0512_row27_col4\" class=\"data row27 col4\" >78343.000000</td>\n",
       "      <td id=\"T_a0512_row27_col5\" class=\"data row27 col5\" >78125.000000</td>\n",
       "      <td id=\"T_a0512_row27_col6\" class=\"data row27 col6\" >78316.000000</td>\n",
       "      <td id=\"T_a0512_row27_col7\" class=\"data row27 col7\" >78883.000000</td>\n",
       "      <td id=\"T_a0512_row27_col8\" class=\"data row27 col8\" >79720.000000</td>\n",
       "      <td id=\"T_a0512_row27_col9\" class=\"data row27 col9\" >79662.000000</td>\n",
       "      <td id=\"T_a0512_row27_col10\" class=\"data row27 col10\" >79677.000000</td>\n",
       "      <td id=\"T_a0512_row27_col11\" class=\"data row27 col11\" >80263.000000</td>\n",
       "    </tr>\n",
       "    <tr>\n",
       "      <th id=\"T_a0512_level0_row28\" class=\"row_heading level0 row28\" >37 Salamanca</th>\n",
       "      <td id=\"T_a0512_row28_col0\" class=\"data row28 col0\" >327552.000000</td>\n",
       "      <td id=\"T_a0512_row28_col1\" class=\"data row28 col1\" >327089.000000</td>\n",
       "      <td id=\"T_a0512_row28_col2\" class=\"data row28 col2\" >326285.000000</td>\n",
       "      <td id=\"T_a0512_row28_col3\" class=\"data row28 col3\" >327735.000000</td>\n",
       "      <td id=\"T_a0512_row28_col4\" class=\"data row28 col4\" >158694.000000</td>\n",
       "      <td id=\"T_a0512_row28_col5\" class=\"data row28 col5\" >158779.000000</td>\n",
       "      <td id=\"T_a0512_row28_col6\" class=\"data row28 col6\" >158487.000000</td>\n",
       "      <td id=\"T_a0512_row28_col7\" class=\"data row28 col7\" >159202.000000</td>\n",
       "      <td id=\"T_a0512_row28_col8\" class=\"data row28 col8\" >168858.000000</td>\n",
       "      <td id=\"T_a0512_row28_col9\" class=\"data row28 col9\" >168310.000000</td>\n",
       "      <td id=\"T_a0512_row28_col10\" class=\"data row28 col10\" >167798.000000</td>\n",
       "      <td id=\"T_a0512_row28_col11\" class=\"data row28 col11\" >168533.000000</td>\n",
       "    </tr>\n",
       "    <tr>\n",
       "      <th id=\"T_a0512_level0_row29\" class=\"row_heading level0 row29\" >40 Segovia</th>\n",
       "      <td id=\"T_a0512_row29_col0\" class=\"data row29 col0\" >156620.000000</td>\n",
       "      <td id=\"T_a0512_row29_col1\" class=\"data row29 col1\" >155332.000000</td>\n",
       "      <td id=\"T_a0512_row29_col2\" class=\"data row29 col2\" >153731.000000</td>\n",
       "      <td id=\"T_a0512_row29_col3\" class=\"data row29 col3\" >153626.000000</td>\n",
       "      <td id=\"T_a0512_row29_col4\" class=\"data row29 col4\" >78509.000000</td>\n",
       "      <td id=\"T_a0512_row29_col5\" class=\"data row29 col5\" >77867.000000</td>\n",
       "      <td id=\"T_a0512_row29_col6\" class=\"data row29 col6\" >77203.000000</td>\n",
       "      <td id=\"T_a0512_row29_col7\" class=\"data row29 col7\" >77152.000000</td>\n",
       "      <td id=\"T_a0512_row29_col8\" class=\"data row29 col8\" >78111.000000</td>\n",
       "      <td id=\"T_a0512_row29_col9\" class=\"data row29 col9\" >77465.000000</td>\n",
       "      <td id=\"T_a0512_row29_col10\" class=\"data row29 col10\" >76528.000000</td>\n",
       "      <td id=\"T_a0512_row29_col11\" class=\"data row29 col11\" >76474.000000</td>\n",
       "    </tr>\n",
       "    <tr>\n",
       "      <th id=\"T_a0512_level0_row30\" class=\"row_heading level0 row30\" >42 Soria</th>\n",
       "      <td id=\"T_a0512_row30_col0\" class=\"data row30 col0\" >90073.000000</td>\n",
       "      <td id=\"T_a0512_row30_col1\" class=\"data row30 col1\" >89528.000000</td>\n",
       "      <td id=\"T_a0512_row30_col2\" class=\"data row30 col2\" >88330.000000</td>\n",
       "      <td id=\"T_a0512_row30_col3\" class=\"data row30 col3\" >88796.000000</td>\n",
       "      <td id=\"T_a0512_row30_col4\" class=\"data row30 col4\" >45733.000000</td>\n",
       "      <td id=\"T_a0512_row30_col5\" class=\"data row30 col5\" >45396.000000</td>\n",
       "      <td id=\"T_a0512_row30_col6\" class=\"data row30 col6\" >44754.000000</td>\n",
       "      <td id=\"T_a0512_row30_col7\" class=\"data row30 col7\" >44939.000000</td>\n",
       "      <td id=\"T_a0512_row30_col8\" class=\"data row30 col8\" >44340.000000</td>\n",
       "      <td id=\"T_a0512_row30_col9\" class=\"data row30 col9\" >44132.000000</td>\n",
       "      <td id=\"T_a0512_row30_col10\" class=\"data row30 col10\" >43576.000000</td>\n",
       "      <td id=\"T_a0512_row30_col11\" class=\"data row30 col11\" >43857.000000</td>\n",
       "    </tr>\n",
       "    <tr>\n",
       "      <th id=\"T_a0512_level0_row31\" class=\"row_heading level0 row31\" >47 Valladolid</th>\n",
       "      <td id=\"T_a0512_row31_col0\" class=\"data row31 col0\" >525116.000000</td>\n",
       "      <td id=\"T_a0512_row31_col1\" class=\"data row31 col1\" >521333.000000</td>\n",
       "      <td id=\"T_a0512_row31_col2\" class=\"data row31 col2\" >518158.000000</td>\n",
       "      <td id=\"T_a0512_row31_col3\" class=\"data row31 col3\" >519380.000000</td>\n",
       "      <td id=\"T_a0512_row31_col4\" class=\"data row31 col4\" >255534.000000</td>\n",
       "      <td id=\"T_a0512_row31_col5\" class=\"data row31 col5\" >253708.000000</td>\n",
       "      <td id=\"T_a0512_row31_col6\" class=\"data row31 col6\" >252298.000000</td>\n",
       "      <td id=\"T_a0512_row31_col7\" class=\"data row31 col7\" >252999.000000</td>\n",
       "      <td id=\"T_a0512_row31_col8\" class=\"data row31 col8\" >269582.000000</td>\n",
       "      <td id=\"T_a0512_row31_col9\" class=\"data row31 col9\" >267625.000000</td>\n",
       "      <td id=\"T_a0512_row31_col10\" class=\"data row31 col10\" >265860.000000</td>\n",
       "      <td id=\"T_a0512_row31_col11\" class=\"data row31 col11\" >266381.000000</td>\n",
       "    </tr>\n",
       "    <tr>\n",
       "      <th id=\"T_a0512_level0_row32\" class=\"row_heading level0 row32\" >49 Zamora</th>\n",
       "      <td id=\"T_a0512_row32_col0\" class=\"data row32 col0\" >166253.000000</td>\n",
       "      <td id=\"T_a0512_row32_col1\" class=\"data row32 col1\" >166927.000000</td>\n",
       "      <td id=\"T_a0512_row32_col2\" class=\"data row32 col2\" >167868.000000</td>\n",
       "      <td id=\"T_a0512_row32_col3\" class=\"data row32 col3\" >169165.000000</td>\n",
       "      <td id=\"T_a0512_row32_col4\" class=\"data row32 col4\" >82447.000000</td>\n",
       "      <td id=\"T_a0512_row32_col5\" class=\"data row32 col5\" >82770.000000</td>\n",
       "      <td id=\"T_a0512_row32_col6\" class=\"data row32 col6\" >83170.000000</td>\n",
       "      <td id=\"T_a0512_row32_col7\" class=\"data row32 col7\" >83824.000000</td>\n",
       "      <td id=\"T_a0512_row32_col8\" class=\"data row32 col8\" >83806.000000</td>\n",
       "      <td id=\"T_a0512_row32_col9\" class=\"data row32 col9\" >84157.000000</td>\n",
       "      <td id=\"T_a0512_row32_col10\" class=\"data row32 col10\" >84698.000000</td>\n",
       "      <td id=\"T_a0512_row32_col11\" class=\"data row32 col11\" >85341.000000</td>\n",
       "    </tr>\n",
       "    <tr>\n",
       "      <th id=\"T_a0512_level0_row33\" class=\"row_heading level0 row33\" >08 Castilla - La Mancha</th>\n",
       "      <td id=\"T_a0512_row33_col0\" class=\"data row33 col0\" >2104433.000000</td>\n",
       "      <td id=\"T_a0512_row33_col1\" class=\"data row33 col1\" >2084086.000000</td>\n",
       "      <td id=\"T_a0512_row33_col2\" class=\"data row33 col2\" >2058278.000000</td>\n",
       "      <td id=\"T_a0512_row33_col3\" class=\"data row33 col3\" >2052505.000000</td>\n",
       "      <td id=\"T_a0512_row33_col4\" class=\"data row33 col4\" >1055223.000000</td>\n",
       "      <td id=\"T_a0512_row33_col5\" class=\"data row33 col5\" >1045115.000000</td>\n",
       "      <td id=\"T_a0512_row33_col6\" class=\"data row33 col6\" >1031732.000000</td>\n",
       "      <td id=\"T_a0512_row33_col7\" class=\"data row33 col7\" >1028696.000000</td>\n",
       "      <td id=\"T_a0512_row33_col8\" class=\"data row33 col8\" >1049210.000000</td>\n",
       "      <td id=\"T_a0512_row33_col9\" class=\"data row33 col9\" >1038971.000000</td>\n",
       "      <td id=\"T_a0512_row33_col10\" class=\"data row33 col10\" >1026546.000000</td>\n",
       "      <td id=\"T_a0512_row33_col11\" class=\"data row33 col11\" >1023809.000000</td>\n",
       "    </tr>\n",
       "    <tr>\n",
       "      <th id=\"T_a0512_level0_row34\" class=\"row_heading level0 row34\" >02 Albacete</th>\n",
       "      <td id=\"T_a0512_row34_col0\" class=\"data row34 col0\" >389070.000000</td>\n",
       "      <td id=\"T_a0512_row34_col1\" class=\"data row34 col1\" >387529.000000</td>\n",
       "      <td id=\"T_a0512_row34_col2\" class=\"data row34 col2\" >385967.000000</td>\n",
       "      <td id=\"T_a0512_row34_col3\" class=\"data row34 col3\" >386726.000000</td>\n",
       "      <td id=\"T_a0512_row34_col4\" class=\"data row34 col4\" >194761.000000</td>\n",
       "      <td id=\"T_a0512_row34_col5\" class=\"data row34 col5\" >194012.000000</td>\n",
       "      <td id=\"T_a0512_row34_col6\" class=\"data row34 col6\" >193236.000000</td>\n",
       "      <td id=\"T_a0512_row34_col7\" class=\"data row34 col7\" >193487.000000</td>\n",
       "      <td id=\"T_a0512_row34_col8\" class=\"data row34 col8\" >194309.000000</td>\n",
       "      <td id=\"T_a0512_row34_col9\" class=\"data row34 col9\" >193517.000000</td>\n",
       "      <td id=\"T_a0512_row34_col10\" class=\"data row34 col10\" >192731.000000</td>\n",
       "      <td id=\"T_a0512_row34_col11\" class=\"data row34 col11\" >193239.000000</td>\n",
       "    </tr>\n",
       "    <tr>\n",
       "      <th id=\"T_a0512_level0_row35\" class=\"row_heading level0 row35\" >13 Ciudad Real</th>\n",
       "      <td id=\"T_a0512_row35_col0\" class=\"data row35 col0\" >492948.000000</td>\n",
       "      <td id=\"T_a0512_row35_col1\" class=\"data row35 col1\" >491927.000000</td>\n",
       "      <td id=\"T_a0512_row35_col2\" class=\"data row35 col2\" >490950.000000</td>\n",
       "      <td id=\"T_a0512_row35_col3\" class=\"data row35 col3\" >492900.000000</td>\n",
       "      <td id=\"T_a0512_row35_col4\" class=\"data row35 col4\" >244437.000000</td>\n",
       "      <td id=\"T_a0512_row35_col5\" class=\"data row35 col5\" >243873.000000</td>\n",
       "      <td id=\"T_a0512_row35_col6\" class=\"data row35 col6\" >243274.000000</td>\n",
       "      <td id=\"T_a0512_row35_col7\" class=\"data row35 col7\" >244112.000000</td>\n",
       "      <td id=\"T_a0512_row35_col8\" class=\"data row35 col8\" >248511.000000</td>\n",
       "      <td id=\"T_a0512_row35_col9\" class=\"data row35 col9\" >248054.000000</td>\n",
       "      <td id=\"T_a0512_row35_col10\" class=\"data row35 col10\" >247676.000000</td>\n",
       "      <td id=\"T_a0512_row35_col11\" class=\"data row35 col11\" >248788.000000</td>\n",
       "    </tr>\n",
       "    <tr>\n",
       "      <th id=\"T_a0512_level0_row36\" class=\"row_heading level0 row36\" >16 Cuenca</th>\n",
       "      <td id=\"T_a0512_row36_col0\" class=\"data row36 col0\" >199025.000000</td>\n",
       "      <td id=\"T_a0512_row36_col1\" class=\"data row36 col1\" >198436.000000</td>\n",
       "      <td id=\"T_a0512_row36_col2\" class=\"data row36 col2\" >196640.000000</td>\n",
       "      <td id=\"T_a0512_row36_col3\" class=\"data row36 col3\" >196510.000000</td>\n",
       "      <td id=\"T_a0512_row36_col4\" class=\"data row36 col4\" >100365.000000</td>\n",
       "      <td id=\"T_a0512_row36_col5\" class=\"data row36 col5\" >99934.000000</td>\n",
       "      <td id=\"T_a0512_row36_col6\" class=\"data row36 col6\" >98835.000000</td>\n",
       "      <td id=\"T_a0512_row36_col7\" class=\"data row36 col7\" >98748.000000</td>\n",
       "      <td id=\"T_a0512_row36_col8\" class=\"data row36 col8\" >98660.000000</td>\n",
       "      <td id=\"T_a0512_row36_col9\" class=\"data row36 col9\" >98502.000000</td>\n",
       "      <td id=\"T_a0512_row36_col10\" class=\"data row36 col10\" >97805.000000</td>\n",
       "      <td id=\"T_a0512_row36_col11\" class=\"data row36 col11\" >97762.000000</td>\n",
       "    </tr>\n",
       "    <tr>\n",
       "      <th id=\"T_a0512_level0_row37\" class=\"row_heading level0 row37\" >19 Guadalajara</th>\n",
       "      <td id=\"T_a0512_row37_col0\" class=\"data row37 col0\" >280225.000000</td>\n",
       "      <td id=\"T_a0512_row37_col1\" class=\"data row37 col1\" >275082.000000</td>\n",
       "      <td id=\"T_a0512_row37_col2\" class=\"data row37 col2\" >268412.000000</td>\n",
       "      <td id=\"T_a0512_row37_col3\" class=\"data row37 col3\" >265969.000000</td>\n",
       "      <td id=\"T_a0512_row37_col4\" class=\"data row37 col4\" >142037.000000</td>\n",
       "      <td id=\"T_a0512_row37_col5\" class=\"data row37 col5\" >139416.000000</td>\n",
       "      <td id=\"T_a0512_row37_col6\" class=\"data row37 col6\" >136128.000000</td>\n",
       "      <td id=\"T_a0512_row37_col7\" class=\"data row37 col7\" >134874.000000</td>\n",
       "      <td id=\"T_a0512_row37_col8\" class=\"data row37 col8\" >138188.000000</td>\n",
       "      <td id=\"T_a0512_row37_col9\" class=\"data row37 col9\" >135666.000000</td>\n",
       "      <td id=\"T_a0512_row37_col10\" class=\"data row37 col10\" >132284.000000</td>\n",
       "      <td id=\"T_a0512_row37_col11\" class=\"data row37 col11\" >131095.000000</td>\n",
       "    </tr>\n",
       "    <tr>\n",
       "      <th id=\"T_a0512_level0_row38\" class=\"row_heading level0 row38\" >45 Toledo</th>\n",
       "      <td id=\"T_a0512_row38_col0\" class=\"data row38 col0\" >743165.000000</td>\n",
       "      <td id=\"T_a0512_row38_col1\" class=\"data row38 col1\" >731112.000000</td>\n",
       "      <td id=\"T_a0512_row38_col2\" class=\"data row38 col2\" >716309.000000</td>\n",
       "      <td id=\"T_a0512_row38_col3\" class=\"data row38 col3\" >710400.000000</td>\n",
       "      <td id=\"T_a0512_row38_col4\" class=\"data row38 col4\" >373623.000000</td>\n",
       "      <td id=\"T_a0512_row38_col5\" class=\"data row38 col5\" >367880.000000</td>\n",
       "      <td id=\"T_a0512_row38_col6\" class=\"data row38 col6\" >360259.000000</td>\n",
       "      <td id=\"T_a0512_row38_col7\" class=\"data row38 col7\" >357475.000000</td>\n",
       "      <td id=\"T_a0512_row38_col8\" class=\"data row38 col8\" >369542.000000</td>\n",
       "      <td id=\"T_a0512_row38_col9\" class=\"data row38 col9\" >363232.000000</td>\n",
       "      <td id=\"T_a0512_row38_col10\" class=\"data row38 col10\" >356050.000000</td>\n",
       "      <td id=\"T_a0512_row38_col11\" class=\"data row38 col11\" >352925.000000</td>\n",
       "    </tr>\n",
       "    <tr>\n",
       "      <th id=\"T_a0512_level0_row39\" class=\"row_heading level0 row39\" >09 Cataluña</th>\n",
       "      <td id=\"T_a0512_row39_col0\" class=\"data row39 col0\" >8012231.000000</td>\n",
       "      <td id=\"T_a0512_row39_col1\" class=\"data row39 col1\" >7901963.000000</td>\n",
       "      <td id=\"T_a0512_row39_col2\" class=\"data row39 col2\" >7761823.000000</td>\n",
       "      <td id=\"T_a0512_row39_col3\" class=\"data row39 col3\" >7749896.000000</td>\n",
       "      <td id=\"T_a0512_row39_col4\" class=\"data row39 col4\" >3943698.000000</td>\n",
       "      <td id=\"T_a0512_row39_col5\" class=\"data row39 col5\" >3887223.000000</td>\n",
       "      <td id=\"T_a0512_row39_col6\" class=\"data row39 col6\" >3820173.000000</td>\n",
       "      <td id=\"T_a0512_row39_col7\" class=\"data row39 col7\" >3814823.000000</td>\n",
       "      <td id=\"T_a0512_row39_col8\" class=\"data row39 col8\" >4068533.000000</td>\n",
       "      <td id=\"T_a0512_row39_col9\" class=\"data row39 col9\" >4014740.000000</td>\n",
       "      <td id=\"T_a0512_row39_col10\" class=\"data row39 col10\" >3941650.000000</td>\n",
       "      <td id=\"T_a0512_row39_col11\" class=\"data row39 col11\" >3935073.000000</td>\n",
       "    </tr>\n",
       "    <tr>\n",
       "      <th id=\"T_a0512_level0_row40\" class=\"row_heading level0 row40\" >08 Barcelona</th>\n",
       "      <td id=\"T_a0512_row40_col0\" class=\"data row40 col0\" >5877672.000000</td>\n",
       "      <td id=\"T_a0512_row40_col1\" class=\"data row40 col1\" >5797356.000000</td>\n",
       "      <td id=\"T_a0512_row40_col2\" class=\"data row40 col2\" >5699602.000000</td>\n",
       "      <td id=\"T_a0512_row40_col3\" class=\"data row40 col3\" >5702262.000000</td>\n",
       "      <td id=\"T_a0512_row40_col4\" class=\"data row40 col4\" >2870721.000000</td>\n",
       "      <td id=\"T_a0512_row40_col5\" class=\"data row40 col5\" >2830260.000000</td>\n",
       "      <td id=\"T_a0512_row40_col6\" class=\"data row40 col6\" >2783698.000000</td>\n",
       "      <td id=\"T_a0512_row40_col7\" class=\"data row40 col7\" >2785890.000000</td>\n",
       "      <td id=\"T_a0512_row40_col8\" class=\"data row40 col8\" >3006951.000000</td>\n",
       "      <td id=\"T_a0512_row40_col9\" class=\"data row40 col9\" >2967096.000000</td>\n",
       "      <td id=\"T_a0512_row40_col10\" class=\"data row40 col10\" >2915904.000000</td>\n",
       "      <td id=\"T_a0512_row40_col11\" class=\"data row40 col11\" >2916372.000000</td>\n",
       "    </tr>\n",
       "    <tr>\n",
       "      <th id=\"T_a0512_level0_row41\" class=\"row_heading level0 row41\" >17 Girona</th>\n",
       "      <td id=\"T_a0512_row41_col0\" class=\"data row41 col0\" >821108.000000</td>\n",
       "      <td id=\"T_a0512_row41_col1\" class=\"data row41 col1\" >808672.000000</td>\n",
       "      <td id=\"T_a0512_row41_col2\" class=\"data row41 col2\" >790432.000000</td>\n",
       "      <td id=\"T_a0512_row41_col3\" class=\"data row41 col3\" >784941.000000</td>\n",
       "      <td id=\"T_a0512_row41_col4\" class=\"data row41 col4\" >411347.000000</td>\n",
       "      <td id=\"T_a0512_row41_col5\" class=\"data row41 col5\" >404692.000000</td>\n",
       "      <td id=\"T_a0512_row41_col6\" class=\"data row41 col6\" >396258.000000</td>\n",
       "      <td id=\"T_a0512_row41_col7\" class=\"data row41 col7\" >393369.000000</td>\n",
       "      <td id=\"T_a0512_row41_col8\" class=\"data row41 col8\" >409761.000000</td>\n",
       "      <td id=\"T_a0512_row41_col9\" class=\"data row41 col9\" >403980.000000</td>\n",
       "      <td id=\"T_a0512_row41_col10\" class=\"data row41 col10\" >394174.000000</td>\n",
       "      <td id=\"T_a0512_row41_col11\" class=\"data row41 col11\" >391572.000000</td>\n",
       "    </tr>\n",
       "    <tr>\n",
       "      <th id=\"T_a0512_level0_row42\" class=\"row_heading level0 row42\" >25 Lleida</th>\n",
       "      <td id=\"T_a0512_row42_col0\" class=\"data row42 col0\" >451707.000000</td>\n",
       "      <td id=\"T_a0512_row42_col1\" class=\"data row42 col1\" >447343.000000</td>\n",
       "      <td id=\"T_a0512_row42_col2\" class=\"data row42 col2\" >440883.000000</td>\n",
       "      <td id=\"T_a0512_row42_col3\" class=\"data row42 col3\" >439258.000000</td>\n",
       "      <td id=\"T_a0512_row42_col4\" class=\"data row42 col4\" >231053.000000</td>\n",
       "      <td id=\"T_a0512_row42_col5\" class=\"data row42 col5\" >228557.000000</td>\n",
       "      <td id=\"T_a0512_row42_col6\" class=\"data row42 col6\" >225105.000000</td>\n",
       "      <td id=\"T_a0512_row42_col7\" class=\"data row42 col7\" >224011.000000</td>\n",
       "      <td id=\"T_a0512_row42_col8\" class=\"data row42 col8\" >220654.000000</td>\n",
       "      <td id=\"T_a0512_row42_col9\" class=\"data row42 col9\" >218786.000000</td>\n",
       "      <td id=\"T_a0512_row42_col10\" class=\"data row42 col10\" >215778.000000</td>\n",
       "      <td id=\"T_a0512_row42_col11\" class=\"data row42 col11\" >215247.000000</td>\n",
       "    </tr>\n",
       "    <tr>\n",
       "      <th id=\"T_a0512_level0_row43\" class=\"row_heading level0 row43\" >43 Tarragona</th>\n",
       "      <td id=\"T_a0512_row43_col0\" class=\"data row43 col0\" >861744.000000</td>\n",
       "      <td id=\"T_a0512_row43_col1\" class=\"data row43 col1\" >848592.000000</td>\n",
       "      <td id=\"T_a0512_row43_col2\" class=\"data row43 col2\" >830906.000000</td>\n",
       "      <td id=\"T_a0512_row43_col3\" class=\"data row43 col3\" >823435.000000</td>\n",
       "      <td id=\"T_a0512_row43_col4\" class=\"data row43 col4\" >430577.000000</td>\n",
       "      <td id=\"T_a0512_row43_col5\" class=\"data row43 col5\" >423714.000000</td>\n",
       "      <td id=\"T_a0512_row43_col6\" class=\"data row43 col6\" >415112.000000</td>\n",
       "      <td id=\"T_a0512_row43_col7\" class=\"data row43 col7\" >411553.000000</td>\n",
       "      <td id=\"T_a0512_row43_col8\" class=\"data row43 col8\" >431167.000000</td>\n",
       "      <td id=\"T_a0512_row43_col9\" class=\"data row43 col9\" >424878.000000</td>\n",
       "      <td id=\"T_a0512_row43_col10\" class=\"data row43 col10\" >415794.000000</td>\n",
       "      <td id=\"T_a0512_row43_col11\" class=\"data row43 col11\" >411882.000000</td>\n",
       "    </tr>\n",
       "    <tr>\n",
       "      <th id=\"T_a0512_level0_row44\" class=\"row_heading level0 row44\" >10 Comunitat Valenciana</th>\n",
       "      <td id=\"T_a0512_row44_col0\" class=\"data row44 col0\" >5319285.000000</td>\n",
       "      <td id=\"T_a0512_row44_col1\" class=\"data row44 col1\" >5216195.000000</td>\n",
       "      <td id=\"T_a0512_row44_col2\" class=\"data row44 col2\" >5108116.000000</td>\n",
       "      <td id=\"T_a0512_row44_col3\" class=\"data row44 col3\" >5067911.000000</td>\n",
       "      <td id=\"T_a0512_row44_col4\" class=\"data row44 col4\" >2615852.000000</td>\n",
       "      <td id=\"T_a0512_row44_col5\" class=\"data row44 col5\" >2565926.000000</td>\n",
       "      <td id=\"T_a0512_row44_col6\" class=\"data row44 col6\" >2516724.000000</td>\n",
       "      <td id=\"T_a0512_row44_col7\" class=\"data row44 col7\" >2497752.000000</td>\n",
       "      <td id=\"T_a0512_row44_col8\" class=\"data row44 col8\" >2703433.000000</td>\n",
       "      <td id=\"T_a0512_row44_col9\" class=\"data row44 col9\" >2650269.000000</td>\n",
       "      <td id=\"T_a0512_row44_col10\" class=\"data row44 col10\" >2591392.000000</td>\n",
       "      <td id=\"T_a0512_row44_col11\" class=\"data row44 col11\" >2570159.000000</td>\n",
       "    </tr>\n",
       "    <tr>\n",
       "      <th id=\"T_a0512_level0_row45\" class=\"row_heading level0 row45\" >03 Alicante/Alacant</th>\n",
       "      <td id=\"T_a0512_row45_col0\" class=\"data row45 col0\" >1993289.000000</td>\n",
       "      <td id=\"T_a0512_row45_col1\" class=\"data row45 col1\" >1955268.000000</td>\n",
       "      <td id=\"T_a0512_row45_col2\" class=\"data row45 col2\" >1907494.000000</td>\n",
       "      <td id=\"T_a0512_row45_col3\" class=\"data row45 col3\" >1887036.000000</td>\n",
       "      <td id=\"T_a0512_row45_col4\" class=\"data row45 col4\" >984792.000000</td>\n",
       "      <td id=\"T_a0512_row45_col5\" class=\"data row45 col5\" >966477.000000</td>\n",
       "      <td id=\"T_a0512_row45_col6\" class=\"data row45 col6\" >945114.000000</td>\n",
       "      <td id=\"T_a0512_row45_col7\" class=\"data row45 col7\" >935234.000000</td>\n",
       "      <td id=\"T_a0512_row45_col8\" class=\"data row45 col8\" >1008497.000000</td>\n",
       "      <td id=\"T_a0512_row45_col9\" class=\"data row45 col9\" >988791.000000</td>\n",
       "      <td id=\"T_a0512_row45_col10\" class=\"data row45 col10\" >962380.000000</td>\n",
       "      <td id=\"T_a0512_row45_col11\" class=\"data row45 col11\" >951802.000000</td>\n",
       "    </tr>\n",
       "    <tr>\n",
       "      <th id=\"T_a0512_level0_row46\" class=\"row_heading level0 row46\" >12 Castellón/Castelló</th>\n",
       "      <td id=\"T_a0512_row46_col0\" class=\"data row46 col0\" >615188.000000</td>\n",
       "      <td id=\"T_a0512_row46_col1\" class=\"data row46 col1\" >604086.000000</td>\n",
       "      <td id=\"T_a0512_row46_col2\" class=\"data row46 col2\" >591300.000000</td>\n",
       "      <td id=\"T_a0512_row46_col3\" class=\"data row46 col3\" >587632.000000</td>\n",
       "      <td id=\"T_a0512_row46_col4\" class=\"data row46 col4\" >305611.000000</td>\n",
       "      <td id=\"T_a0512_row46_col5\" class=\"data row46 col5\" >299780.000000</td>\n",
       "      <td id=\"T_a0512_row46_col6\" class=\"data row46 col6\" >293616.000000</td>\n",
       "      <td id=\"T_a0512_row46_col7\" class=\"data row46 col7\" >291857.000000</td>\n",
       "      <td id=\"T_a0512_row46_col8\" class=\"data row46 col8\" >309577.000000</td>\n",
       "      <td id=\"T_a0512_row46_col9\" class=\"data row46 col9\" >304306.000000</td>\n",
       "      <td id=\"T_a0512_row46_col10\" class=\"data row46 col10\" >297684.000000</td>\n",
       "      <td id=\"T_a0512_row46_col11\" class=\"data row46 col11\" >295775.000000</td>\n",
       "    </tr>\n",
       "    <tr>\n",
       "      <th id=\"T_a0512_level0_row47\" class=\"row_heading level0 row47\" >46 Valencia/València</th>\n",
       "      <td id=\"T_a0512_row47_col0\" class=\"data row47 col0\" >2710808.000000</td>\n",
       "      <td id=\"T_a0512_row47_col1\" class=\"data row47 col1\" >2656841.000000</td>\n",
       "      <td id=\"T_a0512_row47_col2\" class=\"data row47 col2\" >2609322.000000</td>\n",
       "      <td id=\"T_a0512_row47_col3\" class=\"data row47 col3\" >2593243.000000</td>\n",
       "      <td id=\"T_a0512_row47_col4\" class=\"data row47 col4\" >1325449.000000</td>\n",
       "      <td id=\"T_a0512_row47_col5\" class=\"data row47 col5\" >1299669.000000</td>\n",
       "      <td id=\"T_a0512_row47_col6\" class=\"data row47 col6\" >1277994.000000</td>\n",
       "      <td id=\"T_a0512_row47_col7\" class=\"data row47 col7\" >1270661.000000</td>\n",
       "      <td id=\"T_a0512_row47_col8\" class=\"data row47 col8\" >1385359.000000</td>\n",
       "      <td id=\"T_a0512_row47_col9\" class=\"data row47 col9\" >1357172.000000</td>\n",
       "      <td id=\"T_a0512_row47_col10\" class=\"data row47 col10\" >1331328.000000</td>\n",
       "      <td id=\"T_a0512_row47_col11\" class=\"data row47 col11\" >1322582.000000</td>\n",
       "    </tr>\n",
       "    <tr>\n",
       "      <th id=\"T_a0512_level0_row48\" class=\"row_heading level0 row48\" >11 Extremadura</th>\n",
       "      <td id=\"T_a0512_row48_col0\" class=\"data row48 col0\" >1054681.000000</td>\n",
       "      <td id=\"T_a0512_row48_col1\" class=\"data row48 col1\" >1054306.000000</td>\n",
       "      <td id=\"T_a0512_row48_col2\" class=\"data row48 col2\" >1056808.000000</td>\n",
       "      <td id=\"T_a0512_row48_col3\" class=\"data row48 col3\" >1061636.000000</td>\n",
       "      <td id=\"T_a0512_row48_col4\" class=\"data row48 col4\" >521677.000000</td>\n",
       "      <td id=\"T_a0512_row48_col5\" class=\"data row48 col5\" >521626.000000</td>\n",
       "      <td id=\"T_a0512_row48_col6\" class=\"data row48 col6\" >523255.000000</td>\n",
       "      <td id=\"T_a0512_row48_col7\" class=\"data row48 col7\" >525843.000000</td>\n",
       "      <td id=\"T_a0512_row48_col8\" class=\"data row48 col8\" >533004.000000</td>\n",
       "      <td id=\"T_a0512_row48_col9\" class=\"data row48 col9\" >532680.000000</td>\n",
       "      <td id=\"T_a0512_row48_col10\" class=\"data row48 col10\" >533553.000000</td>\n",
       "      <td id=\"T_a0512_row48_col11\" class=\"data row48 col11\" >535793.000000</td>\n",
       "    </tr>\n",
       "    <tr>\n",
       "      <th id=\"T_a0512_level0_row49\" class=\"row_heading level0 row49\" >06 Badajoz</th>\n",
       "      <td id=\"T_a0512_row49_col0\" class=\"data row49 col0\" >666029.000000</td>\n",
       "      <td id=\"T_a0512_row49_col1\" class=\"data row49 col1\" >666049.000000</td>\n",
       "      <td id=\"T_a0512_row49_col2\" class=\"data row49 col2\" >667851.000000</td>\n",
       "      <td id=\"T_a0512_row49_col3\" class=\"data row49 col3\" >671092.000000</td>\n",
       "      <td id=\"T_a0512_row49_col4\" class=\"data row49 col4\" >328932.000000</td>\n",
       "      <td id=\"T_a0512_row49_col5\" class=\"data row49 col5\" >329118.000000</td>\n",
       "      <td id=\"T_a0512_row49_col6\" class=\"data row49 col6\" >330178.000000</td>\n",
       "      <td id=\"T_a0512_row49_col7\" class=\"data row49 col7\" >331856.000000</td>\n",
       "      <td id=\"T_a0512_row49_col8\" class=\"data row49 col8\" >337097.000000</td>\n",
       "      <td id=\"T_a0512_row49_col9\" class=\"data row49 col9\" >336931.000000</td>\n",
       "      <td id=\"T_a0512_row49_col10\" class=\"data row49 col10\" >337673.000000</td>\n",
       "      <td id=\"T_a0512_row49_col11\" class=\"data row49 col11\" >339236.000000</td>\n",
       "    </tr>\n",
       "    <tr>\n",
       "      <th id=\"T_a0512_level0_row50\" class=\"row_heading level0 row50\" >10 Cáceres</th>\n",
       "      <td id=\"T_a0512_row50_col0\" class=\"data row50 col0\" >388652.000000</td>\n",
       "      <td id=\"T_a0512_row50_col1\" class=\"data row50 col1\" >388257.000000</td>\n",
       "      <td id=\"T_a0512_row50_col2\" class=\"data row50 col2\" >388957.000000</td>\n",
       "      <td id=\"T_a0512_row50_col3\" class=\"data row50 col3\" >390544.000000</td>\n",
       "      <td id=\"T_a0512_row50_col4\" class=\"data row50 col4\" >192745.000000</td>\n",
       "      <td id=\"T_a0512_row50_col5\" class=\"data row50 col5\" >192508.000000</td>\n",
       "      <td id=\"T_a0512_row50_col6\" class=\"data row50 col6\" >193077.000000</td>\n",
       "      <td id=\"T_a0512_row50_col7\" class=\"data row50 col7\" >193987.000000</td>\n",
       "      <td id=\"T_a0512_row50_col8\" class=\"data row50 col8\" >195907.000000</td>\n",
       "      <td id=\"T_a0512_row50_col9\" class=\"data row50 col9\" >195749.000000</td>\n",
       "      <td id=\"T_a0512_row50_col10\" class=\"data row50 col10\" >195880.000000</td>\n",
       "      <td id=\"T_a0512_row50_col11\" class=\"data row50 col11\" >196557.000000</td>\n",
       "    </tr>\n",
       "    <tr>\n",
       "      <th id=\"T_a0512_level0_row51\" class=\"row_heading level0 row51\" >12 Galicia</th>\n",
       "      <td id=\"T_a0512_row51_col0\" class=\"data row51 col0\" >2705833.000000</td>\n",
       "      <td id=\"T_a0512_row51_col1\" class=\"data row51 col1\" >2699424.000000</td>\n",
       "      <td id=\"T_a0512_row51_col2\" class=\"data row51 col2\" >2692825.000000</td>\n",
       "      <td id=\"T_a0512_row51_col3\" class=\"data row51 col3\" >2698177.000000</td>\n",
       "      <td id=\"T_a0512_row51_col4\" class=\"data row51 col4\" >1301744.000000</td>\n",
       "      <td id=\"T_a0512_row51_col5\" class=\"data row51 col5\" >1299064.000000</td>\n",
       "      <td id=\"T_a0512_row51_col6\" class=\"data row51 col6\" >1296582.000000</td>\n",
       "      <td id=\"T_a0512_row51_col7\" class=\"data row51 col7\" >1299491.000000</td>\n",
       "      <td id=\"T_a0512_row51_col8\" class=\"data row51 col8\" >1404089.000000</td>\n",
       "      <td id=\"T_a0512_row51_col9\" class=\"data row51 col9\" >1400360.000000</td>\n",
       "      <td id=\"T_a0512_row51_col10\" class=\"data row51 col10\" >1396243.000000</td>\n",
       "      <td id=\"T_a0512_row51_col11\" class=\"data row51 col11\" >1398686.000000</td>\n",
       "    </tr>\n",
       "    <tr>\n",
       "      <th id=\"T_a0512_level0_row52\" class=\"row_heading level0 row52\" >15 Coruña, A</th>\n",
       "      <td id=\"T_a0512_row52_col0\" class=\"data row52 col0\" >1128449.000000</td>\n",
       "      <td id=\"T_a0512_row52_col1\" class=\"data row52 col1\" >1123884.000000</td>\n",
       "      <td id=\"T_a0512_row52_col2\" class=\"data row52 col2\" >1119164.000000</td>\n",
       "      <td id=\"T_a0512_row52_col3\" class=\"data row52 col3\" >1120501.000000</td>\n",
       "      <td id=\"T_a0512_row52_col4\" class=\"data row52 col4\" >540524.000000</td>\n",
       "      <td id=\"T_a0512_row52_col5\" class=\"data row52 col5\" >538523.000000</td>\n",
       "      <td id=\"T_a0512_row52_col6\" class=\"data row52 col6\" >536697.000000</td>\n",
       "      <td id=\"T_a0512_row52_col7\" class=\"data row52 col7\" >537361.000000</td>\n",
       "      <td id=\"T_a0512_row52_col8\" class=\"data row52 col8\" >587925.000000</td>\n",
       "      <td id=\"T_a0512_row52_col9\" class=\"data row52 col9\" >585361.000000</td>\n",
       "      <td id=\"T_a0512_row52_col10\" class=\"data row52 col10\" >582467.000000</td>\n",
       "      <td id=\"T_a0512_row52_col11\" class=\"data row52 col11\" >583140.000000</td>\n",
       "    </tr>\n",
       "    <tr>\n",
       "      <th id=\"T_a0512_level0_row53\" class=\"row_heading level0 row53\" >27 Lugo</th>\n",
       "      <td id=\"T_a0512_row53_col0\" class=\"data row53 col0\" >325048.000000</td>\n",
       "      <td id=\"T_a0512_row53_col1\" class=\"data row53 col1\" >324267.000000</td>\n",
       "      <td id=\"T_a0512_row53_col2\" class=\"data row53 col2\" >324240.000000</td>\n",
       "      <td id=\"T_a0512_row53_col3\" class=\"data row53 col3\" >326068.000000</td>\n",
       "      <td id=\"T_a0512_row53_col4\" class=\"data row53 col4\" >157715.000000</td>\n",
       "      <td id=\"T_a0512_row53_col5\" class=\"data row53 col5\" >157332.000000</td>\n",
       "      <td id=\"T_a0512_row53_col6\" class=\"data row53 col6\" >157157.000000</td>\n",
       "      <td id=\"T_a0512_row53_col7\" class=\"data row53 col7\" >158003.000000</td>\n",
       "      <td id=\"T_a0512_row53_col8\" class=\"data row53 col8\" >167333.000000</td>\n",
       "      <td id=\"T_a0512_row53_col9\" class=\"data row53 col9\" >166935.000000</td>\n",
       "      <td id=\"T_a0512_row53_col10\" class=\"data row53 col10\" >167083.000000</td>\n",
       "      <td id=\"T_a0512_row53_col11\" class=\"data row53 col11\" >168065.000000</td>\n",
       "    </tr>\n",
       "    <tr>\n",
       "      <th id=\"T_a0512_level0_row54\" class=\"row_heading level0 row54\" >32 Ourense</th>\n",
       "      <td id=\"T_a0512_row54_col0\" class=\"data row54 col0\" >304467.000000</td>\n",
       "      <td id=\"T_a0512_row54_col1\" class=\"data row54 col1\" >304563.000000</td>\n",
       "      <td id=\"T_a0512_row54_col2\" class=\"data row54 col2\" >304223.000000</td>\n",
       "      <td id=\"T_a0512_row54_col3\" class=\"data row54 col3\" >305297.000000</td>\n",
       "      <td id=\"T_a0512_row54_col4\" class=\"data row54 col4\" >146181.000000</td>\n",
       "      <td id=\"T_a0512_row54_col5\" class=\"data row54 col5\" >146271.000000</td>\n",
       "      <td id=\"T_a0512_row54_col6\" class=\"data row54 col6\" >146112.000000</td>\n",
       "      <td id=\"T_a0512_row54_col7\" class=\"data row54 col7\" >146630.000000</td>\n",
       "      <td id=\"T_a0512_row54_col8\" class=\"data row54 col8\" >158286.000000</td>\n",
       "      <td id=\"T_a0512_row54_col9\" class=\"data row54 col9\" >158292.000000</td>\n",
       "      <td id=\"T_a0512_row54_col10\" class=\"data row54 col10\" >158111.000000</td>\n",
       "      <td id=\"T_a0512_row54_col11\" class=\"data row54 col11\" >158667.000000</td>\n",
       "    </tr>\n",
       "    <tr>\n",
       "      <th id=\"T_a0512_level0_row55\" class=\"row_heading level0 row55\" >36 Pontevedra</th>\n",
       "      <td id=\"T_a0512_row55_col0\" class=\"data row55 col0\" >947869.000000</td>\n",
       "      <td id=\"T_a0512_row55_col1\" class=\"data row55 col1\" >946710.000000</td>\n",
       "      <td id=\"T_a0512_row55_col2\" class=\"data row55 col2\" >945198.000000</td>\n",
       "      <td id=\"T_a0512_row55_col3\" class=\"data row55 col3\" >946311.000000</td>\n",
       "      <td id=\"T_a0512_row55_col4\" class=\"data row55 col4\" >457324.000000</td>\n",
       "      <td id=\"T_a0512_row55_col5\" class=\"data row55 col5\" >456938.000000</td>\n",
       "      <td id=\"T_a0512_row55_col6\" class=\"data row55 col6\" >456616.000000</td>\n",
       "      <td id=\"T_a0512_row55_col7\" class=\"data row55 col7\" >457497.000000</td>\n",
       "      <td id=\"T_a0512_row55_col8\" class=\"data row55 col8\" >490545.000000</td>\n",
       "      <td id=\"T_a0512_row55_col9\" class=\"data row55 col9\" >489772.000000</td>\n",
       "      <td id=\"T_a0512_row55_col10\" class=\"data row55 col10\" >488582.000000</td>\n",
       "      <td id=\"T_a0512_row55_col11\" class=\"data row55 col11\" >488814.000000</td>\n",
       "    </tr>\n",
       "    <tr>\n",
       "      <th id=\"T_a0512_level0_row56\" class=\"row_heading level0 row56\" >13 Madrid, Comunidad de</th>\n",
       "      <td id=\"T_a0512_row56_col0\" class=\"data row56 col0\" >7009268.000000</td>\n",
       "      <td id=\"T_a0512_row56_col1\" class=\"data row56 col1\" >6871903.000000</td>\n",
       "      <td id=\"T_a0512_row56_col2\" class=\"data row56 col2\" >6743254.000000</td>\n",
       "      <td id=\"T_a0512_row56_col3\" class=\"data row56 col3\" >6726640.000000</td>\n",
       "      <td id=\"T_a0512_row56_col4\" class=\"data row56 col4\" >3356163.000000</td>\n",
       "      <td id=\"T_a0512_row56_col5\" class=\"data row56 col5\" >3288197.000000</td>\n",
       "      <td id=\"T_a0512_row56_col6\" class=\"data row56 col6\" >3229127.000000</td>\n",
       "      <td id=\"T_a0512_row56_col7\" class=\"data row56 col7\" >3221401.000000</td>\n",
       "      <td id=\"T_a0512_row56_col8\" class=\"data row56 col8\" >3653105.000000</td>\n",
       "      <td id=\"T_a0512_row56_col9\" class=\"data row56 col9\" >3583706.000000</td>\n",
       "      <td id=\"T_a0512_row56_col10\" class=\"data row56 col10\" >3514127.000000</td>\n",
       "      <td id=\"T_a0512_row56_col11\" class=\"data row56 col11\" >3505239.000000</td>\n",
       "    </tr>\n",
       "    <tr>\n",
       "      <th id=\"T_a0512_level0_row57\" class=\"row_heading level0 row57\" >28 Madrid</th>\n",
       "      <td id=\"T_a0512_row57_col0\" class=\"data row57 col0\" >7009268.000000</td>\n",
       "      <td id=\"T_a0512_row57_col1\" class=\"data row57 col1\" >6871903.000000</td>\n",
       "      <td id=\"T_a0512_row57_col2\" class=\"data row57 col2\" >6743254.000000</td>\n",
       "      <td id=\"T_a0512_row57_col3\" class=\"data row57 col3\" >6726640.000000</td>\n",
       "      <td id=\"T_a0512_row57_col4\" class=\"data row57 col4\" >3356163.000000</td>\n",
       "      <td id=\"T_a0512_row57_col5\" class=\"data row57 col5\" >3288197.000000</td>\n",
       "      <td id=\"T_a0512_row57_col6\" class=\"data row57 col6\" >3229127.000000</td>\n",
       "      <td id=\"T_a0512_row57_col7\" class=\"data row57 col7\" >3221401.000000</td>\n",
       "      <td id=\"T_a0512_row57_col8\" class=\"data row57 col8\" >3653105.000000</td>\n",
       "      <td id=\"T_a0512_row57_col9\" class=\"data row57 col9\" >3583706.000000</td>\n",
       "      <td id=\"T_a0512_row57_col10\" class=\"data row57 col10\" >3514127.000000</td>\n",
       "      <td id=\"T_a0512_row57_col11\" class=\"data row57 col11\" >3505239.000000</td>\n",
       "    </tr>\n",
       "    <tr>\n",
       "      <th id=\"T_a0512_level0_row58\" class=\"row_heading level0 row58\" >14 Murcia, Región de</th>\n",
       "      <td id=\"T_a0512_row58_col0\" class=\"data row58 col0\" >1568492.000000</td>\n",
       "      <td id=\"T_a0512_row58_col1\" class=\"data row58 col1\" >1551692.000000</td>\n",
       "      <td id=\"T_a0512_row58_col2\" class=\"data row58 col2\" >1529658.000000</td>\n",
       "      <td id=\"T_a0512_row58_col3\" class=\"data row58 col3\" >1518279.000000</td>\n",
       "      <td id=\"T_a0512_row58_col4\" class=\"data row58 col4\" >786038.000000</td>\n",
       "      <td id=\"T_a0512_row58_col5\" class=\"data row58 col5\" >777819.000000</td>\n",
       "      <td id=\"T_a0512_row58_col6\" class=\"data row58 col6\" >767117.000000</td>\n",
       "      <td id=\"T_a0512_row58_col7\" class=\"data row58 col7\" >760831.000000</td>\n",
       "      <td id=\"T_a0512_row58_col8\" class=\"data row58 col8\" >782454.000000</td>\n",
       "      <td id=\"T_a0512_row58_col9\" class=\"data row58 col9\" >773873.000000</td>\n",
       "      <td id=\"T_a0512_row58_col10\" class=\"data row58 col10\" >762541.000000</td>\n",
       "      <td id=\"T_a0512_row58_col11\" class=\"data row58 col11\" >757448.000000</td>\n",
       "    </tr>\n",
       "    <tr>\n",
       "      <th id=\"T_a0512_level0_row59\" class=\"row_heading level0 row59\" >30 Murcia</th>\n",
       "      <td id=\"T_a0512_row59_col0\" class=\"data row59 col0\" >1568492.000000</td>\n",
       "      <td id=\"T_a0512_row59_col1\" class=\"data row59 col1\" >1551692.000000</td>\n",
       "      <td id=\"T_a0512_row59_col2\" class=\"data row59 col2\" >1529658.000000</td>\n",
       "      <td id=\"T_a0512_row59_col3\" class=\"data row59 col3\" >1518279.000000</td>\n",
       "      <td id=\"T_a0512_row59_col4\" class=\"data row59 col4\" >786038.000000</td>\n",
       "      <td id=\"T_a0512_row59_col5\" class=\"data row59 col5\" >777819.000000</td>\n",
       "      <td id=\"T_a0512_row59_col6\" class=\"data row59 col6\" >767117.000000</td>\n",
       "      <td id=\"T_a0512_row59_col7\" class=\"data row59 col7\" >760831.000000</td>\n",
       "      <td id=\"T_a0512_row59_col8\" class=\"data row59 col8\" >782454.000000</td>\n",
       "      <td id=\"T_a0512_row59_col9\" class=\"data row59 col9\" >773873.000000</td>\n",
       "      <td id=\"T_a0512_row59_col10\" class=\"data row59 col10\" >762541.000000</td>\n",
       "      <td id=\"T_a0512_row59_col11\" class=\"data row59 col11\" >757448.000000</td>\n",
       "    </tr>\n",
       "    <tr>\n",
       "      <th id=\"T_a0512_level0_row60\" class=\"row_heading level0 row60\" >15 Navarra, Comunidad Foral de</th>\n",
       "      <td id=\"T_a0512_row60_col0\" class=\"data row60 col0\" >678333.000000</td>\n",
       "      <td id=\"T_a0512_row60_col1\" class=\"data row60 col1\" >672155.000000</td>\n",
       "      <td id=\"T_a0512_row60_col2\" class=\"data row60 col2\" >664514.000000</td>\n",
       "      <td id=\"T_a0512_row60_col3\" class=\"data row60 col3\" >662032.000000</td>\n",
       "      <td id=\"T_a0512_row60_col4\" class=\"data row60 col4\" >335919.000000</td>\n",
       "      <td id=\"T_a0512_row60_col5\" class=\"data row60 col5\" >332575.000000</td>\n",
       "      <td id=\"T_a0512_row60_col6\" class=\"data row60 col6\" >329064.000000</td>\n",
       "      <td id=\"T_a0512_row60_col7\" class=\"data row60 col7\" >327940.000000</td>\n",
       "      <td id=\"T_a0512_row60_col8\" class=\"data row60 col8\" >342414.000000</td>\n",
       "      <td id=\"T_a0512_row60_col9\" class=\"data row60 col9\" >339580.000000</td>\n",
       "      <td id=\"T_a0512_row60_col10\" class=\"data row60 col10\" >335450.000000</td>\n",
       "      <td id=\"T_a0512_row60_col11\" class=\"data row60 col11\" >334092.000000</td>\n",
       "    </tr>\n",
       "    <tr>\n",
       "      <th id=\"T_a0512_level0_row61\" class=\"row_heading level0 row61\" >31 Navarra</th>\n",
       "      <td id=\"T_a0512_row61_col0\" class=\"data row61 col0\" >678333.000000</td>\n",
       "      <td id=\"T_a0512_row61_col1\" class=\"data row61 col1\" >672155.000000</td>\n",
       "      <td id=\"T_a0512_row61_col2\" class=\"data row61 col2\" >664514.000000</td>\n",
       "      <td id=\"T_a0512_row61_col3\" class=\"data row61 col3\" >662032.000000</td>\n",
       "      <td id=\"T_a0512_row61_col4\" class=\"data row61 col4\" >335919.000000</td>\n",
       "      <td id=\"T_a0512_row61_col5\" class=\"data row61 col5\" >332575.000000</td>\n",
       "      <td id=\"T_a0512_row61_col6\" class=\"data row61 col6\" >329064.000000</td>\n",
       "      <td id=\"T_a0512_row61_col7\" class=\"data row61 col7\" >327940.000000</td>\n",
       "      <td id=\"T_a0512_row61_col8\" class=\"data row61 col8\" >342414.000000</td>\n",
       "      <td id=\"T_a0512_row61_col9\" class=\"data row61 col9\" >339580.000000</td>\n",
       "      <td id=\"T_a0512_row61_col10\" class=\"data row61 col10\" >335450.000000</td>\n",
       "      <td id=\"T_a0512_row61_col11\" class=\"data row61 col11\" >334092.000000</td>\n",
       "    </tr>\n",
       "    <tr>\n",
       "      <th id=\"T_a0512_level0_row62\" class=\"row_heading level0 row62\" >16 País Vasco</th>\n",
       "      <td id=\"T_a0512_row62_col0\" class=\"data row62 col0\" >2227684.000000</td>\n",
       "      <td id=\"T_a0512_row62_col1\" class=\"data row62 col1\" >2216302.000000</td>\n",
       "      <td id=\"T_a0512_row62_col2\" class=\"data row62 col2\" >2205826.000000</td>\n",
       "      <td id=\"T_a0512_row62_col3\" class=\"data row62 col3\" >2212628.000000</td>\n",
       "      <td id=\"T_a0512_row62_col4\" class=\"data row62 col4\" >1083488.000000</td>\n",
       "      <td id=\"T_a0512_row62_col5\" class=\"data row62 col5\" >1077504.000000</td>\n",
       "      <td id=\"T_a0512_row62_col6\" class=\"data row62 col6\" >1072491.000000</td>\n",
       "      <td id=\"T_a0512_row62_col7\" class=\"data row62 col7\" >1075982.000000</td>\n",
       "      <td id=\"T_a0512_row62_col8\" class=\"data row62 col8\" >1144196.000000</td>\n",
       "      <td id=\"T_a0512_row62_col9\" class=\"data row62 col9\" >1138798.000000</td>\n",
       "      <td id=\"T_a0512_row62_col10\" class=\"data row62 col10\" >1133335.000000</td>\n",
       "      <td id=\"T_a0512_row62_col11\" class=\"data row62 col11\" >1136646.000000</td>\n",
       "    </tr>\n",
       "    <tr>\n",
       "      <th id=\"T_a0512_level0_row63\" class=\"row_heading level0 row63\" >01 Araba/Álava</th>\n",
       "      <td id=\"T_a0512_row63_col0\" class=\"data row63 col0\" >338594.000000</td>\n",
       "      <td id=\"T_a0512_row63_col1\" class=\"data row63 col1\" >336308.000000</td>\n",
       "      <td id=\"T_a0512_row63_col2\" class=\"data row63 col2\" >333908.000000</td>\n",
       "      <td id=\"T_a0512_row63_col3\" class=\"data row63 col3\" >333485.000000</td>\n",
       "      <td id=\"T_a0512_row63_col4\" class=\"data row63 col4\" >166667.000000</td>\n",
       "      <td id=\"T_a0512_row63_col5\" class=\"data row63 col5\" >165600.000000</td>\n",
       "      <td id=\"T_a0512_row63_col6\" class=\"data row63 col6\" >164410.000000</td>\n",
       "      <td id=\"T_a0512_row63_col7\" class=\"data row63 col7\" >164299.000000</td>\n",
       "      <td id=\"T_a0512_row63_col8\" class=\"data row63 col8\" >171927.000000</td>\n",
       "      <td id=\"T_a0512_row63_col9\" class=\"data row63 col9\" >170708.000000</td>\n",
       "      <td id=\"T_a0512_row63_col10\" class=\"data row63 col10\" >169498.000000</td>\n",
       "      <td id=\"T_a0512_row63_col11\" class=\"data row63 col11\" >169186.000000</td>\n",
       "    </tr>\n",
       "    <tr>\n",
       "      <th id=\"T_a0512_level0_row64\" class=\"row_heading level0 row64\" >20 Gipuzkoa</th>\n",
       "      <td id=\"T_a0512_row64_col0\" class=\"data row64 col0\" >729722.000000</td>\n",
       "      <td id=\"T_a0512_row64_col1\" class=\"data row64 col1\" >726712.000000</td>\n",
       "      <td id=\"T_a0512_row64_col2\" class=\"data row64 col2\" >723241.000000</td>\n",
       "      <td id=\"T_a0512_row64_col3\" class=\"data row64 col3\" >725508.000000</td>\n",
       "      <td id=\"T_a0512_row64_col4\" class=\"data row64 col4\" >356298.000000</td>\n",
       "      <td id=\"T_a0512_row64_col5\" class=\"data row64 col5\" >354758.000000</td>\n",
       "      <td id=\"T_a0512_row64_col6\" class=\"data row64 col6\" >353333.000000</td>\n",
       "      <td id=\"T_a0512_row64_col7\" class=\"data row64 col7\" >354493.000000</td>\n",
       "      <td id=\"T_a0512_row64_col8\" class=\"data row64 col8\" >373424.000000</td>\n",
       "      <td id=\"T_a0512_row64_col9\" class=\"data row64 col9\" >371954.000000</td>\n",
       "      <td id=\"T_a0512_row64_col10\" class=\"data row64 col10\" >369908.000000</td>\n",
       "      <td id=\"T_a0512_row64_col11\" class=\"data row64 col11\" >371015.000000</td>\n",
       "    </tr>\n",
       "    <tr>\n",
       "      <th id=\"T_a0512_level0_row65\" class=\"row_heading level0 row65\" >48 Bizkaia</th>\n",
       "      <td id=\"T_a0512_row65_col0\" class=\"data row65 col0\" >1159368.000000</td>\n",
       "      <td id=\"T_a0512_row65_col1\" class=\"data row65 col1\" >1153282.000000</td>\n",
       "      <td id=\"T_a0512_row65_col2\" class=\"data row65 col2\" >1148677.000000</td>\n",
       "      <td id=\"T_a0512_row65_col3\" class=\"data row65 col3\" >1153635.000000</td>\n",
       "      <td id=\"T_a0512_row65_col4\" class=\"data row65 col4\" >560523.000000</td>\n",
       "      <td id=\"T_a0512_row65_col5\" class=\"data row65 col5\" >557146.000000</td>\n",
       "      <td id=\"T_a0512_row65_col6\" class=\"data row65 col6\" >554748.000000</td>\n",
       "      <td id=\"T_a0512_row65_col7\" class=\"data row65 col7\" >557190.000000</td>\n",
       "      <td id=\"T_a0512_row65_col8\" class=\"data row65 col8\" >598845.000000</td>\n",
       "      <td id=\"T_a0512_row65_col9\" class=\"data row65 col9\" >596136.000000</td>\n",
       "      <td id=\"T_a0512_row65_col10\" class=\"data row65 col10\" >593929.000000</td>\n",
       "      <td id=\"T_a0512_row65_col11\" class=\"data row65 col11\" >596445.000000</td>\n",
       "    </tr>\n",
       "    <tr>\n",
       "      <th id=\"T_a0512_level0_row66\" class=\"row_heading level0 row66\" >17 Rioja, La</th>\n",
       "      <td id=\"T_a0512_row66_col0\" class=\"data row66 col0\" >324184.000000</td>\n",
       "      <td id=\"T_a0512_row66_col1\" class=\"data row66 col1\" >322282.000000</td>\n",
       "      <td id=\"T_a0512_row66_col2\" class=\"data row66 col2\" >319617.000000</td>\n",
       "      <td id=\"T_a0512_row66_col3\" class=\"data row66 col3\" >319444.000000</td>\n",
       "      <td id=\"T_a0512_row66_col4\" class=\"data row66 col4\" >159979.000000</td>\n",
       "      <td id=\"T_a0512_row66_col5\" class=\"data row66 col5\" >159151.000000</td>\n",
       "      <td id=\"T_a0512_row66_col6\" class=\"data row66 col6\" >157875.000000</td>\n",
       "      <td id=\"T_a0512_row66_col7\" class=\"data row66 col7\" >157763.000000</td>\n",
       "      <td id=\"T_a0512_row66_col8\" class=\"data row66 col8\" >164205.000000</td>\n",
       "      <td id=\"T_a0512_row66_col9\" class=\"data row66 col9\" >163131.000000</td>\n",
       "      <td id=\"T_a0512_row66_col10\" class=\"data row66 col10\" >161742.000000</td>\n",
       "      <td id=\"T_a0512_row66_col11\" class=\"data row66 col11\" >161681.000000</td>\n",
       "    </tr>\n",
       "    <tr>\n",
       "      <th id=\"T_a0512_level0_row67\" class=\"row_heading level0 row67\" >26 Rioja, La</th>\n",
       "      <td id=\"T_a0512_row67_col0\" class=\"data row67 col0\" >324184.000000</td>\n",
       "      <td id=\"T_a0512_row67_col1\" class=\"data row67 col1\" >322282.000000</td>\n",
       "      <td id=\"T_a0512_row67_col2\" class=\"data row67 col2\" >319617.000000</td>\n",
       "      <td id=\"T_a0512_row67_col3\" class=\"data row67 col3\" >319444.000000</td>\n",
       "      <td id=\"T_a0512_row67_col4\" class=\"data row67 col4\" >159979.000000</td>\n",
       "      <td id=\"T_a0512_row67_col5\" class=\"data row67 col5\" >159151.000000</td>\n",
       "      <td id=\"T_a0512_row67_col6\" class=\"data row67 col6\" >157875.000000</td>\n",
       "      <td id=\"T_a0512_row67_col7\" class=\"data row67 col7\" >157763.000000</td>\n",
       "      <td id=\"T_a0512_row67_col8\" class=\"data row67 col8\" >164205.000000</td>\n",
       "      <td id=\"T_a0512_row67_col9\" class=\"data row67 col9\" >163131.000000</td>\n",
       "      <td id=\"T_a0512_row67_col10\" class=\"data row67 col10\" >161742.000000</td>\n",
       "      <td id=\"T_a0512_row67_col11\" class=\"data row67 col11\" >161681.000000</td>\n",
       "    </tr>\n",
       "    <tr>\n",
       "      <th id=\"T_a0512_level0_row68\" class=\"row_heading level0 row68\" >18 Ceuta</th>\n",
       "      <td id=\"T_a0512_row68_col0\" class=\"data row68 col0\" >83179.000000</td>\n",
       "      <td id=\"T_a0512_row68_col1\" class=\"data row68 col1\" >83052.000000</td>\n",
       "      <td id=\"T_a0512_row68_col2\" class=\"data row68 col2\" >83051.000000</td>\n",
       "      <td id=\"T_a0512_row68_col3\" class=\"data row68 col3\" >84071.000000</td>\n",
       "      <td id=\"T_a0512_row68_col4\" class=\"data row68 col4\" >41957.000000</td>\n",
       "      <td id=\"T_a0512_row68_col5\" class=\"data row68 col5\" >41897.000000</td>\n",
       "      <td id=\"T_a0512_row68_col6\" class=\"data row68 col6\" >41908.000000</td>\n",
       "      <td id=\"T_a0512_row68_col7\" class=\"data row68 col7\" >42536.000000</td>\n",
       "      <td id=\"T_a0512_row68_col8\" class=\"data row68 col8\" >41222.000000</td>\n",
       "      <td id=\"T_a0512_row68_col9\" class=\"data row68 col9\" >41155.000000</td>\n",
       "      <td id=\"T_a0512_row68_col10\" class=\"data row68 col10\" >41143.000000</td>\n",
       "      <td id=\"T_a0512_row68_col11\" class=\"data row68 col11\" >41535.000000</td>\n",
       "    </tr>\n",
       "    <tr>\n",
       "      <th id=\"T_a0512_level0_row69\" class=\"row_heading level0 row69\" >51 Ceuta</th>\n",
       "      <td id=\"T_a0512_row69_col0\" class=\"data row69 col0\" >83179.000000</td>\n",
       "      <td id=\"T_a0512_row69_col1\" class=\"data row69 col1\" >83052.000000</td>\n",
       "      <td id=\"T_a0512_row69_col2\" class=\"data row69 col2\" >83051.000000</td>\n",
       "      <td id=\"T_a0512_row69_col3\" class=\"data row69 col3\" >84071.000000</td>\n",
       "      <td id=\"T_a0512_row69_col4\" class=\"data row69 col4\" >41957.000000</td>\n",
       "      <td id=\"T_a0512_row69_col5\" class=\"data row69 col5\" >41897.000000</td>\n",
       "      <td id=\"T_a0512_row69_col6\" class=\"data row69 col6\" >41908.000000</td>\n",
       "      <td id=\"T_a0512_row69_col7\" class=\"data row69 col7\" >42536.000000</td>\n",
       "      <td id=\"T_a0512_row69_col8\" class=\"data row69 col8\" >41222.000000</td>\n",
       "      <td id=\"T_a0512_row69_col9\" class=\"data row69 col9\" >41155.000000</td>\n",
       "      <td id=\"T_a0512_row69_col10\" class=\"data row69 col10\" >41143.000000</td>\n",
       "      <td id=\"T_a0512_row69_col11\" class=\"data row69 col11\" >41535.000000</td>\n",
       "    </tr>\n",
       "    <tr>\n",
       "      <th id=\"T_a0512_level0_row70\" class=\"row_heading level0 row70\" >19 Melilla</th>\n",
       "      <td id=\"T_a0512_row70_col0\" class=\"data row70 col0\" >85985.000000</td>\n",
       "      <td id=\"T_a0512_row70_col1\" class=\"data row70 col1\" >85493.000000</td>\n",
       "      <td id=\"T_a0512_row70_col2\" class=\"data row70 col2\" >84932.000000</td>\n",
       "      <td id=\"T_a0512_row70_col3\" class=\"data row70 col3\" >86450.000000</td>\n",
       "      <td id=\"T_a0512_row70_col4\" class=\"data row70 col4\" >43252.000000</td>\n",
       "      <td id=\"T_a0512_row70_col5\" class=\"data row70 col5\" >43162.000000</td>\n",
       "      <td id=\"T_a0512_row70_col6\" class=\"data row70 col6\" >42978.000000</td>\n",
       "      <td id=\"T_a0512_row70_col7\" class=\"data row70 col7\" >43823.000000</td>\n",
       "      <td id=\"T_a0512_row70_col8\" class=\"data row70 col8\" >42733.000000</td>\n",
       "      <td id=\"T_a0512_row70_col9\" class=\"data row70 col9\" >42331.000000</td>\n",
       "      <td id=\"T_a0512_row70_col10\" class=\"data row70 col10\" >41954.000000</td>\n",
       "      <td id=\"T_a0512_row70_col11\" class=\"data row70 col11\" >42627.000000</td>\n",
       "    </tr>\n",
       "    <tr>\n",
       "      <th id=\"T_a0512_level0_row71\" class=\"row_heading level0 row71\" >52 Melilla</th>\n",
       "      <td id=\"T_a0512_row71_col0\" class=\"data row71 col0\" >85985.000000</td>\n",
       "      <td id=\"T_a0512_row71_col1\" class=\"data row71 col1\" >85493.000000</td>\n",
       "      <td id=\"T_a0512_row71_col2\" class=\"data row71 col2\" >84932.000000</td>\n",
       "      <td id=\"T_a0512_row71_col3\" class=\"data row71 col3\" >86450.000000</td>\n",
       "      <td id=\"T_a0512_row71_col4\" class=\"data row71 col4\" >43252.000000</td>\n",
       "      <td id=\"T_a0512_row71_col5\" class=\"data row71 col5\" >43162.000000</td>\n",
       "      <td id=\"T_a0512_row71_col6\" class=\"data row71 col6\" >42978.000000</td>\n",
       "      <td id=\"T_a0512_row71_col7\" class=\"data row71 col7\" >43823.000000</td>\n",
       "      <td id=\"T_a0512_row71_col8\" class=\"data row71 col8\" >42733.000000</td>\n",
       "      <td id=\"T_a0512_row71_col9\" class=\"data row71 col9\" >42331.000000</td>\n",
       "      <td id=\"T_a0512_row71_col10\" class=\"data row71 col10\" >41954.000000</td>\n",
       "      <td id=\"T_a0512_row71_col11\" class=\"data row71 col11\" >42627.000000</td>\n",
       "    </tr>\n",
       "  </tbody>\n",
       "</table>\n"
      ],
      "text/plain": [
       "<pandas.io.formats.style.Styler at 0x144b26db0>"
      ]
     },
     "execution_count": 12,
     "metadata": {},
     "output_type": "execute_result"
    }
   ],
   "source": [
    "df_bruto = pd.read_excel('../data/pob_21_24.xlsx', header=7, index_col=0).dropna()\n",
    "df_bruto.style"
   ]
  },
  {
   "cell_type": "code",
   "execution_count": 23,
   "metadata": {},
   "outputs": [
    {
     "data": {
      "text/html": [
       "<div>\n",
       "<style scoped>\n",
       "    .dataframe tbody tr th:only-of-type {\n",
       "        vertical-align: middle;\n",
       "    }\n",
       "\n",
       "    .dataframe tbody tr th {\n",
       "        vertical-align: top;\n",
       "    }\n",
       "\n",
       "    .dataframe thead th {\n",
       "        text-align: right;\n",
       "    }\n",
       "</style>\n",
       "<table border=\"1\" class=\"dataframe\">\n",
       "  <thead>\n",
       "    <tr style=\"text-align: right;\">\n",
       "      <th></th>\n",
       "      <th>variable</th>\n",
       "      <th>value</th>\n",
       "    </tr>\n",
       "    <tr>\n",
       "      <th></th>\n",
       "      <th></th>\n",
       "      <th></th>\n",
       "    </tr>\n",
       "  </thead>\n",
       "  <tbody>\n",
       "    <tr>\n",
       "      <th>Total Nacional</th>\n",
       "      <td>2024</td>\n",
       "      <td>48619695.0</td>\n",
       "    </tr>\n",
       "    <tr>\n",
       "      <th>01 Andalucía</th>\n",
       "      <td>2024</td>\n",
       "      <td>8631862.0</td>\n",
       "    </tr>\n",
       "    <tr>\n",
       "      <th>04 Almería</th>\n",
       "      <td>2024</td>\n",
       "      <td>760964.0</td>\n",
       "    </tr>\n",
       "    <tr>\n",
       "      <th>11 Cádiz</th>\n",
       "      <td>2024</td>\n",
       "      <td>1258730.0</td>\n",
       "    </tr>\n",
       "    <tr>\n",
       "      <th>14 Córdoba</th>\n",
       "      <td>2024</td>\n",
       "      <td>774313.0</td>\n",
       "    </tr>\n",
       "    <tr>\n",
       "      <th>...</th>\n",
       "      <td>...</td>\n",
       "      <td>...</td>\n",
       "    </tr>\n",
       "    <tr>\n",
       "      <th>26 Rioja, La</th>\n",
       "      <td>2021.2</td>\n",
       "      <td>161681.0</td>\n",
       "    </tr>\n",
       "    <tr>\n",
       "      <th>18 Ceuta</th>\n",
       "      <td>2021.2</td>\n",
       "      <td>41535.0</td>\n",
       "    </tr>\n",
       "    <tr>\n",
       "      <th>51 Ceuta</th>\n",
       "      <td>2021.2</td>\n",
       "      <td>41535.0</td>\n",
       "    </tr>\n",
       "    <tr>\n",
       "      <th>19 Melilla</th>\n",
       "      <td>2021.2</td>\n",
       "      <td>42627.0</td>\n",
       "    </tr>\n",
       "    <tr>\n",
       "      <th>52 Melilla</th>\n",
       "      <td>2021.2</td>\n",
       "      <td>42627.0</td>\n",
       "    </tr>\n",
       "  </tbody>\n",
       "</table>\n",
       "<p>864 rows × 2 columns</p>\n",
       "</div>"
      ],
      "text/plain": [
       "               variable       value\n",
       "                                   \n",
       "Total Nacional     2024  48619695.0\n",
       "01 Andalucía       2024   8631862.0\n",
       "04 Almería         2024    760964.0\n",
       "11 Cádiz           2024   1258730.0\n",
       "14 Córdoba         2024    774313.0\n",
       "...                 ...         ...\n",
       "26 Rioja, La     2021.2    161681.0\n",
       "18 Ceuta         2021.2     41535.0\n",
       "51 Ceuta         2021.2     41535.0\n",
       "19 Melilla       2021.2     42627.0\n",
       "52 Melilla       2021.2     42627.0\n",
       "\n",
       "[864 rows x 2 columns]"
      ]
     },
     "execution_count": 23,
     "metadata": {},
     "output_type": "execute_result"
    }
   ],
   "source": [
    "df = df_bruto.melt(ignore_index=False)\n",
    "df"
   ]
  },
  {
   "cell_type": "code",
   "execution_count": 26,
   "metadata": {},
   "outputs": [],
   "source": [
    "df = df.reset_index(names='province')"
   ]
  },
  {
   "cell_type": "code",
   "execution_count": 29,
   "metadata": {},
   "outputs": [],
   "source": [
    "import plotly.express as px"
   ]
  },
  {
   "cell_type": "code",
   "execution_count": 30,
   "metadata": {},
   "outputs": [
    {
     "data": {
      "application/vnd.plotly.v1+json": {
       "config": {
        "plotlyServerURL": "https://plot.ly"
       },
       "data": [
        {
         "hovertemplate": "province=Total Nacional<br>variable=%{x}<br>value=%{y}<extra></extra>",
         "legendgroup": "Total Nacional",
         "line": {
          "color": "#636efa",
          "dash": "solid"
         },
         "marker": {
          "symbol": "circle"
         },
         "mode": "lines",
         "name": "Total Nacional",
         "orientation": "v",
         "showlegend": true,
         "type": "scatter",
         "x": [
          "2024",
          "2023",
          "2022",
          "2021",
          "2024.1",
          "2023.1",
          "2022.1",
          "2021.1",
          "2024.2",
          "2023.2",
          "2022.2",
          "2021.2"
         ],
         "xaxis": "x",
         "y": [
          48619695,
          48085361,
          47486727,
          47400798,
          23826871,
          23565593,
          23288747,
          23248611,
          24792824,
          24519768,
          24197980,
          24152187
         ],
         "yaxis": "y"
        },
        {
         "hovertemplate": "province=01 Andalucía<br>variable=%{x}<br>value=%{y}<extra></extra>",
         "legendgroup": "01 Andalucía",
         "line": {
          "color": "#EF553B",
          "dash": "solid"
         },
         "marker": {
          "symbol": "circle"
         },
         "mode": "lines",
         "name": "01 Andalucía",
         "orientation": "v",
         "showlegend": true,
         "type": "scatter",
         "x": [
          "2024",
          "2023",
          "2022",
          "2021",
          "2024.1",
          "2023.1",
          "2022.1",
          "2021.1",
          "2024.2",
          "2023.2",
          "2022.2",
          "2021.2"
         ],
         "xaxis": "x",
         "y": [
          8631862,
          8584147,
          8511167,
          8484804,
          4249355,
          4229831,
          4196620,
          4182620,
          4382507,
          4354316,
          4314547,
          4302184
         ],
         "yaxis": "y"
        },
        {
         "hovertemplate": "province=04 Almería<br>variable=%{x}<br>value=%{y}<extra></extra>",
         "legendgroup": "04 Almería",
         "line": {
          "color": "#00cc96",
          "dash": "solid"
         },
         "marker": {
          "symbol": "circle"
         },
         "mode": "lines",
         "name": "04 Almería",
         "orientation": "v",
         "showlegend": true,
         "type": "scatter",
         "x": [
          "2024",
          "2023",
          "2022",
          "2021",
          "2024.1",
          "2023.1",
          "2022.1",
          "2021.1",
          "2024.2",
          "2023.2",
          "2022.2",
          "2021.2"
         ],
         "xaxis": "x",
         "y": [
          760964,
          753364,
          739541,
          730430,
          389103,
          385696,
          378325,
          372823,
          371861,
          367668,
          361216,
          357607
         ],
         "yaxis": "y"
        },
        {
         "hovertemplate": "province=11 Cádiz<br>variable=%{x}<br>value=%{y}<extra></extra>",
         "legendgroup": "11 Cádiz",
         "line": {
          "color": "#ab63fa",
          "dash": "solid"
         },
         "marker": {
          "symbol": "circle"
         },
         "mode": "lines",
         "name": "11 Cádiz",
         "orientation": "v",
         "showlegend": true,
         "type": "scatter",
         "x": [
          "2024",
          "2023",
          "2022",
          "2021",
          "2024.1",
          "2023.1",
          "2022.1",
          "2021.1",
          "2024.2",
          "2023.2",
          "2022.2",
          "2021.2"
         ],
         "xaxis": "x",
         "y": [
          1258730,
          1254866,
          1250545,
          1249873,
          619543,
          618291,
          616647,
          616595,
          639187,
          636575,
          633898,
          633278
         ],
         "yaxis": "y"
        },
        {
         "hovertemplate": "province=14 Córdoba<br>variable=%{x}<br>value=%{y}<extra></extra>",
         "legendgroup": "14 Córdoba",
         "line": {
          "color": "#FFA15A",
          "dash": "solid"
         },
         "marker": {
          "symbol": "circle"
         },
         "mode": "lines",
         "name": "14 Córdoba",
         "orientation": "v",
         "showlegend": true,
         "type": "scatter",
         "x": [
          "2024",
          "2023",
          "2022",
          "2021",
          "2024.1",
          "2023.1",
          "2022.1",
          "2021.1",
          "2024.2",
          "2023.2",
          "2022.2",
          "2021.2"
         ],
         "xaxis": "x",
         "y": [
          774313,
          775002,
          775110,
          777622,
          378655,
          379239,
          379567,
          380859,
          395658,
          395763,
          395543,
          396763
         ],
         "yaxis": "y"
        },
        {
         "hovertemplate": "province=18 Granada<br>variable=%{x}<br>value=%{y}<extra></extra>",
         "legendgroup": "18 Granada",
         "line": {
          "color": "#19d3f3",
          "dash": "solid"
         },
         "marker": {
          "symbol": "circle"
         },
         "mode": "lines",
         "name": "18 Granada",
         "orientation": "v",
         "showlegend": true,
         "type": "scatter",
         "x": [
          "2024",
          "2023",
          "2022",
          "2021",
          "2024.1",
          "2023.1",
          "2022.1",
          "2021.1",
          "2024.2",
          "2023.2",
          "2022.2",
          "2021.2"
         ],
         "xaxis": "x",
         "y": [
          939741,
          934072,
          926019,
          925046,
          462515,
          460537,
          456834,
          456393,
          477226,
          473535,
          469185,
          468653
         ],
         "yaxis": "y"
        },
        {
         "hovertemplate": "province=21 Huelva<br>variable=%{x}<br>value=%{y}<extra></extra>",
         "legendgroup": "21 Huelva",
         "line": {
          "color": "#FF6692",
          "dash": "solid"
         },
         "marker": {
          "symbol": "circle"
         },
         "mode": "lines",
         "name": "21 Huelva",
         "orientation": "v",
         "showlegend": true,
         "type": "scatter",
         "x": [
          "2024",
          "2023",
          "2022",
          "2021",
          "2024.1",
          "2023.1",
          "2022.1",
          "2021.1",
          "2024.2",
          "2023.2",
          "2022.2",
          "2021.2"
         ],
         "xaxis": "x",
         "y": [
          535734,
          534084,
          531094,
          527254,
          265662,
          265017,
          263398,
          261186,
          270072,
          269067,
          267696,
          266068
         ],
         "yaxis": "y"
        },
        {
         "hovertemplate": "province=23 Jaén<br>variable=%{x}<br>value=%{y}<extra></extra>",
         "legendgroup": "23 Jaén",
         "line": {
          "color": "#B6E880",
          "dash": "solid"
         },
         "marker": {
          "symbol": "circle"
         },
         "mode": "lines",
         "name": "23 Jaén",
         "orientation": "v",
         "showlegend": true,
         "type": "scatter",
         "x": [
          "2024",
          "2023",
          "2022",
          "2021",
          "2024.1",
          "2023.1",
          "2022.1",
          "2021.1",
          "2024.2",
          "2023.2",
          "2022.2",
          "2021.2"
         ],
         "xaxis": "x",
         "y": [
          619055,
          620637,
          624191,
          627568,
          306472,
          307398,
          309349,
          310930,
          312583,
          313239,
          314842,
          316638
         ],
         "yaxis": "y"
        },
        {
         "hovertemplate": "province=29 Málaga<br>variable=%{x}<br>value=%{y}<extra></extra>",
         "legendgroup": "29 Málaga",
         "line": {
          "color": "#FF97FF",
          "dash": "solid"
         },
         "marker": {
          "symbol": "circle"
         },
         "mode": "lines",
         "name": "29 Málaga",
         "orientation": "v",
         "showlegend": true,
         "type": "scatter",
         "x": [
          "2024",
          "2023",
          "2022",
          "2021",
          "2024.1",
          "2023.1",
          "2022.1",
          "2021.1",
          "2024.2",
          "2023.2",
          "2022.2",
          "2021.2"
         ],
         "xaxis": "x",
         "y": [
          1774701,
          1752728,
          1715109,
          1696955,
          867140,
          857246,
          840038,
          831211,
          907561,
          895482,
          875071,
          865744
         ],
         "yaxis": "y"
        },
        {
         "hovertemplate": "province=41 Sevilla<br>variable=%{x}<br>value=%{y}<extra></extra>",
         "legendgroup": "41 Sevilla",
         "line": {
          "color": "#FECB52",
          "dash": "solid"
         },
         "marker": {
          "symbol": "circle"
         },
         "mode": "lines",
         "name": "41 Sevilla",
         "orientation": "v",
         "showlegend": true,
         "type": "scatter",
         "x": [
          "2024",
          "2023",
          "2022",
          "2021",
          "2024.1",
          "2023.1",
          "2022.1",
          "2021.1",
          "2024.2",
          "2023.2",
          "2022.2",
          "2021.2"
         ],
         "xaxis": "x",
         "y": [
          1968624,
          1959394,
          1949558,
          1950056,
          960265,
          956407,
          952462,
          952623,
          1008359,
          1002987,
          997096,
          997433
         ],
         "yaxis": "y"
        },
        {
         "hovertemplate": "province=02 Aragón<br>variable=%{x}<br>value=%{y}<extra></extra>",
         "legendgroup": "02 Aragón",
         "line": {
          "color": "#636efa",
          "dash": "solid"
         },
         "marker": {
          "symbol": "circle"
         },
         "mode": "lines",
         "name": "02 Aragón",
         "orientation": "v",
         "showlegend": true,
         "type": "scatter",
         "x": [
          "2024",
          "2023",
          "2022",
          "2021",
          "2024.1",
          "2023.1",
          "2022.1",
          "2021.1",
          "2024.2",
          "2023.2",
          "2022.2",
          "2021.2"
         ],
         "xaxis": "x",
         "y": [
          1351591,
          1341289,
          1328215,
          1331938,
          668275,
          662674,
          656811,
          658263,
          683316,
          678615,
          671404,
          673675
         ],
         "yaxis": "y"
        },
        {
         "hovertemplate": "province=22 Huesca<br>variable=%{x}<br>value=%{y}<extra></extra>",
         "legendgroup": "22 Huesca",
         "line": {
          "color": "#EF553B",
          "dash": "solid"
         },
         "marker": {
          "symbol": "circle"
         },
         "mode": "lines",
         "name": "22 Huesca",
         "orientation": "v",
         "showlegend": true,
         "type": "scatter",
         "x": [
          "2024",
          "2023",
          "2022",
          "2021",
          "2024.1",
          "2023.1",
          "2022.1",
          "2021.1",
          "2024.2",
          "2023.2",
          "2022.2",
          "2021.2"
         ],
         "xaxis": "x",
         "y": [
          228519,
          226878,
          225199,
          223995,
          115992,
          114938,
          114288,
          113456,
          112527,
          111940,
          110911,
          110539
         ],
         "yaxis": "y"
        },
        {
         "hovertemplate": "province=44 Teruel<br>variable=%{x}<br>value=%{y}<extra></extra>",
         "legendgroup": "44 Teruel",
         "line": {
          "color": "#00cc96",
          "dash": "solid"
         },
         "marker": {
          "symbol": "circle"
         },
         "mode": "lines",
         "name": "44 Teruel",
         "orientation": "v",
         "showlegend": true,
         "type": "scatter",
         "x": [
          "2024",
          "2023",
          "2022",
          "2021",
          "2024.1",
          "2023.1",
          "2022.1",
          "2021.1",
          "2024.2",
          "2023.2",
          "2022.2",
          "2021.2"
         ],
         "xaxis": "x",
         "y": [
          135309,
          135046,
          134132,
          134259,
          68621,
          68416,
          68120,
          68143,
          66688,
          66630,
          66012,
          66116
         ],
         "yaxis": "y"
        },
        {
         "hovertemplate": "province=50 Zaragoza<br>variable=%{x}<br>value=%{y}<extra></extra>",
         "legendgroup": "50 Zaragoza",
         "line": {
          "color": "#ab63fa",
          "dash": "solid"
         },
         "marker": {
          "symbol": "circle"
         },
         "mode": "lines",
         "name": "50 Zaragoza",
         "orientation": "v",
         "showlegend": true,
         "type": "scatter",
         "x": [
          "2024",
          "2023",
          "2022",
          "2021",
          "2024.1",
          "2023.1",
          "2022.1",
          "2021.1",
          "2024.2",
          "2023.2",
          "2022.2",
          "2021.2"
         ],
         "xaxis": "x",
         "y": [
          987763,
          979365,
          968884,
          973684,
          483662,
          479320,
          474403,
          476664,
          504101,
          500045,
          494481,
          497020
         ],
         "yaxis": "y"
        },
        {
         "hovertemplate": "province=03 Asturias, Principado de<br>variable=%{x}<br>value=%{y}<extra></extra>",
         "legendgroup": "03 Asturias, Principado de",
         "line": {
          "color": "#FFA15A",
          "dash": "solid"
         },
         "marker": {
          "symbol": "circle"
         },
         "mode": "lines",
         "name": "03 Asturias, Principado de",
         "orientation": "v",
         "showlegend": true,
         "type": "scatter",
         "x": [
          "2024",
          "2023",
          "2022",
          "2021",
          "2024.1",
          "2023.1",
          "2022.1",
          "2021.1",
          "2024.2",
          "2023.2",
          "2022.2",
          "2021.2"
         ],
         "xaxis": "x",
         "y": [
          1009599,
          1006060,
          1004960,
          1012117,
          481478,
          479739,
          479658,
          483186,
          528121,
          526321,
          525302,
          528931
         ],
         "yaxis": "y"
        },
        {
         "hovertemplate": "province=33 Asturias<br>variable=%{x}<br>value=%{y}<extra></extra>",
         "legendgroup": "33 Asturias",
         "line": {
          "color": "#19d3f3",
          "dash": "solid"
         },
         "marker": {
          "symbol": "circle"
         },
         "mode": "lines",
         "name": "33 Asturias",
         "orientation": "v",
         "showlegend": true,
         "type": "scatter",
         "x": [
          "2024",
          "2023",
          "2022",
          "2021",
          "2024.1",
          "2023.1",
          "2022.1",
          "2021.1",
          "2024.2",
          "2023.2",
          "2022.2",
          "2021.2"
         ],
         "xaxis": "x",
         "y": [
          1009599,
          1006060,
          1004960,
          1012117,
          481478,
          479739,
          479658,
          483186,
          528121,
          526321,
          525302,
          528931
         ],
         "yaxis": "y"
        },
        {
         "hovertemplate": "province=04 Balears, Illes<br>variable=%{x}<br>value=%{y}<extra></extra>",
         "legendgroup": "04 Balears, Illes",
         "line": {
          "color": "#FF6692",
          "dash": "solid"
         },
         "marker": {
          "symbol": "circle"
         },
         "mode": "lines",
         "name": "04 Balears, Illes",
         "orientation": "v",
         "showlegend": true,
         "type": "scatter",
         "x": [
          "2024",
          "2023",
          "2022",
          "2021",
          "2024.1",
          "2023.1",
          "2022.1",
          "2021.1",
          "2024.2",
          "2023.2",
          "2022.2",
          "2021.2"
         ],
         "xaxis": "x",
         "y": [
          1231768,
          1209906,
          1187043,
          1183415,
          613910,
          602649,
          592100,
          590990,
          617858,
          607257,
          594943,
          592425
         ],
         "yaxis": "y"
        },
        {
         "hovertemplate": "province=07 Balears, Illes<br>variable=%{x}<br>value=%{y}<extra></extra>",
         "legendgroup": "07 Balears, Illes",
         "line": {
          "color": "#B6E880",
          "dash": "solid"
         },
         "marker": {
          "symbol": "circle"
         },
         "mode": "lines",
         "name": "07 Balears, Illes",
         "orientation": "v",
         "showlegend": true,
         "type": "scatter",
         "x": [
          "2024",
          "2023",
          "2022",
          "2021",
          "2024.1",
          "2023.1",
          "2022.1",
          "2021.1",
          "2024.2",
          "2023.2",
          "2022.2",
          "2021.2"
         ],
         "xaxis": "x",
         "y": [
          1231768,
          1209906,
          1187043,
          1183415,
          613910,
          602649,
          592100,
          590990,
          617858,
          607257,
          594943,
          592425
         ],
         "yaxis": "y"
        },
        {
         "hovertemplate": "province=05 Canarias<br>variable=%{x}<br>value=%{y}<extra></extra>",
         "legendgroup": "05 Canarias",
         "line": {
          "color": "#FF97FF",
          "dash": "solid"
         },
         "marker": {
          "symbol": "circle"
         },
         "mode": "lines",
         "name": "05 Canarias",
         "orientation": "v",
         "showlegend": true,
         "type": "scatter",
         "x": [
          "2024",
          "2023",
          "2022",
          "2021",
          "2024.1",
          "2023.1",
          "2022.1",
          "2021.1",
          "2024.2",
          "2023.2",
          "2022.2",
          "2021.2"
         ],
         "xaxis": "x",
         "y": [
          2238754,
          2213016,
          2185607,
          2178924,
          1105037,
          1092723,
          1080244,
          1077860,
          1133717,
          1120293,
          1105363,
          1101064
         ],
         "yaxis": "y"
        },
        {
         "hovertemplate": "province=35 Palmas, Las<br>variable=%{x}<br>value=%{y}<extra></extra>",
         "legendgroup": "35 Palmas, Las",
         "line": {
          "color": "#FECB52",
          "dash": "solid"
         },
         "marker": {
          "symbol": "circle"
         },
         "mode": "lines",
         "name": "35 Palmas, Las",
         "orientation": "v",
         "showlegend": true,
         "type": "scatter",
         "x": [
          "2024",
          "2023",
          "2022",
          "2021",
          "2024.1",
          "2023.1",
          "2022.1",
          "2021.1",
          "2024.2",
          "2023.2",
          "2022.2",
          "2021.2"
         ],
         "xaxis": "x",
         "y": [
          1159890,
          1145843,
          1133733,
          1131359,
          576064,
          569470,
          563763,
          563160,
          583826,
          576373,
          569970,
          568199
         ],
         "yaxis": "y"
        },
        {
         "hovertemplate": "province=38 Santa Cruz de Tenerife<br>variable=%{x}<br>value=%{y}<extra></extra>",
         "legendgroup": "38 Santa Cruz de Tenerife",
         "line": {
          "color": "#636efa",
          "dash": "solid"
         },
         "marker": {
          "symbol": "circle"
         },
         "mode": "lines",
         "name": "38 Santa Cruz de Tenerife",
         "orientation": "v",
         "showlegend": true,
         "type": "scatter",
         "x": [
          "2024",
          "2023",
          "2022",
          "2021",
          "2024.1",
          "2023.1",
          "2022.1",
          "2021.1",
          "2024.2",
          "2023.2",
          "2022.2",
          "2021.2"
         ],
         "xaxis": "x",
         "y": [
          1078864,
          1067173,
          1051874,
          1047565,
          528973,
          523253,
          516481,
          514700,
          549891,
          543920,
          535393,
          532865
         ],
         "yaxis": "y"
        },
        {
         "hovertemplate": "province=06 Cantabria<br>variable=%{x}<br>value=%{y}<extra></extra>",
         "legendgroup": "06 Cantabria",
         "line": {
          "color": "#EF553B",
          "dash": "solid"
         },
         "marker": {
          "symbol": "circle"
         },
         "mode": "lines",
         "name": "06 Cantabria",
         "orientation": "v",
         "showlegend": true,
         "type": "scatter",
         "x": [
          "2024",
          "2023",
          "2022",
          "2021",
          "2024.1",
          "2023.1",
          "2022.1",
          "2021.1",
          "2024.2",
          "2023.2",
          "2022.2",
          "2021.2"
         ],
         "xaxis": "x",
         "y": [
          590851,
          588387,
          585450,
          584708,
          286322,
          285133,
          284061,
          283854,
          304529,
          303254,
          301389,
          300854
         ],
         "yaxis": "y"
        },
        {
         "hovertemplate": "province=39 Cantabria<br>variable=%{x}<br>value=%{y}<extra></extra>",
         "legendgroup": "39 Cantabria",
         "line": {
          "color": "#00cc96",
          "dash": "solid"
         },
         "marker": {
          "symbol": "circle"
         },
         "mode": "lines",
         "name": "39 Cantabria",
         "orientation": "v",
         "showlegend": true,
         "type": "scatter",
         "x": [
          "2024",
          "2023",
          "2022",
          "2021",
          "2024.1",
          "2023.1",
          "2022.1",
          "2021.1",
          "2024.2",
          "2023.2",
          "2022.2",
          "2021.2"
         ],
         "xaxis": "x",
         "y": [
          590851,
          588387,
          585450,
          584708,
          286322,
          285133,
          284061,
          283854,
          304529,
          303254,
          301389,
          300854
         ],
         "yaxis": "y"
        },
        {
         "hovertemplate": "province=07 Castilla y León<br>variable=%{x}<br>value=%{y}<extra></extra>",
         "legendgroup": "07 Castilla y León",
         "line": {
          "color": "#ab63fa",
          "dash": "solid"
         },
         "marker": {
          "symbol": "circle"
         },
         "mode": "lines",
         "name": "07 Castilla y León",
         "orientation": "v",
         "showlegend": true,
         "type": "scatter",
         "x": [
          "2024",
          "2023",
          "2022",
          "2021",
          "2024.1",
          "2023.1",
          "2022.1",
          "2021.1",
          "2024.2",
          "2023.2",
          "2022.2",
          "2021.2"
         ],
         "xaxis": "x",
         "y": [
          2391682,
          2383703,
          2375583,
          2385223,
          1177504,
          1173585,
          1170227,
          1174957,
          1214178,
          1210118,
          1205356,
          1210266
         ],
         "yaxis": "y"
        },
        {
         "hovertemplate": "province=05 Ávila<br>variable=%{x}<br>value=%{y}<extra></extra>",
         "legendgroup": "05 Ávila",
         "line": {
          "color": "#FFA15A",
          "dash": "solid"
         },
         "marker": {
          "symbol": "circle"
         },
         "mode": "lines",
         "name": "05 Ávila",
         "orientation": "v",
         "showlegend": true,
         "type": "scatter",
         "x": [
          "2024",
          "2023",
          "2022",
          "2021",
          "2024.1",
          "2023.1",
          "2022.1",
          "2021.1",
          "2024.2",
          "2023.2",
          "2022.2",
          "2021.2"
         ],
         "xaxis": "x",
         "y": [
          160463,
          159764,
          159102,
          158898,
          80595,
          80310,
          80060,
          79884,
          79868,
          79454,
          79042,
          79014
         ],
         "yaxis": "y"
        },
        {
         "hovertemplate": "province=09 Burgos<br>variable=%{x}<br>value=%{y}<extra></extra>",
         "legendgroup": "09 Burgos",
         "line": {
          "color": "#19d3f3",
          "dash": "solid"
         },
         "marker": {
          "symbol": "circle"
         },
         "mode": "lines",
         "name": "09 Burgos",
         "orientation": "v",
         "showlegend": true,
         "type": "scatter",
         "x": [
          "2024",
          "2023",
          "2022",
          "2021",
          "2024.1",
          "2023.1",
          "2022.1",
          "2021.1",
          "2024.2",
          "2023.2",
          "2022.2",
          "2021.2"
         ],
         "xaxis": "x",
         "y": [
          359740,
          357370,
          354846,
          356042,
          179824,
          178592,
          177509,
          178040,
          179916,
          178778,
          177337,
          178002
         ],
         "yaxis": "y"
        },
        {
         "hovertemplate": "province=24 León<br>variable=%{x}<br>value=%{y}<extra></extra>",
         "legendgroup": "24 León",
         "line": {
          "color": "#FF6692",
          "dash": "solid"
         },
         "marker": {
          "symbol": "circle"
         },
         "mode": "lines",
         "name": "24 León",
         "orientation": "v",
         "showlegend": true,
         "type": "scatter",
         "x": [
          "2024",
          "2023",
          "2022",
          "2021",
          "2024.1",
          "2023.1",
          "2022.1",
          "2021.1",
          "2024.2",
          "2023.2",
          "2022.2",
          "2021.2"
         ],
         "xaxis": "x",
         "y": [
          447802,
          448573,
          449270,
          452435,
          217825,
          218038,
          218430,
          220034,
          229977,
          230535,
          230840,
          232401
         ],
         "yaxis": "y"
        },
        {
         "hovertemplate": "province=34 Palencia<br>variable=%{x}<br>value=%{y}<extra></extra>",
         "legendgroup": "34 Palencia",
         "line": {
          "color": "#B6E880",
          "dash": "solid"
         },
         "marker": {
          "symbol": "circle"
         },
         "mode": "lines",
         "name": "34 Palencia",
         "orientation": "v",
         "showlegend": true,
         "type": "scatter",
         "x": [
          "2024",
          "2023",
          "2022",
          "2021",
          "2024.1",
          "2023.1",
          "2022.1",
          "2021.1",
          "2024.2",
          "2023.2",
          "2022.2",
          "2021.2"
         ],
         "xaxis": "x",
         "y": [
          158063,
          157787,
          157993,
          159146,
          78343,
          78125,
          78316,
          78883,
          79720,
          79662,
          79677,
          80263
         ],
         "yaxis": "y"
        },
        {
         "hovertemplate": "province=37 Salamanca<br>variable=%{x}<br>value=%{y}<extra></extra>",
         "legendgroup": "37 Salamanca",
         "line": {
          "color": "#FF97FF",
          "dash": "solid"
         },
         "marker": {
          "symbol": "circle"
         },
         "mode": "lines",
         "name": "37 Salamanca",
         "orientation": "v",
         "showlegend": true,
         "type": "scatter",
         "x": [
          "2024",
          "2023",
          "2022",
          "2021",
          "2024.1",
          "2023.1",
          "2022.1",
          "2021.1",
          "2024.2",
          "2023.2",
          "2022.2",
          "2021.2"
         ],
         "xaxis": "x",
         "y": [
          327552,
          327089,
          326285,
          327735,
          158694,
          158779,
          158487,
          159202,
          168858,
          168310,
          167798,
          168533
         ],
         "yaxis": "y"
        },
        {
         "hovertemplate": "province=40 Segovia<br>variable=%{x}<br>value=%{y}<extra></extra>",
         "legendgroup": "40 Segovia",
         "line": {
          "color": "#FECB52",
          "dash": "solid"
         },
         "marker": {
          "symbol": "circle"
         },
         "mode": "lines",
         "name": "40 Segovia",
         "orientation": "v",
         "showlegend": true,
         "type": "scatter",
         "x": [
          "2024",
          "2023",
          "2022",
          "2021",
          "2024.1",
          "2023.1",
          "2022.1",
          "2021.1",
          "2024.2",
          "2023.2",
          "2022.2",
          "2021.2"
         ],
         "xaxis": "x",
         "y": [
          156620,
          155332,
          153731,
          153626,
          78509,
          77867,
          77203,
          77152,
          78111,
          77465,
          76528,
          76474
         ],
         "yaxis": "y"
        },
        {
         "hovertemplate": "province=42 Soria<br>variable=%{x}<br>value=%{y}<extra></extra>",
         "legendgroup": "42 Soria",
         "line": {
          "color": "#636efa",
          "dash": "solid"
         },
         "marker": {
          "symbol": "circle"
         },
         "mode": "lines",
         "name": "42 Soria",
         "orientation": "v",
         "showlegend": true,
         "type": "scatter",
         "x": [
          "2024",
          "2023",
          "2022",
          "2021",
          "2024.1",
          "2023.1",
          "2022.1",
          "2021.1",
          "2024.2",
          "2023.2",
          "2022.2",
          "2021.2"
         ],
         "xaxis": "x",
         "y": [
          90073,
          89528,
          88330,
          88796,
          45733,
          45396,
          44754,
          44939,
          44340,
          44132,
          43576,
          43857
         ],
         "yaxis": "y"
        },
        {
         "hovertemplate": "province=47 Valladolid<br>variable=%{x}<br>value=%{y}<extra></extra>",
         "legendgroup": "47 Valladolid",
         "line": {
          "color": "#EF553B",
          "dash": "solid"
         },
         "marker": {
          "symbol": "circle"
         },
         "mode": "lines",
         "name": "47 Valladolid",
         "orientation": "v",
         "showlegend": true,
         "type": "scatter",
         "x": [
          "2024",
          "2023",
          "2022",
          "2021",
          "2024.1",
          "2023.1",
          "2022.1",
          "2021.1",
          "2024.2",
          "2023.2",
          "2022.2",
          "2021.2"
         ],
         "xaxis": "x",
         "y": [
          525116,
          521333,
          518158,
          519380,
          255534,
          253708,
          252298,
          252999,
          269582,
          267625,
          265860,
          266381
         ],
         "yaxis": "y"
        },
        {
         "hovertemplate": "province=49 Zamora<br>variable=%{x}<br>value=%{y}<extra></extra>",
         "legendgroup": "49 Zamora",
         "line": {
          "color": "#00cc96",
          "dash": "solid"
         },
         "marker": {
          "symbol": "circle"
         },
         "mode": "lines",
         "name": "49 Zamora",
         "orientation": "v",
         "showlegend": true,
         "type": "scatter",
         "x": [
          "2024",
          "2023",
          "2022",
          "2021",
          "2024.1",
          "2023.1",
          "2022.1",
          "2021.1",
          "2024.2",
          "2023.2",
          "2022.2",
          "2021.2"
         ],
         "xaxis": "x",
         "y": [
          166253,
          166927,
          167868,
          169165,
          82447,
          82770,
          83170,
          83824,
          83806,
          84157,
          84698,
          85341
         ],
         "yaxis": "y"
        },
        {
         "hovertemplate": "province=08 Castilla - La Mancha<br>variable=%{x}<br>value=%{y}<extra></extra>",
         "legendgroup": "08 Castilla - La Mancha",
         "line": {
          "color": "#ab63fa",
          "dash": "solid"
         },
         "marker": {
          "symbol": "circle"
         },
         "mode": "lines",
         "name": "08 Castilla - La Mancha",
         "orientation": "v",
         "showlegend": true,
         "type": "scatter",
         "x": [
          "2024",
          "2023",
          "2022",
          "2021",
          "2024.1",
          "2023.1",
          "2022.1",
          "2021.1",
          "2024.2",
          "2023.2",
          "2022.2",
          "2021.2"
         ],
         "xaxis": "x",
         "y": [
          2104433,
          2084086,
          2058278,
          2052505,
          1055223,
          1045115,
          1031732,
          1028696,
          1049210,
          1038971,
          1026546,
          1023809
         ],
         "yaxis": "y"
        },
        {
         "hovertemplate": "province=02 Albacete<br>variable=%{x}<br>value=%{y}<extra></extra>",
         "legendgroup": "02 Albacete",
         "line": {
          "color": "#FFA15A",
          "dash": "solid"
         },
         "marker": {
          "symbol": "circle"
         },
         "mode": "lines",
         "name": "02 Albacete",
         "orientation": "v",
         "showlegend": true,
         "type": "scatter",
         "x": [
          "2024",
          "2023",
          "2022",
          "2021",
          "2024.1",
          "2023.1",
          "2022.1",
          "2021.1",
          "2024.2",
          "2023.2",
          "2022.2",
          "2021.2"
         ],
         "xaxis": "x",
         "y": [
          389070,
          387529,
          385967,
          386726,
          194761,
          194012,
          193236,
          193487,
          194309,
          193517,
          192731,
          193239
         ],
         "yaxis": "y"
        },
        {
         "hovertemplate": "province=13 Ciudad Real<br>variable=%{x}<br>value=%{y}<extra></extra>",
         "legendgroup": "13 Ciudad Real",
         "line": {
          "color": "#19d3f3",
          "dash": "solid"
         },
         "marker": {
          "symbol": "circle"
         },
         "mode": "lines",
         "name": "13 Ciudad Real",
         "orientation": "v",
         "showlegend": true,
         "type": "scatter",
         "x": [
          "2024",
          "2023",
          "2022",
          "2021",
          "2024.1",
          "2023.1",
          "2022.1",
          "2021.1",
          "2024.2",
          "2023.2",
          "2022.2",
          "2021.2"
         ],
         "xaxis": "x",
         "y": [
          492948,
          491927,
          490950,
          492900,
          244437,
          243873,
          243274,
          244112,
          248511,
          248054,
          247676,
          248788
         ],
         "yaxis": "y"
        },
        {
         "hovertemplate": "province=16 Cuenca<br>variable=%{x}<br>value=%{y}<extra></extra>",
         "legendgroup": "16 Cuenca",
         "line": {
          "color": "#FF6692",
          "dash": "solid"
         },
         "marker": {
          "symbol": "circle"
         },
         "mode": "lines",
         "name": "16 Cuenca",
         "orientation": "v",
         "showlegend": true,
         "type": "scatter",
         "x": [
          "2024",
          "2023",
          "2022",
          "2021",
          "2024.1",
          "2023.1",
          "2022.1",
          "2021.1",
          "2024.2",
          "2023.2",
          "2022.2",
          "2021.2"
         ],
         "xaxis": "x",
         "y": [
          199025,
          198436,
          196640,
          196510,
          100365,
          99934,
          98835,
          98748,
          98660,
          98502,
          97805,
          97762
         ],
         "yaxis": "y"
        },
        {
         "hovertemplate": "province=19 Guadalajara<br>variable=%{x}<br>value=%{y}<extra></extra>",
         "legendgroup": "19 Guadalajara",
         "line": {
          "color": "#B6E880",
          "dash": "solid"
         },
         "marker": {
          "symbol": "circle"
         },
         "mode": "lines",
         "name": "19 Guadalajara",
         "orientation": "v",
         "showlegend": true,
         "type": "scatter",
         "x": [
          "2024",
          "2023",
          "2022",
          "2021",
          "2024.1",
          "2023.1",
          "2022.1",
          "2021.1",
          "2024.2",
          "2023.2",
          "2022.2",
          "2021.2"
         ],
         "xaxis": "x",
         "y": [
          280225,
          275082,
          268412,
          265969,
          142037,
          139416,
          136128,
          134874,
          138188,
          135666,
          132284,
          131095
         ],
         "yaxis": "y"
        },
        {
         "hovertemplate": "province=45 Toledo<br>variable=%{x}<br>value=%{y}<extra></extra>",
         "legendgroup": "45 Toledo",
         "line": {
          "color": "#FF97FF",
          "dash": "solid"
         },
         "marker": {
          "symbol": "circle"
         },
         "mode": "lines",
         "name": "45 Toledo",
         "orientation": "v",
         "showlegend": true,
         "type": "scatter",
         "x": [
          "2024",
          "2023",
          "2022",
          "2021",
          "2024.1",
          "2023.1",
          "2022.1",
          "2021.1",
          "2024.2",
          "2023.2",
          "2022.2",
          "2021.2"
         ],
         "xaxis": "x",
         "y": [
          743165,
          731112,
          716309,
          710400,
          373623,
          367880,
          360259,
          357475,
          369542,
          363232,
          356050,
          352925
         ],
         "yaxis": "y"
        },
        {
         "hovertemplate": "province=09 Cataluña<br>variable=%{x}<br>value=%{y}<extra></extra>",
         "legendgroup": "09 Cataluña",
         "line": {
          "color": "#FECB52",
          "dash": "solid"
         },
         "marker": {
          "symbol": "circle"
         },
         "mode": "lines",
         "name": "09 Cataluña",
         "orientation": "v",
         "showlegend": true,
         "type": "scatter",
         "x": [
          "2024",
          "2023",
          "2022",
          "2021",
          "2024.1",
          "2023.1",
          "2022.1",
          "2021.1",
          "2024.2",
          "2023.2",
          "2022.2",
          "2021.2"
         ],
         "xaxis": "x",
         "y": [
          8012231,
          7901963,
          7761823,
          7749896,
          3943698,
          3887223,
          3820173,
          3814823,
          4068533,
          4014740,
          3941650,
          3935073
         ],
         "yaxis": "y"
        },
        {
         "hovertemplate": "province=08 Barcelona<br>variable=%{x}<br>value=%{y}<extra></extra>",
         "legendgroup": "08 Barcelona",
         "line": {
          "color": "#636efa",
          "dash": "solid"
         },
         "marker": {
          "symbol": "circle"
         },
         "mode": "lines",
         "name": "08 Barcelona",
         "orientation": "v",
         "showlegend": true,
         "type": "scatter",
         "x": [
          "2024",
          "2023",
          "2022",
          "2021",
          "2024.1",
          "2023.1",
          "2022.1",
          "2021.1",
          "2024.2",
          "2023.2",
          "2022.2",
          "2021.2"
         ],
         "xaxis": "x",
         "y": [
          5877672,
          5797356,
          5699602,
          5702262,
          2870721,
          2830260,
          2783698,
          2785890,
          3006951,
          2967096,
          2915904,
          2916372
         ],
         "yaxis": "y"
        },
        {
         "hovertemplate": "province=17 Girona<br>variable=%{x}<br>value=%{y}<extra></extra>",
         "legendgroup": "17 Girona",
         "line": {
          "color": "#EF553B",
          "dash": "solid"
         },
         "marker": {
          "symbol": "circle"
         },
         "mode": "lines",
         "name": "17 Girona",
         "orientation": "v",
         "showlegend": true,
         "type": "scatter",
         "x": [
          "2024",
          "2023",
          "2022",
          "2021",
          "2024.1",
          "2023.1",
          "2022.1",
          "2021.1",
          "2024.2",
          "2023.2",
          "2022.2",
          "2021.2"
         ],
         "xaxis": "x",
         "y": [
          821108,
          808672,
          790432,
          784941,
          411347,
          404692,
          396258,
          393369,
          409761,
          403980,
          394174,
          391572
         ],
         "yaxis": "y"
        },
        {
         "hovertemplate": "province=25 Lleida<br>variable=%{x}<br>value=%{y}<extra></extra>",
         "legendgroup": "25 Lleida",
         "line": {
          "color": "#00cc96",
          "dash": "solid"
         },
         "marker": {
          "symbol": "circle"
         },
         "mode": "lines",
         "name": "25 Lleida",
         "orientation": "v",
         "showlegend": true,
         "type": "scatter",
         "x": [
          "2024",
          "2023",
          "2022",
          "2021",
          "2024.1",
          "2023.1",
          "2022.1",
          "2021.1",
          "2024.2",
          "2023.2",
          "2022.2",
          "2021.2"
         ],
         "xaxis": "x",
         "y": [
          451707,
          447343,
          440883,
          439258,
          231053,
          228557,
          225105,
          224011,
          220654,
          218786,
          215778,
          215247
         ],
         "yaxis": "y"
        },
        {
         "hovertemplate": "province=43 Tarragona<br>variable=%{x}<br>value=%{y}<extra></extra>",
         "legendgroup": "43 Tarragona",
         "line": {
          "color": "#ab63fa",
          "dash": "solid"
         },
         "marker": {
          "symbol": "circle"
         },
         "mode": "lines",
         "name": "43 Tarragona",
         "orientation": "v",
         "showlegend": true,
         "type": "scatter",
         "x": [
          "2024",
          "2023",
          "2022",
          "2021",
          "2024.1",
          "2023.1",
          "2022.1",
          "2021.1",
          "2024.2",
          "2023.2",
          "2022.2",
          "2021.2"
         ],
         "xaxis": "x",
         "y": [
          861744,
          848592,
          830906,
          823435,
          430577,
          423714,
          415112,
          411553,
          431167,
          424878,
          415794,
          411882
         ],
         "yaxis": "y"
        },
        {
         "hovertemplate": "province=10 Comunitat Valenciana<br>variable=%{x}<br>value=%{y}<extra></extra>",
         "legendgroup": "10 Comunitat Valenciana",
         "line": {
          "color": "#FFA15A",
          "dash": "solid"
         },
         "marker": {
          "symbol": "circle"
         },
         "mode": "lines",
         "name": "10 Comunitat Valenciana",
         "orientation": "v",
         "showlegend": true,
         "type": "scatter",
         "x": [
          "2024",
          "2023",
          "2022",
          "2021",
          "2024.1",
          "2023.1",
          "2022.1",
          "2021.1",
          "2024.2",
          "2023.2",
          "2022.2",
          "2021.2"
         ],
         "xaxis": "x",
         "y": [
          5319285,
          5216195,
          5108116,
          5067911,
          2615852,
          2565926,
          2516724,
          2497752,
          2703433,
          2650269,
          2591392,
          2570159
         ],
         "yaxis": "y"
        },
        {
         "hovertemplate": "province=03 Alicante/Alacant<br>variable=%{x}<br>value=%{y}<extra></extra>",
         "legendgroup": "03 Alicante/Alacant",
         "line": {
          "color": "#19d3f3",
          "dash": "solid"
         },
         "marker": {
          "symbol": "circle"
         },
         "mode": "lines",
         "name": "03 Alicante/Alacant",
         "orientation": "v",
         "showlegend": true,
         "type": "scatter",
         "x": [
          "2024",
          "2023",
          "2022",
          "2021",
          "2024.1",
          "2023.1",
          "2022.1",
          "2021.1",
          "2024.2",
          "2023.2",
          "2022.2",
          "2021.2"
         ],
         "xaxis": "x",
         "y": [
          1993289,
          1955268,
          1907494,
          1887036,
          984792,
          966477,
          945114,
          935234,
          1008497,
          988791,
          962380,
          951802
         ],
         "yaxis": "y"
        },
        {
         "hovertemplate": "province=12 Castellón/Castelló<br>variable=%{x}<br>value=%{y}<extra></extra>",
         "legendgroup": "12 Castellón/Castelló",
         "line": {
          "color": "#FF6692",
          "dash": "solid"
         },
         "marker": {
          "symbol": "circle"
         },
         "mode": "lines",
         "name": "12 Castellón/Castelló",
         "orientation": "v",
         "showlegend": true,
         "type": "scatter",
         "x": [
          "2024",
          "2023",
          "2022",
          "2021",
          "2024.1",
          "2023.1",
          "2022.1",
          "2021.1",
          "2024.2",
          "2023.2",
          "2022.2",
          "2021.2"
         ],
         "xaxis": "x",
         "y": [
          615188,
          604086,
          591300,
          587632,
          305611,
          299780,
          293616,
          291857,
          309577,
          304306,
          297684,
          295775
         ],
         "yaxis": "y"
        },
        {
         "hovertemplate": "province=46 Valencia/València<br>variable=%{x}<br>value=%{y}<extra></extra>",
         "legendgroup": "46 Valencia/València",
         "line": {
          "color": "#B6E880",
          "dash": "solid"
         },
         "marker": {
          "symbol": "circle"
         },
         "mode": "lines",
         "name": "46 Valencia/València",
         "orientation": "v",
         "showlegend": true,
         "type": "scatter",
         "x": [
          "2024",
          "2023",
          "2022",
          "2021",
          "2024.1",
          "2023.1",
          "2022.1",
          "2021.1",
          "2024.2",
          "2023.2",
          "2022.2",
          "2021.2"
         ],
         "xaxis": "x",
         "y": [
          2710808,
          2656841,
          2609322,
          2593243,
          1325449,
          1299669,
          1277994,
          1270661,
          1385359,
          1357172,
          1331328,
          1322582
         ],
         "yaxis": "y"
        },
        {
         "hovertemplate": "province=11 Extremadura<br>variable=%{x}<br>value=%{y}<extra></extra>",
         "legendgroup": "11 Extremadura",
         "line": {
          "color": "#FF97FF",
          "dash": "solid"
         },
         "marker": {
          "symbol": "circle"
         },
         "mode": "lines",
         "name": "11 Extremadura",
         "orientation": "v",
         "showlegend": true,
         "type": "scatter",
         "x": [
          "2024",
          "2023",
          "2022",
          "2021",
          "2024.1",
          "2023.1",
          "2022.1",
          "2021.1",
          "2024.2",
          "2023.2",
          "2022.2",
          "2021.2"
         ],
         "xaxis": "x",
         "y": [
          1054681,
          1054306,
          1056808,
          1061636,
          521677,
          521626,
          523255,
          525843,
          533004,
          532680,
          533553,
          535793
         ],
         "yaxis": "y"
        },
        {
         "hovertemplate": "province=06 Badajoz<br>variable=%{x}<br>value=%{y}<extra></extra>",
         "legendgroup": "06 Badajoz",
         "line": {
          "color": "#FECB52",
          "dash": "solid"
         },
         "marker": {
          "symbol": "circle"
         },
         "mode": "lines",
         "name": "06 Badajoz",
         "orientation": "v",
         "showlegend": true,
         "type": "scatter",
         "x": [
          "2024",
          "2023",
          "2022",
          "2021",
          "2024.1",
          "2023.1",
          "2022.1",
          "2021.1",
          "2024.2",
          "2023.2",
          "2022.2",
          "2021.2"
         ],
         "xaxis": "x",
         "y": [
          666029,
          666049,
          667851,
          671092,
          328932,
          329118,
          330178,
          331856,
          337097,
          336931,
          337673,
          339236
         ],
         "yaxis": "y"
        },
        {
         "hovertemplate": "province=10 Cáceres<br>variable=%{x}<br>value=%{y}<extra></extra>",
         "legendgroup": "10 Cáceres",
         "line": {
          "color": "#636efa",
          "dash": "solid"
         },
         "marker": {
          "symbol": "circle"
         },
         "mode": "lines",
         "name": "10 Cáceres",
         "orientation": "v",
         "showlegend": true,
         "type": "scatter",
         "x": [
          "2024",
          "2023",
          "2022",
          "2021",
          "2024.1",
          "2023.1",
          "2022.1",
          "2021.1",
          "2024.2",
          "2023.2",
          "2022.2",
          "2021.2"
         ],
         "xaxis": "x",
         "y": [
          388652,
          388257,
          388957,
          390544,
          192745,
          192508,
          193077,
          193987,
          195907,
          195749,
          195880,
          196557
         ],
         "yaxis": "y"
        },
        {
         "hovertemplate": "province=12 Galicia<br>variable=%{x}<br>value=%{y}<extra></extra>",
         "legendgroup": "12 Galicia",
         "line": {
          "color": "#EF553B",
          "dash": "solid"
         },
         "marker": {
          "symbol": "circle"
         },
         "mode": "lines",
         "name": "12 Galicia",
         "orientation": "v",
         "showlegend": true,
         "type": "scatter",
         "x": [
          "2024",
          "2023",
          "2022",
          "2021",
          "2024.1",
          "2023.1",
          "2022.1",
          "2021.1",
          "2024.2",
          "2023.2",
          "2022.2",
          "2021.2"
         ],
         "xaxis": "x",
         "y": [
          2705833,
          2699424,
          2692825,
          2698177,
          1301744,
          1299064,
          1296582,
          1299491,
          1404089,
          1400360,
          1396243,
          1398686
         ],
         "yaxis": "y"
        },
        {
         "hovertemplate": "province=15 Coruña, A<br>variable=%{x}<br>value=%{y}<extra></extra>",
         "legendgroup": "15 Coruña, A",
         "line": {
          "color": "#00cc96",
          "dash": "solid"
         },
         "marker": {
          "symbol": "circle"
         },
         "mode": "lines",
         "name": "15 Coruña, A",
         "orientation": "v",
         "showlegend": true,
         "type": "scatter",
         "x": [
          "2024",
          "2023",
          "2022",
          "2021",
          "2024.1",
          "2023.1",
          "2022.1",
          "2021.1",
          "2024.2",
          "2023.2",
          "2022.2",
          "2021.2"
         ],
         "xaxis": "x",
         "y": [
          1128449,
          1123884,
          1119164,
          1120501,
          540524,
          538523,
          536697,
          537361,
          587925,
          585361,
          582467,
          583140
         ],
         "yaxis": "y"
        },
        {
         "hovertemplate": "province=27 Lugo<br>variable=%{x}<br>value=%{y}<extra></extra>",
         "legendgroup": "27 Lugo",
         "line": {
          "color": "#ab63fa",
          "dash": "solid"
         },
         "marker": {
          "symbol": "circle"
         },
         "mode": "lines",
         "name": "27 Lugo",
         "orientation": "v",
         "showlegend": true,
         "type": "scatter",
         "x": [
          "2024",
          "2023",
          "2022",
          "2021",
          "2024.1",
          "2023.1",
          "2022.1",
          "2021.1",
          "2024.2",
          "2023.2",
          "2022.2",
          "2021.2"
         ],
         "xaxis": "x",
         "y": [
          325048,
          324267,
          324240,
          326068,
          157715,
          157332,
          157157,
          158003,
          167333,
          166935,
          167083,
          168065
         ],
         "yaxis": "y"
        },
        {
         "hovertemplate": "province=32 Ourense<br>variable=%{x}<br>value=%{y}<extra></extra>",
         "legendgroup": "32 Ourense",
         "line": {
          "color": "#FFA15A",
          "dash": "solid"
         },
         "marker": {
          "symbol": "circle"
         },
         "mode": "lines",
         "name": "32 Ourense",
         "orientation": "v",
         "showlegend": true,
         "type": "scatter",
         "x": [
          "2024",
          "2023",
          "2022",
          "2021",
          "2024.1",
          "2023.1",
          "2022.1",
          "2021.1",
          "2024.2",
          "2023.2",
          "2022.2",
          "2021.2"
         ],
         "xaxis": "x",
         "y": [
          304467,
          304563,
          304223,
          305297,
          146181,
          146271,
          146112,
          146630,
          158286,
          158292,
          158111,
          158667
         ],
         "yaxis": "y"
        },
        {
         "hovertemplate": "province=36 Pontevedra<br>variable=%{x}<br>value=%{y}<extra></extra>",
         "legendgroup": "36 Pontevedra",
         "line": {
          "color": "#19d3f3",
          "dash": "solid"
         },
         "marker": {
          "symbol": "circle"
         },
         "mode": "lines",
         "name": "36 Pontevedra",
         "orientation": "v",
         "showlegend": true,
         "type": "scatter",
         "x": [
          "2024",
          "2023",
          "2022",
          "2021",
          "2024.1",
          "2023.1",
          "2022.1",
          "2021.1",
          "2024.2",
          "2023.2",
          "2022.2",
          "2021.2"
         ],
         "xaxis": "x",
         "y": [
          947869,
          946710,
          945198,
          946311,
          457324,
          456938,
          456616,
          457497,
          490545,
          489772,
          488582,
          488814
         ],
         "yaxis": "y"
        },
        {
         "hovertemplate": "province=13 Madrid, Comunidad de<br>variable=%{x}<br>value=%{y}<extra></extra>",
         "legendgroup": "13 Madrid, Comunidad de",
         "line": {
          "color": "#FF6692",
          "dash": "solid"
         },
         "marker": {
          "symbol": "circle"
         },
         "mode": "lines",
         "name": "13 Madrid, Comunidad de",
         "orientation": "v",
         "showlegend": true,
         "type": "scatter",
         "x": [
          "2024",
          "2023",
          "2022",
          "2021",
          "2024.1",
          "2023.1",
          "2022.1",
          "2021.1",
          "2024.2",
          "2023.2",
          "2022.2",
          "2021.2"
         ],
         "xaxis": "x",
         "y": [
          7009268,
          6871903,
          6743254,
          6726640,
          3356163,
          3288197,
          3229127,
          3221401,
          3653105,
          3583706,
          3514127,
          3505239
         ],
         "yaxis": "y"
        },
        {
         "hovertemplate": "province=28 Madrid<br>variable=%{x}<br>value=%{y}<extra></extra>",
         "legendgroup": "28 Madrid",
         "line": {
          "color": "#B6E880",
          "dash": "solid"
         },
         "marker": {
          "symbol": "circle"
         },
         "mode": "lines",
         "name": "28 Madrid",
         "orientation": "v",
         "showlegend": true,
         "type": "scatter",
         "x": [
          "2024",
          "2023",
          "2022",
          "2021",
          "2024.1",
          "2023.1",
          "2022.1",
          "2021.1",
          "2024.2",
          "2023.2",
          "2022.2",
          "2021.2"
         ],
         "xaxis": "x",
         "y": [
          7009268,
          6871903,
          6743254,
          6726640,
          3356163,
          3288197,
          3229127,
          3221401,
          3653105,
          3583706,
          3514127,
          3505239
         ],
         "yaxis": "y"
        },
        {
         "hovertemplate": "province=14 Murcia, Región de<br>variable=%{x}<br>value=%{y}<extra></extra>",
         "legendgroup": "14 Murcia, Región de",
         "line": {
          "color": "#FF97FF",
          "dash": "solid"
         },
         "marker": {
          "symbol": "circle"
         },
         "mode": "lines",
         "name": "14 Murcia, Región de",
         "orientation": "v",
         "showlegend": true,
         "type": "scatter",
         "x": [
          "2024",
          "2023",
          "2022",
          "2021",
          "2024.1",
          "2023.1",
          "2022.1",
          "2021.1",
          "2024.2",
          "2023.2",
          "2022.2",
          "2021.2"
         ],
         "xaxis": "x",
         "y": [
          1568492,
          1551692,
          1529658,
          1518279,
          786038,
          777819,
          767117,
          760831,
          782454,
          773873,
          762541,
          757448
         ],
         "yaxis": "y"
        },
        {
         "hovertemplate": "province=30 Murcia<br>variable=%{x}<br>value=%{y}<extra></extra>",
         "legendgroup": "30 Murcia",
         "line": {
          "color": "#FECB52",
          "dash": "solid"
         },
         "marker": {
          "symbol": "circle"
         },
         "mode": "lines",
         "name": "30 Murcia",
         "orientation": "v",
         "showlegend": true,
         "type": "scatter",
         "x": [
          "2024",
          "2023",
          "2022",
          "2021",
          "2024.1",
          "2023.1",
          "2022.1",
          "2021.1",
          "2024.2",
          "2023.2",
          "2022.2",
          "2021.2"
         ],
         "xaxis": "x",
         "y": [
          1568492,
          1551692,
          1529658,
          1518279,
          786038,
          777819,
          767117,
          760831,
          782454,
          773873,
          762541,
          757448
         ],
         "yaxis": "y"
        },
        {
         "hovertemplate": "province=15 Navarra, Comunidad Foral de<br>variable=%{x}<br>value=%{y}<extra></extra>",
         "legendgroup": "15 Navarra, Comunidad Foral de",
         "line": {
          "color": "#636efa",
          "dash": "solid"
         },
         "marker": {
          "symbol": "circle"
         },
         "mode": "lines",
         "name": "15 Navarra, Comunidad Foral de",
         "orientation": "v",
         "showlegend": true,
         "type": "scatter",
         "x": [
          "2024",
          "2023",
          "2022",
          "2021",
          "2024.1",
          "2023.1",
          "2022.1",
          "2021.1",
          "2024.2",
          "2023.2",
          "2022.2",
          "2021.2"
         ],
         "xaxis": "x",
         "y": [
          678333,
          672155,
          664514,
          662032,
          335919,
          332575,
          329064,
          327940,
          342414,
          339580,
          335450,
          334092
         ],
         "yaxis": "y"
        },
        {
         "hovertemplate": "province=31 Navarra<br>variable=%{x}<br>value=%{y}<extra></extra>",
         "legendgroup": "31 Navarra",
         "line": {
          "color": "#EF553B",
          "dash": "solid"
         },
         "marker": {
          "symbol": "circle"
         },
         "mode": "lines",
         "name": "31 Navarra",
         "orientation": "v",
         "showlegend": true,
         "type": "scatter",
         "x": [
          "2024",
          "2023",
          "2022",
          "2021",
          "2024.1",
          "2023.1",
          "2022.1",
          "2021.1",
          "2024.2",
          "2023.2",
          "2022.2",
          "2021.2"
         ],
         "xaxis": "x",
         "y": [
          678333,
          672155,
          664514,
          662032,
          335919,
          332575,
          329064,
          327940,
          342414,
          339580,
          335450,
          334092
         ],
         "yaxis": "y"
        },
        {
         "hovertemplate": "province=16 País Vasco<br>variable=%{x}<br>value=%{y}<extra></extra>",
         "legendgroup": "16 País Vasco",
         "line": {
          "color": "#00cc96",
          "dash": "solid"
         },
         "marker": {
          "symbol": "circle"
         },
         "mode": "lines",
         "name": "16 País Vasco",
         "orientation": "v",
         "showlegend": true,
         "type": "scatter",
         "x": [
          "2024",
          "2023",
          "2022",
          "2021",
          "2024.1",
          "2023.1",
          "2022.1",
          "2021.1",
          "2024.2",
          "2023.2",
          "2022.2",
          "2021.2"
         ],
         "xaxis": "x",
         "y": [
          2227684,
          2216302,
          2205826,
          2212628,
          1083488,
          1077504,
          1072491,
          1075982,
          1144196,
          1138798,
          1133335,
          1136646
         ],
         "yaxis": "y"
        },
        {
         "hovertemplate": "province=01 Araba/Álava<br>variable=%{x}<br>value=%{y}<extra></extra>",
         "legendgroup": "01 Araba/Álava",
         "line": {
          "color": "#ab63fa",
          "dash": "solid"
         },
         "marker": {
          "symbol": "circle"
         },
         "mode": "lines",
         "name": "01 Araba/Álava",
         "orientation": "v",
         "showlegend": true,
         "type": "scatter",
         "x": [
          "2024",
          "2023",
          "2022",
          "2021",
          "2024.1",
          "2023.1",
          "2022.1",
          "2021.1",
          "2024.2",
          "2023.2",
          "2022.2",
          "2021.2"
         ],
         "xaxis": "x",
         "y": [
          338594,
          336308,
          333908,
          333485,
          166667,
          165600,
          164410,
          164299,
          171927,
          170708,
          169498,
          169186
         ],
         "yaxis": "y"
        },
        {
         "hovertemplate": "province=20 Gipuzkoa<br>variable=%{x}<br>value=%{y}<extra></extra>",
         "legendgroup": "20 Gipuzkoa",
         "line": {
          "color": "#FFA15A",
          "dash": "solid"
         },
         "marker": {
          "symbol": "circle"
         },
         "mode": "lines",
         "name": "20 Gipuzkoa",
         "orientation": "v",
         "showlegend": true,
         "type": "scatter",
         "x": [
          "2024",
          "2023",
          "2022",
          "2021",
          "2024.1",
          "2023.1",
          "2022.1",
          "2021.1",
          "2024.2",
          "2023.2",
          "2022.2",
          "2021.2"
         ],
         "xaxis": "x",
         "y": [
          729722,
          726712,
          723241,
          725508,
          356298,
          354758,
          353333,
          354493,
          373424,
          371954,
          369908,
          371015
         ],
         "yaxis": "y"
        },
        {
         "hovertemplate": "province=48 Bizkaia<br>variable=%{x}<br>value=%{y}<extra></extra>",
         "legendgroup": "48 Bizkaia",
         "line": {
          "color": "#19d3f3",
          "dash": "solid"
         },
         "marker": {
          "symbol": "circle"
         },
         "mode": "lines",
         "name": "48 Bizkaia",
         "orientation": "v",
         "showlegend": true,
         "type": "scatter",
         "x": [
          "2024",
          "2023",
          "2022",
          "2021",
          "2024.1",
          "2023.1",
          "2022.1",
          "2021.1",
          "2024.2",
          "2023.2",
          "2022.2",
          "2021.2"
         ],
         "xaxis": "x",
         "y": [
          1159368,
          1153282,
          1148677,
          1153635,
          560523,
          557146,
          554748,
          557190,
          598845,
          596136,
          593929,
          596445
         ],
         "yaxis": "y"
        },
        {
         "hovertemplate": "province=17 Rioja, La<br>variable=%{x}<br>value=%{y}<extra></extra>",
         "legendgroup": "17 Rioja, La",
         "line": {
          "color": "#FF6692",
          "dash": "solid"
         },
         "marker": {
          "symbol": "circle"
         },
         "mode": "lines",
         "name": "17 Rioja, La",
         "orientation": "v",
         "showlegend": true,
         "type": "scatter",
         "x": [
          "2024",
          "2023",
          "2022",
          "2021",
          "2024.1",
          "2023.1",
          "2022.1",
          "2021.1",
          "2024.2",
          "2023.2",
          "2022.2",
          "2021.2"
         ],
         "xaxis": "x",
         "y": [
          324184,
          322282,
          319617,
          319444,
          159979,
          159151,
          157875,
          157763,
          164205,
          163131,
          161742,
          161681
         ],
         "yaxis": "y"
        },
        {
         "hovertemplate": "province=26 Rioja, La<br>variable=%{x}<br>value=%{y}<extra></extra>",
         "legendgroup": "26 Rioja, La",
         "line": {
          "color": "#B6E880",
          "dash": "solid"
         },
         "marker": {
          "symbol": "circle"
         },
         "mode": "lines",
         "name": "26 Rioja, La",
         "orientation": "v",
         "showlegend": true,
         "type": "scatter",
         "x": [
          "2024",
          "2023",
          "2022",
          "2021",
          "2024.1",
          "2023.1",
          "2022.1",
          "2021.1",
          "2024.2",
          "2023.2",
          "2022.2",
          "2021.2"
         ],
         "xaxis": "x",
         "y": [
          324184,
          322282,
          319617,
          319444,
          159979,
          159151,
          157875,
          157763,
          164205,
          163131,
          161742,
          161681
         ],
         "yaxis": "y"
        },
        {
         "hovertemplate": "province=18 Ceuta<br>variable=%{x}<br>value=%{y}<extra></extra>",
         "legendgroup": "18 Ceuta",
         "line": {
          "color": "#FF97FF",
          "dash": "solid"
         },
         "marker": {
          "symbol": "circle"
         },
         "mode": "lines",
         "name": "18 Ceuta",
         "orientation": "v",
         "showlegend": true,
         "type": "scatter",
         "x": [
          "2024",
          "2023",
          "2022",
          "2021",
          "2024.1",
          "2023.1",
          "2022.1",
          "2021.1",
          "2024.2",
          "2023.2",
          "2022.2",
          "2021.2"
         ],
         "xaxis": "x",
         "y": [
          83179,
          83052,
          83051,
          84071,
          41957,
          41897,
          41908,
          42536,
          41222,
          41155,
          41143,
          41535
         ],
         "yaxis": "y"
        },
        {
         "hovertemplate": "province=51 Ceuta<br>variable=%{x}<br>value=%{y}<extra></extra>",
         "legendgroup": "51 Ceuta",
         "line": {
          "color": "#FECB52",
          "dash": "solid"
         },
         "marker": {
          "symbol": "circle"
         },
         "mode": "lines",
         "name": "51 Ceuta",
         "orientation": "v",
         "showlegend": true,
         "type": "scatter",
         "x": [
          "2024",
          "2023",
          "2022",
          "2021",
          "2024.1",
          "2023.1",
          "2022.1",
          "2021.1",
          "2024.2",
          "2023.2",
          "2022.2",
          "2021.2"
         ],
         "xaxis": "x",
         "y": [
          83179,
          83052,
          83051,
          84071,
          41957,
          41897,
          41908,
          42536,
          41222,
          41155,
          41143,
          41535
         ],
         "yaxis": "y"
        },
        {
         "hovertemplate": "province=19 Melilla<br>variable=%{x}<br>value=%{y}<extra></extra>",
         "legendgroup": "19 Melilla",
         "line": {
          "color": "#636efa",
          "dash": "solid"
         },
         "marker": {
          "symbol": "circle"
         },
         "mode": "lines",
         "name": "19 Melilla",
         "orientation": "v",
         "showlegend": true,
         "type": "scatter",
         "x": [
          "2024",
          "2023",
          "2022",
          "2021",
          "2024.1",
          "2023.1",
          "2022.1",
          "2021.1",
          "2024.2",
          "2023.2",
          "2022.2",
          "2021.2"
         ],
         "xaxis": "x",
         "y": [
          85985,
          85493,
          84932,
          86450,
          43252,
          43162,
          42978,
          43823,
          42733,
          42331,
          41954,
          42627
         ],
         "yaxis": "y"
        },
        {
         "hovertemplate": "province=52 Melilla<br>variable=%{x}<br>value=%{y}<extra></extra>",
         "legendgroup": "52 Melilla",
         "line": {
          "color": "#EF553B",
          "dash": "solid"
         },
         "marker": {
          "symbol": "circle"
         },
         "mode": "lines",
         "name": "52 Melilla",
         "orientation": "v",
         "showlegend": true,
         "type": "scatter",
         "x": [
          "2024",
          "2023",
          "2022",
          "2021",
          "2024.1",
          "2023.1",
          "2022.1",
          "2021.1",
          "2024.2",
          "2023.2",
          "2022.2",
          "2021.2"
         ],
         "xaxis": "x",
         "y": [
          85985,
          85493,
          84932,
          86450,
          43252,
          43162,
          42978,
          43823,
          42733,
          42331,
          41954,
          42627
         ],
         "yaxis": "y"
        }
       ],
       "layout": {
        "legend": {
         "title": {
          "text": "province"
         },
         "tracegroupgap": 0
        },
        "margin": {
         "t": 60
        },
        "template": {
         "data": {
          "bar": [
           {
            "error_x": {
             "color": "#2a3f5f"
            },
            "error_y": {
             "color": "#2a3f5f"
            },
            "marker": {
             "line": {
              "color": "#E5ECF6",
              "width": 0.5
             },
             "pattern": {
              "fillmode": "overlay",
              "size": 10,
              "solidity": 0.2
             }
            },
            "type": "bar"
           }
          ],
          "barpolar": [
           {
            "marker": {
             "line": {
              "color": "#E5ECF6",
              "width": 0.5
             },
             "pattern": {
              "fillmode": "overlay",
              "size": 10,
              "solidity": 0.2
             }
            },
            "type": "barpolar"
           }
          ],
          "carpet": [
           {
            "aaxis": {
             "endlinecolor": "#2a3f5f",
             "gridcolor": "white",
             "linecolor": "white",
             "minorgridcolor": "white",
             "startlinecolor": "#2a3f5f"
            },
            "baxis": {
             "endlinecolor": "#2a3f5f",
             "gridcolor": "white",
             "linecolor": "white",
             "minorgridcolor": "white",
             "startlinecolor": "#2a3f5f"
            },
            "type": "carpet"
           }
          ],
          "choropleth": [
           {
            "colorbar": {
             "outlinewidth": 0,
             "ticks": ""
            },
            "type": "choropleth"
           }
          ],
          "contour": [
           {
            "colorbar": {
             "outlinewidth": 0,
             "ticks": ""
            },
            "colorscale": [
             [
              0,
              "#0d0887"
             ],
             [
              0.1111111111111111,
              "#46039f"
             ],
             [
              0.2222222222222222,
              "#7201a8"
             ],
             [
              0.3333333333333333,
              "#9c179e"
             ],
             [
              0.4444444444444444,
              "#bd3786"
             ],
             [
              0.5555555555555556,
              "#d8576b"
             ],
             [
              0.6666666666666666,
              "#ed7953"
             ],
             [
              0.7777777777777778,
              "#fb9f3a"
             ],
             [
              0.8888888888888888,
              "#fdca26"
             ],
             [
              1,
              "#f0f921"
             ]
            ],
            "type": "contour"
           }
          ],
          "contourcarpet": [
           {
            "colorbar": {
             "outlinewidth": 0,
             "ticks": ""
            },
            "type": "contourcarpet"
           }
          ],
          "heatmap": [
           {
            "colorbar": {
             "outlinewidth": 0,
             "ticks": ""
            },
            "colorscale": [
             [
              0,
              "#0d0887"
             ],
             [
              0.1111111111111111,
              "#46039f"
             ],
             [
              0.2222222222222222,
              "#7201a8"
             ],
             [
              0.3333333333333333,
              "#9c179e"
             ],
             [
              0.4444444444444444,
              "#bd3786"
             ],
             [
              0.5555555555555556,
              "#d8576b"
             ],
             [
              0.6666666666666666,
              "#ed7953"
             ],
             [
              0.7777777777777778,
              "#fb9f3a"
             ],
             [
              0.8888888888888888,
              "#fdca26"
             ],
             [
              1,
              "#f0f921"
             ]
            ],
            "type": "heatmap"
           }
          ],
          "heatmapgl": [
           {
            "colorbar": {
             "outlinewidth": 0,
             "ticks": ""
            },
            "colorscale": [
             [
              0,
              "#0d0887"
             ],
             [
              0.1111111111111111,
              "#46039f"
             ],
             [
              0.2222222222222222,
              "#7201a8"
             ],
             [
              0.3333333333333333,
              "#9c179e"
             ],
             [
              0.4444444444444444,
              "#bd3786"
             ],
             [
              0.5555555555555556,
              "#d8576b"
             ],
             [
              0.6666666666666666,
              "#ed7953"
             ],
             [
              0.7777777777777778,
              "#fb9f3a"
             ],
             [
              0.8888888888888888,
              "#fdca26"
             ],
             [
              1,
              "#f0f921"
             ]
            ],
            "type": "heatmapgl"
           }
          ],
          "histogram": [
           {
            "marker": {
             "pattern": {
              "fillmode": "overlay",
              "size": 10,
              "solidity": 0.2
             }
            },
            "type": "histogram"
           }
          ],
          "histogram2d": [
           {
            "colorbar": {
             "outlinewidth": 0,
             "ticks": ""
            },
            "colorscale": [
             [
              0,
              "#0d0887"
             ],
             [
              0.1111111111111111,
              "#46039f"
             ],
             [
              0.2222222222222222,
              "#7201a8"
             ],
             [
              0.3333333333333333,
              "#9c179e"
             ],
             [
              0.4444444444444444,
              "#bd3786"
             ],
             [
              0.5555555555555556,
              "#d8576b"
             ],
             [
              0.6666666666666666,
              "#ed7953"
             ],
             [
              0.7777777777777778,
              "#fb9f3a"
             ],
             [
              0.8888888888888888,
              "#fdca26"
             ],
             [
              1,
              "#f0f921"
             ]
            ],
            "type": "histogram2d"
           }
          ],
          "histogram2dcontour": [
           {
            "colorbar": {
             "outlinewidth": 0,
             "ticks": ""
            },
            "colorscale": [
             [
              0,
              "#0d0887"
             ],
             [
              0.1111111111111111,
              "#46039f"
             ],
             [
              0.2222222222222222,
              "#7201a8"
             ],
             [
              0.3333333333333333,
              "#9c179e"
             ],
             [
              0.4444444444444444,
              "#bd3786"
             ],
             [
              0.5555555555555556,
              "#d8576b"
             ],
             [
              0.6666666666666666,
              "#ed7953"
             ],
             [
              0.7777777777777778,
              "#fb9f3a"
             ],
             [
              0.8888888888888888,
              "#fdca26"
             ],
             [
              1,
              "#f0f921"
             ]
            ],
            "type": "histogram2dcontour"
           }
          ],
          "mesh3d": [
           {
            "colorbar": {
             "outlinewidth": 0,
             "ticks": ""
            },
            "type": "mesh3d"
           }
          ],
          "parcoords": [
           {
            "line": {
             "colorbar": {
              "outlinewidth": 0,
              "ticks": ""
             }
            },
            "type": "parcoords"
           }
          ],
          "pie": [
           {
            "automargin": true,
            "type": "pie"
           }
          ],
          "scatter": [
           {
            "fillpattern": {
             "fillmode": "overlay",
             "size": 10,
             "solidity": 0.2
            },
            "type": "scatter"
           }
          ],
          "scatter3d": [
           {
            "line": {
             "colorbar": {
              "outlinewidth": 0,
              "ticks": ""
             }
            },
            "marker": {
             "colorbar": {
              "outlinewidth": 0,
              "ticks": ""
             }
            },
            "type": "scatter3d"
           }
          ],
          "scattercarpet": [
           {
            "marker": {
             "colorbar": {
              "outlinewidth": 0,
              "ticks": ""
             }
            },
            "type": "scattercarpet"
           }
          ],
          "scattergeo": [
           {
            "marker": {
             "colorbar": {
              "outlinewidth": 0,
              "ticks": ""
             }
            },
            "type": "scattergeo"
           }
          ],
          "scattergl": [
           {
            "marker": {
             "colorbar": {
              "outlinewidth": 0,
              "ticks": ""
             }
            },
            "type": "scattergl"
           }
          ],
          "scattermapbox": [
           {
            "marker": {
             "colorbar": {
              "outlinewidth": 0,
              "ticks": ""
             }
            },
            "type": "scattermapbox"
           }
          ],
          "scatterpolar": [
           {
            "marker": {
             "colorbar": {
              "outlinewidth": 0,
              "ticks": ""
             }
            },
            "type": "scatterpolar"
           }
          ],
          "scatterpolargl": [
           {
            "marker": {
             "colorbar": {
              "outlinewidth": 0,
              "ticks": ""
             }
            },
            "type": "scatterpolargl"
           }
          ],
          "scatterternary": [
           {
            "marker": {
             "colorbar": {
              "outlinewidth": 0,
              "ticks": ""
             }
            },
            "type": "scatterternary"
           }
          ],
          "surface": [
           {
            "colorbar": {
             "outlinewidth": 0,
             "ticks": ""
            },
            "colorscale": [
             [
              0,
              "#0d0887"
             ],
             [
              0.1111111111111111,
              "#46039f"
             ],
             [
              0.2222222222222222,
              "#7201a8"
             ],
             [
              0.3333333333333333,
              "#9c179e"
             ],
             [
              0.4444444444444444,
              "#bd3786"
             ],
             [
              0.5555555555555556,
              "#d8576b"
             ],
             [
              0.6666666666666666,
              "#ed7953"
             ],
             [
              0.7777777777777778,
              "#fb9f3a"
             ],
             [
              0.8888888888888888,
              "#fdca26"
             ],
             [
              1,
              "#f0f921"
             ]
            ],
            "type": "surface"
           }
          ],
          "table": [
           {
            "cells": {
             "fill": {
              "color": "#EBF0F8"
             },
             "line": {
              "color": "white"
             }
            },
            "header": {
             "fill": {
              "color": "#C8D4E3"
             },
             "line": {
              "color": "white"
             }
            },
            "type": "table"
           }
          ]
         },
         "layout": {
          "annotationdefaults": {
           "arrowcolor": "#2a3f5f",
           "arrowhead": 0,
           "arrowwidth": 1
          },
          "autotypenumbers": "strict",
          "coloraxis": {
           "colorbar": {
            "outlinewidth": 0,
            "ticks": ""
           }
          },
          "colorscale": {
           "diverging": [
            [
             0,
             "#8e0152"
            ],
            [
             0.1,
             "#c51b7d"
            ],
            [
             0.2,
             "#de77ae"
            ],
            [
             0.3,
             "#f1b6da"
            ],
            [
             0.4,
             "#fde0ef"
            ],
            [
             0.5,
             "#f7f7f7"
            ],
            [
             0.6,
             "#e6f5d0"
            ],
            [
             0.7,
             "#b8e186"
            ],
            [
             0.8,
             "#7fbc41"
            ],
            [
             0.9,
             "#4d9221"
            ],
            [
             1,
             "#276419"
            ]
           ],
           "sequential": [
            [
             0,
             "#0d0887"
            ],
            [
             0.1111111111111111,
             "#46039f"
            ],
            [
             0.2222222222222222,
             "#7201a8"
            ],
            [
             0.3333333333333333,
             "#9c179e"
            ],
            [
             0.4444444444444444,
             "#bd3786"
            ],
            [
             0.5555555555555556,
             "#d8576b"
            ],
            [
             0.6666666666666666,
             "#ed7953"
            ],
            [
             0.7777777777777778,
             "#fb9f3a"
            ],
            [
             0.8888888888888888,
             "#fdca26"
            ],
            [
             1,
             "#f0f921"
            ]
           ],
           "sequentialminus": [
            [
             0,
             "#0d0887"
            ],
            [
             0.1111111111111111,
             "#46039f"
            ],
            [
             0.2222222222222222,
             "#7201a8"
            ],
            [
             0.3333333333333333,
             "#9c179e"
            ],
            [
             0.4444444444444444,
             "#bd3786"
            ],
            [
             0.5555555555555556,
             "#d8576b"
            ],
            [
             0.6666666666666666,
             "#ed7953"
            ],
            [
             0.7777777777777778,
             "#fb9f3a"
            ],
            [
             0.8888888888888888,
             "#fdca26"
            ],
            [
             1,
             "#f0f921"
            ]
           ]
          },
          "colorway": [
           "#636efa",
           "#EF553B",
           "#00cc96",
           "#ab63fa",
           "#FFA15A",
           "#19d3f3",
           "#FF6692",
           "#B6E880",
           "#FF97FF",
           "#FECB52"
          ],
          "font": {
           "color": "#2a3f5f"
          },
          "geo": {
           "bgcolor": "white",
           "lakecolor": "white",
           "landcolor": "#E5ECF6",
           "showlakes": true,
           "showland": true,
           "subunitcolor": "white"
          },
          "hoverlabel": {
           "align": "left"
          },
          "hovermode": "closest",
          "mapbox": {
           "style": "light"
          },
          "paper_bgcolor": "white",
          "plot_bgcolor": "#E5ECF6",
          "polar": {
           "angularaxis": {
            "gridcolor": "white",
            "linecolor": "white",
            "ticks": ""
           },
           "bgcolor": "#E5ECF6",
           "radialaxis": {
            "gridcolor": "white",
            "linecolor": "white",
            "ticks": ""
           }
          },
          "scene": {
           "xaxis": {
            "backgroundcolor": "#E5ECF6",
            "gridcolor": "white",
            "gridwidth": 2,
            "linecolor": "white",
            "showbackground": true,
            "ticks": "",
            "zerolinecolor": "white"
           },
           "yaxis": {
            "backgroundcolor": "#E5ECF6",
            "gridcolor": "white",
            "gridwidth": 2,
            "linecolor": "white",
            "showbackground": true,
            "ticks": "",
            "zerolinecolor": "white"
           },
           "zaxis": {
            "backgroundcolor": "#E5ECF6",
            "gridcolor": "white",
            "gridwidth": 2,
            "linecolor": "white",
            "showbackground": true,
            "ticks": "",
            "zerolinecolor": "white"
           }
          },
          "shapedefaults": {
           "line": {
            "color": "#2a3f5f"
           }
          },
          "ternary": {
           "aaxis": {
            "gridcolor": "white",
            "linecolor": "white",
            "ticks": ""
           },
           "baxis": {
            "gridcolor": "white",
            "linecolor": "white",
            "ticks": ""
           },
           "bgcolor": "#E5ECF6",
           "caxis": {
            "gridcolor": "white",
            "linecolor": "white",
            "ticks": ""
           }
          },
          "title": {
           "x": 0.05
          },
          "xaxis": {
           "automargin": true,
           "gridcolor": "white",
           "linecolor": "white",
           "ticks": "",
           "title": {
            "standoff": 15
           },
           "zerolinecolor": "white",
           "zerolinewidth": 2
          },
          "yaxis": {
           "automargin": true,
           "gridcolor": "white",
           "linecolor": "white",
           "ticks": "",
           "title": {
            "standoff": 15
           },
           "zerolinecolor": "white",
           "zerolinewidth": 2
          }
         }
        },
        "xaxis": {
         "anchor": "y",
         "domain": [
          0,
          1
         ],
         "title": {
          "text": "variable"
         }
        },
        "yaxis": {
         "anchor": "x",
         "domain": [
          0,
          1
         ],
         "title": {
          "text": "value"
         }
        }
       }
      }
     },
     "metadata": {},
     "output_type": "display_data"
    }
   ],
   "source": [
    "px.line(\n",
    "    data_frame = df,\n",
    "    x = 'variable',\n",
    "    y = 'value',\n",
    "    color = 'province'\n",
    ")"
   ]
  },
  {
   "cell_type": "code",
   "execution_count": 22,
   "metadata": {},
   "outputs": [
    {
     "data": {
      "text/html": [
       "<div>\n",
       "<style scoped>\n",
       "    .dataframe tbody tr th:only-of-type {\n",
       "        vertical-align: middle;\n",
       "    }\n",
       "\n",
       "    .dataframe tbody tr th {\n",
       "        vertical-align: top;\n",
       "    }\n",
       "\n",
       "    .dataframe thead th {\n",
       "        text-align: right;\n",
       "    }\n",
       "</style>\n",
       "<table border=\"1\" class=\"dataframe\">\n",
       "  <thead>\n",
       "    <tr style=\"text-align: right;\">\n",
       "      <th></th>\n",
       "      <th>province</th>\n",
       "      <th>variable</th>\n",
       "      <th>value</th>\n",
       "    </tr>\n",
       "  </thead>\n",
       "  <tbody>\n",
       "    <tr>\n",
       "      <th>0</th>\n",
       "      <td>Total Nacional</td>\n",
       "      <td>2024</td>\n",
       "      <td>48619695.0</td>\n",
       "    </tr>\n",
       "    <tr>\n",
       "      <th>1</th>\n",
       "      <td>01 Andalucía</td>\n",
       "      <td>2024</td>\n",
       "      <td>8631862.0</td>\n",
       "    </tr>\n",
       "    <tr>\n",
       "      <th>2</th>\n",
       "      <td>04 Almería</td>\n",
       "      <td>2024</td>\n",
       "      <td>760964.0</td>\n",
       "    </tr>\n",
       "    <tr>\n",
       "      <th>3</th>\n",
       "      <td>11 Cádiz</td>\n",
       "      <td>2024</td>\n",
       "      <td>1258730.0</td>\n",
       "    </tr>\n",
       "    <tr>\n",
       "      <th>4</th>\n",
       "      <td>14 Córdoba</td>\n",
       "      <td>2024</td>\n",
       "      <td>774313.0</td>\n",
       "    </tr>\n",
       "    <tr>\n",
       "      <th>...</th>\n",
       "      <td>...</td>\n",
       "      <td>...</td>\n",
       "      <td>...</td>\n",
       "    </tr>\n",
       "    <tr>\n",
       "      <th>859</th>\n",
       "      <td>26 Rioja, La</td>\n",
       "      <td>2021.2</td>\n",
       "      <td>161681.0</td>\n",
       "    </tr>\n",
       "    <tr>\n",
       "      <th>860</th>\n",
       "      <td>18 Ceuta</td>\n",
       "      <td>2021.2</td>\n",
       "      <td>41535.0</td>\n",
       "    </tr>\n",
       "    <tr>\n",
       "      <th>861</th>\n",
       "      <td>51 Ceuta</td>\n",
       "      <td>2021.2</td>\n",
       "      <td>41535.0</td>\n",
       "    </tr>\n",
       "    <tr>\n",
       "      <th>862</th>\n",
       "      <td>19 Melilla</td>\n",
       "      <td>2021.2</td>\n",
       "      <td>42627.0</td>\n",
       "    </tr>\n",
       "    <tr>\n",
       "      <th>863</th>\n",
       "      <td>52 Melilla</td>\n",
       "      <td>2021.2</td>\n",
       "      <td>42627.0</td>\n",
       "    </tr>\n",
       "  </tbody>\n",
       "</table>\n",
       "<p>864 rows × 3 columns</p>\n",
       "</div>"
      ],
      "text/plain": [
       "           province variable       value\n",
       "0    Total Nacional     2024  48619695.0\n",
       "1      01 Andalucía     2024   8631862.0\n",
       "2        04 Almería     2024    760964.0\n",
       "3          11 Cádiz     2024   1258730.0\n",
       "4        14 Córdoba     2024    774313.0\n",
       "..              ...      ...         ...\n",
       "859    26 Rioja, La   2021.2    161681.0\n",
       "860        18 Ceuta   2021.2     41535.0\n",
       "861        51 Ceuta   2021.2     41535.0\n",
       "862      19 Melilla   2021.2     42627.0\n",
       "863      52 Melilla   2021.2     42627.0\n",
       "\n",
       "[864 rows x 3 columns]"
      ]
     },
     "execution_count": 22,
     "metadata": {},
     "output_type": "execute_result"
    }
   ],
   "source": [
    "df"
   ]
  },
  {
   "cell_type": "code",
   "execution_count": 15,
   "metadata": {},
   "outputs": [
    {
     "data": {
      "text/html": [
       "<div>\n",
       "<style scoped>\n",
       "    .dataframe tbody tr th:only-of-type {\n",
       "        vertical-align: middle;\n",
       "    }\n",
       "\n",
       "    .dataframe tbody tr th {\n",
       "        vertical-align: top;\n",
       "    }\n",
       "\n",
       "    .dataframe thead th {\n",
       "        text-align: right;\n",
       "    }\n",
       "</style>\n",
       "<table border=\"1\" class=\"dataframe\">\n",
       "  <thead>\n",
       "    <tr style=\"text-align: right;\">\n",
       "      <th></th>\n",
       "      <th>2024</th>\n",
       "      <th>2023</th>\n",
       "      <th>2022</th>\n",
       "      <th>2021</th>\n",
       "      <th>2024.1</th>\n",
       "      <th>2023.1</th>\n",
       "      <th>2022.1</th>\n",
       "      <th>2021.1</th>\n",
       "      <th>2024.2</th>\n",
       "      <th>2023.2</th>\n",
       "      <th>2022.2</th>\n",
       "      <th>2021.2</th>\n",
       "    </tr>\n",
       "    <tr>\n",
       "      <th></th>\n",
       "      <th></th>\n",
       "      <th></th>\n",
       "      <th></th>\n",
       "      <th></th>\n",
       "      <th></th>\n",
       "      <th></th>\n",
       "      <th></th>\n",
       "      <th></th>\n",
       "      <th></th>\n",
       "      <th></th>\n",
       "      <th></th>\n",
       "      <th></th>\n",
       "    </tr>\n",
       "  </thead>\n",
       "  <tbody>\n",
       "    <tr>\n",
       "      <th>Total Nacional</th>\n",
       "      <td>48619695.0</td>\n",
       "      <td>48085361.0</td>\n",
       "      <td>47486727.0</td>\n",
       "      <td>47400798.0</td>\n",
       "      <td>23826871.0</td>\n",
       "      <td>23565593.0</td>\n",
       "      <td>23288747.0</td>\n",
       "      <td>23248611.0</td>\n",
       "      <td>24792824.0</td>\n",
       "      <td>24519768.0</td>\n",
       "      <td>24197980.0</td>\n",
       "      <td>24152187.0</td>\n",
       "    </tr>\n",
       "    <tr>\n",
       "      <th>01 Andalucía</th>\n",
       "      <td>8631862.0</td>\n",
       "      <td>8584147.0</td>\n",
       "      <td>8511167.0</td>\n",
       "      <td>8484804.0</td>\n",
       "      <td>4249355.0</td>\n",
       "      <td>4229831.0</td>\n",
       "      <td>4196620.0</td>\n",
       "      <td>4182620.0</td>\n",
       "      <td>4382507.0</td>\n",
       "      <td>4354316.0</td>\n",
       "      <td>4314547.0</td>\n",
       "      <td>4302184.0</td>\n",
       "    </tr>\n",
       "    <tr>\n",
       "      <th>04 Almería</th>\n",
       "      <td>760964.0</td>\n",
       "      <td>753364.0</td>\n",
       "      <td>739541.0</td>\n",
       "      <td>730430.0</td>\n",
       "      <td>389103.0</td>\n",
       "      <td>385696.0</td>\n",
       "      <td>378325.0</td>\n",
       "      <td>372823.0</td>\n",
       "      <td>371861.0</td>\n",
       "      <td>367668.0</td>\n",
       "      <td>361216.0</td>\n",
       "      <td>357607.0</td>\n",
       "    </tr>\n",
       "    <tr>\n",
       "      <th>11 Cádiz</th>\n",
       "      <td>1258730.0</td>\n",
       "      <td>1254866.0</td>\n",
       "      <td>1250545.0</td>\n",
       "      <td>1249873.0</td>\n",
       "      <td>619543.0</td>\n",
       "      <td>618291.0</td>\n",
       "      <td>616647.0</td>\n",
       "      <td>616595.0</td>\n",
       "      <td>639187.0</td>\n",
       "      <td>636575.0</td>\n",
       "      <td>633898.0</td>\n",
       "      <td>633278.0</td>\n",
       "    </tr>\n",
       "    <tr>\n",
       "      <th>14 Córdoba</th>\n",
       "      <td>774313.0</td>\n",
       "      <td>775002.0</td>\n",
       "      <td>775110.0</td>\n",
       "      <td>777622.0</td>\n",
       "      <td>378655.0</td>\n",
       "      <td>379239.0</td>\n",
       "      <td>379567.0</td>\n",
       "      <td>380859.0</td>\n",
       "      <td>395658.0</td>\n",
       "      <td>395763.0</td>\n",
       "      <td>395543.0</td>\n",
       "      <td>396763.0</td>\n",
       "    </tr>\n",
       "    <tr>\n",
       "      <th>...</th>\n",
       "      <td>...</td>\n",
       "      <td>...</td>\n",
       "      <td>...</td>\n",
       "      <td>...</td>\n",
       "      <td>...</td>\n",
       "      <td>...</td>\n",
       "      <td>...</td>\n",
       "      <td>...</td>\n",
       "      <td>...</td>\n",
       "      <td>...</td>\n",
       "      <td>...</td>\n",
       "      <td>...</td>\n",
       "    </tr>\n",
       "    <tr>\n",
       "      <th>26 Rioja, La</th>\n",
       "      <td>324184.0</td>\n",
       "      <td>322282.0</td>\n",
       "      <td>319617.0</td>\n",
       "      <td>319444.0</td>\n",
       "      <td>159979.0</td>\n",
       "      <td>159151.0</td>\n",
       "      <td>157875.0</td>\n",
       "      <td>157763.0</td>\n",
       "      <td>164205.0</td>\n",
       "      <td>163131.0</td>\n",
       "      <td>161742.0</td>\n",
       "      <td>161681.0</td>\n",
       "    </tr>\n",
       "    <tr>\n",
       "      <th>18 Ceuta</th>\n",
       "      <td>83179.0</td>\n",
       "      <td>83052.0</td>\n",
       "      <td>83051.0</td>\n",
       "      <td>84071.0</td>\n",
       "      <td>41957.0</td>\n",
       "      <td>41897.0</td>\n",
       "      <td>41908.0</td>\n",
       "      <td>42536.0</td>\n",
       "      <td>41222.0</td>\n",
       "      <td>41155.0</td>\n",
       "      <td>41143.0</td>\n",
       "      <td>41535.0</td>\n",
       "    </tr>\n",
       "    <tr>\n",
       "      <th>51 Ceuta</th>\n",
       "      <td>83179.0</td>\n",
       "      <td>83052.0</td>\n",
       "      <td>83051.0</td>\n",
       "      <td>84071.0</td>\n",
       "      <td>41957.0</td>\n",
       "      <td>41897.0</td>\n",
       "      <td>41908.0</td>\n",
       "      <td>42536.0</td>\n",
       "      <td>41222.0</td>\n",
       "      <td>41155.0</td>\n",
       "      <td>41143.0</td>\n",
       "      <td>41535.0</td>\n",
       "    </tr>\n",
       "    <tr>\n",
       "      <th>19 Melilla</th>\n",
       "      <td>85985.0</td>\n",
       "      <td>85493.0</td>\n",
       "      <td>84932.0</td>\n",
       "      <td>86450.0</td>\n",
       "      <td>43252.0</td>\n",
       "      <td>43162.0</td>\n",
       "      <td>42978.0</td>\n",
       "      <td>43823.0</td>\n",
       "      <td>42733.0</td>\n",
       "      <td>42331.0</td>\n",
       "      <td>41954.0</td>\n",
       "      <td>42627.0</td>\n",
       "    </tr>\n",
       "    <tr>\n",
       "      <th>52 Melilla</th>\n",
       "      <td>85985.0</td>\n",
       "      <td>85493.0</td>\n",
       "      <td>84932.0</td>\n",
       "      <td>86450.0</td>\n",
       "      <td>43252.0</td>\n",
       "      <td>43162.0</td>\n",
       "      <td>42978.0</td>\n",
       "      <td>43823.0</td>\n",
       "      <td>42733.0</td>\n",
       "      <td>42331.0</td>\n",
       "      <td>41954.0</td>\n",
       "      <td>42627.0</td>\n",
       "    </tr>\n",
       "  </tbody>\n",
       "</table>\n",
       "<p>72 rows × 12 columns</p>\n",
       "</div>"
      ],
      "text/plain": [
       "                      2024        2023        2022        2021      2024.1  \\\n",
       "                                                                             \n",
       "Total Nacional  48619695.0  48085361.0  47486727.0  47400798.0  23826871.0   \n",
       "01 Andalucía     8631862.0   8584147.0   8511167.0   8484804.0   4249355.0   \n",
       "04 Almería        760964.0    753364.0    739541.0    730430.0    389103.0   \n",
       "11 Cádiz         1258730.0   1254866.0   1250545.0   1249873.0    619543.0   \n",
       "14 Córdoba        774313.0    775002.0    775110.0    777622.0    378655.0   \n",
       "...                    ...         ...         ...         ...         ...   \n",
       "26 Rioja, La      324184.0    322282.0    319617.0    319444.0    159979.0   \n",
       "18 Ceuta           83179.0     83052.0     83051.0     84071.0     41957.0   \n",
       "51 Ceuta           83179.0     83052.0     83051.0     84071.0     41957.0   \n",
       "19 Melilla         85985.0     85493.0     84932.0     86450.0     43252.0   \n",
       "52 Melilla         85985.0     85493.0     84932.0     86450.0     43252.0   \n",
       "\n",
       "                    2023.1      2022.1      2021.1      2024.2      2023.2  \\\n",
       "                                                                             \n",
       "Total Nacional  23565593.0  23288747.0  23248611.0  24792824.0  24519768.0   \n",
       "01 Andalucía     4229831.0   4196620.0   4182620.0   4382507.0   4354316.0   \n",
       "04 Almería        385696.0    378325.0    372823.0    371861.0    367668.0   \n",
       "11 Cádiz          618291.0    616647.0    616595.0    639187.0    636575.0   \n",
       "14 Córdoba        379239.0    379567.0    380859.0    395658.0    395763.0   \n",
       "...                    ...         ...         ...         ...         ...   \n",
       "26 Rioja, La      159151.0    157875.0    157763.0    164205.0    163131.0   \n",
       "18 Ceuta           41897.0     41908.0     42536.0     41222.0     41155.0   \n",
       "51 Ceuta           41897.0     41908.0     42536.0     41222.0     41155.0   \n",
       "19 Melilla         43162.0     42978.0     43823.0     42733.0     42331.0   \n",
       "52 Melilla         43162.0     42978.0     43823.0     42733.0     42331.0   \n",
       "\n",
       "                    2022.2      2021.2  \n",
       "                                        \n",
       "Total Nacional  24197980.0  24152187.0  \n",
       "01 Andalucía     4314547.0   4302184.0  \n",
       "04 Almería        361216.0    357607.0  \n",
       "11 Cádiz          633898.0    633278.0  \n",
       "14 Córdoba        395543.0    396763.0  \n",
       "...                    ...         ...  \n",
       "26 Rioja, La      161742.0    161681.0  \n",
       "18 Ceuta           41143.0     41535.0  \n",
       "51 Ceuta           41143.0     41535.0  \n",
       "19 Melilla         41954.0     42627.0  \n",
       "52 Melilla         41954.0     42627.0  \n",
       "\n",
       "[72 rows x 12 columns]"
      ]
     },
     "execution_count": 15,
     "metadata": {},
     "output_type": "execute_result"
    }
   ],
   "source": [
    "df_bruto"
   ]
  },
  {
   "cell_type": "code",
   "execution_count": 3,
   "metadata": {},
   "outputs": [
    {
     "data": {
      "text/html": [
       "<div>\n",
       "<style scoped>\n",
       "    .dataframe tbody tr th:only-of-type {\n",
       "        vertical-align: middle;\n",
       "    }\n",
       "\n",
       "    .dataframe tbody tr th {\n",
       "        vertical-align: top;\n",
       "    }\n",
       "\n",
       "    .dataframe thead th {\n",
       "        text-align: right;\n",
       "    }\n",
       "</style>\n",
       "<table border=\"1\" class=\"dataframe\">\n",
       "  <thead>\n",
       "    <tr style=\"text-align: right;\">\n",
       "      <th></th>\n",
       "      <th>Censo anual de población 2021-2024</th>\n",
       "      <th>Unnamed: 1</th>\n",
       "      <th>Unnamed: 2</th>\n",
       "      <th>Unnamed: 3</th>\n",
       "      <th>Unnamed: 4</th>\n",
       "      <th>Unnamed: 5</th>\n",
       "      <th>Unnamed: 6</th>\n",
       "      <th>Unnamed: 7</th>\n",
       "      <th>Unnamed: 8</th>\n",
       "      <th>Unnamed: 9</th>\n",
       "      <th>Unnamed: 10</th>\n",
       "      <th>Unnamed: 11</th>\n",
       "      <th>Unnamed: 12</th>\n",
       "    </tr>\n",
       "  </thead>\n",
       "  <tbody>\n",
       "    <tr>\n",
       "      <th>0</th>\n",
       "      <td>Cifras de población</td>\n",
       "      <td>NaN</td>\n",
       "      <td>NaN</td>\n",
       "      <td>NaN</td>\n",
       "      <td>NaN</td>\n",
       "      <td>NaN</td>\n",
       "      <td>NaN</td>\n",
       "      <td>NaN</td>\n",
       "      <td>NaN</td>\n",
       "      <td>NaN</td>\n",
       "      <td>NaN</td>\n",
       "      <td>NaN</td>\n",
       "      <td>NaN</td>\n",
       "    </tr>\n",
       "    <tr>\n",
       "      <th>1</th>\n",
       "      <td>NaN</td>\n",
       "      <td>NaN</td>\n",
       "      <td>NaN</td>\n",
       "      <td>NaN</td>\n",
       "      <td>NaN</td>\n",
       "      <td>NaN</td>\n",
       "      <td>NaN</td>\n",
       "      <td>NaN</td>\n",
       "      <td>NaN</td>\n",
       "      <td>NaN</td>\n",
       "      <td>NaN</td>\n",
       "      <td>NaN</td>\n",
       "      <td>NaN</td>\n",
       "    </tr>\n",
       "    <tr>\n",
       "      <th>2</th>\n",
       "      <td>Población según comunidad autónoma y provincia...</td>\n",
       "      <td>NaN</td>\n",
       "      <td>NaN</td>\n",
       "      <td>NaN</td>\n",
       "      <td>NaN</td>\n",
       "      <td>NaN</td>\n",
       "      <td>NaN</td>\n",
       "      <td>NaN</td>\n",
       "      <td>NaN</td>\n",
       "      <td>NaN</td>\n",
       "      <td>NaN</td>\n",
       "      <td>NaN</td>\n",
       "      <td>NaN</td>\n",
       "    </tr>\n",
       "    <tr>\n",
       "      <th>3</th>\n",
       "      <td>Unidades: Personas</td>\n",
       "      <td>NaN</td>\n",
       "      <td>NaN</td>\n",
       "      <td>NaN</td>\n",
       "      <td>NaN</td>\n",
       "      <td>NaN</td>\n",
       "      <td>NaN</td>\n",
       "      <td>NaN</td>\n",
       "      <td>NaN</td>\n",
       "      <td>NaN</td>\n",
       "      <td>NaN</td>\n",
       "      <td>NaN</td>\n",
       "      <td>NaN</td>\n",
       "    </tr>\n",
       "    <tr>\n",
       "      <th>4</th>\n",
       "      <td>NaN</td>\n",
       "      <td>NaN</td>\n",
       "      <td>NaN</td>\n",
       "      <td>NaN</td>\n",
       "      <td>NaN</td>\n",
       "      <td>NaN</td>\n",
       "      <td>NaN</td>\n",
       "      <td>NaN</td>\n",
       "      <td>NaN</td>\n",
       "      <td>NaN</td>\n",
       "      <td>NaN</td>\n",
       "      <td>NaN</td>\n",
       "      <td>NaN</td>\n",
       "    </tr>\n",
       "    <tr>\n",
       "      <th>...</th>\n",
       "      <td>...</td>\n",
       "      <td>...</td>\n",
       "      <td>...</td>\n",
       "      <td>...</td>\n",
       "      <td>...</td>\n",
       "      <td>...</td>\n",
       "      <td>...</td>\n",
       "      <td>...</td>\n",
       "      <td>...</td>\n",
       "      <td>...</td>\n",
       "      <td>...</td>\n",
       "      <td>...</td>\n",
       "      <td>...</td>\n",
       "    </tr>\n",
       "    <tr>\n",
       "      <th>79</th>\n",
       "      <td>NaN</td>\n",
       "      <td>NaN</td>\n",
       "      <td>NaN</td>\n",
       "      <td>NaN</td>\n",
       "      <td>NaN</td>\n",
       "      <td>NaN</td>\n",
       "      <td>NaN</td>\n",
       "      <td>NaN</td>\n",
       "      <td>NaN</td>\n",
       "      <td>NaN</td>\n",
       "      <td>NaN</td>\n",
       "      <td>NaN</td>\n",
       "      <td>NaN</td>\n",
       "    </tr>\n",
       "    <tr>\n",
       "      <th>80</th>\n",
       "      <td>NaN</td>\n",
       "      <td>NaN</td>\n",
       "      <td>NaN</td>\n",
       "      <td>NaN</td>\n",
       "      <td>NaN</td>\n",
       "      <td>NaN</td>\n",
       "      <td>NaN</td>\n",
       "      <td>NaN</td>\n",
       "      <td>NaN</td>\n",
       "      <td>NaN</td>\n",
       "      <td>NaN</td>\n",
       "      <td>NaN</td>\n",
       "      <td>NaN</td>\n",
       "    </tr>\n",
       "    <tr>\n",
       "      <th>81</th>\n",
       "      <td>Notas:</td>\n",
       "      <td>NaN</td>\n",
       "      <td>NaN</td>\n",
       "      <td>NaN</td>\n",
       "      <td>NaN</td>\n",
       "      <td>NaN</td>\n",
       "      <td>NaN</td>\n",
       "      <td>NaN</td>\n",
       "      <td>NaN</td>\n",
       "      <td>NaN</td>\n",
       "      <td>NaN</td>\n",
       "      <td>NaN</td>\n",
       "      <td>NaN</td>\n",
       "    </tr>\n",
       "    <tr>\n",
       "      <th>82</th>\n",
       "      <td>NaN</td>\n",
       "      <td>NaN</td>\n",
       "      <td>NaN</td>\n",
       "      <td>NaN</td>\n",
       "      <td>NaN</td>\n",
       "      <td>NaN</td>\n",
       "      <td>NaN</td>\n",
       "      <td>NaN</td>\n",
       "      <td>NaN</td>\n",
       "      <td>NaN</td>\n",
       "      <td>NaN</td>\n",
       "      <td>NaN</td>\n",
       "      <td>NaN</td>\n",
       "    </tr>\n",
       "    <tr>\n",
       "      <th>83</th>\n",
       "      <td>Fuente:</td>\n",
       "      <td>NaN</td>\n",
       "      <td>NaN</td>\n",
       "      <td>NaN</td>\n",
       "      <td>NaN</td>\n",
       "      <td>NaN</td>\n",
       "      <td>NaN</td>\n",
       "      <td>NaN</td>\n",
       "      <td>NaN</td>\n",
       "      <td>NaN</td>\n",
       "      <td>NaN</td>\n",
       "      <td>NaN</td>\n",
       "      <td>NaN</td>\n",
       "    </tr>\n",
       "  </tbody>\n",
       "</table>\n",
       "<p>84 rows × 13 columns</p>\n",
       "</div>"
      ],
      "text/plain": [
       "                   Censo anual de población 2021-2024 Unnamed: 1  Unnamed: 2  \\\n",
       "0                                 Cifras de población        NaN         NaN   \n",
       "1                                                 NaN        NaN         NaN   \n",
       "2   Población según comunidad autónoma y provincia...        NaN         NaN   \n",
       "3                                  Unidades: Personas        NaN         NaN   \n",
       "4                                                 NaN        NaN         NaN   \n",
       "..                                                ...        ...         ...   \n",
       "79                                                NaN        NaN         NaN   \n",
       "80                                                NaN        NaN         NaN   \n",
       "81                                             Notas:        NaN         NaN   \n",
       "82                                                NaN        NaN         NaN   \n",
       "83                                           Fuente:         NaN         NaN   \n",
       "\n",
       "    Unnamed: 3  Unnamed: 4 Unnamed: 5  Unnamed: 6  Unnamed: 7  Unnamed: 8  \\\n",
       "0          NaN         NaN        NaN         NaN         NaN         NaN   \n",
       "1          NaN         NaN        NaN         NaN         NaN         NaN   \n",
       "2          NaN         NaN        NaN         NaN         NaN         NaN   \n",
       "3          NaN         NaN        NaN         NaN         NaN         NaN   \n",
       "4          NaN         NaN        NaN         NaN         NaN         NaN   \n",
       "..         ...         ...        ...         ...         ...         ...   \n",
       "79         NaN         NaN        NaN         NaN         NaN         NaN   \n",
       "80         NaN         NaN        NaN         NaN         NaN         NaN   \n",
       "81         NaN         NaN        NaN         NaN         NaN         NaN   \n",
       "82         NaN         NaN        NaN         NaN         NaN         NaN   \n",
       "83         NaN         NaN        NaN         NaN         NaN         NaN   \n",
       "\n",
       "   Unnamed: 9  Unnamed: 10  Unnamed: 11  Unnamed: 12  \n",
       "0         NaN          NaN          NaN          NaN  \n",
       "1         NaN          NaN          NaN          NaN  \n",
       "2         NaN          NaN          NaN          NaN  \n",
       "3         NaN          NaN          NaN          NaN  \n",
       "4         NaN          NaN          NaN          NaN  \n",
       "..        ...          ...          ...          ...  \n",
       "79        NaN          NaN          NaN          NaN  \n",
       "80        NaN          NaN          NaN          NaN  \n",
       "81        NaN          NaN          NaN          NaN  \n",
       "82        NaN          NaN          NaN          NaN  \n",
       "83        NaN          NaN          NaN          NaN  \n",
       "\n",
       "[84 rows x 13 columns]"
      ]
     },
     "execution_count": 3,
     "metadata": {},
     "output_type": "execute_result"
    }
   ],
   "source": [
    "df_bruto"
   ]
  },
  {
   "cell_type": "code",
   "execution_count": 4,
   "metadata": {},
   "outputs": [],
   "source": [
    "df_ccaa = df_bruto.iloc[[8, 17, 21, 23, 28, 30, 40, 46, 51, 55, 58, 63, 65, 67, 69, 73, 75, 77]]"
   ]
  },
  {
   "cell_type": "code",
   "execution_count": 5,
   "metadata": {},
   "outputs": [
    {
     "data": {
      "text/html": [
       "<div>\n",
       "<style scoped>\n",
       "    .dataframe tbody tr th:only-of-type {\n",
       "        vertical-align: middle;\n",
       "    }\n",
       "\n",
       "    .dataframe tbody tr th {\n",
       "        vertical-align: top;\n",
       "    }\n",
       "\n",
       "    .dataframe thead th {\n",
       "        text-align: right;\n",
       "    }\n",
       "</style>\n",
       "<table border=\"1\" class=\"dataframe\">\n",
       "  <thead>\n",
       "    <tr style=\"text-align: right;\">\n",
       "      <th></th>\n",
       "      <th>Censo anual de población 2021-2024</th>\n",
       "      <th>Unnamed: 1</th>\n",
       "      <th>Unnamed: 2</th>\n",
       "      <th>Unnamed: 3</th>\n",
       "      <th>Unnamed: 4</th>\n",
       "      <th>Unnamed: 5</th>\n",
       "      <th>Unnamed: 6</th>\n",
       "      <th>Unnamed: 7</th>\n",
       "      <th>Unnamed: 8</th>\n",
       "      <th>Unnamed: 9</th>\n",
       "      <th>Unnamed: 10</th>\n",
       "      <th>Unnamed: 11</th>\n",
       "      <th>Unnamed: 12</th>\n",
       "    </tr>\n",
       "  </thead>\n",
       "  <tbody>\n",
       "    <tr>\n",
       "      <th>8</th>\n",
       "      <td>01 Andalucía</td>\n",
       "      <td>8631862</td>\n",
       "      <td>8584147.0</td>\n",
       "      <td>8511167.0</td>\n",
       "      <td>8484804.0</td>\n",
       "      <td>4249355</td>\n",
       "      <td>4229831.0</td>\n",
       "      <td>4196620.0</td>\n",
       "      <td>4182620.0</td>\n",
       "      <td>4382507</td>\n",
       "      <td>4354316.0</td>\n",
       "      <td>4314547.0</td>\n",
       "      <td>4302184.0</td>\n",
       "    </tr>\n",
       "    <tr>\n",
       "      <th>17</th>\n",
       "      <td>02 Aragón</td>\n",
       "      <td>1351591</td>\n",
       "      <td>1341289.0</td>\n",
       "      <td>1328215.0</td>\n",
       "      <td>1331938.0</td>\n",
       "      <td>668275</td>\n",
       "      <td>662674.0</td>\n",
       "      <td>656811.0</td>\n",
       "      <td>658263.0</td>\n",
       "      <td>683316</td>\n",
       "      <td>678615.0</td>\n",
       "      <td>671404.0</td>\n",
       "      <td>673675.0</td>\n",
       "    </tr>\n",
       "    <tr>\n",
       "      <th>21</th>\n",
       "      <td>03 Asturias, Principado de</td>\n",
       "      <td>1009599</td>\n",
       "      <td>1006060.0</td>\n",
       "      <td>1004960.0</td>\n",
       "      <td>1012117.0</td>\n",
       "      <td>481478</td>\n",
       "      <td>479739.0</td>\n",
       "      <td>479658.0</td>\n",
       "      <td>483186.0</td>\n",
       "      <td>528121</td>\n",
       "      <td>526321.0</td>\n",
       "      <td>525302.0</td>\n",
       "      <td>528931.0</td>\n",
       "    </tr>\n",
       "    <tr>\n",
       "      <th>23</th>\n",
       "      <td>04 Balears, Illes</td>\n",
       "      <td>1231768</td>\n",
       "      <td>1209906.0</td>\n",
       "      <td>1187043.0</td>\n",
       "      <td>1183415.0</td>\n",
       "      <td>613910</td>\n",
       "      <td>602649.0</td>\n",
       "      <td>592100.0</td>\n",
       "      <td>590990.0</td>\n",
       "      <td>617858</td>\n",
       "      <td>607257.0</td>\n",
       "      <td>594943.0</td>\n",
       "      <td>592425.0</td>\n",
       "    </tr>\n",
       "    <tr>\n",
       "      <th>28</th>\n",
       "      <td>06 Cantabria</td>\n",
       "      <td>590851</td>\n",
       "      <td>588387.0</td>\n",
       "      <td>585450.0</td>\n",
       "      <td>584708.0</td>\n",
       "      <td>286322</td>\n",
       "      <td>285133.0</td>\n",
       "      <td>284061.0</td>\n",
       "      <td>283854.0</td>\n",
       "      <td>304529</td>\n",
       "      <td>303254.0</td>\n",
       "      <td>301389.0</td>\n",
       "      <td>300854.0</td>\n",
       "    </tr>\n",
       "    <tr>\n",
       "      <th>30</th>\n",
       "      <td>07 Castilla y León</td>\n",
       "      <td>2391682</td>\n",
       "      <td>2383703.0</td>\n",
       "      <td>2375583.0</td>\n",
       "      <td>2385223.0</td>\n",
       "      <td>1177504</td>\n",
       "      <td>1173585.0</td>\n",
       "      <td>1170227.0</td>\n",
       "      <td>1174957.0</td>\n",
       "      <td>1214178</td>\n",
       "      <td>1210118.0</td>\n",
       "      <td>1205356.0</td>\n",
       "      <td>1210266.0</td>\n",
       "    </tr>\n",
       "    <tr>\n",
       "      <th>40</th>\n",
       "      <td>08 Castilla - La Mancha</td>\n",
       "      <td>2104433</td>\n",
       "      <td>2084086.0</td>\n",
       "      <td>2058278.0</td>\n",
       "      <td>2052505.0</td>\n",
       "      <td>1055223</td>\n",
       "      <td>1045115.0</td>\n",
       "      <td>1031732.0</td>\n",
       "      <td>1028696.0</td>\n",
       "      <td>1049210</td>\n",
       "      <td>1038971.0</td>\n",
       "      <td>1026546.0</td>\n",
       "      <td>1023809.0</td>\n",
       "    </tr>\n",
       "    <tr>\n",
       "      <th>46</th>\n",
       "      <td>09 Cataluña</td>\n",
       "      <td>8012231</td>\n",
       "      <td>7901963.0</td>\n",
       "      <td>7761823.0</td>\n",
       "      <td>7749896.0</td>\n",
       "      <td>3943698</td>\n",
       "      <td>3887223.0</td>\n",
       "      <td>3820173.0</td>\n",
       "      <td>3814823.0</td>\n",
       "      <td>4068533</td>\n",
       "      <td>4014740.0</td>\n",
       "      <td>3941650.0</td>\n",
       "      <td>3935073.0</td>\n",
       "    </tr>\n",
       "    <tr>\n",
       "      <th>51</th>\n",
       "      <td>10 Comunitat Valenciana</td>\n",
       "      <td>5319285</td>\n",
       "      <td>5216195.0</td>\n",
       "      <td>5108116.0</td>\n",
       "      <td>5067911.0</td>\n",
       "      <td>2615852</td>\n",
       "      <td>2565926.0</td>\n",
       "      <td>2516724.0</td>\n",
       "      <td>2497752.0</td>\n",
       "      <td>2703433</td>\n",
       "      <td>2650269.0</td>\n",
       "      <td>2591392.0</td>\n",
       "      <td>2570159.0</td>\n",
       "    </tr>\n",
       "    <tr>\n",
       "      <th>55</th>\n",
       "      <td>11 Extremadura</td>\n",
       "      <td>1054681</td>\n",
       "      <td>1054306.0</td>\n",
       "      <td>1056808.0</td>\n",
       "      <td>1061636.0</td>\n",
       "      <td>521677</td>\n",
       "      <td>521626.0</td>\n",
       "      <td>523255.0</td>\n",
       "      <td>525843.0</td>\n",
       "      <td>533004</td>\n",
       "      <td>532680.0</td>\n",
       "      <td>533553.0</td>\n",
       "      <td>535793.0</td>\n",
       "    </tr>\n",
       "    <tr>\n",
       "      <th>58</th>\n",
       "      <td>12 Galicia</td>\n",
       "      <td>2705833</td>\n",
       "      <td>2699424.0</td>\n",
       "      <td>2692825.0</td>\n",
       "      <td>2698177.0</td>\n",
       "      <td>1301744</td>\n",
       "      <td>1299064.0</td>\n",
       "      <td>1296582.0</td>\n",
       "      <td>1299491.0</td>\n",
       "      <td>1404089</td>\n",
       "      <td>1400360.0</td>\n",
       "      <td>1396243.0</td>\n",
       "      <td>1398686.0</td>\n",
       "    </tr>\n",
       "    <tr>\n",
       "      <th>63</th>\n",
       "      <td>13 Madrid, Comunidad de</td>\n",
       "      <td>7009268</td>\n",
       "      <td>6871903.0</td>\n",
       "      <td>6743254.0</td>\n",
       "      <td>6726640.0</td>\n",
       "      <td>3356163</td>\n",
       "      <td>3288197.0</td>\n",
       "      <td>3229127.0</td>\n",
       "      <td>3221401.0</td>\n",
       "      <td>3653105</td>\n",
       "      <td>3583706.0</td>\n",
       "      <td>3514127.0</td>\n",
       "      <td>3505239.0</td>\n",
       "    </tr>\n",
       "    <tr>\n",
       "      <th>65</th>\n",
       "      <td>14 Murcia, Región de</td>\n",
       "      <td>1568492</td>\n",
       "      <td>1551692.0</td>\n",
       "      <td>1529658.0</td>\n",
       "      <td>1518279.0</td>\n",
       "      <td>786038</td>\n",
       "      <td>777819.0</td>\n",
       "      <td>767117.0</td>\n",
       "      <td>760831.0</td>\n",
       "      <td>782454</td>\n",
       "      <td>773873.0</td>\n",
       "      <td>762541.0</td>\n",
       "      <td>757448.0</td>\n",
       "    </tr>\n",
       "    <tr>\n",
       "      <th>67</th>\n",
       "      <td>15 Navarra, Comunidad Foral de</td>\n",
       "      <td>678333</td>\n",
       "      <td>672155.0</td>\n",
       "      <td>664514.0</td>\n",
       "      <td>662032.0</td>\n",
       "      <td>335919</td>\n",
       "      <td>332575.0</td>\n",
       "      <td>329064.0</td>\n",
       "      <td>327940.0</td>\n",
       "      <td>342414</td>\n",
       "      <td>339580.0</td>\n",
       "      <td>335450.0</td>\n",
       "      <td>334092.0</td>\n",
       "    </tr>\n",
       "    <tr>\n",
       "      <th>69</th>\n",
       "      <td>16 País Vasco</td>\n",
       "      <td>2227684</td>\n",
       "      <td>2216302.0</td>\n",
       "      <td>2205826.0</td>\n",
       "      <td>2212628.0</td>\n",
       "      <td>1083488</td>\n",
       "      <td>1077504.0</td>\n",
       "      <td>1072491.0</td>\n",
       "      <td>1075982.0</td>\n",
       "      <td>1144196</td>\n",
       "      <td>1138798.0</td>\n",
       "      <td>1133335.0</td>\n",
       "      <td>1136646.0</td>\n",
       "    </tr>\n",
       "    <tr>\n",
       "      <th>73</th>\n",
       "      <td>17 Rioja, La</td>\n",
       "      <td>324184</td>\n",
       "      <td>322282.0</td>\n",
       "      <td>319617.0</td>\n",
       "      <td>319444.0</td>\n",
       "      <td>159979</td>\n",
       "      <td>159151.0</td>\n",
       "      <td>157875.0</td>\n",
       "      <td>157763.0</td>\n",
       "      <td>164205</td>\n",
       "      <td>163131.0</td>\n",
       "      <td>161742.0</td>\n",
       "      <td>161681.0</td>\n",
       "    </tr>\n",
       "    <tr>\n",
       "      <th>75</th>\n",
       "      <td>18 Ceuta</td>\n",
       "      <td>83179</td>\n",
       "      <td>83052.0</td>\n",
       "      <td>83051.0</td>\n",
       "      <td>84071.0</td>\n",
       "      <td>41957</td>\n",
       "      <td>41897.0</td>\n",
       "      <td>41908.0</td>\n",
       "      <td>42536.0</td>\n",
       "      <td>41222</td>\n",
       "      <td>41155.0</td>\n",
       "      <td>41143.0</td>\n",
       "      <td>41535.0</td>\n",
       "    </tr>\n",
       "    <tr>\n",
       "      <th>77</th>\n",
       "      <td>19 Melilla</td>\n",
       "      <td>85985</td>\n",
       "      <td>85493.0</td>\n",
       "      <td>84932.0</td>\n",
       "      <td>86450.0</td>\n",
       "      <td>43252</td>\n",
       "      <td>43162.0</td>\n",
       "      <td>42978.0</td>\n",
       "      <td>43823.0</td>\n",
       "      <td>42733</td>\n",
       "      <td>42331.0</td>\n",
       "      <td>41954.0</td>\n",
       "      <td>42627.0</td>\n",
       "    </tr>\n",
       "  </tbody>\n",
       "</table>\n",
       "</div>"
      ],
      "text/plain": [
       "   Censo anual de población 2021-2024 Unnamed: 1  Unnamed: 2  Unnamed: 3  \\\n",
       "8                        01 Andalucía    8631862   8584147.0   8511167.0   \n",
       "17                          02 Aragón    1351591   1341289.0   1328215.0   \n",
       "21         03 Asturias, Principado de    1009599   1006060.0   1004960.0   \n",
       "23                  04 Balears, Illes    1231768   1209906.0   1187043.0   \n",
       "28                       06 Cantabria     590851    588387.0    585450.0   \n",
       "30                 07 Castilla y León    2391682   2383703.0   2375583.0   \n",
       "40            08 Castilla - La Mancha    2104433   2084086.0   2058278.0   \n",
       "46                        09 Cataluña    8012231   7901963.0   7761823.0   \n",
       "51            10 Comunitat Valenciana    5319285   5216195.0   5108116.0   \n",
       "55                     11 Extremadura    1054681   1054306.0   1056808.0   \n",
       "58                         12 Galicia    2705833   2699424.0   2692825.0   \n",
       "63            13 Madrid, Comunidad de    7009268   6871903.0   6743254.0   \n",
       "65               14 Murcia, Región de    1568492   1551692.0   1529658.0   \n",
       "67     15 Navarra, Comunidad Foral de     678333    672155.0    664514.0   \n",
       "69                      16 País Vasco    2227684   2216302.0   2205826.0   \n",
       "73                       17 Rioja, La     324184    322282.0    319617.0   \n",
       "75                           18 Ceuta      83179     83052.0     83051.0   \n",
       "77                         19 Melilla      85985     85493.0     84932.0   \n",
       "\n",
       "    Unnamed: 4 Unnamed: 5  Unnamed: 6  Unnamed: 7  Unnamed: 8 Unnamed: 9  \\\n",
       "8    8484804.0    4249355   4229831.0   4196620.0   4182620.0    4382507   \n",
       "17   1331938.0     668275    662674.0    656811.0    658263.0     683316   \n",
       "21   1012117.0     481478    479739.0    479658.0    483186.0     528121   \n",
       "23   1183415.0     613910    602649.0    592100.0    590990.0     617858   \n",
       "28    584708.0     286322    285133.0    284061.0    283854.0     304529   \n",
       "30   2385223.0    1177504   1173585.0   1170227.0   1174957.0    1214178   \n",
       "40   2052505.0    1055223   1045115.0   1031732.0   1028696.0    1049210   \n",
       "46   7749896.0    3943698   3887223.0   3820173.0   3814823.0    4068533   \n",
       "51   5067911.0    2615852   2565926.0   2516724.0   2497752.0    2703433   \n",
       "55   1061636.0     521677    521626.0    523255.0    525843.0     533004   \n",
       "58   2698177.0    1301744   1299064.0   1296582.0   1299491.0    1404089   \n",
       "63   6726640.0    3356163   3288197.0   3229127.0   3221401.0    3653105   \n",
       "65   1518279.0     786038    777819.0    767117.0    760831.0     782454   \n",
       "67    662032.0     335919    332575.0    329064.0    327940.0     342414   \n",
       "69   2212628.0    1083488   1077504.0   1072491.0   1075982.0    1144196   \n",
       "73    319444.0     159979    159151.0    157875.0    157763.0     164205   \n",
       "75     84071.0      41957     41897.0     41908.0     42536.0      41222   \n",
       "77     86450.0      43252     43162.0     42978.0     43823.0      42733   \n",
       "\n",
       "    Unnamed: 10  Unnamed: 11  Unnamed: 12  \n",
       "8     4354316.0    4314547.0    4302184.0  \n",
       "17     678615.0     671404.0     673675.0  \n",
       "21     526321.0     525302.0     528931.0  \n",
       "23     607257.0     594943.0     592425.0  \n",
       "28     303254.0     301389.0     300854.0  \n",
       "30    1210118.0    1205356.0    1210266.0  \n",
       "40    1038971.0    1026546.0    1023809.0  \n",
       "46    4014740.0    3941650.0    3935073.0  \n",
       "51    2650269.0    2591392.0    2570159.0  \n",
       "55     532680.0     533553.0     535793.0  \n",
       "58    1400360.0    1396243.0    1398686.0  \n",
       "63    3583706.0    3514127.0    3505239.0  \n",
       "65     773873.0     762541.0     757448.0  \n",
       "67     339580.0     335450.0     334092.0  \n",
       "69    1138798.0    1133335.0    1136646.0  \n",
       "73     163131.0     161742.0     161681.0  \n",
       "75      41155.0      41143.0      41535.0  \n",
       "77      42331.0      41954.0      42627.0  "
      ]
     },
     "execution_count": 5,
     "metadata": {},
     "output_type": "execute_result"
    }
   ],
   "source": [
    "df_ccaa"
   ]
  },
  {
   "cell_type": "code",
   "execution_count": 6,
   "metadata": {},
   "outputs": [
    {
     "name": "stderr",
     "output_type": "stream",
     "text": [
      "/var/folders/7l/50yy8f5n5pl25wpdhmnq22s80000gn/T/ipykernel_1475/2006259724.py:1: SettingWithCopyWarning: \n",
      "A value is trying to be set on a copy of a slice from a DataFrame.\n",
      "Try using .loc[row_indexer,col_indexer] = value instead\n",
      "\n",
      "See the caveats in the documentation: https://pandas.pydata.org/pandas-docs/stable/user_guide/indexing.html#returning-a-view-versus-a-copy\n",
      "  df_ccaa['lon'] = [-4.58, -0.67, -5.99, 2.90, -4.03, -4.78, -3.01, 1.52, -0.56, -6.15, -7.91, -3.72, -1.49, -1.65, -2.62, -2.52, -5.31, -2.93]\n"
     ]
    }
   ],
   "source": [
    "df_ccaa['lon'] = [-4.58, -0.67, -5.99, 2.90, -4.03, -4.78, -3.01, 1.52, -0.56, -6.15, -7.91, -3.72, -1.49, -1.65, -2.62, -2.52, -5.31, -2.93]"
   ]
  },
  {
   "cell_type": "code",
   "execution_count": 7,
   "metadata": {},
   "outputs": [
    {
     "data": {
      "text/html": [
       "<div>\n",
       "<style scoped>\n",
       "    .dataframe tbody tr th:only-of-type {\n",
       "        vertical-align: middle;\n",
       "    }\n",
       "\n",
       "    .dataframe tbody tr th {\n",
       "        vertical-align: top;\n",
       "    }\n",
       "\n",
       "    .dataframe thead th {\n",
       "        text-align: right;\n",
       "    }\n",
       "</style>\n",
       "<table border=\"1\" class=\"dataframe\">\n",
       "  <thead>\n",
       "    <tr style=\"text-align: right;\">\n",
       "      <th></th>\n",
       "      <th>Censo anual de población 2021-2024</th>\n",
       "      <th>Unnamed: 1</th>\n",
       "      <th>Unnamed: 2</th>\n",
       "      <th>Unnamed: 3</th>\n",
       "      <th>Unnamed: 4</th>\n",
       "      <th>Unnamed: 5</th>\n",
       "      <th>Unnamed: 6</th>\n",
       "      <th>Unnamed: 7</th>\n",
       "      <th>Unnamed: 8</th>\n",
       "      <th>Unnamed: 9</th>\n",
       "      <th>Unnamed: 10</th>\n",
       "      <th>Unnamed: 11</th>\n",
       "      <th>Unnamed: 12</th>\n",
       "      <th>lon</th>\n",
       "    </tr>\n",
       "  </thead>\n",
       "  <tbody>\n",
       "    <tr>\n",
       "      <th>8</th>\n",
       "      <td>01 Andalucía</td>\n",
       "      <td>8631862</td>\n",
       "      <td>8584147.0</td>\n",
       "      <td>8511167.0</td>\n",
       "      <td>8484804.0</td>\n",
       "      <td>4249355</td>\n",
       "      <td>4229831.0</td>\n",
       "      <td>4196620.0</td>\n",
       "      <td>4182620.0</td>\n",
       "      <td>4382507</td>\n",
       "      <td>4354316.0</td>\n",
       "      <td>4314547.0</td>\n",
       "      <td>4302184.0</td>\n",
       "      <td>-4.58</td>\n",
       "    </tr>\n",
       "    <tr>\n",
       "      <th>17</th>\n",
       "      <td>02 Aragón</td>\n",
       "      <td>1351591</td>\n",
       "      <td>1341289.0</td>\n",
       "      <td>1328215.0</td>\n",
       "      <td>1331938.0</td>\n",
       "      <td>668275</td>\n",
       "      <td>662674.0</td>\n",
       "      <td>656811.0</td>\n",
       "      <td>658263.0</td>\n",
       "      <td>683316</td>\n",
       "      <td>678615.0</td>\n",
       "      <td>671404.0</td>\n",
       "      <td>673675.0</td>\n",
       "      <td>-0.67</td>\n",
       "    </tr>\n",
       "    <tr>\n",
       "      <th>21</th>\n",
       "      <td>03 Asturias, Principado de</td>\n",
       "      <td>1009599</td>\n",
       "      <td>1006060.0</td>\n",
       "      <td>1004960.0</td>\n",
       "      <td>1012117.0</td>\n",
       "      <td>481478</td>\n",
       "      <td>479739.0</td>\n",
       "      <td>479658.0</td>\n",
       "      <td>483186.0</td>\n",
       "      <td>528121</td>\n",
       "      <td>526321.0</td>\n",
       "      <td>525302.0</td>\n",
       "      <td>528931.0</td>\n",
       "      <td>-5.99</td>\n",
       "    </tr>\n",
       "    <tr>\n",
       "      <th>23</th>\n",
       "      <td>04 Balears, Illes</td>\n",
       "      <td>1231768</td>\n",
       "      <td>1209906.0</td>\n",
       "      <td>1187043.0</td>\n",
       "      <td>1183415.0</td>\n",
       "      <td>613910</td>\n",
       "      <td>602649.0</td>\n",
       "      <td>592100.0</td>\n",
       "      <td>590990.0</td>\n",
       "      <td>617858</td>\n",
       "      <td>607257.0</td>\n",
       "      <td>594943.0</td>\n",
       "      <td>592425.0</td>\n",
       "      <td>2.90</td>\n",
       "    </tr>\n",
       "    <tr>\n",
       "      <th>28</th>\n",
       "      <td>06 Cantabria</td>\n",
       "      <td>590851</td>\n",
       "      <td>588387.0</td>\n",
       "      <td>585450.0</td>\n",
       "      <td>584708.0</td>\n",
       "      <td>286322</td>\n",
       "      <td>285133.0</td>\n",
       "      <td>284061.0</td>\n",
       "      <td>283854.0</td>\n",
       "      <td>304529</td>\n",
       "      <td>303254.0</td>\n",
       "      <td>301389.0</td>\n",
       "      <td>300854.0</td>\n",
       "      <td>-4.03</td>\n",
       "    </tr>\n",
       "    <tr>\n",
       "      <th>30</th>\n",
       "      <td>07 Castilla y León</td>\n",
       "      <td>2391682</td>\n",
       "      <td>2383703.0</td>\n",
       "      <td>2375583.0</td>\n",
       "      <td>2385223.0</td>\n",
       "      <td>1177504</td>\n",
       "      <td>1173585.0</td>\n",
       "      <td>1170227.0</td>\n",
       "      <td>1174957.0</td>\n",
       "      <td>1214178</td>\n",
       "      <td>1210118.0</td>\n",
       "      <td>1205356.0</td>\n",
       "      <td>1210266.0</td>\n",
       "      <td>-4.78</td>\n",
       "    </tr>\n",
       "    <tr>\n",
       "      <th>40</th>\n",
       "      <td>08 Castilla - La Mancha</td>\n",
       "      <td>2104433</td>\n",
       "      <td>2084086.0</td>\n",
       "      <td>2058278.0</td>\n",
       "      <td>2052505.0</td>\n",
       "      <td>1055223</td>\n",
       "      <td>1045115.0</td>\n",
       "      <td>1031732.0</td>\n",
       "      <td>1028696.0</td>\n",
       "      <td>1049210</td>\n",
       "      <td>1038971.0</td>\n",
       "      <td>1026546.0</td>\n",
       "      <td>1023809.0</td>\n",
       "      <td>-3.01</td>\n",
       "    </tr>\n",
       "    <tr>\n",
       "      <th>46</th>\n",
       "      <td>09 Cataluña</td>\n",
       "      <td>8012231</td>\n",
       "      <td>7901963.0</td>\n",
       "      <td>7761823.0</td>\n",
       "      <td>7749896.0</td>\n",
       "      <td>3943698</td>\n",
       "      <td>3887223.0</td>\n",
       "      <td>3820173.0</td>\n",
       "      <td>3814823.0</td>\n",
       "      <td>4068533</td>\n",
       "      <td>4014740.0</td>\n",
       "      <td>3941650.0</td>\n",
       "      <td>3935073.0</td>\n",
       "      <td>1.52</td>\n",
       "    </tr>\n",
       "    <tr>\n",
       "      <th>51</th>\n",
       "      <td>10 Comunitat Valenciana</td>\n",
       "      <td>5319285</td>\n",
       "      <td>5216195.0</td>\n",
       "      <td>5108116.0</td>\n",
       "      <td>5067911.0</td>\n",
       "      <td>2615852</td>\n",
       "      <td>2565926.0</td>\n",
       "      <td>2516724.0</td>\n",
       "      <td>2497752.0</td>\n",
       "      <td>2703433</td>\n",
       "      <td>2650269.0</td>\n",
       "      <td>2591392.0</td>\n",
       "      <td>2570159.0</td>\n",
       "      <td>-0.56</td>\n",
       "    </tr>\n",
       "    <tr>\n",
       "      <th>55</th>\n",
       "      <td>11 Extremadura</td>\n",
       "      <td>1054681</td>\n",
       "      <td>1054306.0</td>\n",
       "      <td>1056808.0</td>\n",
       "      <td>1061636.0</td>\n",
       "      <td>521677</td>\n",
       "      <td>521626.0</td>\n",
       "      <td>523255.0</td>\n",
       "      <td>525843.0</td>\n",
       "      <td>533004</td>\n",
       "      <td>532680.0</td>\n",
       "      <td>533553.0</td>\n",
       "      <td>535793.0</td>\n",
       "      <td>-6.15</td>\n",
       "    </tr>\n",
       "    <tr>\n",
       "      <th>58</th>\n",
       "      <td>12 Galicia</td>\n",
       "      <td>2705833</td>\n",
       "      <td>2699424.0</td>\n",
       "      <td>2692825.0</td>\n",
       "      <td>2698177.0</td>\n",
       "      <td>1301744</td>\n",
       "      <td>1299064.0</td>\n",
       "      <td>1296582.0</td>\n",
       "      <td>1299491.0</td>\n",
       "      <td>1404089</td>\n",
       "      <td>1400360.0</td>\n",
       "      <td>1396243.0</td>\n",
       "      <td>1398686.0</td>\n",
       "      <td>-7.91</td>\n",
       "    </tr>\n",
       "    <tr>\n",
       "      <th>63</th>\n",
       "      <td>13 Madrid, Comunidad de</td>\n",
       "      <td>7009268</td>\n",
       "      <td>6871903.0</td>\n",
       "      <td>6743254.0</td>\n",
       "      <td>6726640.0</td>\n",
       "      <td>3356163</td>\n",
       "      <td>3288197.0</td>\n",
       "      <td>3229127.0</td>\n",
       "      <td>3221401.0</td>\n",
       "      <td>3653105</td>\n",
       "      <td>3583706.0</td>\n",
       "      <td>3514127.0</td>\n",
       "      <td>3505239.0</td>\n",
       "      <td>-3.72</td>\n",
       "    </tr>\n",
       "    <tr>\n",
       "      <th>65</th>\n",
       "      <td>14 Murcia, Región de</td>\n",
       "      <td>1568492</td>\n",
       "      <td>1551692.0</td>\n",
       "      <td>1529658.0</td>\n",
       "      <td>1518279.0</td>\n",
       "      <td>786038</td>\n",
       "      <td>777819.0</td>\n",
       "      <td>767117.0</td>\n",
       "      <td>760831.0</td>\n",
       "      <td>782454</td>\n",
       "      <td>773873.0</td>\n",
       "      <td>762541.0</td>\n",
       "      <td>757448.0</td>\n",
       "      <td>-1.49</td>\n",
       "    </tr>\n",
       "    <tr>\n",
       "      <th>67</th>\n",
       "      <td>15 Navarra, Comunidad Foral de</td>\n",
       "      <td>678333</td>\n",
       "      <td>672155.0</td>\n",
       "      <td>664514.0</td>\n",
       "      <td>662032.0</td>\n",
       "      <td>335919</td>\n",
       "      <td>332575.0</td>\n",
       "      <td>329064.0</td>\n",
       "      <td>327940.0</td>\n",
       "      <td>342414</td>\n",
       "      <td>339580.0</td>\n",
       "      <td>335450.0</td>\n",
       "      <td>334092.0</td>\n",
       "      <td>-1.65</td>\n",
       "    </tr>\n",
       "    <tr>\n",
       "      <th>69</th>\n",
       "      <td>16 País Vasco</td>\n",
       "      <td>2227684</td>\n",
       "      <td>2216302.0</td>\n",
       "      <td>2205826.0</td>\n",
       "      <td>2212628.0</td>\n",
       "      <td>1083488</td>\n",
       "      <td>1077504.0</td>\n",
       "      <td>1072491.0</td>\n",
       "      <td>1075982.0</td>\n",
       "      <td>1144196</td>\n",
       "      <td>1138798.0</td>\n",
       "      <td>1133335.0</td>\n",
       "      <td>1136646.0</td>\n",
       "      <td>-2.62</td>\n",
       "    </tr>\n",
       "    <tr>\n",
       "      <th>73</th>\n",
       "      <td>17 Rioja, La</td>\n",
       "      <td>324184</td>\n",
       "      <td>322282.0</td>\n",
       "      <td>319617.0</td>\n",
       "      <td>319444.0</td>\n",
       "      <td>159979</td>\n",
       "      <td>159151.0</td>\n",
       "      <td>157875.0</td>\n",
       "      <td>157763.0</td>\n",
       "      <td>164205</td>\n",
       "      <td>163131.0</td>\n",
       "      <td>161742.0</td>\n",
       "      <td>161681.0</td>\n",
       "      <td>-2.52</td>\n",
       "    </tr>\n",
       "    <tr>\n",
       "      <th>75</th>\n",
       "      <td>18 Ceuta</td>\n",
       "      <td>83179</td>\n",
       "      <td>83052.0</td>\n",
       "      <td>83051.0</td>\n",
       "      <td>84071.0</td>\n",
       "      <td>41957</td>\n",
       "      <td>41897.0</td>\n",
       "      <td>41908.0</td>\n",
       "      <td>42536.0</td>\n",
       "      <td>41222</td>\n",
       "      <td>41155.0</td>\n",
       "      <td>41143.0</td>\n",
       "      <td>41535.0</td>\n",
       "      <td>-5.31</td>\n",
       "    </tr>\n",
       "    <tr>\n",
       "      <th>77</th>\n",
       "      <td>19 Melilla</td>\n",
       "      <td>85985</td>\n",
       "      <td>85493.0</td>\n",
       "      <td>84932.0</td>\n",
       "      <td>86450.0</td>\n",
       "      <td>43252</td>\n",
       "      <td>43162.0</td>\n",
       "      <td>42978.0</td>\n",
       "      <td>43823.0</td>\n",
       "      <td>42733</td>\n",
       "      <td>42331.0</td>\n",
       "      <td>41954.0</td>\n",
       "      <td>42627.0</td>\n",
       "      <td>-2.93</td>\n",
       "    </tr>\n",
       "  </tbody>\n",
       "</table>\n",
       "</div>"
      ],
      "text/plain": [
       "   Censo anual de población 2021-2024 Unnamed: 1  Unnamed: 2  Unnamed: 3  \\\n",
       "8                        01 Andalucía    8631862   8584147.0   8511167.0   \n",
       "17                          02 Aragón    1351591   1341289.0   1328215.0   \n",
       "21         03 Asturias, Principado de    1009599   1006060.0   1004960.0   \n",
       "23                  04 Balears, Illes    1231768   1209906.0   1187043.0   \n",
       "28                       06 Cantabria     590851    588387.0    585450.0   \n",
       "30                 07 Castilla y León    2391682   2383703.0   2375583.0   \n",
       "40            08 Castilla - La Mancha    2104433   2084086.0   2058278.0   \n",
       "46                        09 Cataluña    8012231   7901963.0   7761823.0   \n",
       "51            10 Comunitat Valenciana    5319285   5216195.0   5108116.0   \n",
       "55                     11 Extremadura    1054681   1054306.0   1056808.0   \n",
       "58                         12 Galicia    2705833   2699424.0   2692825.0   \n",
       "63            13 Madrid, Comunidad de    7009268   6871903.0   6743254.0   \n",
       "65               14 Murcia, Región de    1568492   1551692.0   1529658.0   \n",
       "67     15 Navarra, Comunidad Foral de     678333    672155.0    664514.0   \n",
       "69                      16 País Vasco    2227684   2216302.0   2205826.0   \n",
       "73                       17 Rioja, La     324184    322282.0    319617.0   \n",
       "75                           18 Ceuta      83179     83052.0     83051.0   \n",
       "77                         19 Melilla      85985     85493.0     84932.0   \n",
       "\n",
       "    Unnamed: 4 Unnamed: 5  Unnamed: 6  Unnamed: 7  Unnamed: 8 Unnamed: 9  \\\n",
       "8    8484804.0    4249355   4229831.0   4196620.0   4182620.0    4382507   \n",
       "17   1331938.0     668275    662674.0    656811.0    658263.0     683316   \n",
       "21   1012117.0     481478    479739.0    479658.0    483186.0     528121   \n",
       "23   1183415.0     613910    602649.0    592100.0    590990.0     617858   \n",
       "28    584708.0     286322    285133.0    284061.0    283854.0     304529   \n",
       "30   2385223.0    1177504   1173585.0   1170227.0   1174957.0    1214178   \n",
       "40   2052505.0    1055223   1045115.0   1031732.0   1028696.0    1049210   \n",
       "46   7749896.0    3943698   3887223.0   3820173.0   3814823.0    4068533   \n",
       "51   5067911.0    2615852   2565926.0   2516724.0   2497752.0    2703433   \n",
       "55   1061636.0     521677    521626.0    523255.0    525843.0     533004   \n",
       "58   2698177.0    1301744   1299064.0   1296582.0   1299491.0    1404089   \n",
       "63   6726640.0    3356163   3288197.0   3229127.0   3221401.0    3653105   \n",
       "65   1518279.0     786038    777819.0    767117.0    760831.0     782454   \n",
       "67    662032.0     335919    332575.0    329064.0    327940.0     342414   \n",
       "69   2212628.0    1083488   1077504.0   1072491.0   1075982.0    1144196   \n",
       "73    319444.0     159979    159151.0    157875.0    157763.0     164205   \n",
       "75     84071.0      41957     41897.0     41908.0     42536.0      41222   \n",
       "77     86450.0      43252     43162.0     42978.0     43823.0      42733   \n",
       "\n",
       "    Unnamed: 10  Unnamed: 11  Unnamed: 12   lon  \n",
       "8     4354316.0    4314547.0    4302184.0 -4.58  \n",
       "17     678615.0     671404.0     673675.0 -0.67  \n",
       "21     526321.0     525302.0     528931.0 -5.99  \n",
       "23     607257.0     594943.0     592425.0  2.90  \n",
       "28     303254.0     301389.0     300854.0 -4.03  \n",
       "30    1210118.0    1205356.0    1210266.0 -4.78  \n",
       "40    1038971.0    1026546.0    1023809.0 -3.01  \n",
       "46    4014740.0    3941650.0    3935073.0  1.52  \n",
       "51    2650269.0    2591392.0    2570159.0 -0.56  \n",
       "55     532680.0     533553.0     535793.0 -6.15  \n",
       "58    1400360.0    1396243.0    1398686.0 -7.91  \n",
       "63    3583706.0    3514127.0    3505239.0 -3.72  \n",
       "65     773873.0     762541.0     757448.0 -1.49  \n",
       "67     339580.0     335450.0     334092.0 -1.65  \n",
       "69    1138798.0    1133335.0    1136646.0 -2.62  \n",
       "73     163131.0     161742.0     161681.0 -2.52  \n",
       "75      41155.0      41143.0      41535.0 -5.31  \n",
       "77      42331.0      41954.0      42627.0 -2.93  "
      ]
     },
     "execution_count": 7,
     "metadata": {},
     "output_type": "execute_result"
    }
   ],
   "source": [
    "df_ccaa"
   ]
  },
  {
   "cell_type": "code",
   "execution_count": 8,
   "metadata": {},
   "outputs": [
    {
     "name": "stderr",
     "output_type": "stream",
     "text": [
      "/var/folders/7l/50yy8f5n5pl25wpdhmnq22s80000gn/T/ipykernel_1475/4022387426.py:1: SettingWithCopyWarning: \n",
      "A value is trying to be set on a copy of a slice from a DataFrame.\n",
      "Try using .loc[row_indexer,col_indexer] = value instead\n",
      "\n",
      "See the caveats in the documentation: https://pandas.pydata.org/pandas-docs/stable/user_guide/indexing.html#returning-a-view-versus-a-copy\n",
      "  df_ccaa['lat'] = [37.3891, 41.6488, 43.3603, 39.5696, 43.4623, 41.6521, 39.8568, 42, 41.3851, 38.7257, 42.5751, 40.4168, 37.9834, 42.8125, 42.6985, 39.4699, 35.8894, 35.2923]\n"
     ]
    }
   ],
   "source": [
    "df_ccaa['lat'] = [37.3891, 41.6488, 43.3603, 39.5696, 43.4623, 41.6521, 39.8568, 42, 41.3851, 38.7257, 42.5751, 40.4168, 37.9834, 42.8125, 42.6985, 39.4699, 35.8894, 35.2923]"
   ]
  },
  {
   "cell_type": "code",
   "execution_count": 9,
   "metadata": {},
   "outputs": [
    {
     "name": "stderr",
     "output_type": "stream",
     "text": [
      "/var/folders/7l/50yy8f5n5pl25wpdhmnq22s80000gn/T/ipykernel_1475/3309544918.py:1: SettingWithCopyWarning: \n",
      "A value is trying to be set on a copy of a slice from a DataFrame.\n",
      "Try using .loc[row_indexer,col_indexer] = value instead\n",
      "\n",
      "See the caveats in the documentation: https://pandas.pydata.org/pandas-docs/stable/user_guide/indexing.html#returning-a-view-versus-a-copy\n",
      "  df_ccaa['Unnamed: 1'] = df_ccaa['Unnamed: 1'].astype(float)\n"
     ]
    }
   ],
   "source": [
    "df_ccaa['Unnamed: 1'] = df_ccaa['Unnamed: 1'].astype(float)"
   ]
  },
  {
   "cell_type": "code",
   "execution_count": 10,
   "metadata": {},
   "outputs": [],
   "source": [
    "import plotly.express as px"
   ]
  },
  {
   "cell_type": "code",
   "execution_count": 11,
   "metadata": {},
   "outputs": [],
   "source": [
    "fig_bar = px.bar( \n",
    "    data_frame=df_ccaa,\n",
    "    x='Censo anual de población 2021-2024',\n",
    "    y = 'Unnamed: 1',\n",
    "    color = \"Censo anual de población 2021-2024\",\n",
    "    labels = {'Censo anual de población 2021-2024': 'Comunidad Autónoma', 'Unnamed: 1': 'Total'},\n",
    "    title = \"Población España 2024 por Comunidades Autónomas\", \n",
    "    barmode= \"stack\"\n",
    "    \n",
    ")"
   ]
  },
  {
   "cell_type": "code",
   "execution_count": 12,
   "metadata": {},
   "outputs": [],
   "source": [
    "fig_pie = px.pie(\n",
    "    data_frame=df_ccaa,\n",
    "    names = \"Censo anual de población 2021-2024\", \n",
    "    values = \"Unnamed: 1\",\n",
    "    labels = {'Censo anual de población 2021-2024': 'Comunidad Autónoma', 'Unnamed: 1': 'Total'}\n",
    "    \n",
    ")"
   ]
  },
  {
   "cell_type": "code",
   "execution_count": 13,
   "metadata": {},
   "outputs": [
    {
     "data": {
      "application/vnd.plotly.v1+json": {
       "config": {
        "plotlyServerURL": "https://plot.ly"
       },
       "data": [
        {
         "domain": {
          "x": [
           0,
           1
          ],
          "y": [
           0,
           1
          ]
         },
         "hovertemplate": "Comunidad Autónoma=%{label}<br>Total=%{value}<extra></extra>",
         "labels": [
          "01 Andalucía",
          "02 Aragón",
          "03 Asturias, Principado de",
          "04 Balears, Illes",
          "06 Cantabria",
          "07 Castilla y León",
          "08 Castilla - La Mancha",
          "09 Cataluña",
          "10 Comunitat Valenciana",
          "11 Extremadura",
          "12 Galicia",
          "13 Madrid, Comunidad de",
          "14 Murcia, Región de",
          "15 Navarra, Comunidad Foral de",
          "16 País Vasco",
          "17 Rioja, La",
          "18 Ceuta",
          "19 Melilla"
         ],
         "legendgroup": "",
         "name": "",
         "showlegend": true,
         "type": "pie",
         "values": [
          8631862,
          1351591,
          1009599,
          1231768,
          590851,
          2391682,
          2104433,
          8012231,
          5319285,
          1054681,
          2705833,
          7009268,
          1568492,
          678333,
          2227684,
          324184,
          83179,
          85985
         ]
        }
       ],
       "layout": {
        "legend": {
         "tracegroupgap": 0
        },
        "margin": {
         "t": 60
        },
        "template": {
         "data": {
          "bar": [
           {
            "error_x": {
             "color": "#2a3f5f"
            },
            "error_y": {
             "color": "#2a3f5f"
            },
            "marker": {
             "line": {
              "color": "#E5ECF6",
              "width": 0.5
             },
             "pattern": {
              "fillmode": "overlay",
              "size": 10,
              "solidity": 0.2
             }
            },
            "type": "bar"
           }
          ],
          "barpolar": [
           {
            "marker": {
             "line": {
              "color": "#E5ECF6",
              "width": 0.5
             },
             "pattern": {
              "fillmode": "overlay",
              "size": 10,
              "solidity": 0.2
             }
            },
            "type": "barpolar"
           }
          ],
          "carpet": [
           {
            "aaxis": {
             "endlinecolor": "#2a3f5f",
             "gridcolor": "white",
             "linecolor": "white",
             "minorgridcolor": "white",
             "startlinecolor": "#2a3f5f"
            },
            "baxis": {
             "endlinecolor": "#2a3f5f",
             "gridcolor": "white",
             "linecolor": "white",
             "minorgridcolor": "white",
             "startlinecolor": "#2a3f5f"
            },
            "type": "carpet"
           }
          ],
          "choropleth": [
           {
            "colorbar": {
             "outlinewidth": 0,
             "ticks": ""
            },
            "type": "choropleth"
           }
          ],
          "contour": [
           {
            "colorbar": {
             "outlinewidth": 0,
             "ticks": ""
            },
            "colorscale": [
             [
              0,
              "#0d0887"
             ],
             [
              0.1111111111111111,
              "#46039f"
             ],
             [
              0.2222222222222222,
              "#7201a8"
             ],
             [
              0.3333333333333333,
              "#9c179e"
             ],
             [
              0.4444444444444444,
              "#bd3786"
             ],
             [
              0.5555555555555556,
              "#d8576b"
             ],
             [
              0.6666666666666666,
              "#ed7953"
             ],
             [
              0.7777777777777778,
              "#fb9f3a"
             ],
             [
              0.8888888888888888,
              "#fdca26"
             ],
             [
              1,
              "#f0f921"
             ]
            ],
            "type": "contour"
           }
          ],
          "contourcarpet": [
           {
            "colorbar": {
             "outlinewidth": 0,
             "ticks": ""
            },
            "type": "contourcarpet"
           }
          ],
          "heatmap": [
           {
            "colorbar": {
             "outlinewidth": 0,
             "ticks": ""
            },
            "colorscale": [
             [
              0,
              "#0d0887"
             ],
             [
              0.1111111111111111,
              "#46039f"
             ],
             [
              0.2222222222222222,
              "#7201a8"
             ],
             [
              0.3333333333333333,
              "#9c179e"
             ],
             [
              0.4444444444444444,
              "#bd3786"
             ],
             [
              0.5555555555555556,
              "#d8576b"
             ],
             [
              0.6666666666666666,
              "#ed7953"
             ],
             [
              0.7777777777777778,
              "#fb9f3a"
             ],
             [
              0.8888888888888888,
              "#fdca26"
             ],
             [
              1,
              "#f0f921"
             ]
            ],
            "type": "heatmap"
           }
          ],
          "heatmapgl": [
           {
            "colorbar": {
             "outlinewidth": 0,
             "ticks": ""
            },
            "colorscale": [
             [
              0,
              "#0d0887"
             ],
             [
              0.1111111111111111,
              "#46039f"
             ],
             [
              0.2222222222222222,
              "#7201a8"
             ],
             [
              0.3333333333333333,
              "#9c179e"
             ],
             [
              0.4444444444444444,
              "#bd3786"
             ],
             [
              0.5555555555555556,
              "#d8576b"
             ],
             [
              0.6666666666666666,
              "#ed7953"
             ],
             [
              0.7777777777777778,
              "#fb9f3a"
             ],
             [
              0.8888888888888888,
              "#fdca26"
             ],
             [
              1,
              "#f0f921"
             ]
            ],
            "type": "heatmapgl"
           }
          ],
          "histogram": [
           {
            "marker": {
             "pattern": {
              "fillmode": "overlay",
              "size": 10,
              "solidity": 0.2
             }
            },
            "type": "histogram"
           }
          ],
          "histogram2d": [
           {
            "colorbar": {
             "outlinewidth": 0,
             "ticks": ""
            },
            "colorscale": [
             [
              0,
              "#0d0887"
             ],
             [
              0.1111111111111111,
              "#46039f"
             ],
             [
              0.2222222222222222,
              "#7201a8"
             ],
             [
              0.3333333333333333,
              "#9c179e"
             ],
             [
              0.4444444444444444,
              "#bd3786"
             ],
             [
              0.5555555555555556,
              "#d8576b"
             ],
             [
              0.6666666666666666,
              "#ed7953"
             ],
             [
              0.7777777777777778,
              "#fb9f3a"
             ],
             [
              0.8888888888888888,
              "#fdca26"
             ],
             [
              1,
              "#f0f921"
             ]
            ],
            "type": "histogram2d"
           }
          ],
          "histogram2dcontour": [
           {
            "colorbar": {
             "outlinewidth": 0,
             "ticks": ""
            },
            "colorscale": [
             [
              0,
              "#0d0887"
             ],
             [
              0.1111111111111111,
              "#46039f"
             ],
             [
              0.2222222222222222,
              "#7201a8"
             ],
             [
              0.3333333333333333,
              "#9c179e"
             ],
             [
              0.4444444444444444,
              "#bd3786"
             ],
             [
              0.5555555555555556,
              "#d8576b"
             ],
             [
              0.6666666666666666,
              "#ed7953"
             ],
             [
              0.7777777777777778,
              "#fb9f3a"
             ],
             [
              0.8888888888888888,
              "#fdca26"
             ],
             [
              1,
              "#f0f921"
             ]
            ],
            "type": "histogram2dcontour"
           }
          ],
          "mesh3d": [
           {
            "colorbar": {
             "outlinewidth": 0,
             "ticks": ""
            },
            "type": "mesh3d"
           }
          ],
          "parcoords": [
           {
            "line": {
             "colorbar": {
              "outlinewidth": 0,
              "ticks": ""
             }
            },
            "type": "parcoords"
           }
          ],
          "pie": [
           {
            "automargin": true,
            "type": "pie"
           }
          ],
          "scatter": [
           {
            "fillpattern": {
             "fillmode": "overlay",
             "size": 10,
             "solidity": 0.2
            },
            "type": "scatter"
           }
          ],
          "scatter3d": [
           {
            "line": {
             "colorbar": {
              "outlinewidth": 0,
              "ticks": ""
             }
            },
            "marker": {
             "colorbar": {
              "outlinewidth": 0,
              "ticks": ""
             }
            },
            "type": "scatter3d"
           }
          ],
          "scattercarpet": [
           {
            "marker": {
             "colorbar": {
              "outlinewidth": 0,
              "ticks": ""
             }
            },
            "type": "scattercarpet"
           }
          ],
          "scattergeo": [
           {
            "marker": {
             "colorbar": {
              "outlinewidth": 0,
              "ticks": ""
             }
            },
            "type": "scattergeo"
           }
          ],
          "scattergl": [
           {
            "marker": {
             "colorbar": {
              "outlinewidth": 0,
              "ticks": ""
             }
            },
            "type": "scattergl"
           }
          ],
          "scattermapbox": [
           {
            "marker": {
             "colorbar": {
              "outlinewidth": 0,
              "ticks": ""
             }
            },
            "type": "scattermapbox"
           }
          ],
          "scatterpolar": [
           {
            "marker": {
             "colorbar": {
              "outlinewidth": 0,
              "ticks": ""
             }
            },
            "type": "scatterpolar"
           }
          ],
          "scatterpolargl": [
           {
            "marker": {
             "colorbar": {
              "outlinewidth": 0,
              "ticks": ""
             }
            },
            "type": "scatterpolargl"
           }
          ],
          "scatterternary": [
           {
            "marker": {
             "colorbar": {
              "outlinewidth": 0,
              "ticks": ""
             }
            },
            "type": "scatterternary"
           }
          ],
          "surface": [
           {
            "colorbar": {
             "outlinewidth": 0,
             "ticks": ""
            },
            "colorscale": [
             [
              0,
              "#0d0887"
             ],
             [
              0.1111111111111111,
              "#46039f"
             ],
             [
              0.2222222222222222,
              "#7201a8"
             ],
             [
              0.3333333333333333,
              "#9c179e"
             ],
             [
              0.4444444444444444,
              "#bd3786"
             ],
             [
              0.5555555555555556,
              "#d8576b"
             ],
             [
              0.6666666666666666,
              "#ed7953"
             ],
             [
              0.7777777777777778,
              "#fb9f3a"
             ],
             [
              0.8888888888888888,
              "#fdca26"
             ],
             [
              1,
              "#f0f921"
             ]
            ],
            "type": "surface"
           }
          ],
          "table": [
           {
            "cells": {
             "fill": {
              "color": "#EBF0F8"
             },
             "line": {
              "color": "white"
             }
            },
            "header": {
             "fill": {
              "color": "#C8D4E3"
             },
             "line": {
              "color": "white"
             }
            },
            "type": "table"
           }
          ]
         },
         "layout": {
          "annotationdefaults": {
           "arrowcolor": "#2a3f5f",
           "arrowhead": 0,
           "arrowwidth": 1
          },
          "autotypenumbers": "strict",
          "coloraxis": {
           "colorbar": {
            "outlinewidth": 0,
            "ticks": ""
           }
          },
          "colorscale": {
           "diverging": [
            [
             0,
             "#8e0152"
            ],
            [
             0.1,
             "#c51b7d"
            ],
            [
             0.2,
             "#de77ae"
            ],
            [
             0.3,
             "#f1b6da"
            ],
            [
             0.4,
             "#fde0ef"
            ],
            [
             0.5,
             "#f7f7f7"
            ],
            [
             0.6,
             "#e6f5d0"
            ],
            [
             0.7,
             "#b8e186"
            ],
            [
             0.8,
             "#7fbc41"
            ],
            [
             0.9,
             "#4d9221"
            ],
            [
             1,
             "#276419"
            ]
           ],
           "sequential": [
            [
             0,
             "#0d0887"
            ],
            [
             0.1111111111111111,
             "#46039f"
            ],
            [
             0.2222222222222222,
             "#7201a8"
            ],
            [
             0.3333333333333333,
             "#9c179e"
            ],
            [
             0.4444444444444444,
             "#bd3786"
            ],
            [
             0.5555555555555556,
             "#d8576b"
            ],
            [
             0.6666666666666666,
             "#ed7953"
            ],
            [
             0.7777777777777778,
             "#fb9f3a"
            ],
            [
             0.8888888888888888,
             "#fdca26"
            ],
            [
             1,
             "#f0f921"
            ]
           ],
           "sequentialminus": [
            [
             0,
             "#0d0887"
            ],
            [
             0.1111111111111111,
             "#46039f"
            ],
            [
             0.2222222222222222,
             "#7201a8"
            ],
            [
             0.3333333333333333,
             "#9c179e"
            ],
            [
             0.4444444444444444,
             "#bd3786"
            ],
            [
             0.5555555555555556,
             "#d8576b"
            ],
            [
             0.6666666666666666,
             "#ed7953"
            ],
            [
             0.7777777777777778,
             "#fb9f3a"
            ],
            [
             0.8888888888888888,
             "#fdca26"
            ],
            [
             1,
             "#f0f921"
            ]
           ]
          },
          "colorway": [
           "#636efa",
           "#EF553B",
           "#00cc96",
           "#ab63fa",
           "#FFA15A",
           "#19d3f3",
           "#FF6692",
           "#B6E880",
           "#FF97FF",
           "#FECB52"
          ],
          "font": {
           "color": "#2a3f5f"
          },
          "geo": {
           "bgcolor": "white",
           "lakecolor": "white",
           "landcolor": "#E5ECF6",
           "showlakes": true,
           "showland": true,
           "subunitcolor": "white"
          },
          "hoverlabel": {
           "align": "left"
          },
          "hovermode": "closest",
          "mapbox": {
           "style": "light"
          },
          "paper_bgcolor": "white",
          "plot_bgcolor": "#E5ECF6",
          "polar": {
           "angularaxis": {
            "gridcolor": "white",
            "linecolor": "white",
            "ticks": ""
           },
           "bgcolor": "#E5ECF6",
           "radialaxis": {
            "gridcolor": "white",
            "linecolor": "white",
            "ticks": ""
           }
          },
          "scene": {
           "xaxis": {
            "backgroundcolor": "#E5ECF6",
            "gridcolor": "white",
            "gridwidth": 2,
            "linecolor": "white",
            "showbackground": true,
            "ticks": "",
            "zerolinecolor": "white"
           },
           "yaxis": {
            "backgroundcolor": "#E5ECF6",
            "gridcolor": "white",
            "gridwidth": 2,
            "linecolor": "white",
            "showbackground": true,
            "ticks": "",
            "zerolinecolor": "white"
           },
           "zaxis": {
            "backgroundcolor": "#E5ECF6",
            "gridcolor": "white",
            "gridwidth": 2,
            "linecolor": "white",
            "showbackground": true,
            "ticks": "",
            "zerolinecolor": "white"
           }
          },
          "shapedefaults": {
           "line": {
            "color": "#2a3f5f"
           }
          },
          "ternary": {
           "aaxis": {
            "gridcolor": "white",
            "linecolor": "white",
            "ticks": ""
           },
           "baxis": {
            "gridcolor": "white",
            "linecolor": "white",
            "ticks": ""
           },
           "bgcolor": "#E5ECF6",
           "caxis": {
            "gridcolor": "white",
            "linecolor": "white",
            "ticks": ""
           }
          },
          "title": {
           "x": 0.05
          },
          "xaxis": {
           "automargin": true,
           "gridcolor": "white",
           "linecolor": "white",
           "ticks": "",
           "title": {
            "standoff": 15
           },
           "zerolinecolor": "white",
           "zerolinewidth": 2
          },
          "yaxis": {
           "automargin": true,
           "gridcolor": "white",
           "linecolor": "white",
           "ticks": "",
           "title": {
            "standoff": 15
           },
           "zerolinecolor": "white",
           "zerolinewidth": 2
          }
         }
        }
       }
      }
     },
     "metadata": {},
     "output_type": "display_data"
    }
   ],
   "source": [
    "fig_pie"
   ]
  },
  {
   "cell_type": "code",
   "execution_count": 14,
   "metadata": {},
   "outputs": [
    {
     "data": {
      "application/vnd.plotly.v1+json": {
       "config": {
        "plotlyServerURL": "https://plot.ly"
       },
       "data": [
        {
         "alignmentgroup": "True",
         "hovertemplate": "Comunidad Autónoma=%{x}<br>Total=%{y}<extra></extra>",
         "legendgroup": "01 Andalucía",
         "marker": {
          "color": "#636efa",
          "pattern": {
           "shape": ""
          }
         },
         "name": "01 Andalucía",
         "offsetgroup": "01 Andalucía",
         "orientation": "v",
         "showlegend": true,
         "textposition": "auto",
         "type": "bar",
         "x": [
          "01 Andalucía"
         ],
         "xaxis": "x",
         "y": [
          8631862
         ],
         "yaxis": "y"
        },
        {
         "alignmentgroup": "True",
         "hovertemplate": "Comunidad Autónoma=%{x}<br>Total=%{y}<extra></extra>",
         "legendgroup": "02 Aragón",
         "marker": {
          "color": "#EF553B",
          "pattern": {
           "shape": ""
          }
         },
         "name": "02 Aragón",
         "offsetgroup": "02 Aragón",
         "orientation": "v",
         "showlegend": true,
         "textposition": "auto",
         "type": "bar",
         "x": [
          "02 Aragón"
         ],
         "xaxis": "x",
         "y": [
          1351591
         ],
         "yaxis": "y"
        },
        {
         "alignmentgroup": "True",
         "hovertemplate": "Comunidad Autónoma=%{x}<br>Total=%{y}<extra></extra>",
         "legendgroup": "03 Asturias, Principado de",
         "marker": {
          "color": "#00cc96",
          "pattern": {
           "shape": ""
          }
         },
         "name": "03 Asturias, Principado de",
         "offsetgroup": "03 Asturias, Principado de",
         "orientation": "v",
         "showlegend": true,
         "textposition": "auto",
         "type": "bar",
         "x": [
          "03 Asturias, Principado de"
         ],
         "xaxis": "x",
         "y": [
          1009599
         ],
         "yaxis": "y"
        },
        {
         "alignmentgroup": "True",
         "hovertemplate": "Comunidad Autónoma=%{x}<br>Total=%{y}<extra></extra>",
         "legendgroup": "04 Balears, Illes",
         "marker": {
          "color": "#ab63fa",
          "pattern": {
           "shape": ""
          }
         },
         "name": "04 Balears, Illes",
         "offsetgroup": "04 Balears, Illes",
         "orientation": "v",
         "showlegend": true,
         "textposition": "auto",
         "type": "bar",
         "x": [
          "04 Balears, Illes"
         ],
         "xaxis": "x",
         "y": [
          1231768
         ],
         "yaxis": "y"
        },
        {
         "alignmentgroup": "True",
         "hovertemplate": "Comunidad Autónoma=%{x}<br>Total=%{y}<extra></extra>",
         "legendgroup": "06 Cantabria",
         "marker": {
          "color": "#FFA15A",
          "pattern": {
           "shape": ""
          }
         },
         "name": "06 Cantabria",
         "offsetgroup": "06 Cantabria",
         "orientation": "v",
         "showlegend": true,
         "textposition": "auto",
         "type": "bar",
         "x": [
          "06 Cantabria"
         ],
         "xaxis": "x",
         "y": [
          590851
         ],
         "yaxis": "y"
        },
        {
         "alignmentgroup": "True",
         "hovertemplate": "Comunidad Autónoma=%{x}<br>Total=%{y}<extra></extra>",
         "legendgroup": "07 Castilla y León",
         "marker": {
          "color": "#19d3f3",
          "pattern": {
           "shape": ""
          }
         },
         "name": "07 Castilla y León",
         "offsetgroup": "07 Castilla y León",
         "orientation": "v",
         "showlegend": true,
         "textposition": "auto",
         "type": "bar",
         "x": [
          "07 Castilla y León"
         ],
         "xaxis": "x",
         "y": [
          2391682
         ],
         "yaxis": "y"
        },
        {
         "alignmentgroup": "True",
         "hovertemplate": "Comunidad Autónoma=%{x}<br>Total=%{y}<extra></extra>",
         "legendgroup": "08 Castilla - La Mancha",
         "marker": {
          "color": "#FF6692",
          "pattern": {
           "shape": ""
          }
         },
         "name": "08 Castilla - La Mancha",
         "offsetgroup": "08 Castilla - La Mancha",
         "orientation": "v",
         "showlegend": true,
         "textposition": "auto",
         "type": "bar",
         "x": [
          "08 Castilla - La Mancha"
         ],
         "xaxis": "x",
         "y": [
          2104433
         ],
         "yaxis": "y"
        },
        {
         "alignmentgroup": "True",
         "hovertemplate": "Comunidad Autónoma=%{x}<br>Total=%{y}<extra></extra>",
         "legendgroup": "09 Cataluña",
         "marker": {
          "color": "#B6E880",
          "pattern": {
           "shape": ""
          }
         },
         "name": "09 Cataluña",
         "offsetgroup": "09 Cataluña",
         "orientation": "v",
         "showlegend": true,
         "textposition": "auto",
         "type": "bar",
         "x": [
          "09 Cataluña"
         ],
         "xaxis": "x",
         "y": [
          8012231
         ],
         "yaxis": "y"
        },
        {
         "alignmentgroup": "True",
         "hovertemplate": "Comunidad Autónoma=%{x}<br>Total=%{y}<extra></extra>",
         "legendgroup": "10 Comunitat Valenciana",
         "marker": {
          "color": "#FF97FF",
          "pattern": {
           "shape": ""
          }
         },
         "name": "10 Comunitat Valenciana",
         "offsetgroup": "10 Comunitat Valenciana",
         "orientation": "v",
         "showlegend": true,
         "textposition": "auto",
         "type": "bar",
         "x": [
          "10 Comunitat Valenciana"
         ],
         "xaxis": "x",
         "y": [
          5319285
         ],
         "yaxis": "y"
        },
        {
         "alignmentgroup": "True",
         "hovertemplate": "Comunidad Autónoma=%{x}<br>Total=%{y}<extra></extra>",
         "legendgroup": "11 Extremadura",
         "marker": {
          "color": "#FECB52",
          "pattern": {
           "shape": ""
          }
         },
         "name": "11 Extremadura",
         "offsetgroup": "11 Extremadura",
         "orientation": "v",
         "showlegend": true,
         "textposition": "auto",
         "type": "bar",
         "x": [
          "11 Extremadura"
         ],
         "xaxis": "x",
         "y": [
          1054681
         ],
         "yaxis": "y"
        },
        {
         "alignmentgroup": "True",
         "hovertemplate": "Comunidad Autónoma=%{x}<br>Total=%{y}<extra></extra>",
         "legendgroup": "12 Galicia",
         "marker": {
          "color": "#636efa",
          "pattern": {
           "shape": ""
          }
         },
         "name": "12 Galicia",
         "offsetgroup": "12 Galicia",
         "orientation": "v",
         "showlegend": true,
         "textposition": "auto",
         "type": "bar",
         "x": [
          "12 Galicia"
         ],
         "xaxis": "x",
         "y": [
          2705833
         ],
         "yaxis": "y"
        },
        {
         "alignmentgroup": "True",
         "hovertemplate": "Comunidad Autónoma=%{x}<br>Total=%{y}<extra></extra>",
         "legendgroup": "13 Madrid, Comunidad de",
         "marker": {
          "color": "#EF553B",
          "pattern": {
           "shape": ""
          }
         },
         "name": "13 Madrid, Comunidad de",
         "offsetgroup": "13 Madrid, Comunidad de",
         "orientation": "v",
         "showlegend": true,
         "textposition": "auto",
         "type": "bar",
         "x": [
          "13 Madrid, Comunidad de"
         ],
         "xaxis": "x",
         "y": [
          7009268
         ],
         "yaxis": "y"
        },
        {
         "alignmentgroup": "True",
         "hovertemplate": "Comunidad Autónoma=%{x}<br>Total=%{y}<extra></extra>",
         "legendgroup": "14 Murcia, Región de",
         "marker": {
          "color": "#00cc96",
          "pattern": {
           "shape": ""
          }
         },
         "name": "14 Murcia, Región de",
         "offsetgroup": "14 Murcia, Región de",
         "orientation": "v",
         "showlegend": true,
         "textposition": "auto",
         "type": "bar",
         "x": [
          "14 Murcia, Región de"
         ],
         "xaxis": "x",
         "y": [
          1568492
         ],
         "yaxis": "y"
        },
        {
         "alignmentgroup": "True",
         "hovertemplate": "Comunidad Autónoma=%{x}<br>Total=%{y}<extra></extra>",
         "legendgroup": "15 Navarra, Comunidad Foral de",
         "marker": {
          "color": "#ab63fa",
          "pattern": {
           "shape": ""
          }
         },
         "name": "15 Navarra, Comunidad Foral de",
         "offsetgroup": "15 Navarra, Comunidad Foral de",
         "orientation": "v",
         "showlegend": true,
         "textposition": "auto",
         "type": "bar",
         "x": [
          "15 Navarra, Comunidad Foral de"
         ],
         "xaxis": "x",
         "y": [
          678333
         ],
         "yaxis": "y"
        },
        {
         "alignmentgroup": "True",
         "hovertemplate": "Comunidad Autónoma=%{x}<br>Total=%{y}<extra></extra>",
         "legendgroup": "16 País Vasco",
         "marker": {
          "color": "#FFA15A",
          "pattern": {
           "shape": ""
          }
         },
         "name": "16 País Vasco",
         "offsetgroup": "16 País Vasco",
         "orientation": "v",
         "showlegend": true,
         "textposition": "auto",
         "type": "bar",
         "x": [
          "16 País Vasco"
         ],
         "xaxis": "x",
         "y": [
          2227684
         ],
         "yaxis": "y"
        },
        {
         "alignmentgroup": "True",
         "hovertemplate": "Comunidad Autónoma=%{x}<br>Total=%{y}<extra></extra>",
         "legendgroup": "17 Rioja, La",
         "marker": {
          "color": "#19d3f3",
          "pattern": {
           "shape": ""
          }
         },
         "name": "17 Rioja, La",
         "offsetgroup": "17 Rioja, La",
         "orientation": "v",
         "showlegend": true,
         "textposition": "auto",
         "type": "bar",
         "x": [
          "17 Rioja, La"
         ],
         "xaxis": "x",
         "y": [
          324184
         ],
         "yaxis": "y"
        },
        {
         "alignmentgroup": "True",
         "hovertemplate": "Comunidad Autónoma=%{x}<br>Total=%{y}<extra></extra>",
         "legendgroup": "18 Ceuta",
         "marker": {
          "color": "#FF6692",
          "pattern": {
           "shape": ""
          }
         },
         "name": "18 Ceuta",
         "offsetgroup": "18 Ceuta",
         "orientation": "v",
         "showlegend": true,
         "textposition": "auto",
         "type": "bar",
         "x": [
          "18 Ceuta"
         ],
         "xaxis": "x",
         "y": [
          83179
         ],
         "yaxis": "y"
        },
        {
         "alignmentgroup": "True",
         "hovertemplate": "Comunidad Autónoma=%{x}<br>Total=%{y}<extra></extra>",
         "legendgroup": "19 Melilla",
         "marker": {
          "color": "#B6E880",
          "pattern": {
           "shape": ""
          }
         },
         "name": "19 Melilla",
         "offsetgroup": "19 Melilla",
         "orientation": "v",
         "showlegend": true,
         "textposition": "auto",
         "type": "bar",
         "x": [
          "19 Melilla"
         ],
         "xaxis": "x",
         "y": [
          85985
         ],
         "yaxis": "y"
        }
       ],
       "layout": {
        "barmode": "stack",
        "legend": {
         "title": {
          "text": "Comunidad Autónoma"
         },
         "tracegroupgap": 0
        },
        "template": {
         "data": {
          "bar": [
           {
            "error_x": {
             "color": "#2a3f5f"
            },
            "error_y": {
             "color": "#2a3f5f"
            },
            "marker": {
             "line": {
              "color": "#E5ECF6",
              "width": 0.5
             },
             "pattern": {
              "fillmode": "overlay",
              "size": 10,
              "solidity": 0.2
             }
            },
            "type": "bar"
           }
          ],
          "barpolar": [
           {
            "marker": {
             "line": {
              "color": "#E5ECF6",
              "width": 0.5
             },
             "pattern": {
              "fillmode": "overlay",
              "size": 10,
              "solidity": 0.2
             }
            },
            "type": "barpolar"
           }
          ],
          "carpet": [
           {
            "aaxis": {
             "endlinecolor": "#2a3f5f",
             "gridcolor": "white",
             "linecolor": "white",
             "minorgridcolor": "white",
             "startlinecolor": "#2a3f5f"
            },
            "baxis": {
             "endlinecolor": "#2a3f5f",
             "gridcolor": "white",
             "linecolor": "white",
             "minorgridcolor": "white",
             "startlinecolor": "#2a3f5f"
            },
            "type": "carpet"
           }
          ],
          "choropleth": [
           {
            "colorbar": {
             "outlinewidth": 0,
             "ticks": ""
            },
            "type": "choropleth"
           }
          ],
          "contour": [
           {
            "colorbar": {
             "outlinewidth": 0,
             "ticks": ""
            },
            "colorscale": [
             [
              0,
              "#0d0887"
             ],
             [
              0.1111111111111111,
              "#46039f"
             ],
             [
              0.2222222222222222,
              "#7201a8"
             ],
             [
              0.3333333333333333,
              "#9c179e"
             ],
             [
              0.4444444444444444,
              "#bd3786"
             ],
             [
              0.5555555555555556,
              "#d8576b"
             ],
             [
              0.6666666666666666,
              "#ed7953"
             ],
             [
              0.7777777777777778,
              "#fb9f3a"
             ],
             [
              0.8888888888888888,
              "#fdca26"
             ],
             [
              1,
              "#f0f921"
             ]
            ],
            "type": "contour"
           }
          ],
          "contourcarpet": [
           {
            "colorbar": {
             "outlinewidth": 0,
             "ticks": ""
            },
            "type": "contourcarpet"
           }
          ],
          "heatmap": [
           {
            "colorbar": {
             "outlinewidth": 0,
             "ticks": ""
            },
            "colorscale": [
             [
              0,
              "#0d0887"
             ],
             [
              0.1111111111111111,
              "#46039f"
             ],
             [
              0.2222222222222222,
              "#7201a8"
             ],
             [
              0.3333333333333333,
              "#9c179e"
             ],
             [
              0.4444444444444444,
              "#bd3786"
             ],
             [
              0.5555555555555556,
              "#d8576b"
             ],
             [
              0.6666666666666666,
              "#ed7953"
             ],
             [
              0.7777777777777778,
              "#fb9f3a"
             ],
             [
              0.8888888888888888,
              "#fdca26"
             ],
             [
              1,
              "#f0f921"
             ]
            ],
            "type": "heatmap"
           }
          ],
          "heatmapgl": [
           {
            "colorbar": {
             "outlinewidth": 0,
             "ticks": ""
            },
            "colorscale": [
             [
              0,
              "#0d0887"
             ],
             [
              0.1111111111111111,
              "#46039f"
             ],
             [
              0.2222222222222222,
              "#7201a8"
             ],
             [
              0.3333333333333333,
              "#9c179e"
             ],
             [
              0.4444444444444444,
              "#bd3786"
             ],
             [
              0.5555555555555556,
              "#d8576b"
             ],
             [
              0.6666666666666666,
              "#ed7953"
             ],
             [
              0.7777777777777778,
              "#fb9f3a"
             ],
             [
              0.8888888888888888,
              "#fdca26"
             ],
             [
              1,
              "#f0f921"
             ]
            ],
            "type": "heatmapgl"
           }
          ],
          "histogram": [
           {
            "marker": {
             "pattern": {
              "fillmode": "overlay",
              "size": 10,
              "solidity": 0.2
             }
            },
            "type": "histogram"
           }
          ],
          "histogram2d": [
           {
            "colorbar": {
             "outlinewidth": 0,
             "ticks": ""
            },
            "colorscale": [
             [
              0,
              "#0d0887"
             ],
             [
              0.1111111111111111,
              "#46039f"
             ],
             [
              0.2222222222222222,
              "#7201a8"
             ],
             [
              0.3333333333333333,
              "#9c179e"
             ],
             [
              0.4444444444444444,
              "#bd3786"
             ],
             [
              0.5555555555555556,
              "#d8576b"
             ],
             [
              0.6666666666666666,
              "#ed7953"
             ],
             [
              0.7777777777777778,
              "#fb9f3a"
             ],
             [
              0.8888888888888888,
              "#fdca26"
             ],
             [
              1,
              "#f0f921"
             ]
            ],
            "type": "histogram2d"
           }
          ],
          "histogram2dcontour": [
           {
            "colorbar": {
             "outlinewidth": 0,
             "ticks": ""
            },
            "colorscale": [
             [
              0,
              "#0d0887"
             ],
             [
              0.1111111111111111,
              "#46039f"
             ],
             [
              0.2222222222222222,
              "#7201a8"
             ],
             [
              0.3333333333333333,
              "#9c179e"
             ],
             [
              0.4444444444444444,
              "#bd3786"
             ],
             [
              0.5555555555555556,
              "#d8576b"
             ],
             [
              0.6666666666666666,
              "#ed7953"
             ],
             [
              0.7777777777777778,
              "#fb9f3a"
             ],
             [
              0.8888888888888888,
              "#fdca26"
             ],
             [
              1,
              "#f0f921"
             ]
            ],
            "type": "histogram2dcontour"
           }
          ],
          "mesh3d": [
           {
            "colorbar": {
             "outlinewidth": 0,
             "ticks": ""
            },
            "type": "mesh3d"
           }
          ],
          "parcoords": [
           {
            "line": {
             "colorbar": {
              "outlinewidth": 0,
              "ticks": ""
             }
            },
            "type": "parcoords"
           }
          ],
          "pie": [
           {
            "automargin": true,
            "type": "pie"
           }
          ],
          "scatter": [
           {
            "fillpattern": {
             "fillmode": "overlay",
             "size": 10,
             "solidity": 0.2
            },
            "type": "scatter"
           }
          ],
          "scatter3d": [
           {
            "line": {
             "colorbar": {
              "outlinewidth": 0,
              "ticks": ""
             }
            },
            "marker": {
             "colorbar": {
              "outlinewidth": 0,
              "ticks": ""
             }
            },
            "type": "scatter3d"
           }
          ],
          "scattercarpet": [
           {
            "marker": {
             "colorbar": {
              "outlinewidth": 0,
              "ticks": ""
             }
            },
            "type": "scattercarpet"
           }
          ],
          "scattergeo": [
           {
            "marker": {
             "colorbar": {
              "outlinewidth": 0,
              "ticks": ""
             }
            },
            "type": "scattergeo"
           }
          ],
          "scattergl": [
           {
            "marker": {
             "colorbar": {
              "outlinewidth": 0,
              "ticks": ""
             }
            },
            "type": "scattergl"
           }
          ],
          "scattermapbox": [
           {
            "marker": {
             "colorbar": {
              "outlinewidth": 0,
              "ticks": ""
             }
            },
            "type": "scattermapbox"
           }
          ],
          "scatterpolar": [
           {
            "marker": {
             "colorbar": {
              "outlinewidth": 0,
              "ticks": ""
             }
            },
            "type": "scatterpolar"
           }
          ],
          "scatterpolargl": [
           {
            "marker": {
             "colorbar": {
              "outlinewidth": 0,
              "ticks": ""
             }
            },
            "type": "scatterpolargl"
           }
          ],
          "scatterternary": [
           {
            "marker": {
             "colorbar": {
              "outlinewidth": 0,
              "ticks": ""
             }
            },
            "type": "scatterternary"
           }
          ],
          "surface": [
           {
            "colorbar": {
             "outlinewidth": 0,
             "ticks": ""
            },
            "colorscale": [
             [
              0,
              "#0d0887"
             ],
             [
              0.1111111111111111,
              "#46039f"
             ],
             [
              0.2222222222222222,
              "#7201a8"
             ],
             [
              0.3333333333333333,
              "#9c179e"
             ],
             [
              0.4444444444444444,
              "#bd3786"
             ],
             [
              0.5555555555555556,
              "#d8576b"
             ],
             [
              0.6666666666666666,
              "#ed7953"
             ],
             [
              0.7777777777777778,
              "#fb9f3a"
             ],
             [
              0.8888888888888888,
              "#fdca26"
             ],
             [
              1,
              "#f0f921"
             ]
            ],
            "type": "surface"
           }
          ],
          "table": [
           {
            "cells": {
             "fill": {
              "color": "#EBF0F8"
             },
             "line": {
              "color": "white"
             }
            },
            "header": {
             "fill": {
              "color": "#C8D4E3"
             },
             "line": {
              "color": "white"
             }
            },
            "type": "table"
           }
          ]
         },
         "layout": {
          "annotationdefaults": {
           "arrowcolor": "#2a3f5f",
           "arrowhead": 0,
           "arrowwidth": 1
          },
          "autotypenumbers": "strict",
          "coloraxis": {
           "colorbar": {
            "outlinewidth": 0,
            "ticks": ""
           }
          },
          "colorscale": {
           "diverging": [
            [
             0,
             "#8e0152"
            ],
            [
             0.1,
             "#c51b7d"
            ],
            [
             0.2,
             "#de77ae"
            ],
            [
             0.3,
             "#f1b6da"
            ],
            [
             0.4,
             "#fde0ef"
            ],
            [
             0.5,
             "#f7f7f7"
            ],
            [
             0.6,
             "#e6f5d0"
            ],
            [
             0.7,
             "#b8e186"
            ],
            [
             0.8,
             "#7fbc41"
            ],
            [
             0.9,
             "#4d9221"
            ],
            [
             1,
             "#276419"
            ]
           ],
           "sequential": [
            [
             0,
             "#0d0887"
            ],
            [
             0.1111111111111111,
             "#46039f"
            ],
            [
             0.2222222222222222,
             "#7201a8"
            ],
            [
             0.3333333333333333,
             "#9c179e"
            ],
            [
             0.4444444444444444,
             "#bd3786"
            ],
            [
             0.5555555555555556,
             "#d8576b"
            ],
            [
             0.6666666666666666,
             "#ed7953"
            ],
            [
             0.7777777777777778,
             "#fb9f3a"
            ],
            [
             0.8888888888888888,
             "#fdca26"
            ],
            [
             1,
             "#f0f921"
            ]
           ],
           "sequentialminus": [
            [
             0,
             "#0d0887"
            ],
            [
             0.1111111111111111,
             "#46039f"
            ],
            [
             0.2222222222222222,
             "#7201a8"
            ],
            [
             0.3333333333333333,
             "#9c179e"
            ],
            [
             0.4444444444444444,
             "#bd3786"
            ],
            [
             0.5555555555555556,
             "#d8576b"
            ],
            [
             0.6666666666666666,
             "#ed7953"
            ],
            [
             0.7777777777777778,
             "#fb9f3a"
            ],
            [
             0.8888888888888888,
             "#fdca26"
            ],
            [
             1,
             "#f0f921"
            ]
           ]
          },
          "colorway": [
           "#636efa",
           "#EF553B",
           "#00cc96",
           "#ab63fa",
           "#FFA15A",
           "#19d3f3",
           "#FF6692",
           "#B6E880",
           "#FF97FF",
           "#FECB52"
          ],
          "font": {
           "color": "#2a3f5f"
          },
          "geo": {
           "bgcolor": "white",
           "lakecolor": "white",
           "landcolor": "#E5ECF6",
           "showlakes": true,
           "showland": true,
           "subunitcolor": "white"
          },
          "hoverlabel": {
           "align": "left"
          },
          "hovermode": "closest",
          "mapbox": {
           "style": "light"
          },
          "paper_bgcolor": "white",
          "plot_bgcolor": "#E5ECF6",
          "polar": {
           "angularaxis": {
            "gridcolor": "white",
            "linecolor": "white",
            "ticks": ""
           },
           "bgcolor": "#E5ECF6",
           "radialaxis": {
            "gridcolor": "white",
            "linecolor": "white",
            "ticks": ""
           }
          },
          "scene": {
           "xaxis": {
            "backgroundcolor": "#E5ECF6",
            "gridcolor": "white",
            "gridwidth": 2,
            "linecolor": "white",
            "showbackground": true,
            "ticks": "",
            "zerolinecolor": "white"
           },
           "yaxis": {
            "backgroundcolor": "#E5ECF6",
            "gridcolor": "white",
            "gridwidth": 2,
            "linecolor": "white",
            "showbackground": true,
            "ticks": "",
            "zerolinecolor": "white"
           },
           "zaxis": {
            "backgroundcolor": "#E5ECF6",
            "gridcolor": "white",
            "gridwidth": 2,
            "linecolor": "white",
            "showbackground": true,
            "ticks": "",
            "zerolinecolor": "white"
           }
          },
          "shapedefaults": {
           "line": {
            "color": "#2a3f5f"
           }
          },
          "ternary": {
           "aaxis": {
            "gridcolor": "white",
            "linecolor": "white",
            "ticks": ""
           },
           "baxis": {
            "gridcolor": "white",
            "linecolor": "white",
            "ticks": ""
           },
           "bgcolor": "#E5ECF6",
           "caxis": {
            "gridcolor": "white",
            "linecolor": "white",
            "ticks": ""
           }
          },
          "title": {
           "x": 0.05
          },
          "xaxis": {
           "automargin": true,
           "gridcolor": "white",
           "linecolor": "white",
           "ticks": "",
           "title": {
            "standoff": 15
           },
           "zerolinecolor": "white",
           "zerolinewidth": 2
          },
          "yaxis": {
           "automargin": true,
           "gridcolor": "white",
           "linecolor": "white",
           "ticks": "",
           "title": {
            "standoff": 15
           },
           "zerolinecolor": "white",
           "zerolinewidth": 2
          }
         }
        },
        "title": {
         "text": "Población España 2024 por Comunidades Autónomas"
        },
        "xaxis": {
         "anchor": "y",
         "categoryarray": [
          "01 Andalucía",
          "02 Aragón",
          "03 Asturias, Principado de",
          "04 Balears, Illes",
          "06 Cantabria",
          "07 Castilla y León",
          "08 Castilla - La Mancha",
          "09 Cataluña",
          "10 Comunitat Valenciana",
          "11 Extremadura",
          "12 Galicia",
          "13 Madrid, Comunidad de",
          "14 Murcia, Región de",
          "15 Navarra, Comunidad Foral de",
          "16 País Vasco",
          "17 Rioja, La",
          "18 Ceuta",
          "19 Melilla"
         ],
         "categoryorder": "array",
         "domain": [
          0,
          1
         ],
         "title": {
          "text": "Comunidad Autónoma"
         }
        },
        "yaxis": {
         "anchor": "x",
         "domain": [
          0,
          1
         ],
         "title": {
          "text": "Total"
         }
        }
       }
      }
     },
     "metadata": {},
     "output_type": "display_data"
    }
   ],
   "source": [
    "fig_bar"
   ]
  },
  {
   "cell_type": "code",
   "execution_count": 15,
   "metadata": {},
   "outputs": [
    {
     "data": {
      "application/vnd.plotly.v1+json": {
       "config": {
        "plotlyServerURL": "https://plot.ly"
       },
       "data": [
        {
         "hovertemplate": "<b>%{hovertext}</b><br><br>Unnamed: 1=%{marker.size}<br>lat=%{lat}<br>lon=%{lon}<extra></extra>",
         "hovertext": [
          "01 Andalucía",
          "02 Aragón",
          "03 Asturias, Principado de",
          "04 Balears, Illes",
          "06 Cantabria",
          "07 Castilla y León",
          "08 Castilla - La Mancha",
          "09 Cataluña",
          "10 Comunitat Valenciana",
          "11 Extremadura",
          "12 Galicia",
          "13 Madrid, Comunidad de",
          "14 Murcia, Región de",
          "15 Navarra, Comunidad Foral de",
          "16 País Vasco",
          "17 Rioja, La",
          "18 Ceuta",
          "19 Melilla"
         ],
         "lat": [
          37.3891,
          41.6488,
          43.3603,
          39.5696,
          43.4623,
          41.6521,
          39.8568,
          42,
          41.3851,
          38.7257,
          42.5751,
          40.4168,
          37.9834,
          42.8125,
          42.6985,
          39.4699,
          35.8894,
          35.2923
         ],
         "legendgroup": "",
         "lon": [
          -4.58,
          -0.67,
          -5.99,
          2.9,
          -4.03,
          -4.78,
          -3.01,
          1.52,
          -0.56,
          -6.15,
          -7.91,
          -3.72,
          -1.49,
          -1.65,
          -2.62,
          -2.52,
          -5.31,
          -2.93
         ],
         "marker": {
          "color": "#636efa",
          "size": [
           8631862,
           1351591,
           1009599,
           1231768,
           590851,
           2391682,
           2104433,
           8012231,
           5319285,
           1054681,
           2705833,
           7009268,
           1568492,
           678333,
           2227684,
           324184,
           83179,
           85985
          ],
          "sizemode": "area",
          "sizeref": 21579.655
         },
         "mode": "markers",
         "name": "",
         "showlegend": false,
         "subplot": "mapbox",
         "type": "scattermapbox"
        }
       ],
       "layout": {
        "legend": {
         "itemsizing": "constant",
         "tracegroupgap": 0
        },
        "mapbox": {
         "center": {
          "lat": 40.4168,
          "lon": -3.7038
         },
         "domain": {
          "x": [
           0,
           1
          ],
          "y": [
           0,
           1
          ]
         },
         "style": "carto-positron",
         "zoom": 4.1
        },
        "margin": {
         "t": 60
        },
        "template": {
         "data": {
          "bar": [
           {
            "error_x": {
             "color": "#2a3f5f"
            },
            "error_y": {
             "color": "#2a3f5f"
            },
            "marker": {
             "line": {
              "color": "#E5ECF6",
              "width": 0.5
             },
             "pattern": {
              "fillmode": "overlay",
              "size": 10,
              "solidity": 0.2
             }
            },
            "type": "bar"
           }
          ],
          "barpolar": [
           {
            "marker": {
             "line": {
              "color": "#E5ECF6",
              "width": 0.5
             },
             "pattern": {
              "fillmode": "overlay",
              "size": 10,
              "solidity": 0.2
             }
            },
            "type": "barpolar"
           }
          ],
          "carpet": [
           {
            "aaxis": {
             "endlinecolor": "#2a3f5f",
             "gridcolor": "white",
             "linecolor": "white",
             "minorgridcolor": "white",
             "startlinecolor": "#2a3f5f"
            },
            "baxis": {
             "endlinecolor": "#2a3f5f",
             "gridcolor": "white",
             "linecolor": "white",
             "minorgridcolor": "white",
             "startlinecolor": "#2a3f5f"
            },
            "type": "carpet"
           }
          ],
          "choropleth": [
           {
            "colorbar": {
             "outlinewidth": 0,
             "ticks": ""
            },
            "type": "choropleth"
           }
          ],
          "contour": [
           {
            "colorbar": {
             "outlinewidth": 0,
             "ticks": ""
            },
            "colorscale": [
             [
              0,
              "#0d0887"
             ],
             [
              0.1111111111111111,
              "#46039f"
             ],
             [
              0.2222222222222222,
              "#7201a8"
             ],
             [
              0.3333333333333333,
              "#9c179e"
             ],
             [
              0.4444444444444444,
              "#bd3786"
             ],
             [
              0.5555555555555556,
              "#d8576b"
             ],
             [
              0.6666666666666666,
              "#ed7953"
             ],
             [
              0.7777777777777778,
              "#fb9f3a"
             ],
             [
              0.8888888888888888,
              "#fdca26"
             ],
             [
              1,
              "#f0f921"
             ]
            ],
            "type": "contour"
           }
          ],
          "contourcarpet": [
           {
            "colorbar": {
             "outlinewidth": 0,
             "ticks": ""
            },
            "type": "contourcarpet"
           }
          ],
          "heatmap": [
           {
            "colorbar": {
             "outlinewidth": 0,
             "ticks": ""
            },
            "colorscale": [
             [
              0,
              "#0d0887"
             ],
             [
              0.1111111111111111,
              "#46039f"
             ],
             [
              0.2222222222222222,
              "#7201a8"
             ],
             [
              0.3333333333333333,
              "#9c179e"
             ],
             [
              0.4444444444444444,
              "#bd3786"
             ],
             [
              0.5555555555555556,
              "#d8576b"
             ],
             [
              0.6666666666666666,
              "#ed7953"
             ],
             [
              0.7777777777777778,
              "#fb9f3a"
             ],
             [
              0.8888888888888888,
              "#fdca26"
             ],
             [
              1,
              "#f0f921"
             ]
            ],
            "type": "heatmap"
           }
          ],
          "heatmapgl": [
           {
            "colorbar": {
             "outlinewidth": 0,
             "ticks": ""
            },
            "colorscale": [
             [
              0,
              "#0d0887"
             ],
             [
              0.1111111111111111,
              "#46039f"
             ],
             [
              0.2222222222222222,
              "#7201a8"
             ],
             [
              0.3333333333333333,
              "#9c179e"
             ],
             [
              0.4444444444444444,
              "#bd3786"
             ],
             [
              0.5555555555555556,
              "#d8576b"
             ],
             [
              0.6666666666666666,
              "#ed7953"
             ],
             [
              0.7777777777777778,
              "#fb9f3a"
             ],
             [
              0.8888888888888888,
              "#fdca26"
             ],
             [
              1,
              "#f0f921"
             ]
            ],
            "type": "heatmapgl"
           }
          ],
          "histogram": [
           {
            "marker": {
             "pattern": {
              "fillmode": "overlay",
              "size": 10,
              "solidity": 0.2
             }
            },
            "type": "histogram"
           }
          ],
          "histogram2d": [
           {
            "colorbar": {
             "outlinewidth": 0,
             "ticks": ""
            },
            "colorscale": [
             [
              0,
              "#0d0887"
             ],
             [
              0.1111111111111111,
              "#46039f"
             ],
             [
              0.2222222222222222,
              "#7201a8"
             ],
             [
              0.3333333333333333,
              "#9c179e"
             ],
             [
              0.4444444444444444,
              "#bd3786"
             ],
             [
              0.5555555555555556,
              "#d8576b"
             ],
             [
              0.6666666666666666,
              "#ed7953"
             ],
             [
              0.7777777777777778,
              "#fb9f3a"
             ],
             [
              0.8888888888888888,
              "#fdca26"
             ],
             [
              1,
              "#f0f921"
             ]
            ],
            "type": "histogram2d"
           }
          ],
          "histogram2dcontour": [
           {
            "colorbar": {
             "outlinewidth": 0,
             "ticks": ""
            },
            "colorscale": [
             [
              0,
              "#0d0887"
             ],
             [
              0.1111111111111111,
              "#46039f"
             ],
             [
              0.2222222222222222,
              "#7201a8"
             ],
             [
              0.3333333333333333,
              "#9c179e"
             ],
             [
              0.4444444444444444,
              "#bd3786"
             ],
             [
              0.5555555555555556,
              "#d8576b"
             ],
             [
              0.6666666666666666,
              "#ed7953"
             ],
             [
              0.7777777777777778,
              "#fb9f3a"
             ],
             [
              0.8888888888888888,
              "#fdca26"
             ],
             [
              1,
              "#f0f921"
             ]
            ],
            "type": "histogram2dcontour"
           }
          ],
          "mesh3d": [
           {
            "colorbar": {
             "outlinewidth": 0,
             "ticks": ""
            },
            "type": "mesh3d"
           }
          ],
          "parcoords": [
           {
            "line": {
             "colorbar": {
              "outlinewidth": 0,
              "ticks": ""
             }
            },
            "type": "parcoords"
           }
          ],
          "pie": [
           {
            "automargin": true,
            "type": "pie"
           }
          ],
          "scatter": [
           {
            "fillpattern": {
             "fillmode": "overlay",
             "size": 10,
             "solidity": 0.2
            },
            "type": "scatter"
           }
          ],
          "scatter3d": [
           {
            "line": {
             "colorbar": {
              "outlinewidth": 0,
              "ticks": ""
             }
            },
            "marker": {
             "colorbar": {
              "outlinewidth": 0,
              "ticks": ""
             }
            },
            "type": "scatter3d"
           }
          ],
          "scattercarpet": [
           {
            "marker": {
             "colorbar": {
              "outlinewidth": 0,
              "ticks": ""
             }
            },
            "type": "scattercarpet"
           }
          ],
          "scattergeo": [
           {
            "marker": {
             "colorbar": {
              "outlinewidth": 0,
              "ticks": ""
             }
            },
            "type": "scattergeo"
           }
          ],
          "scattergl": [
           {
            "marker": {
             "colorbar": {
              "outlinewidth": 0,
              "ticks": ""
             }
            },
            "type": "scattergl"
           }
          ],
          "scattermapbox": [
           {
            "marker": {
             "colorbar": {
              "outlinewidth": 0,
              "ticks": ""
             }
            },
            "type": "scattermapbox"
           }
          ],
          "scatterpolar": [
           {
            "marker": {
             "colorbar": {
              "outlinewidth": 0,
              "ticks": ""
             }
            },
            "type": "scatterpolar"
           }
          ],
          "scatterpolargl": [
           {
            "marker": {
             "colorbar": {
              "outlinewidth": 0,
              "ticks": ""
             }
            },
            "type": "scatterpolargl"
           }
          ],
          "scatterternary": [
           {
            "marker": {
             "colorbar": {
              "outlinewidth": 0,
              "ticks": ""
             }
            },
            "type": "scatterternary"
           }
          ],
          "surface": [
           {
            "colorbar": {
             "outlinewidth": 0,
             "ticks": ""
            },
            "colorscale": [
             [
              0,
              "#0d0887"
             ],
             [
              0.1111111111111111,
              "#46039f"
             ],
             [
              0.2222222222222222,
              "#7201a8"
             ],
             [
              0.3333333333333333,
              "#9c179e"
             ],
             [
              0.4444444444444444,
              "#bd3786"
             ],
             [
              0.5555555555555556,
              "#d8576b"
             ],
             [
              0.6666666666666666,
              "#ed7953"
             ],
             [
              0.7777777777777778,
              "#fb9f3a"
             ],
             [
              0.8888888888888888,
              "#fdca26"
             ],
             [
              1,
              "#f0f921"
             ]
            ],
            "type": "surface"
           }
          ],
          "table": [
           {
            "cells": {
             "fill": {
              "color": "#EBF0F8"
             },
             "line": {
              "color": "white"
             }
            },
            "header": {
             "fill": {
              "color": "#C8D4E3"
             },
             "line": {
              "color": "white"
             }
            },
            "type": "table"
           }
          ]
         },
         "layout": {
          "annotationdefaults": {
           "arrowcolor": "#2a3f5f",
           "arrowhead": 0,
           "arrowwidth": 1
          },
          "autotypenumbers": "strict",
          "coloraxis": {
           "colorbar": {
            "outlinewidth": 0,
            "ticks": ""
           }
          },
          "colorscale": {
           "diverging": [
            [
             0,
             "#8e0152"
            ],
            [
             0.1,
             "#c51b7d"
            ],
            [
             0.2,
             "#de77ae"
            ],
            [
             0.3,
             "#f1b6da"
            ],
            [
             0.4,
             "#fde0ef"
            ],
            [
             0.5,
             "#f7f7f7"
            ],
            [
             0.6,
             "#e6f5d0"
            ],
            [
             0.7,
             "#b8e186"
            ],
            [
             0.8,
             "#7fbc41"
            ],
            [
             0.9,
             "#4d9221"
            ],
            [
             1,
             "#276419"
            ]
           ],
           "sequential": [
            [
             0,
             "#0d0887"
            ],
            [
             0.1111111111111111,
             "#46039f"
            ],
            [
             0.2222222222222222,
             "#7201a8"
            ],
            [
             0.3333333333333333,
             "#9c179e"
            ],
            [
             0.4444444444444444,
             "#bd3786"
            ],
            [
             0.5555555555555556,
             "#d8576b"
            ],
            [
             0.6666666666666666,
             "#ed7953"
            ],
            [
             0.7777777777777778,
             "#fb9f3a"
            ],
            [
             0.8888888888888888,
             "#fdca26"
            ],
            [
             1,
             "#f0f921"
            ]
           ],
           "sequentialminus": [
            [
             0,
             "#0d0887"
            ],
            [
             0.1111111111111111,
             "#46039f"
            ],
            [
             0.2222222222222222,
             "#7201a8"
            ],
            [
             0.3333333333333333,
             "#9c179e"
            ],
            [
             0.4444444444444444,
             "#bd3786"
            ],
            [
             0.5555555555555556,
             "#d8576b"
            ],
            [
             0.6666666666666666,
             "#ed7953"
            ],
            [
             0.7777777777777778,
             "#fb9f3a"
            ],
            [
             0.8888888888888888,
             "#fdca26"
            ],
            [
             1,
             "#f0f921"
            ]
           ]
          },
          "colorway": [
           "#636efa",
           "#EF553B",
           "#00cc96",
           "#ab63fa",
           "#FFA15A",
           "#19d3f3",
           "#FF6692",
           "#B6E880",
           "#FF97FF",
           "#FECB52"
          ],
          "font": {
           "color": "#2a3f5f"
          },
          "geo": {
           "bgcolor": "white",
           "lakecolor": "white",
           "landcolor": "#E5ECF6",
           "showlakes": true,
           "showland": true,
           "subunitcolor": "white"
          },
          "hoverlabel": {
           "align": "left"
          },
          "hovermode": "closest",
          "mapbox": {
           "style": "light"
          },
          "paper_bgcolor": "white",
          "plot_bgcolor": "#E5ECF6",
          "polar": {
           "angularaxis": {
            "gridcolor": "white",
            "linecolor": "white",
            "ticks": ""
           },
           "bgcolor": "#E5ECF6",
           "radialaxis": {
            "gridcolor": "white",
            "linecolor": "white",
            "ticks": ""
           }
          },
          "scene": {
           "xaxis": {
            "backgroundcolor": "#E5ECF6",
            "gridcolor": "white",
            "gridwidth": 2,
            "linecolor": "white",
            "showbackground": true,
            "ticks": "",
            "zerolinecolor": "white"
           },
           "yaxis": {
            "backgroundcolor": "#E5ECF6",
            "gridcolor": "white",
            "gridwidth": 2,
            "linecolor": "white",
            "showbackground": true,
            "ticks": "",
            "zerolinecolor": "white"
           },
           "zaxis": {
            "backgroundcolor": "#E5ECF6",
            "gridcolor": "white",
            "gridwidth": 2,
            "linecolor": "white",
            "showbackground": true,
            "ticks": "",
            "zerolinecolor": "white"
           }
          },
          "shapedefaults": {
           "line": {
            "color": "#2a3f5f"
           }
          },
          "ternary": {
           "aaxis": {
            "gridcolor": "white",
            "linecolor": "white",
            "ticks": ""
           },
           "baxis": {
            "gridcolor": "white",
            "linecolor": "white",
            "ticks": ""
           },
           "bgcolor": "#E5ECF6",
           "caxis": {
            "gridcolor": "white",
            "linecolor": "white",
            "ticks": ""
           }
          },
          "title": {
           "x": 0.05
          },
          "xaxis": {
           "automargin": true,
           "gridcolor": "white",
           "linecolor": "white",
           "ticks": "",
           "title": {
            "standoff": 15
           },
           "zerolinecolor": "white",
           "zerolinewidth": 2
          },
          "yaxis": {
           "automargin": true,
           "gridcolor": "white",
           "linecolor": "white",
           "ticks": "",
           "title": {
            "standoff": 15
           },
           "zerolinecolor": "white",
           "zerolinewidth": 2
          }
         }
        }
       }
      }
     },
     "metadata": {},
     "output_type": "display_data"
    }
   ],
   "source": [
    "px.scatter_mapbox(\n",
    "    data_frame=df_ccaa, \n",
    "    lat = 'lat',\n",
    "    lon = 'lon',\n",
    "    mapbox_style= \"carto-positron\",\n",
    "    center = {\"lat\": 40.4168, \"lon\": -3.7038},\n",
    "    zoom = 4.1, \n",
    "    size = 'Unnamed: 1',\n",
    "    size_max= 20,\n",
    "    hover_name = 'Censo anual de población 2021-2024'\n",
    "    )"
   ]
  },
  {
   "cell_type": "code",
   "execution_count": 49,
   "metadata": {},
   "outputs": [
    {
     "ename": "KeyError",
     "evalue": "\"['Censo anual de población 2021-2024'] not in index\"",
     "output_type": "error",
     "traceback": [
      "\u001b[0;31m---------------------------------------------------------------------------\u001b[0m",
      "\u001b[0;31mKeyError\u001b[0m                                  Traceback (most recent call last)",
      "Cell \u001b[0;32mIn[49], line 1\u001b[0m\n\u001b[0;32m----> 1\u001b[0m df_ccaa[[\u001b[38;5;124m'\u001b[39m\u001b[38;5;124mCenso anual de población 2021-2024\u001b[39m\u001b[38;5;124m'\u001b[39m, \u001b[38;5;124m'\u001b[39m\u001b[38;5;124mUnnamed: 1\u001b[39m\u001b[38;5;124m'\u001b[39m, \u001b[38;5;124m'\u001b[39m\u001b[38;5;124mlon\u001b[39m\u001b[38;5;124m'\u001b[39m, \u001b[38;5;124m'\u001b[39m\u001b[38;5;124mlat\u001b[39m\u001b[38;5;124m'\u001b[39m]]\n",
      "File \u001b[0;32m~/miniconda3/lib/python3.12/site-packages/pandas/core/frame.py:4108\u001b[0m, in \u001b[0;36mDataFrame.__getitem__\u001b[0;34m(self, key)\u001b[0m\n\u001b[1;32m   4106\u001b[0m     \u001b[38;5;28;01mif\u001b[39;00m is_iterator(key):\n\u001b[1;32m   4107\u001b[0m         key \u001b[38;5;241m=\u001b[39m \u001b[38;5;28mlist\u001b[39m(key)\n\u001b[0;32m-> 4108\u001b[0m     indexer \u001b[38;5;241m=\u001b[39m \u001b[38;5;28mself\u001b[39m\u001b[38;5;241m.\u001b[39mcolumns\u001b[38;5;241m.\u001b[39m_get_indexer_strict(key, \u001b[38;5;124m\"\u001b[39m\u001b[38;5;124mcolumns\u001b[39m\u001b[38;5;124m\"\u001b[39m)[\u001b[38;5;241m1\u001b[39m]\n\u001b[1;32m   4110\u001b[0m \u001b[38;5;66;03m# take() does not accept boolean indexers\u001b[39;00m\n\u001b[1;32m   4111\u001b[0m \u001b[38;5;28;01mif\u001b[39;00m \u001b[38;5;28mgetattr\u001b[39m(indexer, \u001b[38;5;124m\"\u001b[39m\u001b[38;5;124mdtype\u001b[39m\u001b[38;5;124m\"\u001b[39m, \u001b[38;5;28;01mNone\u001b[39;00m) \u001b[38;5;241m==\u001b[39m \u001b[38;5;28mbool\u001b[39m:\n",
      "File \u001b[0;32m~/miniconda3/lib/python3.12/site-packages/pandas/core/indexes/base.py:6200\u001b[0m, in \u001b[0;36mIndex._get_indexer_strict\u001b[0;34m(self, key, axis_name)\u001b[0m\n\u001b[1;32m   6197\u001b[0m \u001b[38;5;28;01melse\u001b[39;00m:\n\u001b[1;32m   6198\u001b[0m     keyarr, indexer, new_indexer \u001b[38;5;241m=\u001b[39m \u001b[38;5;28mself\u001b[39m\u001b[38;5;241m.\u001b[39m_reindex_non_unique(keyarr)\n\u001b[0;32m-> 6200\u001b[0m \u001b[38;5;28mself\u001b[39m\u001b[38;5;241m.\u001b[39m_raise_if_missing(keyarr, indexer, axis_name)\n\u001b[1;32m   6202\u001b[0m keyarr \u001b[38;5;241m=\u001b[39m \u001b[38;5;28mself\u001b[39m\u001b[38;5;241m.\u001b[39mtake(indexer)\n\u001b[1;32m   6203\u001b[0m \u001b[38;5;28;01mif\u001b[39;00m \u001b[38;5;28misinstance\u001b[39m(key, Index):\n\u001b[1;32m   6204\u001b[0m     \u001b[38;5;66;03m# GH 42790 - Preserve name from an Index\u001b[39;00m\n",
      "File \u001b[0;32m~/miniconda3/lib/python3.12/site-packages/pandas/core/indexes/base.py:6252\u001b[0m, in \u001b[0;36mIndex._raise_if_missing\u001b[0;34m(self, key, indexer, axis_name)\u001b[0m\n\u001b[1;32m   6249\u001b[0m     \u001b[38;5;28;01mraise\u001b[39;00m \u001b[38;5;167;01mKeyError\u001b[39;00m(\u001b[38;5;124mf\u001b[39m\u001b[38;5;124m\"\u001b[39m\u001b[38;5;124mNone of [\u001b[39m\u001b[38;5;132;01m{\u001b[39;00mkey\u001b[38;5;132;01m}\u001b[39;00m\u001b[38;5;124m] are in the [\u001b[39m\u001b[38;5;132;01m{\u001b[39;00maxis_name\u001b[38;5;132;01m}\u001b[39;00m\u001b[38;5;124m]\u001b[39m\u001b[38;5;124m\"\u001b[39m)\n\u001b[1;32m   6251\u001b[0m not_found \u001b[38;5;241m=\u001b[39m \u001b[38;5;28mlist\u001b[39m(ensure_index(key)[missing_mask\u001b[38;5;241m.\u001b[39mnonzero()[\u001b[38;5;241m0\u001b[39m]]\u001b[38;5;241m.\u001b[39munique())\n\u001b[0;32m-> 6252\u001b[0m \u001b[38;5;28;01mraise\u001b[39;00m \u001b[38;5;167;01mKeyError\u001b[39;00m(\u001b[38;5;124mf\u001b[39m\u001b[38;5;124m\"\u001b[39m\u001b[38;5;132;01m{\u001b[39;00mnot_found\u001b[38;5;132;01m}\u001b[39;00m\u001b[38;5;124m not in index\u001b[39m\u001b[38;5;124m\"\u001b[39m)\n",
      "\u001b[0;31mKeyError\u001b[0m: \"['Censo anual de población 2021-2024'] not in index\""
     ]
    }
   ],
   "source": [
    "df_ccaa[['Censo anual de población 2021-2024', 'Unnamed: 1', 'lon', 'lat']] #Reset_index reestablece el indice de un df\n",
    "# pasando el anterior indice (censo anual...) a una columna. Luego crea un indice numerico (mejor para seleccionar las rows). drop=True no conserva el indice anterior\n",
    "# como columna, drop=False si lo conserva. \n",
    "\n",
    "# reset index me establece un indice numerico, set index me da una columna como indice\n"
   ]
  },
  {
   "cell_type": "code",
   "execution_count": 50,
   "metadata": {},
   "outputs": [
    {
     "data": {
      "text/html": [
       "<div>\n",
       "<style scoped>\n",
       "    .dataframe tbody tr th:only-of-type {\n",
       "        vertical-align: middle;\n",
       "    }\n",
       "\n",
       "    .dataframe tbody tr th {\n",
       "        vertical-align: top;\n",
       "    }\n",
       "\n",
       "    .dataframe thead th {\n",
       "        text-align: right;\n",
       "    }\n",
       "</style>\n",
       "<table border=\"1\" class=\"dataframe\">\n",
       "  <thead>\n",
       "    <tr style=\"text-align: right;\">\n",
       "      <th></th>\n",
       "      <th>Unnamed: 1</th>\n",
       "      <th>lon</th>\n",
       "      <th>lat</th>\n",
       "    </tr>\n",
       "    <tr>\n",
       "      <th>Censo anual de población 2021-2024</th>\n",
       "      <th></th>\n",
       "      <th></th>\n",
       "      <th></th>\n",
       "    </tr>\n",
       "  </thead>\n",
       "  <tbody>\n",
       "    <tr>\n",
       "      <th>01 Andalucía</th>\n",
       "      <td>8631862.0</td>\n",
       "      <td>-4.58</td>\n",
       "      <td>37.3891</td>\n",
       "    </tr>\n",
       "    <tr>\n",
       "      <th>02 Aragón</th>\n",
       "      <td>1351591.0</td>\n",
       "      <td>-0.67</td>\n",
       "      <td>41.6488</td>\n",
       "    </tr>\n",
       "    <tr>\n",
       "      <th>03 Asturias, Principado de</th>\n",
       "      <td>1009599.0</td>\n",
       "      <td>-5.99</td>\n",
       "      <td>43.3603</td>\n",
       "    </tr>\n",
       "    <tr>\n",
       "      <th>04 Balears, Illes</th>\n",
       "      <td>1231768.0</td>\n",
       "      <td>2.90</td>\n",
       "      <td>39.5696</td>\n",
       "    </tr>\n",
       "    <tr>\n",
       "      <th>06 Cantabria</th>\n",
       "      <td>590851.0</td>\n",
       "      <td>-4.03</td>\n",
       "      <td>43.4623</td>\n",
       "    </tr>\n",
       "    <tr>\n",
       "      <th>07 Castilla y León</th>\n",
       "      <td>2391682.0</td>\n",
       "      <td>-4.78</td>\n",
       "      <td>41.6521</td>\n",
       "    </tr>\n",
       "    <tr>\n",
       "      <th>08 Castilla - La Mancha</th>\n",
       "      <td>2104433.0</td>\n",
       "      <td>-3.01</td>\n",
       "      <td>39.8568</td>\n",
       "    </tr>\n",
       "    <tr>\n",
       "      <th>09 Cataluña</th>\n",
       "      <td>8012231.0</td>\n",
       "      <td>1.52</td>\n",
       "      <td>42.0000</td>\n",
       "    </tr>\n",
       "    <tr>\n",
       "      <th>10 Comunitat Valenciana</th>\n",
       "      <td>5319285.0</td>\n",
       "      <td>-0.56</td>\n",
       "      <td>41.3851</td>\n",
       "    </tr>\n",
       "    <tr>\n",
       "      <th>11 Extremadura</th>\n",
       "      <td>1054681.0</td>\n",
       "      <td>-6.15</td>\n",
       "      <td>38.7257</td>\n",
       "    </tr>\n",
       "    <tr>\n",
       "      <th>12 Galicia</th>\n",
       "      <td>2705833.0</td>\n",
       "      <td>-7.91</td>\n",
       "      <td>42.5751</td>\n",
       "    </tr>\n",
       "    <tr>\n",
       "      <th>13 Madrid, Comunidad de</th>\n",
       "      <td>7009268.0</td>\n",
       "      <td>-3.72</td>\n",
       "      <td>40.4168</td>\n",
       "    </tr>\n",
       "    <tr>\n",
       "      <th>14 Murcia, Región de</th>\n",
       "      <td>1568492.0</td>\n",
       "      <td>-1.49</td>\n",
       "      <td>37.9834</td>\n",
       "    </tr>\n",
       "    <tr>\n",
       "      <th>15 Navarra, Comunidad Foral de</th>\n",
       "      <td>678333.0</td>\n",
       "      <td>-1.65</td>\n",
       "      <td>42.8125</td>\n",
       "    </tr>\n",
       "    <tr>\n",
       "      <th>16 País Vasco</th>\n",
       "      <td>2227684.0</td>\n",
       "      <td>-2.62</td>\n",
       "      <td>42.6985</td>\n",
       "    </tr>\n",
       "    <tr>\n",
       "      <th>17 Rioja, La</th>\n",
       "      <td>324184.0</td>\n",
       "      <td>-2.52</td>\n",
       "      <td>39.4699</td>\n",
       "    </tr>\n",
       "    <tr>\n",
       "      <th>18 Ceuta</th>\n",
       "      <td>83179.0</td>\n",
       "      <td>-5.31</td>\n",
       "      <td>35.8894</td>\n",
       "    </tr>\n",
       "    <tr>\n",
       "      <th>19 Melilla</th>\n",
       "      <td>85985.0</td>\n",
       "      <td>-2.93</td>\n",
       "      <td>35.2923</td>\n",
       "    </tr>\n",
       "  </tbody>\n",
       "</table>\n",
       "</div>"
      ],
      "text/plain": [
       "                                    Unnamed: 1   lon      lat\n",
       "Censo anual de población 2021-2024                           \n",
       "01 Andalucía                         8631862.0 -4.58  37.3891\n",
       "02 Aragón                            1351591.0 -0.67  41.6488\n",
       "03 Asturias, Principado de           1009599.0 -5.99  43.3603\n",
       "04 Balears, Illes                    1231768.0  2.90  39.5696\n",
       "06 Cantabria                          590851.0 -4.03  43.4623\n",
       "07 Castilla y León                   2391682.0 -4.78  41.6521\n",
       "08 Castilla - La Mancha              2104433.0 -3.01  39.8568\n",
       "09 Cataluña                          8012231.0  1.52  42.0000\n",
       "10 Comunitat Valenciana              5319285.0 -0.56  41.3851\n",
       "11 Extremadura                       1054681.0 -6.15  38.7257\n",
       "12 Galicia                           2705833.0 -7.91  42.5751\n",
       "13 Madrid, Comunidad de              7009268.0 -3.72  40.4168\n",
       "14 Murcia, Región de                 1568492.0 -1.49  37.9834\n",
       "15 Navarra, Comunidad Foral de        678333.0 -1.65  42.8125\n",
       "16 País Vasco                        2227684.0 -2.62  42.6985\n",
       "17 Rioja, La                          324184.0 -2.52  39.4699\n",
       "18 Ceuta                               83179.0 -5.31  35.8894\n",
       "19 Melilla                             85985.0 -2.93  35.2923"
      ]
     },
     "execution_count": 50,
     "metadata": {},
     "output_type": "execute_result"
    }
   ],
   "source": [
    "df_ccaa"
   ]
  },
  {
   "cell_type": "code",
   "execution_count": null,
   "metadata": {},
   "outputs": [],
   "source": []
  }
 ],
 "metadata": {
  "kernelspec": {
   "display_name": "base",
   "language": "python",
   "name": "python3"
  },
  "language_info": {
   "codemirror_mode": {
    "name": "ipython",
    "version": 3
   },
   "file_extension": ".py",
   "mimetype": "text/x-python",
   "name": "python",
   "nbconvert_exporter": "python",
   "pygments_lexer": "ipython3",
   "version": "3.12.7"
  }
 },
 "nbformat": 4,
 "nbformat_minor": 2
}
