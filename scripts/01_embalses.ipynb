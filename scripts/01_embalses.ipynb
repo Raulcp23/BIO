{
 "cells": [
  {
   "cell_type": "code",
   "execution_count": 1,
   "metadata": {},
   "outputs": [],
   "source": [
    "import pandas as pd"
   ]
  },
  {
   "cell_type": "code",
   "execution_count": 3,
   "metadata": {},
   "outputs": [
    {
     "name": "stderr",
     "output_type": "stream",
     "text": [
      "/Users/sota/miniforge3/envs/work/lib/python3.13/site-packages/openpyxl/styles/stylesheet.py:237: UserWarning: Workbook contains no default style, apply openpyxl's default\n",
      "  warn(\"Workbook contains no default style, apply openpyxl's default\")\n"
     ]
    },
    {
     "data": {
      "text/html": [
       "<div>\n",
       "<style scoped>\n",
       "    .dataframe tbody tr th:only-of-type {\n",
       "        vertical-align: middle;\n",
       "    }\n",
       "\n",
       "    .dataframe tbody tr th {\n",
       "        vertical-align: top;\n",
       "    }\n",
       "\n",
       "    .dataframe thead th {\n",
       "        text-align: right;\n",
       "    }\n",
       "</style>\n",
       "<table border=\"1\" class=\"dataframe\">\n",
       "  <thead>\n",
       "    <tr style=\"text-align: right;\">\n",
       "      <th></th>\n",
       "      <th>Censo anual de población 2021-2024</th>\n",
       "      <th>Unnamed: 1</th>\n",
       "      <th>Unnamed: 2</th>\n",
       "      <th>Unnamed: 3</th>\n",
       "      <th>Unnamed: 4</th>\n",
       "      <th>Unnamed: 5</th>\n",
       "      <th>Unnamed: 6</th>\n",
       "      <th>Unnamed: 7</th>\n",
       "      <th>Unnamed: 8</th>\n",
       "      <th>Unnamed: 9</th>\n",
       "      <th>Unnamed: 10</th>\n",
       "      <th>Unnamed: 11</th>\n",
       "      <th>Unnamed: 12</th>\n",
       "    </tr>\n",
       "  </thead>\n",
       "  <tbody>\n",
       "    <tr>\n",
       "      <th>0</th>\n",
       "      <td>Cifras de población</td>\n",
       "      <td>NaN</td>\n",
       "      <td>NaN</td>\n",
       "      <td>NaN</td>\n",
       "      <td>NaN</td>\n",
       "      <td>NaN</td>\n",
       "      <td>NaN</td>\n",
       "      <td>NaN</td>\n",
       "      <td>NaN</td>\n",
       "      <td>NaN</td>\n",
       "      <td>NaN</td>\n",
       "      <td>NaN</td>\n",
       "      <td>NaN</td>\n",
       "    </tr>\n",
       "    <tr>\n",
       "      <th>1</th>\n",
       "      <td>NaN</td>\n",
       "      <td>NaN</td>\n",
       "      <td>NaN</td>\n",
       "      <td>NaN</td>\n",
       "      <td>NaN</td>\n",
       "      <td>NaN</td>\n",
       "      <td>NaN</td>\n",
       "      <td>NaN</td>\n",
       "      <td>NaN</td>\n",
       "      <td>NaN</td>\n",
       "      <td>NaN</td>\n",
       "      <td>NaN</td>\n",
       "      <td>NaN</td>\n",
       "    </tr>\n",
       "    <tr>\n",
       "      <th>...</th>\n",
       "      <td>...</td>\n",
       "      <td>...</td>\n",
       "      <td>...</td>\n",
       "      <td>...</td>\n",
       "      <td>...</td>\n",
       "      <td>...</td>\n",
       "      <td>...</td>\n",
       "      <td>...</td>\n",
       "      <td>...</td>\n",
       "      <td>...</td>\n",
       "      <td>...</td>\n",
       "      <td>...</td>\n",
       "      <td>...</td>\n",
       "    </tr>\n",
       "    <tr>\n",
       "      <th>82</th>\n",
       "      <td>NaN</td>\n",
       "      <td>NaN</td>\n",
       "      <td>NaN</td>\n",
       "      <td>NaN</td>\n",
       "      <td>NaN</td>\n",
       "      <td>NaN</td>\n",
       "      <td>NaN</td>\n",
       "      <td>NaN</td>\n",
       "      <td>NaN</td>\n",
       "      <td>NaN</td>\n",
       "      <td>NaN</td>\n",
       "      <td>NaN</td>\n",
       "      <td>NaN</td>\n",
       "    </tr>\n",
       "    <tr>\n",
       "      <th>83</th>\n",
       "      <td>Fuente:</td>\n",
       "      <td>NaN</td>\n",
       "      <td>NaN</td>\n",
       "      <td>NaN</td>\n",
       "      <td>NaN</td>\n",
       "      <td>NaN</td>\n",
       "      <td>NaN</td>\n",
       "      <td>NaN</td>\n",
       "      <td>NaN</td>\n",
       "      <td>NaN</td>\n",
       "      <td>NaN</td>\n",
       "      <td>NaN</td>\n",
       "      <td>NaN</td>\n",
       "    </tr>\n",
       "  </tbody>\n",
       "</table>\n",
       "<p>84 rows × 13 columns</p>\n",
       "</div>"
      ],
      "text/plain": [
       "   Censo anual de población 2021-2024 Unnamed: 1  Unnamed: 2  Unnamed: 3  \\\n",
       "0                 Cifras de población        NaN         NaN         NaN   \n",
       "1                                 NaN        NaN         NaN         NaN   \n",
       "..                                ...        ...         ...         ...   \n",
       "82                                NaN        NaN         NaN         NaN   \n",
       "83                           Fuente:         NaN         NaN         NaN   \n",
       "\n",
       "    Unnamed: 4 Unnamed: 5  Unnamed: 6  Unnamed: 7  Unnamed: 8 Unnamed: 9  \\\n",
       "0          NaN        NaN         NaN         NaN         NaN        NaN   \n",
       "1          NaN        NaN         NaN         NaN         NaN        NaN   \n",
       "..         ...        ...         ...         ...         ...        ...   \n",
       "82         NaN        NaN         NaN         NaN         NaN        NaN   \n",
       "83         NaN        NaN         NaN         NaN         NaN        NaN   \n",
       "\n",
       "    Unnamed: 10  Unnamed: 11  Unnamed: 12  \n",
       "0           NaN          NaN          NaN  \n",
       "1           NaN          NaN          NaN  \n",
       "..          ...          ...          ...  \n",
       "82          NaN          NaN          NaN  \n",
       "83          NaN          NaN          NaN  \n",
       "\n",
       "[84 rows x 13 columns]"
      ]
     },
     "execution_count": 3,
     "metadata": {},
     "output_type": "execute_result"
    }
   ],
   "source": [
    "df_bruto = pd.read_excel('../data/pob_21_24.xlsx')\n",
    "df_bruto"
   ]
  },
  {
   "cell_type": "code",
   "execution_count": 4,
   "metadata": {},
   "outputs": [],
   "source": [
    "df_ccaa = df_bruto.iloc[[8, 17, 21, 23, 28, 30, 40, 46, 51, 55, 58, 63, 65, 67, 69, 73, 75, 77]]"
   ]
  },
  {
   "cell_type": "code",
   "execution_count": 5,
   "metadata": {},
   "outputs": [
    {
     "data": {
      "text/html": [
       "<div>\n",
       "<style scoped>\n",
       "    .dataframe tbody tr th:only-of-type {\n",
       "        vertical-align: middle;\n",
       "    }\n",
       "\n",
       "    .dataframe tbody tr th {\n",
       "        vertical-align: top;\n",
       "    }\n",
       "\n",
       "    .dataframe thead th {\n",
       "        text-align: right;\n",
       "    }\n",
       "</style>\n",
       "<table border=\"1\" class=\"dataframe\">\n",
       "  <thead>\n",
       "    <tr style=\"text-align: right;\">\n",
       "      <th></th>\n",
       "      <th>Censo anual de población 2021-2024</th>\n",
       "      <th>Unnamed: 1</th>\n",
       "      <th>Unnamed: 2</th>\n",
       "      <th>Unnamed: 3</th>\n",
       "      <th>Unnamed: 4</th>\n",
       "      <th>Unnamed: 5</th>\n",
       "      <th>Unnamed: 6</th>\n",
       "      <th>Unnamed: 7</th>\n",
       "      <th>Unnamed: 8</th>\n",
       "      <th>Unnamed: 9</th>\n",
       "      <th>Unnamed: 10</th>\n",
       "      <th>Unnamed: 11</th>\n",
       "      <th>Unnamed: 12</th>\n",
       "    </tr>\n",
       "  </thead>\n",
       "  <tbody>\n",
       "    <tr>\n",
       "      <th>8</th>\n",
       "      <td>01 Andalucía</td>\n",
       "      <td>8631862</td>\n",
       "      <td>8584147.0</td>\n",
       "      <td>8511167.0</td>\n",
       "      <td>8484804.0</td>\n",
       "      <td>4249355</td>\n",
       "      <td>4229831.0</td>\n",
       "      <td>4196620.0</td>\n",
       "      <td>4182620.0</td>\n",
       "      <td>4382507</td>\n",
       "      <td>4354316.0</td>\n",
       "      <td>4314547.0</td>\n",
       "      <td>4302184.0</td>\n",
       "    </tr>\n",
       "    <tr>\n",
       "      <th>17</th>\n",
       "      <td>02 Aragón</td>\n",
       "      <td>1351591</td>\n",
       "      <td>1341289.0</td>\n",
       "      <td>1328215.0</td>\n",
       "      <td>1331938.0</td>\n",
       "      <td>668275</td>\n",
       "      <td>662674.0</td>\n",
       "      <td>656811.0</td>\n",
       "      <td>658263.0</td>\n",
       "      <td>683316</td>\n",
       "      <td>678615.0</td>\n",
       "      <td>671404.0</td>\n",
       "      <td>673675.0</td>\n",
       "    </tr>\n",
       "    <tr>\n",
       "      <th>21</th>\n",
       "      <td>03 Asturias, Principado de</td>\n",
       "      <td>1009599</td>\n",
       "      <td>1006060.0</td>\n",
       "      <td>1004960.0</td>\n",
       "      <td>1012117.0</td>\n",
       "      <td>481478</td>\n",
       "      <td>479739.0</td>\n",
       "      <td>479658.0</td>\n",
       "      <td>483186.0</td>\n",
       "      <td>528121</td>\n",
       "      <td>526321.0</td>\n",
       "      <td>525302.0</td>\n",
       "      <td>528931.0</td>\n",
       "    </tr>\n",
       "    <tr>\n",
       "      <th>23</th>\n",
       "      <td>04 Balears, Illes</td>\n",
       "      <td>1231768</td>\n",
       "      <td>1209906.0</td>\n",
       "      <td>1187043.0</td>\n",
       "      <td>1183415.0</td>\n",
       "      <td>613910</td>\n",
       "      <td>602649.0</td>\n",
       "      <td>592100.0</td>\n",
       "      <td>590990.0</td>\n",
       "      <td>617858</td>\n",
       "      <td>607257.0</td>\n",
       "      <td>594943.0</td>\n",
       "      <td>592425.0</td>\n",
       "    </tr>\n",
       "    <tr>\n",
       "      <th>28</th>\n",
       "      <td>06 Cantabria</td>\n",
       "      <td>590851</td>\n",
       "      <td>588387.0</td>\n",
       "      <td>585450.0</td>\n",
       "      <td>584708.0</td>\n",
       "      <td>286322</td>\n",
       "      <td>285133.0</td>\n",
       "      <td>284061.0</td>\n",
       "      <td>283854.0</td>\n",
       "      <td>304529</td>\n",
       "      <td>303254.0</td>\n",
       "      <td>301389.0</td>\n",
       "      <td>300854.0</td>\n",
       "    </tr>\n",
       "    <tr>\n",
       "      <th>30</th>\n",
       "      <td>07 Castilla y León</td>\n",
       "      <td>2391682</td>\n",
       "      <td>2383703.0</td>\n",
       "      <td>2375583.0</td>\n",
       "      <td>2385223.0</td>\n",
       "      <td>1177504</td>\n",
       "      <td>1173585.0</td>\n",
       "      <td>1170227.0</td>\n",
       "      <td>1174957.0</td>\n",
       "      <td>1214178</td>\n",
       "      <td>1210118.0</td>\n",
       "      <td>1205356.0</td>\n",
       "      <td>1210266.0</td>\n",
       "    </tr>\n",
       "    <tr>\n",
       "      <th>40</th>\n",
       "      <td>08 Castilla - La Mancha</td>\n",
       "      <td>2104433</td>\n",
       "      <td>2084086.0</td>\n",
       "      <td>2058278.0</td>\n",
       "      <td>2052505.0</td>\n",
       "      <td>1055223</td>\n",
       "      <td>1045115.0</td>\n",
       "      <td>1031732.0</td>\n",
       "      <td>1028696.0</td>\n",
       "      <td>1049210</td>\n",
       "      <td>1038971.0</td>\n",
       "      <td>1026546.0</td>\n",
       "      <td>1023809.0</td>\n",
       "    </tr>\n",
       "    <tr>\n",
       "      <th>46</th>\n",
       "      <td>09 Cataluña</td>\n",
       "      <td>8012231</td>\n",
       "      <td>7901963.0</td>\n",
       "      <td>7761823.0</td>\n",
       "      <td>7749896.0</td>\n",
       "      <td>3943698</td>\n",
       "      <td>3887223.0</td>\n",
       "      <td>3820173.0</td>\n",
       "      <td>3814823.0</td>\n",
       "      <td>4068533</td>\n",
       "      <td>4014740.0</td>\n",
       "      <td>3941650.0</td>\n",
       "      <td>3935073.0</td>\n",
       "    </tr>\n",
       "    <tr>\n",
       "      <th>51</th>\n",
       "      <td>10 Comunitat Valenciana</td>\n",
       "      <td>5319285</td>\n",
       "      <td>5216195.0</td>\n",
       "      <td>5108116.0</td>\n",
       "      <td>5067911.0</td>\n",
       "      <td>2615852</td>\n",
       "      <td>2565926.0</td>\n",
       "      <td>2516724.0</td>\n",
       "      <td>2497752.0</td>\n",
       "      <td>2703433</td>\n",
       "      <td>2650269.0</td>\n",
       "      <td>2591392.0</td>\n",
       "      <td>2570159.0</td>\n",
       "    </tr>\n",
       "    <tr>\n",
       "      <th>55</th>\n",
       "      <td>11 Extremadura</td>\n",
       "      <td>1054681</td>\n",
       "      <td>1054306.0</td>\n",
       "      <td>1056808.0</td>\n",
       "      <td>1061636.0</td>\n",
       "      <td>521677</td>\n",
       "      <td>521626.0</td>\n",
       "      <td>523255.0</td>\n",
       "      <td>525843.0</td>\n",
       "      <td>533004</td>\n",
       "      <td>532680.0</td>\n",
       "      <td>533553.0</td>\n",
       "      <td>535793.0</td>\n",
       "    </tr>\n",
       "    <tr>\n",
       "      <th>58</th>\n",
       "      <td>12 Galicia</td>\n",
       "      <td>2705833</td>\n",
       "      <td>2699424.0</td>\n",
       "      <td>2692825.0</td>\n",
       "      <td>2698177.0</td>\n",
       "      <td>1301744</td>\n",
       "      <td>1299064.0</td>\n",
       "      <td>1296582.0</td>\n",
       "      <td>1299491.0</td>\n",
       "      <td>1404089</td>\n",
       "      <td>1400360.0</td>\n",
       "      <td>1396243.0</td>\n",
       "      <td>1398686.0</td>\n",
       "    </tr>\n",
       "    <tr>\n",
       "      <th>63</th>\n",
       "      <td>13 Madrid, Comunidad de</td>\n",
       "      <td>7009268</td>\n",
       "      <td>6871903.0</td>\n",
       "      <td>6743254.0</td>\n",
       "      <td>6726640.0</td>\n",
       "      <td>3356163</td>\n",
       "      <td>3288197.0</td>\n",
       "      <td>3229127.0</td>\n",
       "      <td>3221401.0</td>\n",
       "      <td>3653105</td>\n",
       "      <td>3583706.0</td>\n",
       "      <td>3514127.0</td>\n",
       "      <td>3505239.0</td>\n",
       "    </tr>\n",
       "    <tr>\n",
       "      <th>65</th>\n",
       "      <td>14 Murcia, Región de</td>\n",
       "      <td>1568492</td>\n",
       "      <td>1551692.0</td>\n",
       "      <td>1529658.0</td>\n",
       "      <td>1518279.0</td>\n",
       "      <td>786038</td>\n",
       "      <td>777819.0</td>\n",
       "      <td>767117.0</td>\n",
       "      <td>760831.0</td>\n",
       "      <td>782454</td>\n",
       "      <td>773873.0</td>\n",
       "      <td>762541.0</td>\n",
       "      <td>757448.0</td>\n",
       "    </tr>\n",
       "    <tr>\n",
       "      <th>67</th>\n",
       "      <td>15 Navarra, Comunidad Foral de</td>\n",
       "      <td>678333</td>\n",
       "      <td>672155.0</td>\n",
       "      <td>664514.0</td>\n",
       "      <td>662032.0</td>\n",
       "      <td>335919</td>\n",
       "      <td>332575.0</td>\n",
       "      <td>329064.0</td>\n",
       "      <td>327940.0</td>\n",
       "      <td>342414</td>\n",
       "      <td>339580.0</td>\n",
       "      <td>335450.0</td>\n",
       "      <td>334092.0</td>\n",
       "    </tr>\n",
       "    <tr>\n",
       "      <th>69</th>\n",
       "      <td>16 País Vasco</td>\n",
       "      <td>2227684</td>\n",
       "      <td>2216302.0</td>\n",
       "      <td>2205826.0</td>\n",
       "      <td>2212628.0</td>\n",
       "      <td>1083488</td>\n",
       "      <td>1077504.0</td>\n",
       "      <td>1072491.0</td>\n",
       "      <td>1075982.0</td>\n",
       "      <td>1144196</td>\n",
       "      <td>1138798.0</td>\n",
       "      <td>1133335.0</td>\n",
       "      <td>1136646.0</td>\n",
       "    </tr>\n",
       "    <tr>\n",
       "      <th>73</th>\n",
       "      <td>17 Rioja, La</td>\n",
       "      <td>324184</td>\n",
       "      <td>322282.0</td>\n",
       "      <td>319617.0</td>\n",
       "      <td>319444.0</td>\n",
       "      <td>159979</td>\n",
       "      <td>159151.0</td>\n",
       "      <td>157875.0</td>\n",
       "      <td>157763.0</td>\n",
       "      <td>164205</td>\n",
       "      <td>163131.0</td>\n",
       "      <td>161742.0</td>\n",
       "      <td>161681.0</td>\n",
       "    </tr>\n",
       "    <tr>\n",
       "      <th>75</th>\n",
       "      <td>18 Ceuta</td>\n",
       "      <td>83179</td>\n",
       "      <td>83052.0</td>\n",
       "      <td>83051.0</td>\n",
       "      <td>84071.0</td>\n",
       "      <td>41957</td>\n",
       "      <td>41897.0</td>\n",
       "      <td>41908.0</td>\n",
       "      <td>42536.0</td>\n",
       "      <td>41222</td>\n",
       "      <td>41155.0</td>\n",
       "      <td>41143.0</td>\n",
       "      <td>41535.0</td>\n",
       "    </tr>\n",
       "    <tr>\n",
       "      <th>77</th>\n",
       "      <td>19 Melilla</td>\n",
       "      <td>85985</td>\n",
       "      <td>85493.0</td>\n",
       "      <td>84932.0</td>\n",
       "      <td>86450.0</td>\n",
       "      <td>43252</td>\n",
       "      <td>43162.0</td>\n",
       "      <td>42978.0</td>\n",
       "      <td>43823.0</td>\n",
       "      <td>42733</td>\n",
       "      <td>42331.0</td>\n",
       "      <td>41954.0</td>\n",
       "      <td>42627.0</td>\n",
       "    </tr>\n",
       "  </tbody>\n",
       "</table>\n",
       "</div>"
      ],
      "text/plain": [
       "   Censo anual de población 2021-2024 Unnamed: 1  Unnamed: 2  Unnamed: 3  \\\n",
       "8                        01 Andalucía    8631862   8584147.0   8511167.0   \n",
       "17                          02 Aragón    1351591   1341289.0   1328215.0   \n",
       "21         03 Asturias, Principado de    1009599   1006060.0   1004960.0   \n",
       "23                  04 Balears, Illes    1231768   1209906.0   1187043.0   \n",
       "28                       06 Cantabria     590851    588387.0    585450.0   \n",
       "30                 07 Castilla y León    2391682   2383703.0   2375583.0   \n",
       "40            08 Castilla - La Mancha    2104433   2084086.0   2058278.0   \n",
       "46                        09 Cataluña    8012231   7901963.0   7761823.0   \n",
       "51            10 Comunitat Valenciana    5319285   5216195.0   5108116.0   \n",
       "55                     11 Extremadura    1054681   1054306.0   1056808.0   \n",
       "58                         12 Galicia    2705833   2699424.0   2692825.0   \n",
       "63            13 Madrid, Comunidad de    7009268   6871903.0   6743254.0   \n",
       "65               14 Murcia, Región de    1568492   1551692.0   1529658.0   \n",
       "67     15 Navarra, Comunidad Foral de     678333    672155.0    664514.0   \n",
       "69                      16 País Vasco    2227684   2216302.0   2205826.0   \n",
       "73                       17 Rioja, La     324184    322282.0    319617.0   \n",
       "75                           18 Ceuta      83179     83052.0     83051.0   \n",
       "77                         19 Melilla      85985     85493.0     84932.0   \n",
       "\n",
       "    Unnamed: 4 Unnamed: 5  Unnamed: 6  Unnamed: 7  Unnamed: 8 Unnamed: 9  \\\n",
       "8    8484804.0    4249355   4229831.0   4196620.0   4182620.0    4382507   \n",
       "17   1331938.0     668275    662674.0    656811.0    658263.0     683316   \n",
       "21   1012117.0     481478    479739.0    479658.0    483186.0     528121   \n",
       "23   1183415.0     613910    602649.0    592100.0    590990.0     617858   \n",
       "28    584708.0     286322    285133.0    284061.0    283854.0     304529   \n",
       "30   2385223.0    1177504   1173585.0   1170227.0   1174957.0    1214178   \n",
       "40   2052505.0    1055223   1045115.0   1031732.0   1028696.0    1049210   \n",
       "46   7749896.0    3943698   3887223.0   3820173.0   3814823.0    4068533   \n",
       "51   5067911.0    2615852   2565926.0   2516724.0   2497752.0    2703433   \n",
       "55   1061636.0     521677    521626.0    523255.0    525843.0     533004   \n",
       "58   2698177.0    1301744   1299064.0   1296582.0   1299491.0    1404089   \n",
       "63   6726640.0    3356163   3288197.0   3229127.0   3221401.0    3653105   \n",
       "65   1518279.0     786038    777819.0    767117.0    760831.0     782454   \n",
       "67    662032.0     335919    332575.0    329064.0    327940.0     342414   \n",
       "69   2212628.0    1083488   1077504.0   1072491.0   1075982.0    1144196   \n",
       "73    319444.0     159979    159151.0    157875.0    157763.0     164205   \n",
       "75     84071.0      41957     41897.0     41908.0     42536.0      41222   \n",
       "77     86450.0      43252     43162.0     42978.0     43823.0      42733   \n",
       "\n",
       "    Unnamed: 10  Unnamed: 11  Unnamed: 12  \n",
       "8     4354316.0    4314547.0    4302184.0  \n",
       "17     678615.0     671404.0     673675.0  \n",
       "21     526321.0     525302.0     528931.0  \n",
       "23     607257.0     594943.0     592425.0  \n",
       "28     303254.0     301389.0     300854.0  \n",
       "30    1210118.0    1205356.0    1210266.0  \n",
       "40    1038971.0    1026546.0    1023809.0  \n",
       "46    4014740.0    3941650.0    3935073.0  \n",
       "51    2650269.0    2591392.0    2570159.0  \n",
       "55     532680.0     533553.0     535793.0  \n",
       "58    1400360.0    1396243.0    1398686.0  \n",
       "63    3583706.0    3514127.0    3505239.0  \n",
       "65     773873.0     762541.0     757448.0  \n",
       "67     339580.0     335450.0     334092.0  \n",
       "69    1138798.0    1133335.0    1136646.0  \n",
       "73     163131.0     161742.0     161681.0  \n",
       "75      41155.0      41143.0      41535.0  \n",
       "77      42331.0      41954.0      42627.0  "
      ]
     },
     "execution_count": 5,
     "metadata": {},
     "output_type": "execute_result"
    }
   ],
   "source": [
    "df_ccaa"
   ]
  },
  {
   "cell_type": "code",
   "execution_count": 6,
   "metadata": {},
   "outputs": [
    {
     "name": "stderr",
     "output_type": "stream",
     "text": [
      "/var/folders/7l/50yy8f5n5pl25wpdhmnq22s80000gn/T/ipykernel_1475/2006259724.py:1: SettingWithCopyWarning: \n",
      "A value is trying to be set on a copy of a slice from a DataFrame.\n",
      "Try using .loc[row_indexer,col_indexer] = value instead\n",
      "\n",
      "See the caveats in the documentation: https://pandas.pydata.org/pandas-docs/stable/user_guide/indexing.html#returning-a-view-versus-a-copy\n",
      "  df_ccaa['lon'] = [-4.58, -0.67, -5.99, 2.90, -4.03, -4.78, -3.01, 1.52, -0.56, -6.15, -7.91, -3.72, -1.49, -1.65, -2.62, -2.52, -5.31, -2.93]\n"
     ]
    }
   ],
   "source": [
    "df_ccaa['lon'] = [-4.58, -0.67, -5.99, 2.90, -4.03, -4.78, -3.01, 1.52, -0.56, -6.15, -7.91, -3.72, -1.49, -1.65, -2.62, -2.52, -5.31, -2.93]"
   ]
  },
  {
   "cell_type": "code",
   "execution_count": 7,
   "metadata": {},
   "outputs": [
    {
     "data": {
      "text/html": [
       "<div>\n",
       "<style scoped>\n",
       "    .dataframe tbody tr th:only-of-type {\n",
       "        vertical-align: middle;\n",
       "    }\n",
       "\n",
       "    .dataframe tbody tr th {\n",
       "        vertical-align: top;\n",
       "    }\n",
       "\n",
       "    .dataframe thead th {\n",
       "        text-align: right;\n",
       "    }\n",
       "</style>\n",
       "<table border=\"1\" class=\"dataframe\">\n",
       "  <thead>\n",
       "    <tr style=\"text-align: right;\">\n",
       "      <th></th>\n",
       "      <th>Censo anual de población 2021-2024</th>\n",
       "      <th>Unnamed: 1</th>\n",
       "      <th>Unnamed: 2</th>\n",
       "      <th>Unnamed: 3</th>\n",
       "      <th>Unnamed: 4</th>\n",
       "      <th>Unnamed: 5</th>\n",
       "      <th>Unnamed: 6</th>\n",
       "      <th>Unnamed: 7</th>\n",
       "      <th>Unnamed: 8</th>\n",
       "      <th>Unnamed: 9</th>\n",
       "      <th>Unnamed: 10</th>\n",
       "      <th>Unnamed: 11</th>\n",
       "      <th>Unnamed: 12</th>\n",
       "      <th>lon</th>\n",
       "    </tr>\n",
       "  </thead>\n",
       "  <tbody>\n",
       "    <tr>\n",
       "      <th>8</th>\n",
       "      <td>01 Andalucía</td>\n",
       "      <td>8631862</td>\n",
       "      <td>8584147.0</td>\n",
       "      <td>8511167.0</td>\n",
       "      <td>8484804.0</td>\n",
       "      <td>4249355</td>\n",
       "      <td>4229831.0</td>\n",
       "      <td>4196620.0</td>\n",
       "      <td>4182620.0</td>\n",
       "      <td>4382507</td>\n",
       "      <td>4354316.0</td>\n",
       "      <td>4314547.0</td>\n",
       "      <td>4302184.0</td>\n",
       "      <td>-4.58</td>\n",
       "    </tr>\n",
       "    <tr>\n",
       "      <th>17</th>\n",
       "      <td>02 Aragón</td>\n",
       "      <td>1351591</td>\n",
       "      <td>1341289.0</td>\n",
       "      <td>1328215.0</td>\n",
       "      <td>1331938.0</td>\n",
       "      <td>668275</td>\n",
       "      <td>662674.0</td>\n",
       "      <td>656811.0</td>\n",
       "      <td>658263.0</td>\n",
       "      <td>683316</td>\n",
       "      <td>678615.0</td>\n",
       "      <td>671404.0</td>\n",
       "      <td>673675.0</td>\n",
       "      <td>-0.67</td>\n",
       "    </tr>\n",
       "    <tr>\n",
       "      <th>21</th>\n",
       "      <td>03 Asturias, Principado de</td>\n",
       "      <td>1009599</td>\n",
       "      <td>1006060.0</td>\n",
       "      <td>1004960.0</td>\n",
       "      <td>1012117.0</td>\n",
       "      <td>481478</td>\n",
       "      <td>479739.0</td>\n",
       "      <td>479658.0</td>\n",
       "      <td>483186.0</td>\n",
       "      <td>528121</td>\n",
       "      <td>526321.0</td>\n",
       "      <td>525302.0</td>\n",
       "      <td>528931.0</td>\n",
       "      <td>-5.99</td>\n",
       "    </tr>\n",
       "    <tr>\n",
       "      <th>23</th>\n",
       "      <td>04 Balears, Illes</td>\n",
       "      <td>1231768</td>\n",
       "      <td>1209906.0</td>\n",
       "      <td>1187043.0</td>\n",
       "      <td>1183415.0</td>\n",
       "      <td>613910</td>\n",
       "      <td>602649.0</td>\n",
       "      <td>592100.0</td>\n",
       "      <td>590990.0</td>\n",
       "      <td>617858</td>\n",
       "      <td>607257.0</td>\n",
       "      <td>594943.0</td>\n",
       "      <td>592425.0</td>\n",
       "      <td>2.90</td>\n",
       "    </tr>\n",
       "    <tr>\n",
       "      <th>28</th>\n",
       "      <td>06 Cantabria</td>\n",
       "      <td>590851</td>\n",
       "      <td>588387.0</td>\n",
       "      <td>585450.0</td>\n",
       "      <td>584708.0</td>\n",
       "      <td>286322</td>\n",
       "      <td>285133.0</td>\n",
       "      <td>284061.0</td>\n",
       "      <td>283854.0</td>\n",
       "      <td>304529</td>\n",
       "      <td>303254.0</td>\n",
       "      <td>301389.0</td>\n",
       "      <td>300854.0</td>\n",
       "      <td>-4.03</td>\n",
       "    </tr>\n",
       "    <tr>\n",
       "      <th>30</th>\n",
       "      <td>07 Castilla y León</td>\n",
       "      <td>2391682</td>\n",
       "      <td>2383703.0</td>\n",
       "      <td>2375583.0</td>\n",
       "      <td>2385223.0</td>\n",
       "      <td>1177504</td>\n",
       "      <td>1173585.0</td>\n",
       "      <td>1170227.0</td>\n",
       "      <td>1174957.0</td>\n",
       "      <td>1214178</td>\n",
       "      <td>1210118.0</td>\n",
       "      <td>1205356.0</td>\n",
       "      <td>1210266.0</td>\n",
       "      <td>-4.78</td>\n",
       "    </tr>\n",
       "    <tr>\n",
       "      <th>40</th>\n",
       "      <td>08 Castilla - La Mancha</td>\n",
       "      <td>2104433</td>\n",
       "      <td>2084086.0</td>\n",
       "      <td>2058278.0</td>\n",
       "      <td>2052505.0</td>\n",
       "      <td>1055223</td>\n",
       "      <td>1045115.0</td>\n",
       "      <td>1031732.0</td>\n",
       "      <td>1028696.0</td>\n",
       "      <td>1049210</td>\n",
       "      <td>1038971.0</td>\n",
       "      <td>1026546.0</td>\n",
       "      <td>1023809.0</td>\n",
       "      <td>-3.01</td>\n",
       "    </tr>\n",
       "    <tr>\n",
       "      <th>46</th>\n",
       "      <td>09 Cataluña</td>\n",
       "      <td>8012231</td>\n",
       "      <td>7901963.0</td>\n",
       "      <td>7761823.0</td>\n",
       "      <td>7749896.0</td>\n",
       "      <td>3943698</td>\n",
       "      <td>3887223.0</td>\n",
       "      <td>3820173.0</td>\n",
       "      <td>3814823.0</td>\n",
       "      <td>4068533</td>\n",
       "      <td>4014740.0</td>\n",
       "      <td>3941650.0</td>\n",
       "      <td>3935073.0</td>\n",
       "      <td>1.52</td>\n",
       "    </tr>\n",
       "    <tr>\n",
       "      <th>51</th>\n",
       "      <td>10 Comunitat Valenciana</td>\n",
       "      <td>5319285</td>\n",
       "      <td>5216195.0</td>\n",
       "      <td>5108116.0</td>\n",
       "      <td>5067911.0</td>\n",
       "      <td>2615852</td>\n",
       "      <td>2565926.0</td>\n",
       "      <td>2516724.0</td>\n",
       "      <td>2497752.0</td>\n",
       "      <td>2703433</td>\n",
       "      <td>2650269.0</td>\n",
       "      <td>2591392.0</td>\n",
       "      <td>2570159.0</td>\n",
       "      <td>-0.56</td>\n",
       "    </tr>\n",
       "    <tr>\n",
       "      <th>55</th>\n",
       "      <td>11 Extremadura</td>\n",
       "      <td>1054681</td>\n",
       "      <td>1054306.0</td>\n",
       "      <td>1056808.0</td>\n",
       "      <td>1061636.0</td>\n",
       "      <td>521677</td>\n",
       "      <td>521626.0</td>\n",
       "      <td>523255.0</td>\n",
       "      <td>525843.0</td>\n",
       "      <td>533004</td>\n",
       "      <td>532680.0</td>\n",
       "      <td>533553.0</td>\n",
       "      <td>535793.0</td>\n",
       "      <td>-6.15</td>\n",
       "    </tr>\n",
       "    <tr>\n",
       "      <th>58</th>\n",
       "      <td>12 Galicia</td>\n",
       "      <td>2705833</td>\n",
       "      <td>2699424.0</td>\n",
       "      <td>2692825.0</td>\n",
       "      <td>2698177.0</td>\n",
       "      <td>1301744</td>\n",
       "      <td>1299064.0</td>\n",
       "      <td>1296582.0</td>\n",
       "      <td>1299491.0</td>\n",
       "      <td>1404089</td>\n",
       "      <td>1400360.0</td>\n",
       "      <td>1396243.0</td>\n",
       "      <td>1398686.0</td>\n",
       "      <td>-7.91</td>\n",
       "    </tr>\n",
       "    <tr>\n",
       "      <th>63</th>\n",
       "      <td>13 Madrid, Comunidad de</td>\n",
       "      <td>7009268</td>\n",
       "      <td>6871903.0</td>\n",
       "      <td>6743254.0</td>\n",
       "      <td>6726640.0</td>\n",
       "      <td>3356163</td>\n",
       "      <td>3288197.0</td>\n",
       "      <td>3229127.0</td>\n",
       "      <td>3221401.0</td>\n",
       "      <td>3653105</td>\n",
       "      <td>3583706.0</td>\n",
       "      <td>3514127.0</td>\n",
       "      <td>3505239.0</td>\n",
       "      <td>-3.72</td>\n",
       "    </tr>\n",
       "    <tr>\n",
       "      <th>65</th>\n",
       "      <td>14 Murcia, Región de</td>\n",
       "      <td>1568492</td>\n",
       "      <td>1551692.0</td>\n",
       "      <td>1529658.0</td>\n",
       "      <td>1518279.0</td>\n",
       "      <td>786038</td>\n",
       "      <td>777819.0</td>\n",
       "      <td>767117.0</td>\n",
       "      <td>760831.0</td>\n",
       "      <td>782454</td>\n",
       "      <td>773873.0</td>\n",
       "      <td>762541.0</td>\n",
       "      <td>757448.0</td>\n",
       "      <td>-1.49</td>\n",
       "    </tr>\n",
       "    <tr>\n",
       "      <th>67</th>\n",
       "      <td>15 Navarra, Comunidad Foral de</td>\n",
       "      <td>678333</td>\n",
       "      <td>672155.0</td>\n",
       "      <td>664514.0</td>\n",
       "      <td>662032.0</td>\n",
       "      <td>335919</td>\n",
       "      <td>332575.0</td>\n",
       "      <td>329064.0</td>\n",
       "      <td>327940.0</td>\n",
       "      <td>342414</td>\n",
       "      <td>339580.0</td>\n",
       "      <td>335450.0</td>\n",
       "      <td>334092.0</td>\n",
       "      <td>-1.65</td>\n",
       "    </tr>\n",
       "    <tr>\n",
       "      <th>69</th>\n",
       "      <td>16 País Vasco</td>\n",
       "      <td>2227684</td>\n",
       "      <td>2216302.0</td>\n",
       "      <td>2205826.0</td>\n",
       "      <td>2212628.0</td>\n",
       "      <td>1083488</td>\n",
       "      <td>1077504.0</td>\n",
       "      <td>1072491.0</td>\n",
       "      <td>1075982.0</td>\n",
       "      <td>1144196</td>\n",
       "      <td>1138798.0</td>\n",
       "      <td>1133335.0</td>\n",
       "      <td>1136646.0</td>\n",
       "      <td>-2.62</td>\n",
       "    </tr>\n",
       "    <tr>\n",
       "      <th>73</th>\n",
       "      <td>17 Rioja, La</td>\n",
       "      <td>324184</td>\n",
       "      <td>322282.0</td>\n",
       "      <td>319617.0</td>\n",
       "      <td>319444.0</td>\n",
       "      <td>159979</td>\n",
       "      <td>159151.0</td>\n",
       "      <td>157875.0</td>\n",
       "      <td>157763.0</td>\n",
       "      <td>164205</td>\n",
       "      <td>163131.0</td>\n",
       "      <td>161742.0</td>\n",
       "      <td>161681.0</td>\n",
       "      <td>-2.52</td>\n",
       "    </tr>\n",
       "    <tr>\n",
       "      <th>75</th>\n",
       "      <td>18 Ceuta</td>\n",
       "      <td>83179</td>\n",
       "      <td>83052.0</td>\n",
       "      <td>83051.0</td>\n",
       "      <td>84071.0</td>\n",
       "      <td>41957</td>\n",
       "      <td>41897.0</td>\n",
       "      <td>41908.0</td>\n",
       "      <td>42536.0</td>\n",
       "      <td>41222</td>\n",
       "      <td>41155.0</td>\n",
       "      <td>41143.0</td>\n",
       "      <td>41535.0</td>\n",
       "      <td>-5.31</td>\n",
       "    </tr>\n",
       "    <tr>\n",
       "      <th>77</th>\n",
       "      <td>19 Melilla</td>\n",
       "      <td>85985</td>\n",
       "      <td>85493.0</td>\n",
       "      <td>84932.0</td>\n",
       "      <td>86450.0</td>\n",
       "      <td>43252</td>\n",
       "      <td>43162.0</td>\n",
       "      <td>42978.0</td>\n",
       "      <td>43823.0</td>\n",
       "      <td>42733</td>\n",
       "      <td>42331.0</td>\n",
       "      <td>41954.0</td>\n",
       "      <td>42627.0</td>\n",
       "      <td>-2.93</td>\n",
       "    </tr>\n",
       "  </tbody>\n",
       "</table>\n",
       "</div>"
      ],
      "text/plain": [
       "   Censo anual de población 2021-2024 Unnamed: 1  Unnamed: 2  Unnamed: 3  \\\n",
       "8                        01 Andalucía    8631862   8584147.0   8511167.0   \n",
       "17                          02 Aragón    1351591   1341289.0   1328215.0   \n",
       "21         03 Asturias, Principado de    1009599   1006060.0   1004960.0   \n",
       "23                  04 Balears, Illes    1231768   1209906.0   1187043.0   \n",
       "28                       06 Cantabria     590851    588387.0    585450.0   \n",
       "30                 07 Castilla y León    2391682   2383703.0   2375583.0   \n",
       "40            08 Castilla - La Mancha    2104433   2084086.0   2058278.0   \n",
       "46                        09 Cataluña    8012231   7901963.0   7761823.0   \n",
       "51            10 Comunitat Valenciana    5319285   5216195.0   5108116.0   \n",
       "55                     11 Extremadura    1054681   1054306.0   1056808.0   \n",
       "58                         12 Galicia    2705833   2699424.0   2692825.0   \n",
       "63            13 Madrid, Comunidad de    7009268   6871903.0   6743254.0   \n",
       "65               14 Murcia, Región de    1568492   1551692.0   1529658.0   \n",
       "67     15 Navarra, Comunidad Foral de     678333    672155.0    664514.0   \n",
       "69                      16 País Vasco    2227684   2216302.0   2205826.0   \n",
       "73                       17 Rioja, La     324184    322282.0    319617.0   \n",
       "75                           18 Ceuta      83179     83052.0     83051.0   \n",
       "77                         19 Melilla      85985     85493.0     84932.0   \n",
       "\n",
       "    Unnamed: 4 Unnamed: 5  Unnamed: 6  Unnamed: 7  Unnamed: 8 Unnamed: 9  \\\n",
       "8    8484804.0    4249355   4229831.0   4196620.0   4182620.0    4382507   \n",
       "17   1331938.0     668275    662674.0    656811.0    658263.0     683316   \n",
       "21   1012117.0     481478    479739.0    479658.0    483186.0     528121   \n",
       "23   1183415.0     613910    602649.0    592100.0    590990.0     617858   \n",
       "28    584708.0     286322    285133.0    284061.0    283854.0     304529   \n",
       "30   2385223.0    1177504   1173585.0   1170227.0   1174957.0    1214178   \n",
       "40   2052505.0    1055223   1045115.0   1031732.0   1028696.0    1049210   \n",
       "46   7749896.0    3943698   3887223.0   3820173.0   3814823.0    4068533   \n",
       "51   5067911.0    2615852   2565926.0   2516724.0   2497752.0    2703433   \n",
       "55   1061636.0     521677    521626.0    523255.0    525843.0     533004   \n",
       "58   2698177.0    1301744   1299064.0   1296582.0   1299491.0    1404089   \n",
       "63   6726640.0    3356163   3288197.0   3229127.0   3221401.0    3653105   \n",
       "65   1518279.0     786038    777819.0    767117.0    760831.0     782454   \n",
       "67    662032.0     335919    332575.0    329064.0    327940.0     342414   \n",
       "69   2212628.0    1083488   1077504.0   1072491.0   1075982.0    1144196   \n",
       "73    319444.0     159979    159151.0    157875.0    157763.0     164205   \n",
       "75     84071.0      41957     41897.0     41908.0     42536.0      41222   \n",
       "77     86450.0      43252     43162.0     42978.0     43823.0      42733   \n",
       "\n",
       "    Unnamed: 10  Unnamed: 11  Unnamed: 12   lon  \n",
       "8     4354316.0    4314547.0    4302184.0 -4.58  \n",
       "17     678615.0     671404.0     673675.0 -0.67  \n",
       "21     526321.0     525302.0     528931.0 -5.99  \n",
       "23     607257.0     594943.0     592425.0  2.90  \n",
       "28     303254.0     301389.0     300854.0 -4.03  \n",
       "30    1210118.0    1205356.0    1210266.0 -4.78  \n",
       "40    1038971.0    1026546.0    1023809.0 -3.01  \n",
       "46    4014740.0    3941650.0    3935073.0  1.52  \n",
       "51    2650269.0    2591392.0    2570159.0 -0.56  \n",
       "55     532680.0     533553.0     535793.0 -6.15  \n",
       "58    1400360.0    1396243.0    1398686.0 -7.91  \n",
       "63    3583706.0    3514127.0    3505239.0 -3.72  \n",
       "65     773873.0     762541.0     757448.0 -1.49  \n",
       "67     339580.0     335450.0     334092.0 -1.65  \n",
       "69    1138798.0    1133335.0    1136646.0 -2.62  \n",
       "73     163131.0     161742.0     161681.0 -2.52  \n",
       "75      41155.0      41143.0      41535.0 -5.31  \n",
       "77      42331.0      41954.0      42627.0 -2.93  "
      ]
     },
     "execution_count": 7,
     "metadata": {},
     "output_type": "execute_result"
    }
   ],
   "source": [
    "df_ccaa"
   ]
  },
  {
   "cell_type": "code",
   "execution_count": 8,
   "metadata": {},
   "outputs": [
    {
     "name": "stderr",
     "output_type": "stream",
     "text": [
      "/var/folders/7l/50yy8f5n5pl25wpdhmnq22s80000gn/T/ipykernel_1475/4022387426.py:1: SettingWithCopyWarning: \n",
      "A value is trying to be set on a copy of a slice from a DataFrame.\n",
      "Try using .loc[row_indexer,col_indexer] = value instead\n",
      "\n",
      "See the caveats in the documentation: https://pandas.pydata.org/pandas-docs/stable/user_guide/indexing.html#returning-a-view-versus-a-copy\n",
      "  df_ccaa['lat'] = [37.3891, 41.6488, 43.3603, 39.5696, 43.4623, 41.6521, 39.8568, 42, 41.3851, 38.7257, 42.5751, 40.4168, 37.9834, 42.8125, 42.6985, 39.4699, 35.8894, 35.2923]\n"
     ]
    }
   ],
   "source": [
    "df_ccaa['lat'] = [37.3891, 41.6488, 43.3603, 39.5696, 43.4623, 41.6521, 39.8568, 42, 41.3851, 38.7257, 42.5751, 40.4168, 37.9834, 42.8125, 42.6985, 39.4699, 35.8894, 35.2923]"
   ]
  },
  {
   "cell_type": "code",
   "execution_count": 9,
   "metadata": {},
   "outputs": [
    {
     "name": "stderr",
     "output_type": "stream",
     "text": [
      "/var/folders/7l/50yy8f5n5pl25wpdhmnq22s80000gn/T/ipykernel_1475/3309544918.py:1: SettingWithCopyWarning: \n",
      "A value is trying to be set on a copy of a slice from a DataFrame.\n",
      "Try using .loc[row_indexer,col_indexer] = value instead\n",
      "\n",
      "See the caveats in the documentation: https://pandas.pydata.org/pandas-docs/stable/user_guide/indexing.html#returning-a-view-versus-a-copy\n",
      "  df_ccaa['Unnamed: 1'] = df_ccaa['Unnamed: 1'].astype(float)\n"
     ]
    }
   ],
   "source": [
    "df_ccaa['Unnamed: 1'] = df_ccaa['Unnamed: 1'].astype(float)"
   ]
  },
  {
   "cell_type": "code",
   "execution_count": 10,
   "metadata": {},
   "outputs": [],
   "source": [
    "import plotly.express as px"
   ]
  },
  {
   "cell_type": "code",
   "execution_count": 11,
   "metadata": {},
   "outputs": [],
   "source": [
    "fig_bar = px.bar( \n",
    "    data_frame=df_ccaa,\n",
    "    x='Censo anual de población 2021-2024',\n",
    "    y = 'Unnamed: 1',\n",
    "    color = \"Censo anual de población 2021-2024\",\n",
    "    labels = {'Censo anual de población 2021-2024': 'Comunidad Autónoma', 'Unnamed: 1': 'Total'},\n",
    "    title = \"Población España 2024 por Comunidades Autónomas\", \n",
    "    barmode= \"stack\"\n",
    "    \n",
    ")"
   ]
  },
  {
   "cell_type": "code",
   "execution_count": 12,
   "metadata": {},
   "outputs": [],
   "source": [
    "fig_pie = px.pie(\n",
    "    data_frame=df_ccaa,\n",
    "    names = \"Censo anual de población 2021-2024\", \n",
    "    values = \"Unnamed: 1\",\n",
    "    labels = {'Censo anual de población 2021-2024': 'Comunidad Autónoma', 'Unnamed: 1': 'Total'}\n",
    "    \n",
    ")"
   ]
  },
  {
   "cell_type": "code",
   "execution_count": 13,
   "metadata": {},
   "outputs": [
    {
     "data": {
      "application/vnd.plotly.v1+json": {
       "config": {
        "plotlyServerURL": "https://plot.ly"
       },
       "data": [
        {
         "domain": {
          "x": [
           0,
           1
          ],
          "y": [
           0,
           1
          ]
         },
         "hovertemplate": "Comunidad Autónoma=%{label}<br>Total=%{value}<extra></extra>",
         "labels": [
          "01 Andalucía",
          "02 Aragón",
          "03 Asturias, Principado de",
          "04 Balears, Illes",
          "06 Cantabria",
          "07 Castilla y León",
          "08 Castilla - La Mancha",
          "09 Cataluña",
          "10 Comunitat Valenciana",
          "11 Extremadura",
          "12 Galicia",
          "13 Madrid, Comunidad de",
          "14 Murcia, Región de",
          "15 Navarra, Comunidad Foral de",
          "16 País Vasco",
          "17 Rioja, La",
          "18 Ceuta",
          "19 Melilla"
         ],
         "legendgroup": "",
         "name": "",
         "showlegend": true,
         "type": "pie",
         "values": [
          8631862,
          1351591,
          1009599,
          1231768,
          590851,
          2391682,
          2104433,
          8012231,
          5319285,
          1054681,
          2705833,
          7009268,
          1568492,
          678333,
          2227684,
          324184,
          83179,
          85985
         ]
        }
       ],
       "layout": {
        "legend": {
         "tracegroupgap": 0
        },
        "margin": {
         "t": 60
        },
        "template": {
         "data": {
          "bar": [
           {
            "error_x": {
             "color": "#2a3f5f"
            },
            "error_y": {
             "color": "#2a3f5f"
            },
            "marker": {
             "line": {
              "color": "#E5ECF6",
              "width": 0.5
             },
             "pattern": {
              "fillmode": "overlay",
              "size": 10,
              "solidity": 0.2
             }
            },
            "type": "bar"
           }
          ],
          "barpolar": [
           {
            "marker": {
             "line": {
              "color": "#E5ECF6",
              "width": 0.5
             },
             "pattern": {
              "fillmode": "overlay",
              "size": 10,
              "solidity": 0.2
             }
            },
            "type": "barpolar"
           }
          ],
          "carpet": [
           {
            "aaxis": {
             "endlinecolor": "#2a3f5f",
             "gridcolor": "white",
             "linecolor": "white",
             "minorgridcolor": "white",
             "startlinecolor": "#2a3f5f"
            },
            "baxis": {
             "endlinecolor": "#2a3f5f",
             "gridcolor": "white",
             "linecolor": "white",
             "minorgridcolor": "white",
             "startlinecolor": "#2a3f5f"
            },
            "type": "carpet"
           }
          ],
          "choropleth": [
           {
            "colorbar": {
             "outlinewidth": 0,
             "ticks": ""
            },
            "type": "choropleth"
           }
          ],
          "contour": [
           {
            "colorbar": {
             "outlinewidth": 0,
             "ticks": ""
            },
            "colorscale": [
             [
              0,
              "#0d0887"
             ],
             [
              0.1111111111111111,
              "#46039f"
             ],
             [
              0.2222222222222222,
              "#7201a8"
             ],
             [
              0.3333333333333333,
              "#9c179e"
             ],
             [
              0.4444444444444444,
              "#bd3786"
             ],
             [
              0.5555555555555556,
              "#d8576b"
             ],
             [
              0.6666666666666666,
              "#ed7953"
             ],
             [
              0.7777777777777778,
              "#fb9f3a"
             ],
             [
              0.8888888888888888,
              "#fdca26"
             ],
             [
              1,
              "#f0f921"
             ]
            ],
            "type": "contour"
           }
          ],
          "contourcarpet": [
           {
            "colorbar": {
             "outlinewidth": 0,
             "ticks": ""
            },
            "type": "contourcarpet"
           }
          ],
          "heatmap": [
           {
            "colorbar": {
             "outlinewidth": 0,
             "ticks": ""
            },
            "colorscale": [
             [
              0,
              "#0d0887"
             ],
             [
              0.1111111111111111,
              "#46039f"
             ],
             [
              0.2222222222222222,
              "#7201a8"
             ],
             [
              0.3333333333333333,
              "#9c179e"
             ],
             [
              0.4444444444444444,
              "#bd3786"
             ],
             [
              0.5555555555555556,
              "#d8576b"
             ],
             [
              0.6666666666666666,
              "#ed7953"
             ],
             [
              0.7777777777777778,
              "#fb9f3a"
             ],
             [
              0.8888888888888888,
              "#fdca26"
             ],
             [
              1,
              "#f0f921"
             ]
            ],
            "type": "heatmap"
           }
          ],
          "heatmapgl": [
           {
            "colorbar": {
             "outlinewidth": 0,
             "ticks": ""
            },
            "colorscale": [
             [
              0,
              "#0d0887"
             ],
             [
              0.1111111111111111,
              "#46039f"
             ],
             [
              0.2222222222222222,
              "#7201a8"
             ],
             [
              0.3333333333333333,
              "#9c179e"
             ],
             [
              0.4444444444444444,
              "#bd3786"
             ],
             [
              0.5555555555555556,
              "#d8576b"
             ],
             [
              0.6666666666666666,
              "#ed7953"
             ],
             [
              0.7777777777777778,
              "#fb9f3a"
             ],
             [
              0.8888888888888888,
              "#fdca26"
             ],
             [
              1,
              "#f0f921"
             ]
            ],
            "type": "heatmapgl"
           }
          ],
          "histogram": [
           {
            "marker": {
             "pattern": {
              "fillmode": "overlay",
              "size": 10,
              "solidity": 0.2
             }
            },
            "type": "histogram"
           }
          ],
          "histogram2d": [
           {
            "colorbar": {
             "outlinewidth": 0,
             "ticks": ""
            },
            "colorscale": [
             [
              0,
              "#0d0887"
             ],
             [
              0.1111111111111111,
              "#46039f"
             ],
             [
              0.2222222222222222,
              "#7201a8"
             ],
             [
              0.3333333333333333,
              "#9c179e"
             ],
             [
              0.4444444444444444,
              "#bd3786"
             ],
             [
              0.5555555555555556,
              "#d8576b"
             ],
             [
              0.6666666666666666,
              "#ed7953"
             ],
             [
              0.7777777777777778,
              "#fb9f3a"
             ],
             [
              0.8888888888888888,
              "#fdca26"
             ],
             [
              1,
              "#f0f921"
             ]
            ],
            "type": "histogram2d"
           }
          ],
          "histogram2dcontour": [
           {
            "colorbar": {
             "outlinewidth": 0,
             "ticks": ""
            },
            "colorscale": [
             [
              0,
              "#0d0887"
             ],
             [
              0.1111111111111111,
              "#46039f"
             ],
             [
              0.2222222222222222,
              "#7201a8"
             ],
             [
              0.3333333333333333,
              "#9c179e"
             ],
             [
              0.4444444444444444,
              "#bd3786"
             ],
             [
              0.5555555555555556,
              "#d8576b"
             ],
             [
              0.6666666666666666,
              "#ed7953"
             ],
             [
              0.7777777777777778,
              "#fb9f3a"
             ],
             [
              0.8888888888888888,
              "#fdca26"
             ],
             [
              1,
              "#f0f921"
             ]
            ],
            "type": "histogram2dcontour"
           }
          ],
          "mesh3d": [
           {
            "colorbar": {
             "outlinewidth": 0,
             "ticks": ""
            },
            "type": "mesh3d"
           }
          ],
          "parcoords": [
           {
            "line": {
             "colorbar": {
              "outlinewidth": 0,
              "ticks": ""
             }
            },
            "type": "parcoords"
           }
          ],
          "pie": [
           {
            "automargin": true,
            "type": "pie"
           }
          ],
          "scatter": [
           {
            "fillpattern": {
             "fillmode": "overlay",
             "size": 10,
             "solidity": 0.2
            },
            "type": "scatter"
           }
          ],
          "scatter3d": [
           {
            "line": {
             "colorbar": {
              "outlinewidth": 0,
              "ticks": ""
             }
            },
            "marker": {
             "colorbar": {
              "outlinewidth": 0,
              "ticks": ""
             }
            },
            "type": "scatter3d"
           }
          ],
          "scattercarpet": [
           {
            "marker": {
             "colorbar": {
              "outlinewidth": 0,
              "ticks": ""
             }
            },
            "type": "scattercarpet"
           }
          ],
          "scattergeo": [
           {
            "marker": {
             "colorbar": {
              "outlinewidth": 0,
              "ticks": ""
             }
            },
            "type": "scattergeo"
           }
          ],
          "scattergl": [
           {
            "marker": {
             "colorbar": {
              "outlinewidth": 0,
              "ticks": ""
             }
            },
            "type": "scattergl"
           }
          ],
          "scattermapbox": [
           {
            "marker": {
             "colorbar": {
              "outlinewidth": 0,
              "ticks": ""
             }
            },
            "type": "scattermapbox"
           }
          ],
          "scatterpolar": [
           {
            "marker": {
             "colorbar": {
              "outlinewidth": 0,
              "ticks": ""
             }
            },
            "type": "scatterpolar"
           }
          ],
          "scatterpolargl": [
           {
            "marker": {
             "colorbar": {
              "outlinewidth": 0,
              "ticks": ""
             }
            },
            "type": "scatterpolargl"
           }
          ],
          "scatterternary": [
           {
            "marker": {
             "colorbar": {
              "outlinewidth": 0,
              "ticks": ""
             }
            },
            "type": "scatterternary"
           }
          ],
          "surface": [
           {
            "colorbar": {
             "outlinewidth": 0,
             "ticks": ""
            },
            "colorscale": [
             [
              0,
              "#0d0887"
             ],
             [
              0.1111111111111111,
              "#46039f"
             ],
             [
              0.2222222222222222,
              "#7201a8"
             ],
             [
              0.3333333333333333,
              "#9c179e"
             ],
             [
              0.4444444444444444,
              "#bd3786"
             ],
             [
              0.5555555555555556,
              "#d8576b"
             ],
             [
              0.6666666666666666,
              "#ed7953"
             ],
             [
              0.7777777777777778,
              "#fb9f3a"
             ],
             [
              0.8888888888888888,
              "#fdca26"
             ],
             [
              1,
              "#f0f921"
             ]
            ],
            "type": "surface"
           }
          ],
          "table": [
           {
            "cells": {
             "fill": {
              "color": "#EBF0F8"
             },
             "line": {
              "color": "white"
             }
            },
            "header": {
             "fill": {
              "color": "#C8D4E3"
             },
             "line": {
              "color": "white"
             }
            },
            "type": "table"
           }
          ]
         },
         "layout": {
          "annotationdefaults": {
           "arrowcolor": "#2a3f5f",
           "arrowhead": 0,
           "arrowwidth": 1
          },
          "autotypenumbers": "strict",
          "coloraxis": {
           "colorbar": {
            "outlinewidth": 0,
            "ticks": ""
           }
          },
          "colorscale": {
           "diverging": [
            [
             0,
             "#8e0152"
            ],
            [
             0.1,
             "#c51b7d"
            ],
            [
             0.2,
             "#de77ae"
            ],
            [
             0.3,
             "#f1b6da"
            ],
            [
             0.4,
             "#fde0ef"
            ],
            [
             0.5,
             "#f7f7f7"
            ],
            [
             0.6,
             "#e6f5d0"
            ],
            [
             0.7,
             "#b8e186"
            ],
            [
             0.8,
             "#7fbc41"
            ],
            [
             0.9,
             "#4d9221"
            ],
            [
             1,
             "#276419"
            ]
           ],
           "sequential": [
            [
             0,
             "#0d0887"
            ],
            [
             0.1111111111111111,
             "#46039f"
            ],
            [
             0.2222222222222222,
             "#7201a8"
            ],
            [
             0.3333333333333333,
             "#9c179e"
            ],
            [
             0.4444444444444444,
             "#bd3786"
            ],
            [
             0.5555555555555556,
             "#d8576b"
            ],
            [
             0.6666666666666666,
             "#ed7953"
            ],
            [
             0.7777777777777778,
             "#fb9f3a"
            ],
            [
             0.8888888888888888,
             "#fdca26"
            ],
            [
             1,
             "#f0f921"
            ]
           ],
           "sequentialminus": [
            [
             0,
             "#0d0887"
            ],
            [
             0.1111111111111111,
             "#46039f"
            ],
            [
             0.2222222222222222,
             "#7201a8"
            ],
            [
             0.3333333333333333,
             "#9c179e"
            ],
            [
             0.4444444444444444,
             "#bd3786"
            ],
            [
             0.5555555555555556,
             "#d8576b"
            ],
            [
             0.6666666666666666,
             "#ed7953"
            ],
            [
             0.7777777777777778,
             "#fb9f3a"
            ],
            [
             0.8888888888888888,
             "#fdca26"
            ],
            [
             1,
             "#f0f921"
            ]
           ]
          },
          "colorway": [
           "#636efa",
           "#EF553B",
           "#00cc96",
           "#ab63fa",
           "#FFA15A",
           "#19d3f3",
           "#FF6692",
           "#B6E880",
           "#FF97FF",
           "#FECB52"
          ],
          "font": {
           "color": "#2a3f5f"
          },
          "geo": {
           "bgcolor": "white",
           "lakecolor": "white",
           "landcolor": "#E5ECF6",
           "showlakes": true,
           "showland": true,
           "subunitcolor": "white"
          },
          "hoverlabel": {
           "align": "left"
          },
          "hovermode": "closest",
          "mapbox": {
           "style": "light"
          },
          "paper_bgcolor": "white",
          "plot_bgcolor": "#E5ECF6",
          "polar": {
           "angularaxis": {
            "gridcolor": "white",
            "linecolor": "white",
            "ticks": ""
           },
           "bgcolor": "#E5ECF6",
           "radialaxis": {
            "gridcolor": "white",
            "linecolor": "white",
            "ticks": ""
           }
          },
          "scene": {
           "xaxis": {
            "backgroundcolor": "#E5ECF6",
            "gridcolor": "white",
            "gridwidth": 2,
            "linecolor": "white",
            "showbackground": true,
            "ticks": "",
            "zerolinecolor": "white"
           },
           "yaxis": {
            "backgroundcolor": "#E5ECF6",
            "gridcolor": "white",
            "gridwidth": 2,
            "linecolor": "white",
            "showbackground": true,
            "ticks": "",
            "zerolinecolor": "white"
           },
           "zaxis": {
            "backgroundcolor": "#E5ECF6",
            "gridcolor": "white",
            "gridwidth": 2,
            "linecolor": "white",
            "showbackground": true,
            "ticks": "",
            "zerolinecolor": "white"
           }
          },
          "shapedefaults": {
           "line": {
            "color": "#2a3f5f"
           }
          },
          "ternary": {
           "aaxis": {
            "gridcolor": "white",
            "linecolor": "white",
            "ticks": ""
           },
           "baxis": {
            "gridcolor": "white",
            "linecolor": "white",
            "ticks": ""
           },
           "bgcolor": "#E5ECF6",
           "caxis": {
            "gridcolor": "white",
            "linecolor": "white",
            "ticks": ""
           }
          },
          "title": {
           "x": 0.05
          },
          "xaxis": {
           "automargin": true,
           "gridcolor": "white",
           "linecolor": "white",
           "ticks": "",
           "title": {
            "standoff": 15
           },
           "zerolinecolor": "white",
           "zerolinewidth": 2
          },
          "yaxis": {
           "automargin": true,
           "gridcolor": "white",
           "linecolor": "white",
           "ticks": "",
           "title": {
            "standoff": 15
           },
           "zerolinecolor": "white",
           "zerolinewidth": 2
          }
         }
        }
       }
      }
     },
     "metadata": {},
     "output_type": "display_data"
    }
   ],
   "source": [
    "fig_pie"
   ]
  },
  {
   "cell_type": "code",
   "execution_count": 14,
   "metadata": {},
   "outputs": [
    {
     "data": {
      "application/vnd.plotly.v1+json": {
       "config": {
        "plotlyServerURL": "https://plot.ly"
       },
       "data": [
        {
         "alignmentgroup": "True",
         "hovertemplate": "Comunidad Autónoma=%{x}<br>Total=%{y}<extra></extra>",
         "legendgroup": "01 Andalucía",
         "marker": {
          "color": "#636efa",
          "pattern": {
           "shape": ""
          }
         },
         "name": "01 Andalucía",
         "offsetgroup": "01 Andalucía",
         "orientation": "v",
         "showlegend": true,
         "textposition": "auto",
         "type": "bar",
         "x": [
          "01 Andalucía"
         ],
         "xaxis": "x",
         "y": [
          8631862
         ],
         "yaxis": "y"
        },
        {
         "alignmentgroup": "True",
         "hovertemplate": "Comunidad Autónoma=%{x}<br>Total=%{y}<extra></extra>",
         "legendgroup": "02 Aragón",
         "marker": {
          "color": "#EF553B",
          "pattern": {
           "shape": ""
          }
         },
         "name": "02 Aragón",
         "offsetgroup": "02 Aragón",
         "orientation": "v",
         "showlegend": true,
         "textposition": "auto",
         "type": "bar",
         "x": [
          "02 Aragón"
         ],
         "xaxis": "x",
         "y": [
          1351591
         ],
         "yaxis": "y"
        },
        {
         "alignmentgroup": "True",
         "hovertemplate": "Comunidad Autónoma=%{x}<br>Total=%{y}<extra></extra>",
         "legendgroup": "03 Asturias, Principado de",
         "marker": {
          "color": "#00cc96",
          "pattern": {
           "shape": ""
          }
         },
         "name": "03 Asturias, Principado de",
         "offsetgroup": "03 Asturias, Principado de",
         "orientation": "v",
         "showlegend": true,
         "textposition": "auto",
         "type": "bar",
         "x": [
          "03 Asturias, Principado de"
         ],
         "xaxis": "x",
         "y": [
          1009599
         ],
         "yaxis": "y"
        },
        {
         "alignmentgroup": "True",
         "hovertemplate": "Comunidad Autónoma=%{x}<br>Total=%{y}<extra></extra>",
         "legendgroup": "04 Balears, Illes",
         "marker": {
          "color": "#ab63fa",
          "pattern": {
           "shape": ""
          }
         },
         "name": "04 Balears, Illes",
         "offsetgroup": "04 Balears, Illes",
         "orientation": "v",
         "showlegend": true,
         "textposition": "auto",
         "type": "bar",
         "x": [
          "04 Balears, Illes"
         ],
         "xaxis": "x",
         "y": [
          1231768
         ],
         "yaxis": "y"
        },
        {
         "alignmentgroup": "True",
         "hovertemplate": "Comunidad Autónoma=%{x}<br>Total=%{y}<extra></extra>",
         "legendgroup": "06 Cantabria",
         "marker": {
          "color": "#FFA15A",
          "pattern": {
           "shape": ""
          }
         },
         "name": "06 Cantabria",
         "offsetgroup": "06 Cantabria",
         "orientation": "v",
         "showlegend": true,
         "textposition": "auto",
         "type": "bar",
         "x": [
          "06 Cantabria"
         ],
         "xaxis": "x",
         "y": [
          590851
         ],
         "yaxis": "y"
        },
        {
         "alignmentgroup": "True",
         "hovertemplate": "Comunidad Autónoma=%{x}<br>Total=%{y}<extra></extra>",
         "legendgroup": "07 Castilla y León",
         "marker": {
          "color": "#19d3f3",
          "pattern": {
           "shape": ""
          }
         },
         "name": "07 Castilla y León",
         "offsetgroup": "07 Castilla y León",
         "orientation": "v",
         "showlegend": true,
         "textposition": "auto",
         "type": "bar",
         "x": [
          "07 Castilla y León"
         ],
         "xaxis": "x",
         "y": [
          2391682
         ],
         "yaxis": "y"
        },
        {
         "alignmentgroup": "True",
         "hovertemplate": "Comunidad Autónoma=%{x}<br>Total=%{y}<extra></extra>",
         "legendgroup": "08 Castilla - La Mancha",
         "marker": {
          "color": "#FF6692",
          "pattern": {
           "shape": ""
          }
         },
         "name": "08 Castilla - La Mancha",
         "offsetgroup": "08 Castilla - La Mancha",
         "orientation": "v",
         "showlegend": true,
         "textposition": "auto",
         "type": "bar",
         "x": [
          "08 Castilla - La Mancha"
         ],
         "xaxis": "x",
         "y": [
          2104433
         ],
         "yaxis": "y"
        },
        {
         "alignmentgroup": "True",
         "hovertemplate": "Comunidad Autónoma=%{x}<br>Total=%{y}<extra></extra>",
         "legendgroup": "09 Cataluña",
         "marker": {
          "color": "#B6E880",
          "pattern": {
           "shape": ""
          }
         },
         "name": "09 Cataluña",
         "offsetgroup": "09 Cataluña",
         "orientation": "v",
         "showlegend": true,
         "textposition": "auto",
         "type": "bar",
         "x": [
          "09 Cataluña"
         ],
         "xaxis": "x",
         "y": [
          8012231
         ],
         "yaxis": "y"
        },
        {
         "alignmentgroup": "True",
         "hovertemplate": "Comunidad Autónoma=%{x}<br>Total=%{y}<extra></extra>",
         "legendgroup": "10 Comunitat Valenciana",
         "marker": {
          "color": "#FF97FF",
          "pattern": {
           "shape": ""
          }
         },
         "name": "10 Comunitat Valenciana",
         "offsetgroup": "10 Comunitat Valenciana",
         "orientation": "v",
         "showlegend": true,
         "textposition": "auto",
         "type": "bar",
         "x": [
          "10 Comunitat Valenciana"
         ],
         "xaxis": "x",
         "y": [
          5319285
         ],
         "yaxis": "y"
        },
        {
         "alignmentgroup": "True",
         "hovertemplate": "Comunidad Autónoma=%{x}<br>Total=%{y}<extra></extra>",
         "legendgroup": "11 Extremadura",
         "marker": {
          "color": "#FECB52",
          "pattern": {
           "shape": ""
          }
         },
         "name": "11 Extremadura",
         "offsetgroup": "11 Extremadura",
         "orientation": "v",
         "showlegend": true,
         "textposition": "auto",
         "type": "bar",
         "x": [
          "11 Extremadura"
         ],
         "xaxis": "x",
         "y": [
          1054681
         ],
         "yaxis": "y"
        },
        {
         "alignmentgroup": "True",
         "hovertemplate": "Comunidad Autónoma=%{x}<br>Total=%{y}<extra></extra>",
         "legendgroup": "12 Galicia",
         "marker": {
          "color": "#636efa",
          "pattern": {
           "shape": ""
          }
         },
         "name": "12 Galicia",
         "offsetgroup": "12 Galicia",
         "orientation": "v",
         "showlegend": true,
         "textposition": "auto",
         "type": "bar",
         "x": [
          "12 Galicia"
         ],
         "xaxis": "x",
         "y": [
          2705833
         ],
         "yaxis": "y"
        },
        {
         "alignmentgroup": "True",
         "hovertemplate": "Comunidad Autónoma=%{x}<br>Total=%{y}<extra></extra>",
         "legendgroup": "13 Madrid, Comunidad de",
         "marker": {
          "color": "#EF553B",
          "pattern": {
           "shape": ""
          }
         },
         "name": "13 Madrid, Comunidad de",
         "offsetgroup": "13 Madrid, Comunidad de",
         "orientation": "v",
         "showlegend": true,
         "textposition": "auto",
         "type": "bar",
         "x": [
          "13 Madrid, Comunidad de"
         ],
         "xaxis": "x",
         "y": [
          7009268
         ],
         "yaxis": "y"
        },
        {
         "alignmentgroup": "True",
         "hovertemplate": "Comunidad Autónoma=%{x}<br>Total=%{y}<extra></extra>",
         "legendgroup": "14 Murcia, Región de",
         "marker": {
          "color": "#00cc96",
          "pattern": {
           "shape": ""
          }
         },
         "name": "14 Murcia, Región de",
         "offsetgroup": "14 Murcia, Región de",
         "orientation": "v",
         "showlegend": true,
         "textposition": "auto",
         "type": "bar",
         "x": [
          "14 Murcia, Región de"
         ],
         "xaxis": "x",
         "y": [
          1568492
         ],
         "yaxis": "y"
        },
        {
         "alignmentgroup": "True",
         "hovertemplate": "Comunidad Autónoma=%{x}<br>Total=%{y}<extra></extra>",
         "legendgroup": "15 Navarra, Comunidad Foral de",
         "marker": {
          "color": "#ab63fa",
          "pattern": {
           "shape": ""
          }
         },
         "name": "15 Navarra, Comunidad Foral de",
         "offsetgroup": "15 Navarra, Comunidad Foral de",
         "orientation": "v",
         "showlegend": true,
         "textposition": "auto",
         "type": "bar",
         "x": [
          "15 Navarra, Comunidad Foral de"
         ],
         "xaxis": "x",
         "y": [
          678333
         ],
         "yaxis": "y"
        },
        {
         "alignmentgroup": "True",
         "hovertemplate": "Comunidad Autónoma=%{x}<br>Total=%{y}<extra></extra>",
         "legendgroup": "16 País Vasco",
         "marker": {
          "color": "#FFA15A",
          "pattern": {
           "shape": ""
          }
         },
         "name": "16 País Vasco",
         "offsetgroup": "16 País Vasco",
         "orientation": "v",
         "showlegend": true,
         "textposition": "auto",
         "type": "bar",
         "x": [
          "16 País Vasco"
         ],
         "xaxis": "x",
         "y": [
          2227684
         ],
         "yaxis": "y"
        },
        {
         "alignmentgroup": "True",
         "hovertemplate": "Comunidad Autónoma=%{x}<br>Total=%{y}<extra></extra>",
         "legendgroup": "17 Rioja, La",
         "marker": {
          "color": "#19d3f3",
          "pattern": {
           "shape": ""
          }
         },
         "name": "17 Rioja, La",
         "offsetgroup": "17 Rioja, La",
         "orientation": "v",
         "showlegend": true,
         "textposition": "auto",
         "type": "bar",
         "x": [
          "17 Rioja, La"
         ],
         "xaxis": "x",
         "y": [
          324184
         ],
         "yaxis": "y"
        },
        {
         "alignmentgroup": "True",
         "hovertemplate": "Comunidad Autónoma=%{x}<br>Total=%{y}<extra></extra>",
         "legendgroup": "18 Ceuta",
         "marker": {
          "color": "#FF6692",
          "pattern": {
           "shape": ""
          }
         },
         "name": "18 Ceuta",
         "offsetgroup": "18 Ceuta",
         "orientation": "v",
         "showlegend": true,
         "textposition": "auto",
         "type": "bar",
         "x": [
          "18 Ceuta"
         ],
         "xaxis": "x",
         "y": [
          83179
         ],
         "yaxis": "y"
        },
        {
         "alignmentgroup": "True",
         "hovertemplate": "Comunidad Autónoma=%{x}<br>Total=%{y}<extra></extra>",
         "legendgroup": "19 Melilla",
         "marker": {
          "color": "#B6E880",
          "pattern": {
           "shape": ""
          }
         },
         "name": "19 Melilla",
         "offsetgroup": "19 Melilla",
         "orientation": "v",
         "showlegend": true,
         "textposition": "auto",
         "type": "bar",
         "x": [
          "19 Melilla"
         ],
         "xaxis": "x",
         "y": [
          85985
         ],
         "yaxis": "y"
        }
       ],
       "layout": {
        "barmode": "stack",
        "legend": {
         "title": {
          "text": "Comunidad Autónoma"
         },
         "tracegroupgap": 0
        },
        "template": {
         "data": {
          "bar": [
           {
            "error_x": {
             "color": "#2a3f5f"
            },
            "error_y": {
             "color": "#2a3f5f"
            },
            "marker": {
             "line": {
              "color": "#E5ECF6",
              "width": 0.5
             },
             "pattern": {
              "fillmode": "overlay",
              "size": 10,
              "solidity": 0.2
             }
            },
            "type": "bar"
           }
          ],
          "barpolar": [
           {
            "marker": {
             "line": {
              "color": "#E5ECF6",
              "width": 0.5
             },
             "pattern": {
              "fillmode": "overlay",
              "size": 10,
              "solidity": 0.2
             }
            },
            "type": "barpolar"
           }
          ],
          "carpet": [
           {
            "aaxis": {
             "endlinecolor": "#2a3f5f",
             "gridcolor": "white",
             "linecolor": "white",
             "minorgridcolor": "white",
             "startlinecolor": "#2a3f5f"
            },
            "baxis": {
             "endlinecolor": "#2a3f5f",
             "gridcolor": "white",
             "linecolor": "white",
             "minorgridcolor": "white",
             "startlinecolor": "#2a3f5f"
            },
            "type": "carpet"
           }
          ],
          "choropleth": [
           {
            "colorbar": {
             "outlinewidth": 0,
             "ticks": ""
            },
            "type": "choropleth"
           }
          ],
          "contour": [
           {
            "colorbar": {
             "outlinewidth": 0,
             "ticks": ""
            },
            "colorscale": [
             [
              0,
              "#0d0887"
             ],
             [
              0.1111111111111111,
              "#46039f"
             ],
             [
              0.2222222222222222,
              "#7201a8"
             ],
             [
              0.3333333333333333,
              "#9c179e"
             ],
             [
              0.4444444444444444,
              "#bd3786"
             ],
             [
              0.5555555555555556,
              "#d8576b"
             ],
             [
              0.6666666666666666,
              "#ed7953"
             ],
             [
              0.7777777777777778,
              "#fb9f3a"
             ],
             [
              0.8888888888888888,
              "#fdca26"
             ],
             [
              1,
              "#f0f921"
             ]
            ],
            "type": "contour"
           }
          ],
          "contourcarpet": [
           {
            "colorbar": {
             "outlinewidth": 0,
             "ticks": ""
            },
            "type": "contourcarpet"
           }
          ],
          "heatmap": [
           {
            "colorbar": {
             "outlinewidth": 0,
             "ticks": ""
            },
            "colorscale": [
             [
              0,
              "#0d0887"
             ],
             [
              0.1111111111111111,
              "#46039f"
             ],
             [
              0.2222222222222222,
              "#7201a8"
             ],
             [
              0.3333333333333333,
              "#9c179e"
             ],
             [
              0.4444444444444444,
              "#bd3786"
             ],
             [
              0.5555555555555556,
              "#d8576b"
             ],
             [
              0.6666666666666666,
              "#ed7953"
             ],
             [
              0.7777777777777778,
              "#fb9f3a"
             ],
             [
              0.8888888888888888,
              "#fdca26"
             ],
             [
              1,
              "#f0f921"
             ]
            ],
            "type": "heatmap"
           }
          ],
          "heatmapgl": [
           {
            "colorbar": {
             "outlinewidth": 0,
             "ticks": ""
            },
            "colorscale": [
             [
              0,
              "#0d0887"
             ],
             [
              0.1111111111111111,
              "#46039f"
             ],
             [
              0.2222222222222222,
              "#7201a8"
             ],
             [
              0.3333333333333333,
              "#9c179e"
             ],
             [
              0.4444444444444444,
              "#bd3786"
             ],
             [
              0.5555555555555556,
              "#d8576b"
             ],
             [
              0.6666666666666666,
              "#ed7953"
             ],
             [
              0.7777777777777778,
              "#fb9f3a"
             ],
             [
              0.8888888888888888,
              "#fdca26"
             ],
             [
              1,
              "#f0f921"
             ]
            ],
            "type": "heatmapgl"
           }
          ],
          "histogram": [
           {
            "marker": {
             "pattern": {
              "fillmode": "overlay",
              "size": 10,
              "solidity": 0.2
             }
            },
            "type": "histogram"
           }
          ],
          "histogram2d": [
           {
            "colorbar": {
             "outlinewidth": 0,
             "ticks": ""
            },
            "colorscale": [
             [
              0,
              "#0d0887"
             ],
             [
              0.1111111111111111,
              "#46039f"
             ],
             [
              0.2222222222222222,
              "#7201a8"
             ],
             [
              0.3333333333333333,
              "#9c179e"
             ],
             [
              0.4444444444444444,
              "#bd3786"
             ],
             [
              0.5555555555555556,
              "#d8576b"
             ],
             [
              0.6666666666666666,
              "#ed7953"
             ],
             [
              0.7777777777777778,
              "#fb9f3a"
             ],
             [
              0.8888888888888888,
              "#fdca26"
             ],
             [
              1,
              "#f0f921"
             ]
            ],
            "type": "histogram2d"
           }
          ],
          "histogram2dcontour": [
           {
            "colorbar": {
             "outlinewidth": 0,
             "ticks": ""
            },
            "colorscale": [
             [
              0,
              "#0d0887"
             ],
             [
              0.1111111111111111,
              "#46039f"
             ],
             [
              0.2222222222222222,
              "#7201a8"
             ],
             [
              0.3333333333333333,
              "#9c179e"
             ],
             [
              0.4444444444444444,
              "#bd3786"
             ],
             [
              0.5555555555555556,
              "#d8576b"
             ],
             [
              0.6666666666666666,
              "#ed7953"
             ],
             [
              0.7777777777777778,
              "#fb9f3a"
             ],
             [
              0.8888888888888888,
              "#fdca26"
             ],
             [
              1,
              "#f0f921"
             ]
            ],
            "type": "histogram2dcontour"
           }
          ],
          "mesh3d": [
           {
            "colorbar": {
             "outlinewidth": 0,
             "ticks": ""
            },
            "type": "mesh3d"
           }
          ],
          "parcoords": [
           {
            "line": {
             "colorbar": {
              "outlinewidth": 0,
              "ticks": ""
             }
            },
            "type": "parcoords"
           }
          ],
          "pie": [
           {
            "automargin": true,
            "type": "pie"
           }
          ],
          "scatter": [
           {
            "fillpattern": {
             "fillmode": "overlay",
             "size": 10,
             "solidity": 0.2
            },
            "type": "scatter"
           }
          ],
          "scatter3d": [
           {
            "line": {
             "colorbar": {
              "outlinewidth": 0,
              "ticks": ""
             }
            },
            "marker": {
             "colorbar": {
              "outlinewidth": 0,
              "ticks": ""
             }
            },
            "type": "scatter3d"
           }
          ],
          "scattercarpet": [
           {
            "marker": {
             "colorbar": {
              "outlinewidth": 0,
              "ticks": ""
             }
            },
            "type": "scattercarpet"
           }
          ],
          "scattergeo": [
           {
            "marker": {
             "colorbar": {
              "outlinewidth": 0,
              "ticks": ""
             }
            },
            "type": "scattergeo"
           }
          ],
          "scattergl": [
           {
            "marker": {
             "colorbar": {
              "outlinewidth": 0,
              "ticks": ""
             }
            },
            "type": "scattergl"
           }
          ],
          "scattermapbox": [
           {
            "marker": {
             "colorbar": {
              "outlinewidth": 0,
              "ticks": ""
             }
            },
            "type": "scattermapbox"
           }
          ],
          "scatterpolar": [
           {
            "marker": {
             "colorbar": {
              "outlinewidth": 0,
              "ticks": ""
             }
            },
            "type": "scatterpolar"
           }
          ],
          "scatterpolargl": [
           {
            "marker": {
             "colorbar": {
              "outlinewidth": 0,
              "ticks": ""
             }
            },
            "type": "scatterpolargl"
           }
          ],
          "scatterternary": [
           {
            "marker": {
             "colorbar": {
              "outlinewidth": 0,
              "ticks": ""
             }
            },
            "type": "scatterternary"
           }
          ],
          "surface": [
           {
            "colorbar": {
             "outlinewidth": 0,
             "ticks": ""
            },
            "colorscale": [
             [
              0,
              "#0d0887"
             ],
             [
              0.1111111111111111,
              "#46039f"
             ],
             [
              0.2222222222222222,
              "#7201a8"
             ],
             [
              0.3333333333333333,
              "#9c179e"
             ],
             [
              0.4444444444444444,
              "#bd3786"
             ],
             [
              0.5555555555555556,
              "#d8576b"
             ],
             [
              0.6666666666666666,
              "#ed7953"
             ],
             [
              0.7777777777777778,
              "#fb9f3a"
             ],
             [
              0.8888888888888888,
              "#fdca26"
             ],
             [
              1,
              "#f0f921"
             ]
            ],
            "type": "surface"
           }
          ],
          "table": [
           {
            "cells": {
             "fill": {
              "color": "#EBF0F8"
             },
             "line": {
              "color": "white"
             }
            },
            "header": {
             "fill": {
              "color": "#C8D4E3"
             },
             "line": {
              "color": "white"
             }
            },
            "type": "table"
           }
          ]
         },
         "layout": {
          "annotationdefaults": {
           "arrowcolor": "#2a3f5f",
           "arrowhead": 0,
           "arrowwidth": 1
          },
          "autotypenumbers": "strict",
          "coloraxis": {
           "colorbar": {
            "outlinewidth": 0,
            "ticks": ""
           }
          },
          "colorscale": {
           "diverging": [
            [
             0,
             "#8e0152"
            ],
            [
             0.1,
             "#c51b7d"
            ],
            [
             0.2,
             "#de77ae"
            ],
            [
             0.3,
             "#f1b6da"
            ],
            [
             0.4,
             "#fde0ef"
            ],
            [
             0.5,
             "#f7f7f7"
            ],
            [
             0.6,
             "#e6f5d0"
            ],
            [
             0.7,
             "#b8e186"
            ],
            [
             0.8,
             "#7fbc41"
            ],
            [
             0.9,
             "#4d9221"
            ],
            [
             1,
             "#276419"
            ]
           ],
           "sequential": [
            [
             0,
             "#0d0887"
            ],
            [
             0.1111111111111111,
             "#46039f"
            ],
            [
             0.2222222222222222,
             "#7201a8"
            ],
            [
             0.3333333333333333,
             "#9c179e"
            ],
            [
             0.4444444444444444,
             "#bd3786"
            ],
            [
             0.5555555555555556,
             "#d8576b"
            ],
            [
             0.6666666666666666,
             "#ed7953"
            ],
            [
             0.7777777777777778,
             "#fb9f3a"
            ],
            [
             0.8888888888888888,
             "#fdca26"
            ],
            [
             1,
             "#f0f921"
            ]
           ],
           "sequentialminus": [
            [
             0,
             "#0d0887"
            ],
            [
             0.1111111111111111,
             "#46039f"
            ],
            [
             0.2222222222222222,
             "#7201a8"
            ],
            [
             0.3333333333333333,
             "#9c179e"
            ],
            [
             0.4444444444444444,
             "#bd3786"
            ],
            [
             0.5555555555555556,
             "#d8576b"
            ],
            [
             0.6666666666666666,
             "#ed7953"
            ],
            [
             0.7777777777777778,
             "#fb9f3a"
            ],
            [
             0.8888888888888888,
             "#fdca26"
            ],
            [
             1,
             "#f0f921"
            ]
           ]
          },
          "colorway": [
           "#636efa",
           "#EF553B",
           "#00cc96",
           "#ab63fa",
           "#FFA15A",
           "#19d3f3",
           "#FF6692",
           "#B6E880",
           "#FF97FF",
           "#FECB52"
          ],
          "font": {
           "color": "#2a3f5f"
          },
          "geo": {
           "bgcolor": "white",
           "lakecolor": "white",
           "landcolor": "#E5ECF6",
           "showlakes": true,
           "showland": true,
           "subunitcolor": "white"
          },
          "hoverlabel": {
           "align": "left"
          },
          "hovermode": "closest",
          "mapbox": {
           "style": "light"
          },
          "paper_bgcolor": "white",
          "plot_bgcolor": "#E5ECF6",
          "polar": {
           "angularaxis": {
            "gridcolor": "white",
            "linecolor": "white",
            "ticks": ""
           },
           "bgcolor": "#E5ECF6",
           "radialaxis": {
            "gridcolor": "white",
            "linecolor": "white",
            "ticks": ""
           }
          },
          "scene": {
           "xaxis": {
            "backgroundcolor": "#E5ECF6",
            "gridcolor": "white",
            "gridwidth": 2,
            "linecolor": "white",
            "showbackground": true,
            "ticks": "",
            "zerolinecolor": "white"
           },
           "yaxis": {
            "backgroundcolor": "#E5ECF6",
            "gridcolor": "white",
            "gridwidth": 2,
            "linecolor": "white",
            "showbackground": true,
            "ticks": "",
            "zerolinecolor": "white"
           },
           "zaxis": {
            "backgroundcolor": "#E5ECF6",
            "gridcolor": "white",
            "gridwidth": 2,
            "linecolor": "white",
            "showbackground": true,
            "ticks": "",
            "zerolinecolor": "white"
           }
          },
          "shapedefaults": {
           "line": {
            "color": "#2a3f5f"
           }
          },
          "ternary": {
           "aaxis": {
            "gridcolor": "white",
            "linecolor": "white",
            "ticks": ""
           },
           "baxis": {
            "gridcolor": "white",
            "linecolor": "white",
            "ticks": ""
           },
           "bgcolor": "#E5ECF6",
           "caxis": {
            "gridcolor": "white",
            "linecolor": "white",
            "ticks": ""
           }
          },
          "title": {
           "x": 0.05
          },
          "xaxis": {
           "automargin": true,
           "gridcolor": "white",
           "linecolor": "white",
           "ticks": "",
           "title": {
            "standoff": 15
           },
           "zerolinecolor": "white",
           "zerolinewidth": 2
          },
          "yaxis": {
           "automargin": true,
           "gridcolor": "white",
           "linecolor": "white",
           "ticks": "",
           "title": {
            "standoff": 15
           },
           "zerolinecolor": "white",
           "zerolinewidth": 2
          }
         }
        },
        "title": {
         "text": "Población España 2024 por Comunidades Autónomas"
        },
        "xaxis": {
         "anchor": "y",
         "categoryarray": [
          "01 Andalucía",
          "02 Aragón",
          "03 Asturias, Principado de",
          "04 Balears, Illes",
          "06 Cantabria",
          "07 Castilla y León",
          "08 Castilla - La Mancha",
          "09 Cataluña",
          "10 Comunitat Valenciana",
          "11 Extremadura",
          "12 Galicia",
          "13 Madrid, Comunidad de",
          "14 Murcia, Región de",
          "15 Navarra, Comunidad Foral de",
          "16 País Vasco",
          "17 Rioja, La",
          "18 Ceuta",
          "19 Melilla"
         ],
         "categoryorder": "array",
         "domain": [
          0,
          1
         ],
         "title": {
          "text": "Comunidad Autónoma"
         }
        },
        "yaxis": {
         "anchor": "x",
         "domain": [
          0,
          1
         ],
         "title": {
          "text": "Total"
         }
        }
       }
      }
     },
     "metadata": {},
     "output_type": "display_data"
    }
   ],
   "source": [
    "fig_bar"
   ]
  },
  {
   "cell_type": "code",
   "execution_count": 15,
   "metadata": {},
   "outputs": [
    {
     "data": {
      "application/vnd.plotly.v1+json": {
       "config": {
        "plotlyServerURL": "https://plot.ly"
       },
       "data": [
        {
         "hovertemplate": "<b>%{hovertext}</b><br><br>Unnamed: 1=%{marker.size}<br>lat=%{lat}<br>lon=%{lon}<extra></extra>",
         "hovertext": [
          "01 Andalucía",
          "02 Aragón",
          "03 Asturias, Principado de",
          "04 Balears, Illes",
          "06 Cantabria",
          "07 Castilla y León",
          "08 Castilla - La Mancha",
          "09 Cataluña",
          "10 Comunitat Valenciana",
          "11 Extremadura",
          "12 Galicia",
          "13 Madrid, Comunidad de",
          "14 Murcia, Región de",
          "15 Navarra, Comunidad Foral de",
          "16 País Vasco",
          "17 Rioja, La",
          "18 Ceuta",
          "19 Melilla"
         ],
         "lat": [
          37.3891,
          41.6488,
          43.3603,
          39.5696,
          43.4623,
          41.6521,
          39.8568,
          42,
          41.3851,
          38.7257,
          42.5751,
          40.4168,
          37.9834,
          42.8125,
          42.6985,
          39.4699,
          35.8894,
          35.2923
         ],
         "legendgroup": "",
         "lon": [
          -4.58,
          -0.67,
          -5.99,
          2.9,
          -4.03,
          -4.78,
          -3.01,
          1.52,
          -0.56,
          -6.15,
          -7.91,
          -3.72,
          -1.49,
          -1.65,
          -2.62,
          -2.52,
          -5.31,
          -2.93
         ],
         "marker": {
          "color": "#636efa",
          "size": [
           8631862,
           1351591,
           1009599,
           1231768,
           590851,
           2391682,
           2104433,
           8012231,
           5319285,
           1054681,
           2705833,
           7009268,
           1568492,
           678333,
           2227684,
           324184,
           83179,
           85985
          ],
          "sizemode": "area",
          "sizeref": 21579.655
         },
         "mode": "markers",
         "name": "",
         "showlegend": false,
         "subplot": "mapbox",
         "type": "scattermapbox"
        }
       ],
       "layout": {
        "legend": {
         "itemsizing": "constant",
         "tracegroupgap": 0
        },
        "mapbox": {
         "center": {
          "lat": 40.4168,
          "lon": -3.7038
         },
         "domain": {
          "x": [
           0,
           1
          ],
          "y": [
           0,
           1
          ]
         },
         "style": "carto-positron",
         "zoom": 4.1
        },
        "margin": {
         "t": 60
        },
        "template": {
         "data": {
          "bar": [
           {
            "error_x": {
             "color": "#2a3f5f"
            },
            "error_y": {
             "color": "#2a3f5f"
            },
            "marker": {
             "line": {
              "color": "#E5ECF6",
              "width": 0.5
             },
             "pattern": {
              "fillmode": "overlay",
              "size": 10,
              "solidity": 0.2
             }
            },
            "type": "bar"
           }
          ],
          "barpolar": [
           {
            "marker": {
             "line": {
              "color": "#E5ECF6",
              "width": 0.5
             },
             "pattern": {
              "fillmode": "overlay",
              "size": 10,
              "solidity": 0.2
             }
            },
            "type": "barpolar"
           }
          ],
          "carpet": [
           {
            "aaxis": {
             "endlinecolor": "#2a3f5f",
             "gridcolor": "white",
             "linecolor": "white",
             "minorgridcolor": "white",
             "startlinecolor": "#2a3f5f"
            },
            "baxis": {
             "endlinecolor": "#2a3f5f",
             "gridcolor": "white",
             "linecolor": "white",
             "minorgridcolor": "white",
             "startlinecolor": "#2a3f5f"
            },
            "type": "carpet"
           }
          ],
          "choropleth": [
           {
            "colorbar": {
             "outlinewidth": 0,
             "ticks": ""
            },
            "type": "choropleth"
           }
          ],
          "contour": [
           {
            "colorbar": {
             "outlinewidth": 0,
             "ticks": ""
            },
            "colorscale": [
             [
              0,
              "#0d0887"
             ],
             [
              0.1111111111111111,
              "#46039f"
             ],
             [
              0.2222222222222222,
              "#7201a8"
             ],
             [
              0.3333333333333333,
              "#9c179e"
             ],
             [
              0.4444444444444444,
              "#bd3786"
             ],
             [
              0.5555555555555556,
              "#d8576b"
             ],
             [
              0.6666666666666666,
              "#ed7953"
             ],
             [
              0.7777777777777778,
              "#fb9f3a"
             ],
             [
              0.8888888888888888,
              "#fdca26"
             ],
             [
              1,
              "#f0f921"
             ]
            ],
            "type": "contour"
           }
          ],
          "contourcarpet": [
           {
            "colorbar": {
             "outlinewidth": 0,
             "ticks": ""
            },
            "type": "contourcarpet"
           }
          ],
          "heatmap": [
           {
            "colorbar": {
             "outlinewidth": 0,
             "ticks": ""
            },
            "colorscale": [
             [
              0,
              "#0d0887"
             ],
             [
              0.1111111111111111,
              "#46039f"
             ],
             [
              0.2222222222222222,
              "#7201a8"
             ],
             [
              0.3333333333333333,
              "#9c179e"
             ],
             [
              0.4444444444444444,
              "#bd3786"
             ],
             [
              0.5555555555555556,
              "#d8576b"
             ],
             [
              0.6666666666666666,
              "#ed7953"
             ],
             [
              0.7777777777777778,
              "#fb9f3a"
             ],
             [
              0.8888888888888888,
              "#fdca26"
             ],
             [
              1,
              "#f0f921"
             ]
            ],
            "type": "heatmap"
           }
          ],
          "heatmapgl": [
           {
            "colorbar": {
             "outlinewidth": 0,
             "ticks": ""
            },
            "colorscale": [
             [
              0,
              "#0d0887"
             ],
             [
              0.1111111111111111,
              "#46039f"
             ],
             [
              0.2222222222222222,
              "#7201a8"
             ],
             [
              0.3333333333333333,
              "#9c179e"
             ],
             [
              0.4444444444444444,
              "#bd3786"
             ],
             [
              0.5555555555555556,
              "#d8576b"
             ],
             [
              0.6666666666666666,
              "#ed7953"
             ],
             [
              0.7777777777777778,
              "#fb9f3a"
             ],
             [
              0.8888888888888888,
              "#fdca26"
             ],
             [
              1,
              "#f0f921"
             ]
            ],
            "type": "heatmapgl"
           }
          ],
          "histogram": [
           {
            "marker": {
             "pattern": {
              "fillmode": "overlay",
              "size": 10,
              "solidity": 0.2
             }
            },
            "type": "histogram"
           }
          ],
          "histogram2d": [
           {
            "colorbar": {
             "outlinewidth": 0,
             "ticks": ""
            },
            "colorscale": [
             [
              0,
              "#0d0887"
             ],
             [
              0.1111111111111111,
              "#46039f"
             ],
             [
              0.2222222222222222,
              "#7201a8"
             ],
             [
              0.3333333333333333,
              "#9c179e"
             ],
             [
              0.4444444444444444,
              "#bd3786"
             ],
             [
              0.5555555555555556,
              "#d8576b"
             ],
             [
              0.6666666666666666,
              "#ed7953"
             ],
             [
              0.7777777777777778,
              "#fb9f3a"
             ],
             [
              0.8888888888888888,
              "#fdca26"
             ],
             [
              1,
              "#f0f921"
             ]
            ],
            "type": "histogram2d"
           }
          ],
          "histogram2dcontour": [
           {
            "colorbar": {
             "outlinewidth": 0,
             "ticks": ""
            },
            "colorscale": [
             [
              0,
              "#0d0887"
             ],
             [
              0.1111111111111111,
              "#46039f"
             ],
             [
              0.2222222222222222,
              "#7201a8"
             ],
             [
              0.3333333333333333,
              "#9c179e"
             ],
             [
              0.4444444444444444,
              "#bd3786"
             ],
             [
              0.5555555555555556,
              "#d8576b"
             ],
             [
              0.6666666666666666,
              "#ed7953"
             ],
             [
              0.7777777777777778,
              "#fb9f3a"
             ],
             [
              0.8888888888888888,
              "#fdca26"
             ],
             [
              1,
              "#f0f921"
             ]
            ],
            "type": "histogram2dcontour"
           }
          ],
          "mesh3d": [
           {
            "colorbar": {
             "outlinewidth": 0,
             "ticks": ""
            },
            "type": "mesh3d"
           }
          ],
          "parcoords": [
           {
            "line": {
             "colorbar": {
              "outlinewidth": 0,
              "ticks": ""
             }
            },
            "type": "parcoords"
           }
          ],
          "pie": [
           {
            "automargin": true,
            "type": "pie"
           }
          ],
          "scatter": [
           {
            "fillpattern": {
             "fillmode": "overlay",
             "size": 10,
             "solidity": 0.2
            },
            "type": "scatter"
           }
          ],
          "scatter3d": [
           {
            "line": {
             "colorbar": {
              "outlinewidth": 0,
              "ticks": ""
             }
            },
            "marker": {
             "colorbar": {
              "outlinewidth": 0,
              "ticks": ""
             }
            },
            "type": "scatter3d"
           }
          ],
          "scattercarpet": [
           {
            "marker": {
             "colorbar": {
              "outlinewidth": 0,
              "ticks": ""
             }
            },
            "type": "scattercarpet"
           }
          ],
          "scattergeo": [
           {
            "marker": {
             "colorbar": {
              "outlinewidth": 0,
              "ticks": ""
             }
            },
            "type": "scattergeo"
           }
          ],
          "scattergl": [
           {
            "marker": {
             "colorbar": {
              "outlinewidth": 0,
              "ticks": ""
             }
            },
            "type": "scattergl"
           }
          ],
          "scattermapbox": [
           {
            "marker": {
             "colorbar": {
              "outlinewidth": 0,
              "ticks": ""
             }
            },
            "type": "scattermapbox"
           }
          ],
          "scatterpolar": [
           {
            "marker": {
             "colorbar": {
              "outlinewidth": 0,
              "ticks": ""
             }
            },
            "type": "scatterpolar"
           }
          ],
          "scatterpolargl": [
           {
            "marker": {
             "colorbar": {
              "outlinewidth": 0,
              "ticks": ""
             }
            },
            "type": "scatterpolargl"
           }
          ],
          "scatterternary": [
           {
            "marker": {
             "colorbar": {
              "outlinewidth": 0,
              "ticks": ""
             }
            },
            "type": "scatterternary"
           }
          ],
          "surface": [
           {
            "colorbar": {
             "outlinewidth": 0,
             "ticks": ""
            },
            "colorscale": [
             [
              0,
              "#0d0887"
             ],
             [
              0.1111111111111111,
              "#46039f"
             ],
             [
              0.2222222222222222,
              "#7201a8"
             ],
             [
              0.3333333333333333,
              "#9c179e"
             ],
             [
              0.4444444444444444,
              "#bd3786"
             ],
             [
              0.5555555555555556,
              "#d8576b"
             ],
             [
              0.6666666666666666,
              "#ed7953"
             ],
             [
              0.7777777777777778,
              "#fb9f3a"
             ],
             [
              0.8888888888888888,
              "#fdca26"
             ],
             [
              1,
              "#f0f921"
             ]
            ],
            "type": "surface"
           }
          ],
          "table": [
           {
            "cells": {
             "fill": {
              "color": "#EBF0F8"
             },
             "line": {
              "color": "white"
             }
            },
            "header": {
             "fill": {
              "color": "#C8D4E3"
             },
             "line": {
              "color": "white"
             }
            },
            "type": "table"
           }
          ]
         },
         "layout": {
          "annotationdefaults": {
           "arrowcolor": "#2a3f5f",
           "arrowhead": 0,
           "arrowwidth": 1
          },
          "autotypenumbers": "strict",
          "coloraxis": {
           "colorbar": {
            "outlinewidth": 0,
            "ticks": ""
           }
          },
          "colorscale": {
           "diverging": [
            [
             0,
             "#8e0152"
            ],
            [
             0.1,
             "#c51b7d"
            ],
            [
             0.2,
             "#de77ae"
            ],
            [
             0.3,
             "#f1b6da"
            ],
            [
             0.4,
             "#fde0ef"
            ],
            [
             0.5,
             "#f7f7f7"
            ],
            [
             0.6,
             "#e6f5d0"
            ],
            [
             0.7,
             "#b8e186"
            ],
            [
             0.8,
             "#7fbc41"
            ],
            [
             0.9,
             "#4d9221"
            ],
            [
             1,
             "#276419"
            ]
           ],
           "sequential": [
            [
             0,
             "#0d0887"
            ],
            [
             0.1111111111111111,
             "#46039f"
            ],
            [
             0.2222222222222222,
             "#7201a8"
            ],
            [
             0.3333333333333333,
             "#9c179e"
            ],
            [
             0.4444444444444444,
             "#bd3786"
            ],
            [
             0.5555555555555556,
             "#d8576b"
            ],
            [
             0.6666666666666666,
             "#ed7953"
            ],
            [
             0.7777777777777778,
             "#fb9f3a"
            ],
            [
             0.8888888888888888,
             "#fdca26"
            ],
            [
             1,
             "#f0f921"
            ]
           ],
           "sequentialminus": [
            [
             0,
             "#0d0887"
            ],
            [
             0.1111111111111111,
             "#46039f"
            ],
            [
             0.2222222222222222,
             "#7201a8"
            ],
            [
             0.3333333333333333,
             "#9c179e"
            ],
            [
             0.4444444444444444,
             "#bd3786"
            ],
            [
             0.5555555555555556,
             "#d8576b"
            ],
            [
             0.6666666666666666,
             "#ed7953"
            ],
            [
             0.7777777777777778,
             "#fb9f3a"
            ],
            [
             0.8888888888888888,
             "#fdca26"
            ],
            [
             1,
             "#f0f921"
            ]
           ]
          },
          "colorway": [
           "#636efa",
           "#EF553B",
           "#00cc96",
           "#ab63fa",
           "#FFA15A",
           "#19d3f3",
           "#FF6692",
           "#B6E880",
           "#FF97FF",
           "#FECB52"
          ],
          "font": {
           "color": "#2a3f5f"
          },
          "geo": {
           "bgcolor": "white",
           "lakecolor": "white",
           "landcolor": "#E5ECF6",
           "showlakes": true,
           "showland": true,
           "subunitcolor": "white"
          },
          "hoverlabel": {
           "align": "left"
          },
          "hovermode": "closest",
          "mapbox": {
           "style": "light"
          },
          "paper_bgcolor": "white",
          "plot_bgcolor": "#E5ECF6",
          "polar": {
           "angularaxis": {
            "gridcolor": "white",
            "linecolor": "white",
            "ticks": ""
           },
           "bgcolor": "#E5ECF6",
           "radialaxis": {
            "gridcolor": "white",
            "linecolor": "white",
            "ticks": ""
           }
          },
          "scene": {
           "xaxis": {
            "backgroundcolor": "#E5ECF6",
            "gridcolor": "white",
            "gridwidth": 2,
            "linecolor": "white",
            "showbackground": true,
            "ticks": "",
            "zerolinecolor": "white"
           },
           "yaxis": {
            "backgroundcolor": "#E5ECF6",
            "gridcolor": "white",
            "gridwidth": 2,
            "linecolor": "white",
            "showbackground": true,
            "ticks": "",
            "zerolinecolor": "white"
           },
           "zaxis": {
            "backgroundcolor": "#E5ECF6",
            "gridcolor": "white",
            "gridwidth": 2,
            "linecolor": "white",
            "showbackground": true,
            "ticks": "",
            "zerolinecolor": "white"
           }
          },
          "shapedefaults": {
           "line": {
            "color": "#2a3f5f"
           }
          },
          "ternary": {
           "aaxis": {
            "gridcolor": "white",
            "linecolor": "white",
            "ticks": ""
           },
           "baxis": {
            "gridcolor": "white",
            "linecolor": "white",
            "ticks": ""
           },
           "bgcolor": "#E5ECF6",
           "caxis": {
            "gridcolor": "white",
            "linecolor": "white",
            "ticks": ""
           }
          },
          "title": {
           "x": 0.05
          },
          "xaxis": {
           "automargin": true,
           "gridcolor": "white",
           "linecolor": "white",
           "ticks": "",
           "title": {
            "standoff": 15
           },
           "zerolinecolor": "white",
           "zerolinewidth": 2
          },
          "yaxis": {
           "automargin": true,
           "gridcolor": "white",
           "linecolor": "white",
           "ticks": "",
           "title": {
            "standoff": 15
           },
           "zerolinecolor": "white",
           "zerolinewidth": 2
          }
         }
        }
       }
      }
     },
     "metadata": {},
     "output_type": "display_data"
    }
   ],
   "source": [
    "px.scatter_mapbox(\n",
    "    data_frame=df_ccaa, \n",
    "    lat = 'lat',\n",
    "    lon = 'lon',\n",
    "    mapbox_style= \"carto-positron\",\n",
    "    center = {\"lat\": 40.4168, \"lon\": -3.7038},\n",
    "    zoom = 4.1, \n",
    "    size = 'Unnamed: 1',\n",
    "    size_max= 20,\n",
    "    hover_name = 'Censo anual de población 2021-2024'\n",
    "    )"
   ]
  },
  {
   "cell_type": "code",
   "execution_count": 49,
   "metadata": {},
   "outputs": [
    {
     "ename": "KeyError",
     "evalue": "\"['Censo anual de población 2021-2024'] not in index\"",
     "output_type": "error",
     "traceback": [
      "\u001b[0;31m---------------------------------------------------------------------------\u001b[0m",
      "\u001b[0;31mKeyError\u001b[0m                                  Traceback (most recent call last)",
      "Cell \u001b[0;32mIn[49], line 1\u001b[0m\n\u001b[0;32m----> 1\u001b[0m df_ccaa[[\u001b[38;5;124m'\u001b[39m\u001b[38;5;124mCenso anual de población 2021-2024\u001b[39m\u001b[38;5;124m'\u001b[39m, \u001b[38;5;124m'\u001b[39m\u001b[38;5;124mUnnamed: 1\u001b[39m\u001b[38;5;124m'\u001b[39m, \u001b[38;5;124m'\u001b[39m\u001b[38;5;124mlon\u001b[39m\u001b[38;5;124m'\u001b[39m, \u001b[38;5;124m'\u001b[39m\u001b[38;5;124mlat\u001b[39m\u001b[38;5;124m'\u001b[39m]]\n",
      "File \u001b[0;32m~/miniconda3/lib/python3.12/site-packages/pandas/core/frame.py:4108\u001b[0m, in \u001b[0;36mDataFrame.__getitem__\u001b[0;34m(self, key)\u001b[0m\n\u001b[1;32m   4106\u001b[0m     \u001b[38;5;28;01mif\u001b[39;00m is_iterator(key):\n\u001b[1;32m   4107\u001b[0m         key \u001b[38;5;241m=\u001b[39m \u001b[38;5;28mlist\u001b[39m(key)\n\u001b[0;32m-> 4108\u001b[0m     indexer \u001b[38;5;241m=\u001b[39m \u001b[38;5;28mself\u001b[39m\u001b[38;5;241m.\u001b[39mcolumns\u001b[38;5;241m.\u001b[39m_get_indexer_strict(key, \u001b[38;5;124m\"\u001b[39m\u001b[38;5;124mcolumns\u001b[39m\u001b[38;5;124m\"\u001b[39m)[\u001b[38;5;241m1\u001b[39m]\n\u001b[1;32m   4110\u001b[0m \u001b[38;5;66;03m# take() does not accept boolean indexers\u001b[39;00m\n\u001b[1;32m   4111\u001b[0m \u001b[38;5;28;01mif\u001b[39;00m \u001b[38;5;28mgetattr\u001b[39m(indexer, \u001b[38;5;124m\"\u001b[39m\u001b[38;5;124mdtype\u001b[39m\u001b[38;5;124m\"\u001b[39m, \u001b[38;5;28;01mNone\u001b[39;00m) \u001b[38;5;241m==\u001b[39m \u001b[38;5;28mbool\u001b[39m:\n",
      "File \u001b[0;32m~/miniconda3/lib/python3.12/site-packages/pandas/core/indexes/base.py:6200\u001b[0m, in \u001b[0;36mIndex._get_indexer_strict\u001b[0;34m(self, key, axis_name)\u001b[0m\n\u001b[1;32m   6197\u001b[0m \u001b[38;5;28;01melse\u001b[39;00m:\n\u001b[1;32m   6198\u001b[0m     keyarr, indexer, new_indexer \u001b[38;5;241m=\u001b[39m \u001b[38;5;28mself\u001b[39m\u001b[38;5;241m.\u001b[39m_reindex_non_unique(keyarr)\n\u001b[0;32m-> 6200\u001b[0m \u001b[38;5;28mself\u001b[39m\u001b[38;5;241m.\u001b[39m_raise_if_missing(keyarr, indexer, axis_name)\n\u001b[1;32m   6202\u001b[0m keyarr \u001b[38;5;241m=\u001b[39m \u001b[38;5;28mself\u001b[39m\u001b[38;5;241m.\u001b[39mtake(indexer)\n\u001b[1;32m   6203\u001b[0m \u001b[38;5;28;01mif\u001b[39;00m \u001b[38;5;28misinstance\u001b[39m(key, Index):\n\u001b[1;32m   6204\u001b[0m     \u001b[38;5;66;03m# GH 42790 - Preserve name from an Index\u001b[39;00m\n",
      "File \u001b[0;32m~/miniconda3/lib/python3.12/site-packages/pandas/core/indexes/base.py:6252\u001b[0m, in \u001b[0;36mIndex._raise_if_missing\u001b[0;34m(self, key, indexer, axis_name)\u001b[0m\n\u001b[1;32m   6249\u001b[0m     \u001b[38;5;28;01mraise\u001b[39;00m \u001b[38;5;167;01mKeyError\u001b[39;00m(\u001b[38;5;124mf\u001b[39m\u001b[38;5;124m\"\u001b[39m\u001b[38;5;124mNone of [\u001b[39m\u001b[38;5;132;01m{\u001b[39;00mkey\u001b[38;5;132;01m}\u001b[39;00m\u001b[38;5;124m] are in the [\u001b[39m\u001b[38;5;132;01m{\u001b[39;00maxis_name\u001b[38;5;132;01m}\u001b[39;00m\u001b[38;5;124m]\u001b[39m\u001b[38;5;124m\"\u001b[39m)\n\u001b[1;32m   6251\u001b[0m not_found \u001b[38;5;241m=\u001b[39m \u001b[38;5;28mlist\u001b[39m(ensure_index(key)[missing_mask\u001b[38;5;241m.\u001b[39mnonzero()[\u001b[38;5;241m0\u001b[39m]]\u001b[38;5;241m.\u001b[39munique())\n\u001b[0;32m-> 6252\u001b[0m \u001b[38;5;28;01mraise\u001b[39;00m \u001b[38;5;167;01mKeyError\u001b[39;00m(\u001b[38;5;124mf\u001b[39m\u001b[38;5;124m\"\u001b[39m\u001b[38;5;132;01m{\u001b[39;00mnot_found\u001b[38;5;132;01m}\u001b[39;00m\u001b[38;5;124m not in index\u001b[39m\u001b[38;5;124m\"\u001b[39m)\n",
      "\u001b[0;31mKeyError\u001b[0m: \"['Censo anual de población 2021-2024'] not in index\""
     ]
    }
   ],
   "source": [
    "df_ccaa[['Censo anual de población 2021-2024', 'Unnamed: 1', 'lon', 'lat']] #Reset_index reestablece el indice de un df\n",
    "# pasando el anterior indice (censo anual...) a una columna. Luego crea un indice numerico (mejor para seleccionar las rows). drop=True no conserva el indice anterior\n",
    "# como columna, drop=False si lo conserva. \n",
    "\n",
    "# reset index me establece un indice numerico, set index me da una columna como indice\n"
   ]
  },
  {
   "cell_type": "code",
   "execution_count": 50,
   "metadata": {},
   "outputs": [
    {
     "data": {
      "text/html": [
       "<div>\n",
       "<style scoped>\n",
       "    .dataframe tbody tr th:only-of-type {\n",
       "        vertical-align: middle;\n",
       "    }\n",
       "\n",
       "    .dataframe tbody tr th {\n",
       "        vertical-align: top;\n",
       "    }\n",
       "\n",
       "    .dataframe thead th {\n",
       "        text-align: right;\n",
       "    }\n",
       "</style>\n",
       "<table border=\"1\" class=\"dataframe\">\n",
       "  <thead>\n",
       "    <tr style=\"text-align: right;\">\n",
       "      <th></th>\n",
       "      <th>Unnamed: 1</th>\n",
       "      <th>lon</th>\n",
       "      <th>lat</th>\n",
       "    </tr>\n",
       "    <tr>\n",
       "      <th>Censo anual de población 2021-2024</th>\n",
       "      <th></th>\n",
       "      <th></th>\n",
       "      <th></th>\n",
       "    </tr>\n",
       "  </thead>\n",
       "  <tbody>\n",
       "    <tr>\n",
       "      <th>01 Andalucía</th>\n",
       "      <td>8631862.0</td>\n",
       "      <td>-4.58</td>\n",
       "      <td>37.3891</td>\n",
       "    </tr>\n",
       "    <tr>\n",
       "      <th>02 Aragón</th>\n",
       "      <td>1351591.0</td>\n",
       "      <td>-0.67</td>\n",
       "      <td>41.6488</td>\n",
       "    </tr>\n",
       "    <tr>\n",
       "      <th>03 Asturias, Principado de</th>\n",
       "      <td>1009599.0</td>\n",
       "      <td>-5.99</td>\n",
       "      <td>43.3603</td>\n",
       "    </tr>\n",
       "    <tr>\n",
       "      <th>04 Balears, Illes</th>\n",
       "      <td>1231768.0</td>\n",
       "      <td>2.90</td>\n",
       "      <td>39.5696</td>\n",
       "    </tr>\n",
       "    <tr>\n",
       "      <th>06 Cantabria</th>\n",
       "      <td>590851.0</td>\n",
       "      <td>-4.03</td>\n",
       "      <td>43.4623</td>\n",
       "    </tr>\n",
       "    <tr>\n",
       "      <th>07 Castilla y León</th>\n",
       "      <td>2391682.0</td>\n",
       "      <td>-4.78</td>\n",
       "      <td>41.6521</td>\n",
       "    </tr>\n",
       "    <tr>\n",
       "      <th>08 Castilla - La Mancha</th>\n",
       "      <td>2104433.0</td>\n",
       "      <td>-3.01</td>\n",
       "      <td>39.8568</td>\n",
       "    </tr>\n",
       "    <tr>\n",
       "      <th>09 Cataluña</th>\n",
       "      <td>8012231.0</td>\n",
       "      <td>1.52</td>\n",
       "      <td>42.0000</td>\n",
       "    </tr>\n",
       "    <tr>\n",
       "      <th>10 Comunitat Valenciana</th>\n",
       "      <td>5319285.0</td>\n",
       "      <td>-0.56</td>\n",
       "      <td>41.3851</td>\n",
       "    </tr>\n",
       "    <tr>\n",
       "      <th>11 Extremadura</th>\n",
       "      <td>1054681.0</td>\n",
       "      <td>-6.15</td>\n",
       "      <td>38.7257</td>\n",
       "    </tr>\n",
       "    <tr>\n",
       "      <th>12 Galicia</th>\n",
       "      <td>2705833.0</td>\n",
       "      <td>-7.91</td>\n",
       "      <td>42.5751</td>\n",
       "    </tr>\n",
       "    <tr>\n",
       "      <th>13 Madrid, Comunidad de</th>\n",
       "      <td>7009268.0</td>\n",
       "      <td>-3.72</td>\n",
       "      <td>40.4168</td>\n",
       "    </tr>\n",
       "    <tr>\n",
       "      <th>14 Murcia, Región de</th>\n",
       "      <td>1568492.0</td>\n",
       "      <td>-1.49</td>\n",
       "      <td>37.9834</td>\n",
       "    </tr>\n",
       "    <tr>\n",
       "      <th>15 Navarra, Comunidad Foral de</th>\n",
       "      <td>678333.0</td>\n",
       "      <td>-1.65</td>\n",
       "      <td>42.8125</td>\n",
       "    </tr>\n",
       "    <tr>\n",
       "      <th>16 País Vasco</th>\n",
       "      <td>2227684.0</td>\n",
       "      <td>-2.62</td>\n",
       "      <td>42.6985</td>\n",
       "    </tr>\n",
       "    <tr>\n",
       "      <th>17 Rioja, La</th>\n",
       "      <td>324184.0</td>\n",
       "      <td>-2.52</td>\n",
       "      <td>39.4699</td>\n",
       "    </tr>\n",
       "    <tr>\n",
       "      <th>18 Ceuta</th>\n",
       "      <td>83179.0</td>\n",
       "      <td>-5.31</td>\n",
       "      <td>35.8894</td>\n",
       "    </tr>\n",
       "    <tr>\n",
       "      <th>19 Melilla</th>\n",
       "      <td>85985.0</td>\n",
       "      <td>-2.93</td>\n",
       "      <td>35.2923</td>\n",
       "    </tr>\n",
       "  </tbody>\n",
       "</table>\n",
       "</div>"
      ],
      "text/plain": [
       "                                    Unnamed: 1   lon      lat\n",
       "Censo anual de población 2021-2024                           \n",
       "01 Andalucía                         8631862.0 -4.58  37.3891\n",
       "02 Aragón                            1351591.0 -0.67  41.6488\n",
       "03 Asturias, Principado de           1009599.0 -5.99  43.3603\n",
       "04 Balears, Illes                    1231768.0  2.90  39.5696\n",
       "06 Cantabria                          590851.0 -4.03  43.4623\n",
       "07 Castilla y León                   2391682.0 -4.78  41.6521\n",
       "08 Castilla - La Mancha              2104433.0 -3.01  39.8568\n",
       "09 Cataluña                          8012231.0  1.52  42.0000\n",
       "10 Comunitat Valenciana              5319285.0 -0.56  41.3851\n",
       "11 Extremadura                       1054681.0 -6.15  38.7257\n",
       "12 Galicia                           2705833.0 -7.91  42.5751\n",
       "13 Madrid, Comunidad de              7009268.0 -3.72  40.4168\n",
       "14 Murcia, Región de                 1568492.0 -1.49  37.9834\n",
       "15 Navarra, Comunidad Foral de        678333.0 -1.65  42.8125\n",
       "16 País Vasco                        2227684.0 -2.62  42.6985\n",
       "17 Rioja, La                          324184.0 -2.52  39.4699\n",
       "18 Ceuta                               83179.0 -5.31  35.8894\n",
       "19 Melilla                             85985.0 -2.93  35.2923"
      ]
     },
     "execution_count": 50,
     "metadata": {},
     "output_type": "execute_result"
    }
   ],
   "source": [
    "df_ccaa"
   ]
  },
  {
   "cell_type": "code",
   "execution_count": null,
   "metadata": {},
   "outputs": [],
   "source": []
  }
 ],
 "metadata": {
  "kernelspec": {
   "display_name": "work",
   "language": "python",
   "name": "python3"
  },
  "language_info": {
   "codemirror_mode": {
    "name": "ipython",
    "version": 3
   },
   "file_extension": ".py",
   "mimetype": "text/x-python",
   "name": "python",
   "nbconvert_exporter": "python",
   "pygments_lexer": "ipython3",
   "version": "3.13.1"
  }
 },
 "nbformat": 4,
 "nbformat_minor": 2
}
